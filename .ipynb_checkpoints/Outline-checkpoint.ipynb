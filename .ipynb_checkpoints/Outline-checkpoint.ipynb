{
 "cells": [
  {
   "cell_type": "markdown",
   "metadata": {},
   "source": [
    "# First Julia Programming Workshop in Dublin\n",
    "\n",
    "## Digital Depot @ Digital Hub (April 27, 2019) \n",
    "\n",
    "### Dublin Julia Users Group\n",
    "#### Hosts: Paulito Palmes, Kevin O'Bien, Marc Sturrock"
   ]
  },
  {
   "cell_type": "markdown",
   "metadata": {},
   "source": [
    "$$ \\vec\\nabla\\times\\vec q\n",
    "\t=\\vec i\\left(\\D yw-\\D zv\\right)\n",
    "\t+\\vec j\\left(\\D zu-\\D xw\\right)\n",
    "\t+\\vec k\\left(\\D xv-\\D yu\\right). $$"
   ]
  },
  {
   "cell_type": "markdown",
   "metadata": {},
   "source": [
    "# Outline\n",
    "\n",
    "## 1. [Introduction to Julia](./Overview.ipynb) [10:30 - 11:00]\n",
    "## 2. [JuliaBox Tutorials](http://juliabox.com) [11:00 - 12:00]\n",
    "- ### Getting started, Strings, Data Structures\n",
    "- ### Loops, Conditionals, Functions, Packages\n",
    "- ### Julia is fast, Multiple Dispatch\n",
    "- ### [Distributed and Parallel Programming](Distributed_and_Parallel_Programming.ipynb)\n",
    "\n",
    "## 3. [JuliaStats](https://juliastats.github.io/) [1:00 - 1:30]\n",
    "## 4. [Solving DE and Visualizations](http://juliabox.com) [1:30 - 2:00]\n",
    "## 5. [Julia in Data Engineering/Science](Julia_in_Data_Science.ipynb) [2:00 - 2:30]\n",
    "## 6. [Julia Interfacing with Python ScikitLearn and R Caret](Julia_Interfacing_with_Python_ScikitLearn_and_R_Caret.ipynb) [2:30 - 3:00]\n",
    "## 7. [Machine Learning in Julia](Machine_Learning_in_Julia.ipynb) [3:00 - 4:30]"
   ]
  },
  {
   "cell_type": "code",
   "execution_count": null,
   "metadata": {},
   "outputs": [],
   "source": []
  }
 ],
 "metadata": {
  "kernelspec": {
   "display_name": "Julia 1.0.3",
   "language": "julia",
   "name": "julia-1.0"
  },
  "language_info": {
   "file_extension": ".jl",
   "mimetype": "application/julia",
   "name": "julia",
   "version": "1.0.3"
  }
 },
 "nbformat": 4,
 "nbformat_minor": 2
}
