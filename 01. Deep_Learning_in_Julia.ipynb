{
 "cells": [
  {
   "cell_type": "markdown",
   "metadata": {},
   "source": [
    "## Data Preparation "
   ]
  },
  {
   "cell_type": "code",
   "execution_count": 320,
   "metadata": {},
   "outputs": [],
   "source": [
    "using JuliaDB\n",
    "using VegaDatasets\n",
    "using Plots\n",
    "using Statistics\n",
    "using Flux\n",
    "using DataFrames"
   ]
  },
  {
   "cell_type": "code",
   "execution_count": 140,
   "metadata": {},
   "outputs": [
    {
     "data": {
      "text/plain": [
       "Table with 406 rows, 9 columns:\n",
       "Columns:\n",
       "\u001b[1m#  \u001b[22m\u001b[1mcolname           \u001b[22m\u001b[1mtype\u001b[22m\n",
       "────────────────────────────────────────────\n",
       "1  Name              String\n",
       "2  Miles_per_Gallon  Union{Missing, Float64}\n",
       "3  Cylinders         Int64\n",
       "4  Displacement      Float64\n",
       "5  Horsepower        Union{Missing, Int64}\n",
       "6  Weight_in_lbs     Int64\n",
       "7  Acceleration      Float64\n",
       "8  Year              String\n",
       "9  Origin            String"
      ]
     },
     "execution_count": 140,
     "metadata": {},
     "output_type": "execute_result"
    }
   ],
   "source": [
    "cars = dataset(\"cars\") |> table"
   ]
  },
  {
   "cell_type": "code",
   "execution_count": 141,
   "metadata": {},
   "outputs": [
    {
     "data": {
      "text/plain": [
       "Dict{Symbol,Any} with 9 entries:\n",
       "  :Cylinders        => Continous(μ=5.475369458128076, σ=1.7121596315485288)\n",
       "  :Horsepower       => Maybe{Continuous}(Continous(μ=105.08250000000002, σ=38.7…\n",
       "  :Displacement     => Continous(μ=194.77955665024618, σ=104.92245837948875)\n",
       "  :Weight_in_lbs    => Continous(μ=2979.4137931034484, σ=847.0043282393509)\n",
       "  :Miles_per_Gallon => Maybe{Continuous}(Continous(μ=23.514572864321607, σ=7.81…\n",
       "  :Year             => nothing\n",
       "  :Acceleration     => Continous(μ=15.51970443349754, σ=2.803358816342545)\n",
       "  :Origin           => nothing\n",
       "  :Name             => nothing"
      ]
     },
     "execution_count": 141,
     "metadata": {},
     "output_type": "execute_result"
    }
   ],
   "source": [
    "ML.schema(cars)"
   ]
  },
  {
   "cell_type": "code",
   "execution_count": 142,
   "metadata": {},
   "outputs": [
    {
     "data": {
      "text/plain": [
       "Dict{Symbol,Any} with 9 entries:\n",
       "  :Cylinders        => Categorical([8, 4, 6, 3, 5])\n",
       "  :Horsepower       => Maybe{Continuous}(Continous(μ=105.08250000000002, σ=38.7…\n",
       "  :Displacement     => Continous(μ=194.77955665024618, σ=104.92245837948875)\n",
       "  :Weight_in_lbs    => Continous(μ=2979.4137931034484, σ=847.0043282393509)\n",
       "  :Miles_per_Gallon => Maybe{Continuous}(Continous(μ=23.514572864321607, σ=7.81…\n",
       "  :Year             => nothing\n",
       "  :Acceleration     => Continous(μ=15.51970443349754, σ=2.803358816342545)\n",
       "  :Origin           => Categorical([\"USA\", \"Europe\", \"Japan\"])\n",
       "  :Name             => nothing"
      ]
     },
     "execution_count": 142,
     "metadata": {},
     "output_type": "execute_result"
    }
   ],
   "source": [
    "cars_schema = ML.schema(cars,hints = Dict(\n",
    "        :Cylinders => ML.Categorical,\n",
    "        :Origin => ML.Categorical\n",
    "    )\n",
    ")"
   ]
  },
  {
   "cell_type": "code",
   "execution_count": 143,
   "metadata": {},
   "outputs": [],
   "source": [
    "input_schema, output_schema = ML.splitschema(cars_schema,:Weight_in_lbs);"
   ]
  },
  {
   "cell_type": "code",
   "execution_count": 144,
   "metadata": {},
   "outputs": [
    {
     "data": {
      "text/plain": [
       "Dict{Symbol,Any} with 8 entries:\n",
       "  :Cylinders        => Categorical([8, 4, 6, 3, 5])\n",
       "  :Horsepower       => Maybe{Continuous}(Continous(μ=105.08250000000002, σ=38.7…\n",
       "  :Displacement     => Continous(μ=194.77955665024618, σ=104.92245837948875)\n",
       "  :Origin           => Categorical([\"USA\", \"Europe\", \"Japan\"])\n",
       "  :Miles_per_Gallon => Maybe{Continuous}(Continous(μ=23.514572864321607, σ=7.81…\n",
       "  :Year             => nothing\n",
       "  :Acceleration     => Continous(μ=15.51970443349754, σ=2.803358816342545)\n",
       "  :Name             => nothing"
      ]
     },
     "execution_count": 144,
     "metadata": {},
     "output_type": "execute_result"
    }
   ],
   "source": [
    "input_schema"
   ]
  },
  {
   "cell_type": "code",
   "execution_count": 145,
   "metadata": {},
   "outputs": [
    {
     "data": {
      "text/plain": [
       "Dict{Symbol,Any} with 1 entry:\n",
       "  :Weight_in_lbs => Continous(μ=2979.4137931034484, σ=847.0043282393509)"
      ]
     },
     "execution_count": 145,
     "metadata": {},
     "output_type": "execute_result"
    }
   ],
   "source": [
    "output_schema"
   ]
  },
  {
   "cell_type": "code",
   "execution_count": 146,
   "metadata": {},
   "outputs": [
    {
     "data": {
      "text/plain": [
       "14×406 LinearAlgebra.Adjoint{Float32,Array{Float32,2}}:\n",
       "  1.0        1.0       1.0       …   0.0        0.0        0.0     \n",
       "  0.0        0.0       0.0           1.0        1.0        1.0     \n",
       "  0.0        0.0       0.0           0.0        0.0        0.0     \n",
       "  0.0        0.0       0.0           0.0        0.0        0.0     \n",
       "  0.0        0.0       0.0           0.0        0.0        0.0     \n",
       "  0.0        0.0       0.0       …   0.0        0.0        0.0     \n",
       "  0.642721   1.54551   1.1586       -0.543801  -0.672771  -0.595389\n",
       "  1.06956    1.47938   1.1744       -0.56975   -0.712713  -0.722243\n",
       "  1.0        1.0       1.0           1.0        1.0        1.0     \n",
       "  0.0        0.0       0.0           0.0        0.0        0.0     \n",
       "  0.0        0.0       0.0       …   0.0        0.0        0.0     \n",
       "  0.0        0.0       0.0           0.0        0.0        0.0     \n",
       " -0.705551  -1.08938  -0.705551      1.08565    0.573879   0.957708\n",
       " -1.25553   -1.43389  -1.61225      -1.39822    1.09879    1.38416 "
      ]
     },
     "execution_count": 146,
     "metadata": {},
     "output_type": "execute_result"
    }
   ],
   "source": [
    "input = ML.featuremat(input_schema,cars)"
   ]
  },
  {
   "cell_type": "code",
   "execution_count": 147,
   "metadata": {},
   "outputs": [
    {
     "data": {
      "text/plain": [
       "1×406 LinearAlgebra.Adjoint{Float32,Array{Float32,2}}:\n",
       " 0.619343  0.842482  0.53906  0.535518  …  -0.80804  -0.418432  -0.306272"
      ]
     },
     "execution_count": 147,
     "metadata": {},
     "output_type": "execute_result"
    }
   ],
   "source": [
    "output = ML.featuremat(output_schema,cars)"
   ]
  },
  {
   "cell_type": "code",
   "execution_count": 148,
   "metadata": {},
   "outputs": [
    {
     "data": {
      "text/plain": [
       "partitionTrainTest (generic function with 2 methods)"
      ]
     },
     "execution_count": 148,
     "metadata": {},
     "output_type": "execute_result"
    }
   ],
   "source": [
    "using Random\n",
    "function partitionTrainTest(input,output, at = 0.8)\n",
    "    @assert size(input,2) == size(output,2)\n",
    "    n = size(input,2)\n",
    "    idx = shuffle(1:n)\n",
    "    train_idx = view(idx, 1:floor(Int, at*n))\n",
    "    test_idx = view(idx, (floor(Int, at*n)+1):n)\n",
    "    return (input[:,train_idx], output[:,train_idx], input[:,test_idx],output[:,test_idx])\n",
    "end"
   ]
  },
  {
   "cell_type": "code",
   "execution_count": 149,
   "metadata": {},
   "outputs": [
    {
     "data": {
      "text/plain": [
       "(Float32[0.0 0.0 … 1.0 0.0; 0.0 0.0 … 0.0 1.0; … ; -1.0893794 -0.9614365 … -0.4624591 0.19004992; 1.9549034 0.52804357 … -0.007028866 0.70640105], Float32[0.5343375 0.94637793 … 0.4552352 -0.3629424], Float32[0.0 1.0 … 0.0 0.0; 0.0 0.0 … 0.0 1.0; … ; 1.8533081 -0.9614365 … -0.7055507 1.2135934; 0.52804357 -0.54210126 … -0.72045875 0.70640105], Float32[0.042014197 1.3714052 … -0.020559274 -1.3983562])"
      ]
     },
     "execution_count": 149,
     "metadata": {},
     "output_type": "execute_result"
    }
   ],
   "source": [
    "train_input,train_output,test_input,test_output = partitionTrainTest(input,output,0.7)"
   ]
  },
  {
   "cell_type": "markdown",
   "metadata": {},
   "source": [
    "## Flux Regression"
   ]
  },
  {
   "cell_type": "code",
   "execution_count": 241,
   "metadata": {},
   "outputs": [
    {
     "data": {
      "text/plain": [
       "fluxregression (generic function with 5 methods)"
      ]
     },
     "execution_count": 241,
     "metadata": {},
     "output_type": "execute_result"
    }
   ],
   "source": [
    "function fluxregression(data,lr=0.01,iterations=1000,hidden=10,checkpoint=0.1)\n",
    "    model = Chain(\n",
    "        Dense(ML.width(input_schema),hidden,relu),\n",
    "        Dense(hidden,ML.width(output_schema))\n",
    "    )\n",
    "     \n",
    "    #loss(x,y) = Flux.crossentropy(model(x),y)\n",
    "    loss(x, y) = Flux.mse(model(x), y)\n",
    "\n",
    "    opt = ADAM(lr) \n",
    "    evalcb = Flux.throttle(() -> @show(loss(first(data)...)), checkpoint);\n",
    "    \n",
    "    for i = 1:iterations\n",
    "      Flux.train!(loss, params(model),data, opt, cb = evalcb)\n",
    "    end\n",
    "    return model\n",
    "end"
   ]
  },
  {
   "cell_type": "code",
   "execution_count": 243,
   "metadata": {},
   "outputs": [
    {
     "name": "stdout",
     "output_type": "stream",
     "text": [
      "loss(first(data)...) = 0.58320844f0 (tracked)\n",
      "loss(first(data)...) = 0.04262027f0 (tracked)\n",
      "loss(first(data)...) = 0.03878338f0 (tracked)\n",
      "rmse=0.27280343\n"
     ]
    },
    {
     "data": {
      "image/svg+xml": [
       "<?xml version=\"1.0\" encoding=\"utf-8\"?>\n",
       "<svg xmlns=\"http://www.w3.org/2000/svg\" xmlns:xlink=\"http://www.w3.org/1999/xlink\" width=\"600\" height=\"400\" viewBox=\"0 0 2400 1600\">\n",
       "<defs>\n",
       "  <clipPath id=\"clip9800\">\n",
       "    <rect x=\"0\" y=\"0\" width=\"2400\" height=\"1600\"/>\n",
       "  </clipPath>\n",
       "</defs>\n",
       "<path clip-path=\"url(#clip9800)\" d=\"\n",
       "M0 1600 L2400 1600 L2400 0 L0 0  Z\n",
       "  \" fill=\"#ffffff\" fill-rule=\"evenodd\" fill-opacity=\"1\"/>\n",
       "<defs>\n",
       "  <clipPath id=\"clip9801\">\n",
       "    <rect x=\"480\" y=\"0\" width=\"1681\" height=\"1600\"/>\n",
       "  </clipPath>\n",
       "</defs>\n",
       "<path clip-path=\"url(#clip9800)\" d=\"\n",
       "M141.865 1487.47 L2352.76 1487.47 L2352.76 47.2441 L141.865 47.2441  Z\n",
       "  \" fill=\"#ffffff\" fill-rule=\"evenodd\" fill-opacity=\"1\"/>\n",
       "<defs>\n",
       "  <clipPath id=\"clip9802\">\n",
       "    <rect x=\"141\" y=\"47\" width=\"2212\" height=\"1441\"/>\n",
       "  </clipPath>\n",
       "</defs>\n",
       "<polyline clip-path=\"url(#clip9802)\" style=\"stroke:#000000; stroke-width:2; stroke-opacity:0.1; fill:none\" points=\"\n",
       "  187.199,1487.47 187.199,47.2441 \n",
       "  \"/>\n",
       "<polyline clip-path=\"url(#clip9802)\" style=\"stroke:#000000; stroke-width:2; stroke-opacity:0.1; fill:none\" points=\"\n",
       "  531.951,1487.47 531.951,47.2441 \n",
       "  \"/>\n",
       "<polyline clip-path=\"url(#clip9802)\" style=\"stroke:#000000; stroke-width:2; stroke-opacity:0.1; fill:none\" points=\"\n",
       "  876.702,1487.47 876.702,47.2441 \n",
       "  \"/>\n",
       "<polyline clip-path=\"url(#clip9802)\" style=\"stroke:#000000; stroke-width:2; stroke-opacity:0.1; fill:none\" points=\"\n",
       "  1221.45,1487.47 1221.45,47.2441 \n",
       "  \"/>\n",
       "<polyline clip-path=\"url(#clip9802)\" style=\"stroke:#000000; stroke-width:2; stroke-opacity:0.1; fill:none\" points=\"\n",
       "  1566.21,1487.47 1566.21,47.2441 \n",
       "  \"/>\n",
       "<polyline clip-path=\"url(#clip9802)\" style=\"stroke:#000000; stroke-width:2; stroke-opacity:0.1; fill:none\" points=\"\n",
       "  1910.96,1487.47 1910.96,47.2441 \n",
       "  \"/>\n",
       "<polyline clip-path=\"url(#clip9802)\" style=\"stroke:#000000; stroke-width:2; stroke-opacity:0.1; fill:none\" points=\"\n",
       "  2255.71,1487.47 2255.71,47.2441 \n",
       "  \"/>\n",
       "<polyline clip-path=\"url(#clip9802)\" style=\"stroke:#000000; stroke-width:2; stroke-opacity:0.1; fill:none\" points=\"\n",
       "  141.865,1241.59 2352.76,1241.59 \n",
       "  \"/>\n",
       "<polyline clip-path=\"url(#clip9802)\" style=\"stroke:#000000; stroke-width:2; stroke-opacity:0.1; fill:none\" points=\"\n",
       "  141.865,916.712 2352.76,916.712 \n",
       "  \"/>\n",
       "<polyline clip-path=\"url(#clip9802)\" style=\"stroke:#000000; stroke-width:2; stroke-opacity:0.1; fill:none\" points=\"\n",
       "  141.865,591.838 2352.76,591.838 \n",
       "  \"/>\n",
       "<polyline clip-path=\"url(#clip9802)\" style=\"stroke:#000000; stroke-width:2; stroke-opacity:0.1; fill:none\" points=\"\n",
       "  141.865,266.964 2352.76,266.964 \n",
       "  \"/>\n",
       "<polyline clip-path=\"url(#clip9800)\" style=\"stroke:#000000; stroke-width:4; stroke-opacity:1; fill:none\" points=\"\n",
       "  141.865,1487.47 2352.76,1487.47 \n",
       "  \"/>\n",
       "<polyline clip-path=\"url(#clip9800)\" style=\"stroke:#000000; stroke-width:4; stroke-opacity:1; fill:none\" points=\"\n",
       "  141.865,1487.47 141.865,47.2441 \n",
       "  \"/>\n",
       "<polyline clip-path=\"url(#clip9800)\" style=\"stroke:#000000; stroke-width:4; stroke-opacity:1; fill:none\" points=\"\n",
       "  187.199,1487.47 187.199,1465.87 \n",
       "  \"/>\n",
       "<polyline clip-path=\"url(#clip9800)\" style=\"stroke:#000000; stroke-width:4; stroke-opacity:1; fill:none\" points=\"\n",
       "  531.951,1487.47 531.951,1465.87 \n",
       "  \"/>\n",
       "<polyline clip-path=\"url(#clip9800)\" style=\"stroke:#000000; stroke-width:4; stroke-opacity:1; fill:none\" points=\"\n",
       "  876.702,1487.47 876.702,1465.87 \n",
       "  \"/>\n",
       "<polyline clip-path=\"url(#clip9800)\" style=\"stroke:#000000; stroke-width:4; stroke-opacity:1; fill:none\" points=\"\n",
       "  1221.45,1487.47 1221.45,1465.87 \n",
       "  \"/>\n",
       "<polyline clip-path=\"url(#clip9800)\" style=\"stroke:#000000; stroke-width:4; stroke-opacity:1; fill:none\" points=\"\n",
       "  1566.21,1487.47 1566.21,1465.87 \n",
       "  \"/>\n",
       "<polyline clip-path=\"url(#clip9800)\" style=\"stroke:#000000; stroke-width:4; stroke-opacity:1; fill:none\" points=\"\n",
       "  1910.96,1487.47 1910.96,1465.87 \n",
       "  \"/>\n",
       "<polyline clip-path=\"url(#clip9800)\" style=\"stroke:#000000; stroke-width:4; stroke-opacity:1; fill:none\" points=\"\n",
       "  2255.71,1487.47 2255.71,1465.87 \n",
       "  \"/>\n",
       "<polyline clip-path=\"url(#clip9800)\" style=\"stroke:#000000; stroke-width:4; stroke-opacity:1; fill:none\" points=\"\n",
       "  141.865,1241.59 175.028,1241.59 \n",
       "  \"/>\n",
       "<polyline clip-path=\"url(#clip9800)\" style=\"stroke:#000000; stroke-width:4; stroke-opacity:1; fill:none\" points=\"\n",
       "  141.865,916.712 175.028,916.712 \n",
       "  \"/>\n",
       "<polyline clip-path=\"url(#clip9800)\" style=\"stroke:#000000; stroke-width:4; stroke-opacity:1; fill:none\" points=\"\n",
       "  141.865,591.838 175.028,591.838 \n",
       "  \"/>\n",
       "<polyline clip-path=\"url(#clip9800)\" style=\"stroke:#000000; stroke-width:4; stroke-opacity:1; fill:none\" points=\"\n",
       "  141.865,266.964 175.028,266.964 \n",
       "  \"/>\n",
       "<g clip-path=\"url(#clip9800)\">\n",
       "<text style=\"fill:#000000; fill-opacity:1; font-family:Arial,Helvetica Neue,Helvetica,sans-serif; font-size:48px; text-anchor:middle;\" transform=\"rotate(0, 187.199, 1541.47)\" x=\"187.199\" y=\"1541.47\">0</text>\n",
       "</g>\n",
       "<g clip-path=\"url(#clip9800)\">\n",
       "<text style=\"fill:#000000; fill-opacity:1; font-family:Arial,Helvetica Neue,Helvetica,sans-serif; font-size:48px; text-anchor:middle;\" transform=\"rotate(0, 531.951, 1541.47)\" x=\"531.951\" y=\"1541.47\">20</text>\n",
       "</g>\n",
       "<g clip-path=\"url(#clip9800)\">\n",
       "<text style=\"fill:#000000; fill-opacity:1; font-family:Arial,Helvetica Neue,Helvetica,sans-serif; font-size:48px; text-anchor:middle;\" transform=\"rotate(0, 876.702, 1541.47)\" x=\"876.702\" y=\"1541.47\">40</text>\n",
       "</g>\n",
       "<g clip-path=\"url(#clip9800)\">\n",
       "<text style=\"fill:#000000; fill-opacity:1; font-family:Arial,Helvetica Neue,Helvetica,sans-serif; font-size:48px; text-anchor:middle;\" transform=\"rotate(0, 1221.45, 1541.47)\" x=\"1221.45\" y=\"1541.47\">60</text>\n",
       "</g>\n",
       "<g clip-path=\"url(#clip9800)\">\n",
       "<text style=\"fill:#000000; fill-opacity:1; font-family:Arial,Helvetica Neue,Helvetica,sans-serif; font-size:48px; text-anchor:middle;\" transform=\"rotate(0, 1566.21, 1541.47)\" x=\"1566.21\" y=\"1541.47\">80</text>\n",
       "</g>\n",
       "<g clip-path=\"url(#clip9800)\">\n",
       "<text style=\"fill:#000000; fill-opacity:1; font-family:Arial,Helvetica Neue,Helvetica,sans-serif; font-size:48px; text-anchor:middle;\" transform=\"rotate(0, 1910.96, 1541.47)\" x=\"1910.96\" y=\"1541.47\">100</text>\n",
       "</g>\n",
       "<g clip-path=\"url(#clip9800)\">\n",
       "<text style=\"fill:#000000; fill-opacity:1; font-family:Arial,Helvetica Neue,Helvetica,sans-serif; font-size:48px; text-anchor:middle;\" transform=\"rotate(0, 2255.71, 1541.47)\" x=\"2255.71\" y=\"1541.47\">120</text>\n",
       "</g>\n",
       "<g clip-path=\"url(#clip9800)\">\n",
       "<text style=\"fill:#000000; fill-opacity:1; font-family:Arial,Helvetica Neue,Helvetica,sans-serif; font-size:48px; text-anchor:end;\" transform=\"rotate(0, 117.865, 1259.09)\" x=\"117.865\" y=\"1259.09\">-1</text>\n",
       "</g>\n",
       "<g clip-path=\"url(#clip9800)\">\n",
       "<text style=\"fill:#000000; fill-opacity:1; font-family:Arial,Helvetica Neue,Helvetica,sans-serif; font-size:48px; text-anchor:end;\" transform=\"rotate(0, 117.865, 934.212)\" x=\"117.865\" y=\"934.212\">0</text>\n",
       "</g>\n",
       "<g clip-path=\"url(#clip9800)\">\n",
       "<text style=\"fill:#000000; fill-opacity:1; font-family:Arial,Helvetica Neue,Helvetica,sans-serif; font-size:48px; text-anchor:end;\" transform=\"rotate(0, 117.865, 609.338)\" x=\"117.865\" y=\"609.338\">1</text>\n",
       "</g>\n",
       "<g clip-path=\"url(#clip9800)\">\n",
       "<text style=\"fill:#000000; fill-opacity:1; font-family:Arial,Helvetica Neue,Helvetica,sans-serif; font-size:48px; text-anchor:end;\" transform=\"rotate(0, 117.865, 284.464)\" x=\"117.865\" y=\"284.464\">2</text>\n",
       "</g>\n",
       "<polyline clip-path=\"url(#clip9802)\" style=\"stroke:#009af9; stroke-width:4; stroke-opacity:1; fill:none\" points=\"\n",
       "  204.437,1147 221.675,732.764 238.912,651.066 256.15,566.684 273.387,1016.21 290.625,1173.47 307.862,985.528 325.1,442.795 342.338,610.793 359.575,257.154 \n",
       "  376.813,1204.15 394.05,1244.43 411.288,895.392 428.525,1298.13 445.763,1177.31 463.001,763.065 480.238,630.738 497.476,923.391 514.713,819.448 531.951,1067.23 \n",
       "  549.188,1142.4 566.426,673.696 583.664,869.694 600.901,1198.4 618.139,751.558 635.376,885.803 652.614,812.927 669.851,827.886 687.089,1191.11 704.327,488.438 \n",
       "  721.564,651.066 738.802,1305.8 756.039,502.246 773.277,1131.28 790.514,1427 807.752,929.912 824.99,1091.01 842.227,1304.65 859.465,1177.31 876.702,1179.22 \n",
       "  893.94,1127.44 911.178,542.52 928.415,922.241 945.653,1194.95 962.89,745.805 980.128,1208.37 997.365,751.558 1014.6,1296.21 1031.84,593.916 1049.08,1149.69 \n",
       "  1066.32,1094.84 1083.55,1359.5 1100.79,743.887 1118.03,1324.98 1135.27,1137.03 1152.5,466.192 1169.74,1181.91 1186.98,1369.08 1204.22,874.296 1221.45,738.134 \n",
       "  1238.69,1046.9 1255.93,487.671 1273.17,426.686 1290.4,1190.73 1307.64,1349.91 1324.88,349.974 1342.12,1144.7 1359.35,982.843 1376.59,1234.84 1393.83,1062.24 \n",
       "  1411.07,88.0053 1428.3,715.504 1445.54,475.781 1462.78,985.528 1480.02,989.363 1497.26,1075.66 1514.49,843.995 1531.73,951.008 1548.97,743.12 1566.21,1016.21 \n",
       "  1583.44,1242.51 1600.68,564.766 1617.92,334.249 1635.16,946.788 1652.39,539.835 1669.63,1219.5 1686.87,1198.02 1704.11,1240.59 1721.34,347.29 1738.58,881.967 \n",
       "  1755.82,1356.04 1773.06,904.214 1790.29,590.464 1807.53,1301.96 1824.77,1229.47 1842.01,160.114 1859.24,730.463 1876.48,575.122 1893.72,943.336 1910.96,828.269 \n",
       "  1928.19,1300.81 1945.43,792.982 1962.67,378.741 1979.91,1067.99 1997.14,1202.62 2014.38,158.963 2031.62,1254.02 2048.86,1229.47 2066.1,1104.43 2083.33,1313.47 \n",
       "  2100.57,1231.77 2117.81,1048.81 2135.05,1386.34 2152.28,362.248 2169.52,1138.57 2186.76,1355.28 2204,1273.2 2221.23,800.653 2238.47,972.87 2255.71,1296.21 \n",
       "  2272.95,1298.13 2290.18,1084.49 \n",
       "  \"/>\n",
       "<polyline clip-path=\"url(#clip9802)\" style=\"stroke:#e26f46; stroke-width:4; stroke-opacity:1; fill:none\" points=\"\n",
       "  204.437,1187.05 221.675,772.651 238.912,702.863 256.15,640.465 273.387,1050.62 290.625,1201.47 307.862,959.804 325.1,646.096 342.338,589.181 359.575,310.714 \n",
       "  376.813,1216.23 394.05,1295.31 411.288,1159.11 428.525,1267.53 445.763,1040.21 463.001,849.566 480.238,542.17 497.476,858.811 514.713,932.756 531.951,1016.66 \n",
       "  549.188,1170.77 566.426,782.847 583.664,914.651 600.901,1211.8 618.139,671.914 635.376,921.174 652.614,925.827 669.851,847.377 687.089,1043.1 704.327,539.579 \n",
       "  721.564,739.669 738.802,1268.66 756.039,688.567 773.277,1109.75 790.514,1446.71 807.752,1026.42 824.99,1080.68 842.227,1270.77 859.465,1079.2 876.702,1112.56 \n",
       "  893.94,1138.33 911.178,512.043 928.415,1015.55 945.653,1166.01 962.89,781.848 980.128,1185.81 997.365,724.061 1014.6,1302.85 1031.84,523.716 1049.08,1170.86 \n",
       "  1066.32,1101.43 1083.55,1334.91 1100.79,804.39 1118.03,1228.37 1135.27,1137.48 1152.5,379.924 1169.74,1192.07 1186.98,1288.85 1204.22,654.763 1221.45,625.576 \n",
       "  1238.69,1084.31 1255.93,527.379 1273.17,404.196 1290.4,1249.1 1307.64,1359.22 1324.88,502.246 1342.12,1108.25 1359.35,967.766 1376.59,1252.59 1393.83,1046.96 \n",
       "  1411.07,323.956 1428.3,706.299 1445.54,417.258 1462.78,895.685 1480.02,1058.28 1497.26,1136.5 1514.49,665.536 1531.73,1072.49 1548.97,810.474 1566.21,1101.4 \n",
       "  1583.44,1327.16 1600.68,648.71 1617.92,452.117 1635.16,845.822 1652.39,616.132 1669.63,1262.77 1686.87,1207.99 1704.11,1282.84 1721.34,377.066 1738.58,971.779 \n",
       "  1755.82,1245.02 1773.06,978.655 1790.29,511.456 1807.53,1306.99 1824.77,1185.45 1842.01,300.875 1859.24,895.402 1876.48,468.759 1893.72,997.953 1910.96,840.558 \n",
       "  1928.19,975.58 1945.43,908.229 1962.67,453.529 1979.91,1027.56 1997.14,1110.97 2014.38,410.753 2031.62,1212.68 2048.86,1243.89 2066.1,1077.7 2083.33,1273.75 \n",
       "  2100.57,1163.73 2117.81,1032.29 2135.05,1360.19 2152.28,408.153 2169.52,1105 2186.76,1320.25 2204,1306.8 2221.23,867.992 2238.47,1001.29 2255.71,1290.21 \n",
       "  2272.95,1378.1 2290.18,1074.23 \n",
       "  \"/>\n",
       "<path clip-path=\"url(#clip9800)\" d=\"\n",
       "M1832.1 312.204 L2280.76 312.204 L2280.76 130.764 L1832.1 130.764  Z\n",
       "  \" fill=\"#ffffff\" fill-rule=\"evenodd\" fill-opacity=\"1\"/>\n",
       "<polyline clip-path=\"url(#clip9800)\" style=\"stroke:#000000; stroke-width:4; stroke-opacity:1; fill:none\" points=\"\n",
       "  1832.1,312.204 2280.76,312.204 2280.76,130.764 1832.1,130.764 1832.1,312.204 \n",
       "  \"/>\n",
       "<polyline clip-path=\"url(#clip9800)\" style=\"stroke:#009af9; stroke-width:4; stroke-opacity:1; fill:none\" points=\"\n",
       "  1856.1,191.244 2000.1,191.244 \n",
       "  \"/>\n",
       "<g clip-path=\"url(#clip9800)\">\n",
       "<text style=\"fill:#000000; fill-opacity:1; font-family:Arial,Helvetica Neue,Helvetica,sans-serif; font-size:48px; text-anchor:start;\" transform=\"rotate(0, 2024.1, 208.744)\" x=\"2024.1\" y=\"208.744\">actual</text>\n",
       "</g>\n",
       "<polyline clip-path=\"url(#clip9800)\" style=\"stroke:#e26f46; stroke-width:4; stroke-opacity:1; fill:none\" points=\"\n",
       "  1856.1,251.724 2000.1,251.724 \n",
       "  \"/>\n",
       "<g clip-path=\"url(#clip9800)\">\n",
       "<text style=\"fill:#000000; fill-opacity:1; font-family:Arial,Helvetica Neue,Helvetica,sans-serif; font-size:48px; text-anchor:start;\" transform=\"rotate(0, 2024.1, 269.224)\" x=\"2024.1\" y=\"269.224\">prediction</text>\n",
       "</g>\n",
       "</svg>\n"
      ]
     },
     "execution_count": 243,
     "metadata": {},
     "output_type": "execute_result"
    }
   ],
   "source": [
    "# data preparation\n",
    "input_schema, output_schema = ML.splitschema(cars_schema,:Weight_in_lbs);\n",
    "input = ML.featuremat(input_schema,cars)\n",
    "output = ML.featuremat(output_schema,cars)\n",
    "train_input,train_output,test_input,test_output = partitionTrainTest(input,output,0.7);\n",
    "data = [(train_input, train_output)] #|> gpu;\n",
    "\n",
    "model = fluxregression(data,0.01,1000)\n",
    "yhat=model(test_input)\n",
    "y=test_output\n",
    "rmse = sqrt((y .- yhat.data).^2 |> mean ) \n",
    "println(\"rmse=\",rmse)\n",
    "plot([y' yhat.data'],lab=[\"actual\",\"prediction\"])"
   ]
  },
  {
   "cell_type": "code",
   "execution_count": 127,
   "metadata": {},
   "outputs": [
    {
     "data": {
      "image/svg+xml": [
       "<?xml version=\"1.0\" encoding=\"utf-8\"?>\n",
       "<svg xmlns=\"http://www.w3.org/2000/svg\" xmlns:xlink=\"http://www.w3.org/1999/xlink\" width=\"600\" height=\"400\" viewBox=\"0 0 2400 1600\">\n",
       "<defs>\n",
       "  <clipPath id=\"clip8800\">\n",
       "    <rect x=\"0\" y=\"0\" width=\"2400\" height=\"1600\"/>\n",
       "  </clipPath>\n",
       "</defs>\n",
       "<path clip-path=\"url(#clip8800)\" d=\"\n",
       "M0 1600 L2400 1600 L2400 0 L0 0  Z\n",
       "  \" fill=\"#ffffff\" fill-rule=\"evenodd\" fill-opacity=\"1\"/>\n",
       "<defs>\n",
       "  <clipPath id=\"clip8801\">\n",
       "    <rect x=\"480\" y=\"0\" width=\"1681\" height=\"1600\"/>\n",
       "  </clipPath>\n",
       "</defs>\n",
       "<path clip-path=\"url(#clip8800)\" d=\"\n",
       "M182.008 1487.47 L2352.76 1487.47 L2352.76 47.2441 L182.008 47.2441  Z\n",
       "  \" fill=\"#ffffff\" fill-rule=\"evenodd\" fill-opacity=\"1\"/>\n",
       "<defs>\n",
       "  <clipPath id=\"clip8802\">\n",
       "    <rect x=\"182\" y=\"47\" width=\"2172\" height=\"1441\"/>\n",
       "  </clipPath>\n",
       "</defs>\n",
       "<polyline clip-path=\"url(#clip8802)\" style=\"stroke:#000000; stroke-width:2; stroke-opacity:0.1; fill:none\" points=\"\n",
       "  226.52,1487.47 226.52,47.2441 \n",
       "  \"/>\n",
       "<polyline clip-path=\"url(#clip8802)\" style=\"stroke:#000000; stroke-width:2; stroke-opacity:0.1; fill:none\" points=\"\n",
       "  565.012,1487.47 565.012,47.2441 \n",
       "  \"/>\n",
       "<polyline clip-path=\"url(#clip8802)\" style=\"stroke:#000000; stroke-width:2; stroke-opacity:0.1; fill:none\" points=\"\n",
       "  903.503,1487.47 903.503,47.2441 \n",
       "  \"/>\n",
       "<polyline clip-path=\"url(#clip8802)\" style=\"stroke:#000000; stroke-width:2; stroke-opacity:0.1; fill:none\" points=\"\n",
       "  1242,1487.47 1242,47.2441 \n",
       "  \"/>\n",
       "<polyline clip-path=\"url(#clip8802)\" style=\"stroke:#000000; stroke-width:2; stroke-opacity:0.1; fill:none\" points=\"\n",
       "  1580.49,1487.47 1580.49,47.2441 \n",
       "  \"/>\n",
       "<polyline clip-path=\"url(#clip8802)\" style=\"stroke:#000000; stroke-width:2; stroke-opacity:0.1; fill:none\" points=\"\n",
       "  1918.98,1487.47 1918.98,47.2441 \n",
       "  \"/>\n",
       "<polyline clip-path=\"url(#clip8802)\" style=\"stroke:#000000; stroke-width:2; stroke-opacity:0.1; fill:none\" points=\"\n",
       "  2257.47,1487.47 2257.47,47.2441 \n",
       "  \"/>\n",
       "<polyline clip-path=\"url(#clip8802)\" style=\"stroke:#000000; stroke-width:2; stroke-opacity:0.1; fill:none\" points=\"\n",
       "  182.008,1192.64 2352.76,1192.64 \n",
       "  \"/>\n",
       "<polyline clip-path=\"url(#clip8802)\" style=\"stroke:#000000; stroke-width:2; stroke-opacity:0.1; fill:none\" points=\"\n",
       "  182.008,871.972 2352.76,871.972 \n",
       "  \"/>\n",
       "<polyline clip-path=\"url(#clip8802)\" style=\"stroke:#000000; stroke-width:2; stroke-opacity:0.1; fill:none\" points=\"\n",
       "  182.008,551.304 2352.76,551.304 \n",
       "  \"/>\n",
       "<polyline clip-path=\"url(#clip8802)\" style=\"stroke:#000000; stroke-width:2; stroke-opacity:0.1; fill:none\" points=\"\n",
       "  182.008,230.636 2352.76,230.636 \n",
       "  \"/>\n",
       "<polyline clip-path=\"url(#clip8800)\" style=\"stroke:#000000; stroke-width:4; stroke-opacity:1; fill:none\" points=\"\n",
       "  182.008,1487.47 2352.76,1487.47 \n",
       "  \"/>\n",
       "<polyline clip-path=\"url(#clip8800)\" style=\"stroke:#000000; stroke-width:4; stroke-opacity:1; fill:none\" points=\"\n",
       "  182.008,1487.47 182.008,47.2441 \n",
       "  \"/>\n",
       "<polyline clip-path=\"url(#clip8800)\" style=\"stroke:#000000; stroke-width:4; stroke-opacity:1; fill:none\" points=\"\n",
       "  226.52,1487.47 226.52,1465.87 \n",
       "  \"/>\n",
       "<polyline clip-path=\"url(#clip8800)\" style=\"stroke:#000000; stroke-width:4; stroke-opacity:1; fill:none\" points=\"\n",
       "  565.012,1487.47 565.012,1465.87 \n",
       "  \"/>\n",
       "<polyline clip-path=\"url(#clip8800)\" style=\"stroke:#000000; stroke-width:4; stroke-opacity:1; fill:none\" points=\"\n",
       "  903.503,1487.47 903.503,1465.87 \n",
       "  \"/>\n",
       "<polyline clip-path=\"url(#clip8800)\" style=\"stroke:#000000; stroke-width:4; stroke-opacity:1; fill:none\" points=\"\n",
       "  1242,1487.47 1242,1465.87 \n",
       "  \"/>\n",
       "<polyline clip-path=\"url(#clip8800)\" style=\"stroke:#000000; stroke-width:4; stroke-opacity:1; fill:none\" points=\"\n",
       "  1580.49,1487.47 1580.49,1465.87 \n",
       "  \"/>\n",
       "<polyline clip-path=\"url(#clip8800)\" style=\"stroke:#000000; stroke-width:4; stroke-opacity:1; fill:none\" points=\"\n",
       "  1918.98,1487.47 1918.98,1465.87 \n",
       "  \"/>\n",
       "<polyline clip-path=\"url(#clip8800)\" style=\"stroke:#000000; stroke-width:4; stroke-opacity:1; fill:none\" points=\"\n",
       "  2257.47,1487.47 2257.47,1465.87 \n",
       "  \"/>\n",
       "<polyline clip-path=\"url(#clip8800)\" style=\"stroke:#000000; stroke-width:4; stroke-opacity:1; fill:none\" points=\"\n",
       "  182.008,1192.64 214.569,1192.64 \n",
       "  \"/>\n",
       "<polyline clip-path=\"url(#clip8800)\" style=\"stroke:#000000; stroke-width:4; stroke-opacity:1; fill:none\" points=\"\n",
       "  182.008,871.972 214.569,871.972 \n",
       "  \"/>\n",
       "<polyline clip-path=\"url(#clip8800)\" style=\"stroke:#000000; stroke-width:4; stroke-opacity:1; fill:none\" points=\"\n",
       "  182.008,551.304 214.569,551.304 \n",
       "  \"/>\n",
       "<polyline clip-path=\"url(#clip8800)\" style=\"stroke:#000000; stroke-width:4; stroke-opacity:1; fill:none\" points=\"\n",
       "  182.008,230.636 214.569,230.636 \n",
       "  \"/>\n",
       "<g clip-path=\"url(#clip8800)\">\n",
       "<text style=\"fill:#000000; fill-opacity:1; font-family:Arial,Helvetica Neue,Helvetica,sans-serif; font-size:48px; text-anchor:middle;\" transform=\"rotate(0, 226.52, 1541.47)\" x=\"226.52\" y=\"1541.47\">0</text>\n",
       "</g>\n",
       "<g clip-path=\"url(#clip8800)\">\n",
       "<text style=\"fill:#000000; fill-opacity:1; font-family:Arial,Helvetica Neue,Helvetica,sans-serif; font-size:48px; text-anchor:middle;\" transform=\"rotate(0, 565.012, 1541.47)\" x=\"565.012\" y=\"1541.47\">20</text>\n",
       "</g>\n",
       "<g clip-path=\"url(#clip8800)\">\n",
       "<text style=\"fill:#000000; fill-opacity:1; font-family:Arial,Helvetica Neue,Helvetica,sans-serif; font-size:48px; text-anchor:middle;\" transform=\"rotate(0, 903.503, 1541.47)\" x=\"903.503\" y=\"1541.47\">40</text>\n",
       "</g>\n",
       "<g clip-path=\"url(#clip8800)\">\n",
       "<text style=\"fill:#000000; fill-opacity:1; font-family:Arial,Helvetica Neue,Helvetica,sans-serif; font-size:48px; text-anchor:middle;\" transform=\"rotate(0, 1242, 1541.47)\" x=\"1242\" y=\"1541.47\">60</text>\n",
       "</g>\n",
       "<g clip-path=\"url(#clip8800)\">\n",
       "<text style=\"fill:#000000; fill-opacity:1; font-family:Arial,Helvetica Neue,Helvetica,sans-serif; font-size:48px; text-anchor:middle;\" transform=\"rotate(0, 1580.49, 1541.47)\" x=\"1580.49\" y=\"1541.47\">80</text>\n",
       "</g>\n",
       "<g clip-path=\"url(#clip8800)\">\n",
       "<text style=\"fill:#000000; fill-opacity:1; font-family:Arial,Helvetica Neue,Helvetica,sans-serif; font-size:48px; text-anchor:middle;\" transform=\"rotate(0, 1918.98, 1541.47)\" x=\"1918.98\" y=\"1541.47\">100</text>\n",
       "</g>\n",
       "<g clip-path=\"url(#clip8800)\">\n",
       "<text style=\"fill:#000000; fill-opacity:1; font-family:Arial,Helvetica Neue,Helvetica,sans-serif; font-size:48px; text-anchor:middle;\" transform=\"rotate(0, 2257.47, 1541.47)\" x=\"2257.47\" y=\"1541.47\">120</text>\n",
       "</g>\n",
       "<g clip-path=\"url(#clip8800)\">\n",
       "<text style=\"fill:#000000; fill-opacity:1; font-family:Arial,Helvetica Neue,Helvetica,sans-serif; font-size:48px; text-anchor:end;\" transform=\"rotate(0, 158.008, 1210.14)\" x=\"158.008\" y=\"1210.14\">-0.5</text>\n",
       "</g>\n",
       "<g clip-path=\"url(#clip8800)\">\n",
       "<text style=\"fill:#000000; fill-opacity:1; font-family:Arial,Helvetica Neue,Helvetica,sans-serif; font-size:48px; text-anchor:end;\" transform=\"rotate(0, 158.008, 889.472)\" x=\"158.008\" y=\"889.472\">0.0</text>\n",
       "</g>\n",
       "<g clip-path=\"url(#clip8800)\">\n",
       "<text style=\"fill:#000000; fill-opacity:1; font-family:Arial,Helvetica Neue,Helvetica,sans-serif; font-size:48px; text-anchor:end;\" transform=\"rotate(0, 158.008, 568.804)\" x=\"158.008\" y=\"568.804\">0.5</text>\n",
       "</g>\n",
       "<g clip-path=\"url(#clip8800)\">\n",
       "<text style=\"fill:#000000; fill-opacity:1; font-family:Arial,Helvetica Neue,Helvetica,sans-serif; font-size:48px; text-anchor:end;\" transform=\"rotate(0, 158.008, 248.136)\" x=\"158.008\" y=\"248.136\">1.0</text>\n",
       "</g>\n",
       "<circle clip-path=\"url(#clip8802)\" style=\"fill:#000000; stroke:none; fill-opacity:1\" cx=\"243.444\" cy=\"736.835\" r=\"18\"/>\n",
       "<circle clip-path=\"url(#clip8802)\" style=\"fill:#009af9; stroke:none; fill-opacity:1\" cx=\"243.444\" cy=\"736.835\" r=\"14\"/>\n",
       "<circle clip-path=\"url(#clip8802)\" style=\"fill:#000000; stroke:none; fill-opacity:1\" cx=\"260.369\" cy=\"975.221\" r=\"18\"/>\n",
       "<circle clip-path=\"url(#clip8802)\" style=\"fill:#009af9; stroke:none; fill-opacity:1\" cx=\"260.369\" cy=\"975.221\" r=\"14\"/>\n",
       "<circle clip-path=\"url(#clip8802)\" style=\"fill:#000000; stroke:none; fill-opacity:1\" cx=\"277.293\" cy=\"679.363\" r=\"18\"/>\n",
       "<circle clip-path=\"url(#clip8802)\" style=\"fill:#009af9; stroke:none; fill-opacity:1\" cx=\"277.293\" cy=\"679.363\" r=\"14\"/>\n",
       "<circle clip-path=\"url(#clip8802)\" style=\"fill:#000000; stroke:none; fill-opacity:1\" cx=\"294.218\" cy=\"572.182\" r=\"18\"/>\n",
       "<circle clip-path=\"url(#clip8802)\" style=\"fill:#009af9; stroke:none; fill-opacity:1\" cx=\"294.218\" cy=\"572.182\" r=\"14\"/>\n",
       "<circle clip-path=\"url(#clip8802)\" style=\"fill:#000000; stroke:none; fill-opacity:1\" cx=\"311.143\" cy=\"558.992\" r=\"18\"/>\n",
       "<circle clip-path=\"url(#clip8802)\" style=\"fill:#009af9; stroke:none; fill-opacity:1\" cx=\"311.143\" cy=\"558.992\" r=\"14\"/>\n",
       "<circle clip-path=\"url(#clip8802)\" style=\"fill:#000000; stroke:none; fill-opacity:1\" cx=\"328.067\" cy=\"871.401\" r=\"18\"/>\n",
       "<circle clip-path=\"url(#clip8802)\" style=\"fill:#009af9; stroke:none; fill-opacity:1\" cx=\"328.067\" cy=\"871.401\" r=\"14\"/>\n",
       "<circle clip-path=\"url(#clip8802)\" style=\"fill:#000000; stroke:none; fill-opacity:1\" cx=\"344.992\" cy=\"1286.95\" r=\"18\"/>\n",
       "<circle clip-path=\"url(#clip8802)\" style=\"fill:#009af9; stroke:none; fill-opacity:1\" cx=\"344.992\" cy=\"1286.95\" r=\"14\"/>\n",
       "<circle clip-path=\"url(#clip8802)\" style=\"fill:#000000; stroke:none; fill-opacity:1\" cx=\"361.916\" cy=\"792.837\" r=\"18\"/>\n",
       "<circle clip-path=\"url(#clip8802)\" style=\"fill:#009af9; stroke:none; fill-opacity:1\" cx=\"361.916\" cy=\"792.837\" r=\"14\"/>\n",
       "<circle clip-path=\"url(#clip8802)\" style=\"fill:#000000; stroke:none; fill-opacity:1\" cx=\"378.841\" cy=\"772.505\" r=\"18\"/>\n",
       "<circle clip-path=\"url(#clip8802)\" style=\"fill:#009af9; stroke:none; fill-opacity:1\" cx=\"378.841\" cy=\"772.505\" r=\"14\"/>\n",
       "<circle clip-path=\"url(#clip8802)\" style=\"fill:#000000; stroke:none; fill-opacity:1\" cx=\"395.766\" cy=\"694.598\" r=\"18\"/>\n",
       "<circle clip-path=\"url(#clip8802)\" style=\"fill:#009af9; stroke:none; fill-opacity:1\" cx=\"395.766\" cy=\"694.598\" r=\"14\"/>\n",
       "<circle clip-path=\"url(#clip8802)\" style=\"fill:#000000; stroke:none; fill-opacity:1\" cx=\"412.69\" cy=\"769.341\" r=\"18\"/>\n",
       "<circle clip-path=\"url(#clip8802)\" style=\"fill:#009af9; stroke:none; fill-opacity:1\" cx=\"412.69\" cy=\"769.341\" r=\"14\"/>\n",
       "<circle clip-path=\"url(#clip8802)\" style=\"fill:#000000; stroke:none; fill-opacity:1\" cx=\"429.615\" cy=\"808.079\" r=\"18\"/>\n",
       "<circle clip-path=\"url(#clip8802)\" style=\"fill:#009af9; stroke:none; fill-opacity:1\" cx=\"429.615\" cy=\"808.079\" r=\"14\"/>\n",
       "<circle clip-path=\"url(#clip8802)\" style=\"fill:#000000; stroke:none; fill-opacity:1\" cx=\"446.539\" cy=\"713.154\" r=\"18\"/>\n",
       "<circle clip-path=\"url(#clip8802)\" style=\"fill:#009af9; stroke:none; fill-opacity:1\" cx=\"446.539\" cy=\"713.154\" r=\"14\"/>\n",
       "<circle clip-path=\"url(#clip8802)\" style=\"fill:#000000; stroke:none; fill-opacity:1\" cx=\"463.464\" cy=\"922.212\" r=\"18\"/>\n",
       "<circle clip-path=\"url(#clip8802)\" style=\"fill:#009af9; stroke:none; fill-opacity:1\" cx=\"463.464\" cy=\"922.212\" r=\"14\"/>\n",
       "<circle clip-path=\"url(#clip8802)\" style=\"fill:#000000; stroke:none; fill-opacity:1\" cx=\"480.389\" cy=\"806.239\" r=\"18\"/>\n",
       "<circle clip-path=\"url(#clip8802)\" style=\"fill:#009af9; stroke:none; fill-opacity:1\" cx=\"480.389\" cy=\"806.239\" r=\"14\"/>\n",
       "<circle clip-path=\"url(#clip8802)\" style=\"fill:#000000; stroke:none; fill-opacity:1\" cx=\"497.313\" cy=\"626.936\" r=\"18\"/>\n",
       "<circle clip-path=\"url(#clip8802)\" style=\"fill:#009af9; stroke:none; fill-opacity:1\" cx=\"497.313\" cy=\"626.936\" r=\"14\"/>\n",
       "<circle clip-path=\"url(#clip8802)\" style=\"fill:#000000; stroke:none; fill-opacity:1\" cx=\"514.238\" cy=\"981.908\" r=\"18\"/>\n",
       "<circle clip-path=\"url(#clip8802)\" style=\"fill:#009af9; stroke:none; fill-opacity:1\" cx=\"514.238\" cy=\"981.908\" r=\"14\"/>\n",
       "<circle clip-path=\"url(#clip8802)\" style=\"fill:#000000; stroke:none; fill-opacity:1\" cx=\"531.162\" cy=\"688.238\" r=\"18\"/>\n",
       "<circle clip-path=\"url(#clip8802)\" style=\"fill:#009af9; stroke:none; fill-opacity:1\" cx=\"531.162\" cy=\"688.238\" r=\"14\"/>\n",
       "<circle clip-path=\"url(#clip8802)\" style=\"fill:#000000; stroke:none; fill-opacity:1\" cx=\"548.087\" cy=\"680.107\" r=\"18\"/>\n",
       "<circle clip-path=\"url(#clip8802)\" style=\"fill:#009af9; stroke:none; fill-opacity:1\" cx=\"548.087\" cy=\"680.107\" r=\"14\"/>\n",
       "<circle clip-path=\"url(#clip8802)\" style=\"fill:#000000; stroke:none; fill-opacity:1\" cx=\"565.012\" cy=\"1032.29\" r=\"18\"/>\n",
       "<circle clip-path=\"url(#clip8802)\" style=\"fill:#009af9; stroke:none; fill-opacity:1\" cx=\"565.012\" cy=\"1032.29\" r=\"14\"/>\n",
       "<circle clip-path=\"url(#clip8802)\" style=\"fill:#000000; stroke:none; fill-opacity:1\" cx=\"581.936\" cy=\"628.044\" r=\"18\"/>\n",
       "<circle clip-path=\"url(#clip8802)\" style=\"fill:#009af9; stroke:none; fill-opacity:1\" cx=\"581.936\" cy=\"628.044\" r=\"14\"/>\n",
       "<circle clip-path=\"url(#clip8802)\" style=\"fill:#000000; stroke:none; fill-opacity:1\" cx=\"598.861\" cy=\"679.672\" r=\"18\"/>\n",
       "<circle clip-path=\"url(#clip8802)\" style=\"fill:#009af9; stroke:none; fill-opacity:1\" cx=\"598.861\" cy=\"679.672\" r=\"14\"/>\n",
       "<circle clip-path=\"url(#clip8802)\" style=\"fill:#000000; stroke:none; fill-opacity:1\" cx=\"615.785\" cy=\"765.601\" r=\"18\"/>\n",
       "<circle clip-path=\"url(#clip8802)\" style=\"fill:#009af9; stroke:none; fill-opacity:1\" cx=\"615.785\" cy=\"765.601\" r=\"14\"/>\n",
       "<circle clip-path=\"url(#clip8802)\" style=\"fill:#000000; stroke:none; fill-opacity:1\" cx=\"632.71\" cy=\"647.691\" r=\"18\"/>\n",
       "<circle clip-path=\"url(#clip8802)\" style=\"fill:#009af9; stroke:none; fill-opacity:1\" cx=\"632.71\" cy=\"647.691\" r=\"14\"/>\n",
       "<circle clip-path=\"url(#clip8802)\" style=\"fill:#000000; stroke:none; fill-opacity:1\" cx=\"649.634\" cy=\"320.558\" r=\"18\"/>\n",
       "<circle clip-path=\"url(#clip8802)\" style=\"fill:#009af9; stroke:none; fill-opacity:1\" cx=\"649.634\" cy=\"320.558\" r=\"14\"/>\n",
       "<circle clip-path=\"url(#clip8802)\" style=\"fill:#000000; stroke:none; fill-opacity:1\" cx=\"666.559\" cy=\"959.72\" r=\"18\"/>\n",
       "<circle clip-path=\"url(#clip8802)\" style=\"fill:#009af9; stroke:none; fill-opacity:1\" cx=\"666.559\" cy=\"959.72\" r=\"14\"/>\n",
       "<circle clip-path=\"url(#clip8802)\" style=\"fill:#000000; stroke:none; fill-opacity:1\" cx=\"683.484\" cy=\"999.88\" r=\"18\"/>\n",
       "<circle clip-path=\"url(#clip8802)\" style=\"fill:#009af9; stroke:none; fill-opacity:1\" cx=\"683.484\" cy=\"999.88\" r=\"14\"/>\n",
       "<circle clip-path=\"url(#clip8802)\" style=\"fill:#000000; stroke:none; fill-opacity:1\" cx=\"700.408\" cy=\"1301.93\" r=\"18\"/>\n",
       "<circle clip-path=\"url(#clip8802)\" style=\"fill:#009af9; stroke:none; fill-opacity:1\" cx=\"700.408\" cy=\"1301.93\" r=\"14\"/>\n",
       "<circle clip-path=\"url(#clip8802)\" style=\"fill:#000000; stroke:none; fill-opacity:1\" cx=\"717.333\" cy=\"879.193\" r=\"18\"/>\n",
       "<circle clip-path=\"url(#clip8802)\" style=\"fill:#009af9; stroke:none; fill-opacity:1\" cx=\"717.333\" cy=\"879.193\" r=\"14\"/>\n",
       "<circle clip-path=\"url(#clip8802)\" style=\"fill:#000000; stroke:none; fill-opacity:1\" cx=\"734.257\" cy=\"703.376\" r=\"18\"/>\n",
       "<circle clip-path=\"url(#clip8802)\" style=\"fill:#009af9; stroke:none; fill-opacity:1\" cx=\"734.257\" cy=\"703.376\" r=\"14\"/>\n",
       "<circle clip-path=\"url(#clip8802)\" style=\"fill:#000000; stroke:none; fill-opacity:1\" cx=\"751.182\" cy=\"1103.79\" r=\"18\"/>\n",
       "<circle clip-path=\"url(#clip8802)\" style=\"fill:#009af9; stroke:none; fill-opacity:1\" cx=\"751.182\" cy=\"1103.79\" r=\"14\"/>\n",
       "<circle clip-path=\"url(#clip8802)\" style=\"fill:#000000; stroke:none; fill-opacity:1\" cx=\"768.107\" cy=\"958.105\" r=\"18\"/>\n",
       "<circle clip-path=\"url(#clip8802)\" style=\"fill:#009af9; stroke:none; fill-opacity:1\" cx=\"768.107\" cy=\"958.105\" r=\"14\"/>\n",
       "<circle clip-path=\"url(#clip8802)\" style=\"fill:#000000; stroke:none; fill-opacity:1\" cx=\"785.031\" cy=\"1078.12\" r=\"18\"/>\n",
       "<circle clip-path=\"url(#clip8802)\" style=\"fill:#009af9; stroke:none; fill-opacity:1\" cx=\"785.031\" cy=\"1078.12\" r=\"14\"/>\n",
       "<circle clip-path=\"url(#clip8802)\" style=\"fill:#000000; stroke:none; fill-opacity:1\" cx=\"801.956\" cy=\"972.564\" r=\"18\"/>\n",
       "<circle clip-path=\"url(#clip8802)\" style=\"fill:#009af9; stroke:none; fill-opacity:1\" cx=\"801.956\" cy=\"972.564\" r=\"14\"/>\n",
       "<circle clip-path=\"url(#clip8802)\" style=\"fill:#000000; stroke:none; fill-opacity:1\" cx=\"818.88\" cy=\"792.641\" r=\"18\"/>\n",
       "<circle clip-path=\"url(#clip8802)\" style=\"fill:#009af9; stroke:none; fill-opacity:1\" cx=\"818.88\" cy=\"792.641\" r=\"14\"/>\n",
       "<circle clip-path=\"url(#clip8802)\" style=\"fill:#000000; stroke:none; fill-opacity:1\" cx=\"835.805\" cy=\"892.048\" r=\"18\"/>\n",
       "<circle clip-path=\"url(#clip8802)\" style=\"fill:#009af9; stroke:none; fill-opacity:1\" cx=\"835.805\" cy=\"892.048\" r=\"14\"/>\n",
       "<circle clip-path=\"url(#clip8802)\" style=\"fill:#000000; stroke:none; fill-opacity:1\" cx=\"852.73\" cy=\"621.167\" r=\"18\"/>\n",
       "<circle clip-path=\"url(#clip8802)\" style=\"fill:#009af9; stroke:none; fill-opacity:1\" cx=\"852.73\" cy=\"621.167\" r=\"14\"/>\n",
       "<circle clip-path=\"url(#clip8802)\" style=\"fill:#000000; stroke:none; fill-opacity:1\" cx=\"869.654\" cy=\"881.964\" r=\"18\"/>\n",
       "<circle clip-path=\"url(#clip8802)\" style=\"fill:#009af9; stroke:none; fill-opacity:1\" cx=\"869.654\" cy=\"881.964\" r=\"14\"/>\n",
       "<circle clip-path=\"url(#clip8802)\" style=\"fill:#000000; stroke:none; fill-opacity:1\" cx=\"886.579\" cy=\"631.81\" r=\"18\"/>\n",
       "<circle clip-path=\"url(#clip8802)\" style=\"fill:#009af9; stroke:none; fill-opacity:1\" cx=\"886.579\" cy=\"631.81\" r=\"14\"/>\n",
       "<circle clip-path=\"url(#clip8802)\" style=\"fill:#000000; stroke:none; fill-opacity:1\" cx=\"903.503\" cy=\"573.359\" r=\"18\"/>\n",
       "<circle clip-path=\"url(#clip8802)\" style=\"fill:#009af9; stroke:none; fill-opacity:1\" cx=\"903.503\" cy=\"573.359\" r=\"14\"/>\n",
       "<circle clip-path=\"url(#clip8802)\" style=\"fill:#000000; stroke:none; fill-opacity:1\" cx=\"920.428\" cy=\"88.0053\" r=\"18\"/>\n",
       "<circle clip-path=\"url(#clip8802)\" style=\"fill:#009af9; stroke:none; fill-opacity:1\" cx=\"920.428\" cy=\"88.0053\" r=\"14\"/>\n",
       "<circle clip-path=\"url(#clip8802)\" style=\"fill:#000000; stroke:none; fill-opacity:1\" cx=\"937.352\" cy=\"939.962\" r=\"18\"/>\n",
       "<circle clip-path=\"url(#clip8802)\" style=\"fill:#009af9; stroke:none; fill-opacity:1\" cx=\"937.352\" cy=\"939.962\" r=\"14\"/>\n",
       "<circle clip-path=\"url(#clip8802)\" style=\"fill:#000000; stroke:none; fill-opacity:1\" cx=\"954.277\" cy=\"914.492\" r=\"18\"/>\n",
       "<circle clip-path=\"url(#clip8802)\" style=\"fill:#009af9; stroke:none; fill-opacity:1\" cx=\"954.277\" cy=\"914.492\" r=\"14\"/>\n",
       "<circle clip-path=\"url(#clip8802)\" style=\"fill:#000000; stroke:none; fill-opacity:1\" cx=\"971.202\" cy=\"530.666\" r=\"18\"/>\n",
       "<circle clip-path=\"url(#clip8802)\" style=\"fill:#009af9; stroke:none; fill-opacity:1\" cx=\"971.202\" cy=\"530.666\" r=\"14\"/>\n",
       "<circle clip-path=\"url(#clip8802)\" style=\"fill:#000000; stroke:none; fill-opacity:1\" cx=\"988.126\" cy=\"1446.71\" r=\"18\"/>\n",
       "<circle clip-path=\"url(#clip8802)\" style=\"fill:#009af9; stroke:none; fill-opacity:1\" cx=\"988.126\" cy=\"1446.71\" r=\"14\"/>\n",
       "<circle clip-path=\"url(#clip8802)\" style=\"fill:#000000; stroke:none; fill-opacity:1\" cx=\"1005.05\" cy=\"635.071\" r=\"18\"/>\n",
       "<circle clip-path=\"url(#clip8802)\" style=\"fill:#009af9; stroke:none; fill-opacity:1\" cx=\"1005.05\" cy=\"635.071\" r=\"14\"/>\n",
       "<circle clip-path=\"url(#clip8802)\" style=\"fill:#000000; stroke:none; fill-opacity:1\" cx=\"1021.98\" cy=\"738.427\" r=\"18\"/>\n",
       "<circle clip-path=\"url(#clip8802)\" style=\"fill:#009af9; stroke:none; fill-opacity:1\" cx=\"1021.98\" cy=\"738.427\" r=\"14\"/>\n",
       "<circle clip-path=\"url(#clip8802)\" style=\"fill:#000000; stroke:none; fill-opacity:1\" cx=\"1038.9\" cy=\"1167.53\" r=\"18\"/>\n",
       "<circle clip-path=\"url(#clip8802)\" style=\"fill:#009af9; stroke:none; fill-opacity:1\" cx=\"1038.9\" cy=\"1167.53\" r=\"14\"/>\n",
       "<circle clip-path=\"url(#clip8802)\" style=\"fill:#000000; stroke:none; fill-opacity:1\" cx=\"1055.82\" cy=\"1050.54\" r=\"18\"/>\n",
       "<circle clip-path=\"url(#clip8802)\" style=\"fill:#009af9; stroke:none; fill-opacity:1\" cx=\"1055.82\" cy=\"1050.54\" r=\"14\"/>\n",
       "<circle clip-path=\"url(#clip8802)\" style=\"fill:#000000; stroke:none; fill-opacity:1\" cx=\"1072.75\" cy=\"1145.71\" r=\"18\"/>\n",
       "<circle clip-path=\"url(#clip8802)\" style=\"fill:#009af9; stroke:none; fill-opacity:1\" cx=\"1072.75\" cy=\"1145.71\" r=\"14\"/>\n",
       "<circle clip-path=\"url(#clip8802)\" style=\"fill:#000000; stroke:none; fill-opacity:1\" cx=\"1089.67\" cy=\"1127.07\" r=\"18\"/>\n",
       "<circle clip-path=\"url(#clip8802)\" style=\"fill:#009af9; stroke:none; fill-opacity:1\" cx=\"1089.67\" cy=\"1127.07\" r=\"14\"/>\n",
       "<circle clip-path=\"url(#clip8802)\" style=\"fill:#000000; stroke:none; fill-opacity:1\" cx=\"1106.6\" cy=\"728.576\" r=\"18\"/>\n",
       "<circle clip-path=\"url(#clip8802)\" style=\"fill:#009af9; stroke:none; fill-opacity:1\" cx=\"1106.6\" cy=\"728.576\" r=\"14\"/>\n",
       "<circle clip-path=\"url(#clip8802)\" style=\"fill:#000000; stroke:none; fill-opacity:1\" cx=\"1123.52\" cy=\"1316.04\" r=\"18\"/>\n",
       "<circle clip-path=\"url(#clip8802)\" style=\"fill:#009af9; stroke:none; fill-opacity:1\" cx=\"1123.52\" cy=\"1316.04\" r=\"14\"/>\n",
       "<circle clip-path=\"url(#clip8802)\" style=\"fill:#000000; stroke:none; fill-opacity:1\" cx=\"1140.45\" cy=\"710.433\" r=\"18\"/>\n",
       "<circle clip-path=\"url(#clip8802)\" style=\"fill:#009af9; stroke:none; fill-opacity:1\" cx=\"1140.45\" cy=\"710.433\" r=\"14\"/>\n",
       "<circle clip-path=\"url(#clip8802)\" style=\"fill:#000000; stroke:none; fill-opacity:1\" cx=\"1157.37\" cy=\"736.115\" r=\"18\"/>\n",
       "<circle clip-path=\"url(#clip8802)\" style=\"fill:#009af9; stroke:none; fill-opacity:1\" cx=\"1157.37\" cy=\"736.115\" r=\"14\"/>\n",
       "<circle clip-path=\"url(#clip8802)\" style=\"fill:#000000; stroke:none; fill-opacity:1\" cx=\"1174.3\" cy=\"820.411\" r=\"18\"/>\n",
       "<circle clip-path=\"url(#clip8802)\" style=\"fill:#009af9; stroke:none; fill-opacity:1\" cx=\"1174.3\" cy=\"820.411\" r=\"14\"/>\n",
       "<circle clip-path=\"url(#clip8802)\" style=\"fill:#000000; stroke:none; fill-opacity:1\" cx=\"1191.22\" cy=\"1050.23\" r=\"18\"/>\n",
       "<circle clip-path=\"url(#clip8802)\" style=\"fill:#009af9; stroke:none; fill-opacity:1\" cx=\"1191.22\" cy=\"1050.23\" r=\"14\"/>\n",
       "<circle clip-path=\"url(#clip8802)\" style=\"fill:#000000; stroke:none; fill-opacity:1\" cx=\"1208.15\" cy=\"876.474\" r=\"18\"/>\n",
       "<circle clip-path=\"url(#clip8802)\" style=\"fill:#009af9; stroke:none; fill-opacity:1\" cx=\"1208.15\" cy=\"876.474\" r=\"14\"/>\n",
       "<circle clip-path=\"url(#clip8802)\" style=\"fill:#000000; stroke:none; fill-opacity:1\" cx=\"1225.07\" cy=\"307.823\" r=\"18\"/>\n",
       "<circle clip-path=\"url(#clip8802)\" style=\"fill:#009af9; stroke:none; fill-opacity:1\" cx=\"1225.07\" cy=\"307.823\" r=\"14\"/>\n",
       "<circle clip-path=\"url(#clip8802)\" style=\"fill:#000000; stroke:none; fill-opacity:1\" cx=\"1242\" cy=\"844.863\" r=\"18\"/>\n",
       "<circle clip-path=\"url(#clip8802)\" style=\"fill:#009af9; stroke:none; fill-opacity:1\" cx=\"1242\" cy=\"844.863\" r=\"14\"/>\n",
       "<circle clip-path=\"url(#clip8802)\" style=\"fill:#000000; stroke:none; fill-opacity:1\" cx=\"1258.92\" cy=\"611.811\" r=\"18\"/>\n",
       "<circle clip-path=\"url(#clip8802)\" style=\"fill:#009af9; stroke:none; fill-opacity:1\" cx=\"1258.92\" cy=\"611.811\" r=\"14\"/>\n",
       "<circle clip-path=\"url(#clip8802)\" style=\"fill:#000000; stroke:none; fill-opacity:1\" cx=\"1275.84\" cy=\"947.261\" r=\"18\"/>\n",
       "<circle clip-path=\"url(#clip8802)\" style=\"fill:#009af9; stroke:none; fill-opacity:1\" cx=\"1275.84\" cy=\"947.261\" r=\"14\"/>\n",
       "<circle clip-path=\"url(#clip8802)\" style=\"fill:#000000; stroke:none; fill-opacity:1\" cx=\"1292.77\" cy=\"742.463\" r=\"18\"/>\n",
       "<circle clip-path=\"url(#clip8802)\" style=\"fill:#009af9; stroke:none; fill-opacity:1\" cx=\"1292.77\" cy=\"742.463\" r=\"14\"/>\n",
       "<circle clip-path=\"url(#clip8802)\" style=\"fill:#000000; stroke:none; fill-opacity:1\" cx=\"1309.69\" cy=\"1160.47\" r=\"18\"/>\n",
       "<circle clip-path=\"url(#clip8802)\" style=\"fill:#009af9; stroke:none; fill-opacity:1\" cx=\"1309.69\" cy=\"1160.47\" r=\"14\"/>\n",
       "<circle clip-path=\"url(#clip8802)\" style=\"fill:#000000; stroke:none; fill-opacity:1\" cx=\"1326.62\" cy=\"869.263\" r=\"18\"/>\n",
       "<circle clip-path=\"url(#clip8802)\" style=\"fill:#009af9; stroke:none; fill-opacity:1\" cx=\"1326.62\" cy=\"869.263\" r=\"14\"/>\n",
       "<circle clip-path=\"url(#clip8802)\" style=\"fill:#000000; stroke:none; fill-opacity:1\" cx=\"1343.54\" cy=\"888.18\" r=\"18\"/>\n",
       "<circle clip-path=\"url(#clip8802)\" style=\"fill:#009af9; stroke:none; fill-opacity:1\" cx=\"1343.54\" cy=\"888.18\" r=\"14\"/>\n",
       "<circle clip-path=\"url(#clip8802)\" style=\"fill:#000000; stroke:none; fill-opacity:1\" cx=\"1360.47\" cy=\"973.665\" r=\"18\"/>\n",
       "<circle clip-path=\"url(#clip8802)\" style=\"fill:#009af9; stroke:none; fill-opacity:1\" cx=\"1360.47\" cy=\"973.665\" r=\"14\"/>\n",
       "<circle clip-path=\"url(#clip8802)\" style=\"fill:#000000; stroke:none; fill-opacity:1\" cx=\"1377.39\" cy=\"684.122\" r=\"18\"/>\n",
       "<circle clip-path=\"url(#clip8802)\" style=\"fill:#009af9; stroke:none; fill-opacity:1\" cx=\"1377.39\" cy=\"684.122\" r=\"14\"/>\n",
       "<circle clip-path=\"url(#clip8802)\" style=\"fill:#000000; stroke:none; fill-opacity:1\" cx=\"1394.32\" cy=\"875.055\" r=\"18\"/>\n",
       "<circle clip-path=\"url(#clip8802)\" style=\"fill:#009af9; stroke:none; fill-opacity:1\" cx=\"1394.32\" cy=\"875.055\" r=\"14\"/>\n",
       "<circle clip-path=\"url(#clip8802)\" style=\"fill:#000000; stroke:none; fill-opacity:1\" cx=\"1411.24\" cy=\"1207.05\" r=\"18\"/>\n",
       "<circle clip-path=\"url(#clip8802)\" style=\"fill:#009af9; stroke:none; fill-opacity:1\" cx=\"1411.24\" cy=\"1207.05\" r=\"14\"/>\n",
       "<circle clip-path=\"url(#clip8802)\" style=\"fill:#000000; stroke:none; fill-opacity:1\" cx=\"1428.17\" cy=\"1089.7\" r=\"18\"/>\n",
       "<circle clip-path=\"url(#clip8802)\" style=\"fill:#009af9; stroke:none; fill-opacity:1\" cx=\"1428.17\" cy=\"1089.7\" r=\"14\"/>\n",
       "<circle clip-path=\"url(#clip8802)\" style=\"fill:#000000; stroke:none; fill-opacity:1\" cx=\"1445.09\" cy=\"639.9\" r=\"18\"/>\n",
       "<circle clip-path=\"url(#clip8802)\" style=\"fill:#009af9; stroke:none; fill-opacity:1\" cx=\"1445.09\" cy=\"639.9\" r=\"14\"/>\n",
       "<circle clip-path=\"url(#clip8802)\" style=\"fill:#000000; stroke:none; fill-opacity:1\" cx=\"1462.01\" cy=\"768.623\" r=\"18\"/>\n",
       "<circle clip-path=\"url(#clip8802)\" style=\"fill:#009af9; stroke:none; fill-opacity:1\" cx=\"1462.01\" cy=\"768.623\" r=\"14\"/>\n",
       "<circle clip-path=\"url(#clip8802)\" style=\"fill:#000000; stroke:none; fill-opacity:1\" cx=\"1478.94\" cy=\"1273.32\" r=\"18\"/>\n",
       "<circle clip-path=\"url(#clip8802)\" style=\"fill:#009af9; stroke:none; fill-opacity:1\" cx=\"1478.94\" cy=\"1273.32\" r=\"14\"/>\n",
       "<circle clip-path=\"url(#clip8802)\" style=\"fill:#000000; stroke:none; fill-opacity:1\" cx=\"1495.86\" cy=\"773.019\" r=\"18\"/>\n",
       "<circle clip-path=\"url(#clip8802)\" style=\"fill:#009af9; stroke:none; fill-opacity:1\" cx=\"1495.86\" cy=\"773.019\" r=\"14\"/>\n",
       "<circle clip-path=\"url(#clip8802)\" style=\"fill:#000000; stroke:none; fill-opacity:1\" cx=\"1512.79\" cy=\"1146.17\" r=\"18\"/>\n",
       "<circle clip-path=\"url(#clip8802)\" style=\"fill:#009af9; stroke:none; fill-opacity:1\" cx=\"1512.79\" cy=\"1146.17\" r=\"14\"/>\n",
       "<circle clip-path=\"url(#clip8802)\" style=\"fill:#000000; stroke:none; fill-opacity:1\" cx=\"1529.71\" cy=\"943.796\" r=\"18\"/>\n",
       "<circle clip-path=\"url(#clip8802)\" style=\"fill:#009af9; stroke:none; fill-opacity:1\" cx=\"1529.71\" cy=\"943.796\" r=\"14\"/>\n",
       "<circle clip-path=\"url(#clip8802)\" style=\"fill:#000000; stroke:none; fill-opacity:1\" cx=\"1546.64\" cy=\"982.881\" r=\"18\"/>\n",
       "<circle clip-path=\"url(#clip8802)\" style=\"fill:#009af9; stroke:none; fill-opacity:1\" cx=\"1546.64\" cy=\"982.881\" r=\"14\"/>\n",
       "<circle clip-path=\"url(#clip8802)\" style=\"fill:#000000; stroke:none; fill-opacity:1\" cx=\"1563.56\" cy=\"756.703\" r=\"18\"/>\n",
       "<circle clip-path=\"url(#clip8802)\" style=\"fill:#009af9; stroke:none; fill-opacity:1\" cx=\"1563.56\" cy=\"756.703\" r=\"14\"/>\n",
       "<circle clip-path=\"url(#clip8802)\" style=\"fill:#000000; stroke:none; fill-opacity:1\" cx=\"1580.49\" cy=\"579.824\" r=\"18\"/>\n",
       "<circle clip-path=\"url(#clip8802)\" style=\"fill:#009af9; stroke:none; fill-opacity:1\" cx=\"1580.49\" cy=\"579.824\" r=\"14\"/>\n",
       "<circle clip-path=\"url(#clip8802)\" style=\"fill:#000000; stroke:none; fill-opacity:1\" cx=\"1597.41\" cy=\"723.633\" r=\"18\"/>\n",
       "<circle clip-path=\"url(#clip8802)\" style=\"fill:#009af9; stroke:none; fill-opacity:1\" cx=\"1597.41\" cy=\"723.633\" r=\"14\"/>\n",
       "<circle clip-path=\"url(#clip8802)\" style=\"fill:#000000; stroke:none; fill-opacity:1\" cx=\"1614.34\" cy=\"1064.7\" r=\"18\"/>\n",
       "<circle clip-path=\"url(#clip8802)\" style=\"fill:#009af9; stroke:none; fill-opacity:1\" cx=\"1614.34\" cy=\"1064.7\" r=\"14\"/>\n",
       "<circle clip-path=\"url(#clip8802)\" style=\"fill:#000000; stroke:none; fill-opacity:1\" cx=\"1631.26\" cy=\"831.246\" r=\"18\"/>\n",
       "<circle clip-path=\"url(#clip8802)\" style=\"fill:#009af9; stroke:none; fill-opacity:1\" cx=\"1631.26\" cy=\"831.246\" r=\"14\"/>\n",
       "<circle clip-path=\"url(#clip8802)\" style=\"fill:#000000; stroke:none; fill-opacity:1\" cx=\"1648.19\" cy=\"853.927\" r=\"18\"/>\n",
       "<circle clip-path=\"url(#clip8802)\" style=\"fill:#009af9; stroke:none; fill-opacity:1\" cx=\"1648.19\" cy=\"853.927\" r=\"14\"/>\n",
       "<circle clip-path=\"url(#clip8802)\" style=\"fill:#000000; stroke:none; fill-opacity:1\" cx=\"1665.11\" cy=\"1253.81\" r=\"18\"/>\n",
       "<circle clip-path=\"url(#clip8802)\" style=\"fill:#009af9; stroke:none; fill-opacity:1\" cx=\"1665.11\" cy=\"1253.81\" r=\"14\"/>\n",
       "<circle clip-path=\"url(#clip8802)\" style=\"fill:#000000; stroke:none; fill-opacity:1\" cx=\"1682.03\" cy=\"824.642\" r=\"18\"/>\n",
       "<circle clip-path=\"url(#clip8802)\" style=\"fill:#009af9; stroke:none; fill-opacity:1\" cx=\"1682.03\" cy=\"824.642\" r=\"14\"/>\n",
       "<circle clip-path=\"url(#clip8802)\" style=\"fill:#000000; stroke:none; fill-opacity:1\" cx=\"1698.96\" cy=\"1140.81\" r=\"18\"/>\n",
       "<circle clip-path=\"url(#clip8802)\" style=\"fill:#009af9; stroke:none; fill-opacity:1\" cx=\"1698.96\" cy=\"1140.81\" r=\"14\"/>\n",
       "<circle clip-path=\"url(#clip8802)\" style=\"fill:#000000; stroke:none; fill-opacity:1\" cx=\"1715.88\" cy=\"786.8\" r=\"18\"/>\n",
       "<circle clip-path=\"url(#clip8802)\" style=\"fill:#009af9; stroke:none; fill-opacity:1\" cx=\"1715.88\" cy=\"786.8\" r=\"14\"/>\n",
       "<circle clip-path=\"url(#clip8802)\" style=\"fill:#000000; stroke:none; fill-opacity:1\" cx=\"1732.81\" cy=\"916.137\" r=\"18\"/>\n",
       "<circle clip-path=\"url(#clip8802)\" style=\"fill:#009af9; stroke:none; fill-opacity:1\" cx=\"1732.81\" cy=\"916.137\" r=\"14\"/>\n",
       "<circle clip-path=\"url(#clip8802)\" style=\"fill:#000000; stroke:none; fill-opacity:1\" cx=\"1749.73\" cy=\"925.007\" r=\"18\"/>\n",
       "<circle clip-path=\"url(#clip8802)\" style=\"fill:#009af9; stroke:none; fill-opacity:1\" cx=\"1749.73\" cy=\"925.007\" r=\"14\"/>\n",
       "<circle clip-path=\"url(#clip8802)\" style=\"fill:#000000; stroke:none; fill-opacity:1\" cx=\"1766.66\" cy=\"1043.98\" r=\"18\"/>\n",
       "<circle clip-path=\"url(#clip8802)\" style=\"fill:#009af9; stroke:none; fill-opacity:1\" cx=\"1766.66\" cy=\"1043.98\" r=\"14\"/>\n",
       "<circle clip-path=\"url(#clip8802)\" style=\"fill:#000000; stroke:none; fill-opacity:1\" cx=\"1783.58\" cy=\"745.284\" r=\"18\"/>\n",
       "<circle clip-path=\"url(#clip8802)\" style=\"fill:#009af9; stroke:none; fill-opacity:1\" cx=\"1783.58\" cy=\"745.284\" r=\"14\"/>\n",
       "<circle clip-path=\"url(#clip8802)\" style=\"fill:#000000; stroke:none; fill-opacity:1\" cx=\"1800.51\" cy=\"1052.78\" r=\"18\"/>\n",
       "<circle clip-path=\"url(#clip8802)\" style=\"fill:#009af9; stroke:none; fill-opacity:1\" cx=\"1800.51\" cy=\"1052.78\" r=\"14\"/>\n",
       "<circle clip-path=\"url(#clip8802)\" style=\"fill:#000000; stroke:none; fill-opacity:1\" cx=\"1817.43\" cy=\"854.456\" r=\"18\"/>\n",
       "<circle clip-path=\"url(#clip8802)\" style=\"fill:#009af9; stroke:none; fill-opacity:1\" cx=\"1817.43\" cy=\"854.456\" r=\"14\"/>\n",
       "<circle clip-path=\"url(#clip8802)\" style=\"fill:#000000; stroke:none; fill-opacity:1\" cx=\"1834.36\" cy=\"939.569\" r=\"18\"/>\n",
       "<circle clip-path=\"url(#clip8802)\" style=\"fill:#009af9; stroke:none; fill-opacity:1\" cx=\"1834.36\" cy=\"939.569\" r=\"14\"/>\n",
       "<circle clip-path=\"url(#clip8802)\" style=\"fill:#000000; stroke:none; fill-opacity:1\" cx=\"1851.28\" cy=\"918.623\" r=\"18\"/>\n",
       "<circle clip-path=\"url(#clip8802)\" style=\"fill:#009af9; stroke:none; fill-opacity:1\" cx=\"1851.28\" cy=\"918.623\" r=\"14\"/>\n",
       "<circle clip-path=\"url(#clip8802)\" style=\"fill:#000000; stroke:none; fill-opacity:1\" cx=\"1868.2\" cy=\"449.903\" r=\"18\"/>\n",
       "<circle clip-path=\"url(#clip8802)\" style=\"fill:#009af9; stroke:none; fill-opacity:1\" cx=\"1868.2\" cy=\"449.903\" r=\"14\"/>\n",
       "<circle clip-path=\"url(#clip8802)\" style=\"fill:#000000; stroke:none; fill-opacity:1\" cx=\"1885.13\" cy=\"943.353\" r=\"18\"/>\n",
       "<circle clip-path=\"url(#clip8802)\" style=\"fill:#009af9; stroke:none; fill-opacity:1\" cx=\"1885.13\" cy=\"943.353\" r=\"14\"/>\n",
       "<circle clip-path=\"url(#clip8802)\" style=\"fill:#000000; stroke:none; fill-opacity:1\" cx=\"1902.05\" cy=\"1199.8\" r=\"18\"/>\n",
       "<circle clip-path=\"url(#clip8802)\" style=\"fill:#009af9; stroke:none; fill-opacity:1\" cx=\"1902.05\" cy=\"1199.8\" r=\"14\"/>\n",
       "<circle clip-path=\"url(#clip8802)\" style=\"fill:#000000; stroke:none; fill-opacity:1\" cx=\"1918.98\" cy=\"797.677\" r=\"18\"/>\n",
       "<circle clip-path=\"url(#clip8802)\" style=\"fill:#009af9; stroke:none; fill-opacity:1\" cx=\"1918.98\" cy=\"797.677\" r=\"14\"/>\n",
       "<circle clip-path=\"url(#clip8802)\" style=\"fill:#000000; stroke:none; fill-opacity:1\" cx=\"1935.9\" cy=\"356.496\" r=\"18\"/>\n",
       "<circle clip-path=\"url(#clip8802)\" style=\"fill:#009af9; stroke:none; fill-opacity:1\" cx=\"1935.9\" cy=\"356.496\" r=\"14\"/>\n",
       "<circle clip-path=\"url(#clip8802)\" style=\"fill:#000000; stroke:none; fill-opacity:1\" cx=\"1952.83\" cy=\"923.728\" r=\"18\"/>\n",
       "<circle clip-path=\"url(#clip8802)\" style=\"fill:#009af9; stroke:none; fill-opacity:1\" cx=\"1952.83\" cy=\"923.728\" r=\"14\"/>\n",
       "<circle clip-path=\"url(#clip8802)\" style=\"fill:#000000; stroke:none; fill-opacity:1\" cx=\"1969.75\" cy=\"1105.37\" r=\"18\"/>\n",
       "<circle clip-path=\"url(#clip8802)\" style=\"fill:#009af9; stroke:none; fill-opacity:1\" cx=\"1969.75\" cy=\"1105.37\" r=\"14\"/>\n",
       "<circle clip-path=\"url(#clip8802)\" style=\"fill:#000000; stroke:none; fill-opacity:1\" cx=\"1986.68\" cy=\"1294.73\" r=\"18\"/>\n",
       "<circle clip-path=\"url(#clip8802)\" style=\"fill:#009af9; stroke:none; fill-opacity:1\" cx=\"1986.68\" cy=\"1294.73\" r=\"14\"/>\n",
       "<circle clip-path=\"url(#clip8802)\" style=\"fill:#000000; stroke:none; fill-opacity:1\" cx=\"2003.6\" cy=\"947.702\" r=\"18\"/>\n",
       "<circle clip-path=\"url(#clip8802)\" style=\"fill:#009af9; stroke:none; fill-opacity:1\" cx=\"2003.6\" cy=\"947.702\" r=\"14\"/>\n",
       "<circle clip-path=\"url(#clip8802)\" style=\"fill:#000000; stroke:none; fill-opacity:1\" cx=\"2020.53\" cy=\"869.081\" r=\"18\"/>\n",
       "<circle clip-path=\"url(#clip8802)\" style=\"fill:#009af9; stroke:none; fill-opacity:1\" cx=\"2020.53\" cy=\"869.081\" r=\"14\"/>\n",
       "<circle clip-path=\"url(#clip8802)\" style=\"fill:#000000; stroke:none; fill-opacity:1\" cx=\"2037.45\" cy=\"655.394\" r=\"18\"/>\n",
       "<circle clip-path=\"url(#clip8802)\" style=\"fill:#009af9; stroke:none; fill-opacity:1\" cx=\"2037.45\" cy=\"655.394\" r=\"14\"/>\n",
       "<circle clip-path=\"url(#clip8802)\" style=\"fill:#000000; stroke:none; fill-opacity:1\" cx=\"2054.38\" cy=\"833.218\" r=\"18\"/>\n",
       "<circle clip-path=\"url(#clip8802)\" style=\"fill:#009af9; stroke:none; fill-opacity:1\" cx=\"2054.38\" cy=\"833.218\" r=\"14\"/>\n",
       "<circle clip-path=\"url(#clip8802)\" style=\"fill:#000000; stroke:none; fill-opacity:1\" cx=\"2071.3\" cy=\"540.499\" r=\"18\"/>\n",
       "<circle clip-path=\"url(#clip8802)\" style=\"fill:#009af9; stroke:none; fill-opacity:1\" cx=\"2071.3\" cy=\"540.499\" r=\"14\"/>\n",
       "<circle clip-path=\"url(#clip8802)\" style=\"fill:#000000; stroke:none; fill-opacity:1\" cx=\"2088.22\" cy=\"976.618\" r=\"18\"/>\n",
       "<circle clip-path=\"url(#clip8802)\" style=\"fill:#009af9; stroke:none; fill-opacity:1\" cx=\"2088.22\" cy=\"976.618\" r=\"14\"/>\n",
       "<circle clip-path=\"url(#clip8802)\" style=\"fill:#000000; stroke:none; fill-opacity:1\" cx=\"2105.15\" cy=\"1374.85\" r=\"18\"/>\n",
       "<circle clip-path=\"url(#clip8802)\" style=\"fill:#009af9; stroke:none; fill-opacity:1\" cx=\"2105.15\" cy=\"1374.85\" r=\"14\"/>\n",
       "<circle clip-path=\"url(#clip8802)\" style=\"fill:#000000; stroke:none; fill-opacity:1\" cx=\"2122.07\" cy=\"954.318\" r=\"18\"/>\n",
       "<circle clip-path=\"url(#clip8802)\" style=\"fill:#009af9; stroke:none; fill-opacity:1\" cx=\"2122.07\" cy=\"954.318\" r=\"14\"/>\n",
       "<circle clip-path=\"url(#clip8802)\" style=\"fill:#000000; stroke:none; fill-opacity:1\" cx=\"2139\" cy=\"867.46\" r=\"18\"/>\n",
       "<circle clip-path=\"url(#clip8802)\" style=\"fill:#009af9; stroke:none; fill-opacity:1\" cx=\"2139\" cy=\"867.46\" r=\"14\"/>\n",
       "<circle clip-path=\"url(#clip8802)\" style=\"fill:#000000; stroke:none; fill-opacity:1\" cx=\"2155.92\" cy=\"790.044\" r=\"18\"/>\n",
       "<circle clip-path=\"url(#clip8802)\" style=\"fill:#009af9; stroke:none; fill-opacity:1\" cx=\"2155.92\" cy=\"790.044\" r=\"14\"/>\n",
       "<circle clip-path=\"url(#clip8802)\" style=\"fill:#000000; stroke:none; fill-opacity:1\" cx=\"2172.85\" cy=\"742.39\" r=\"18\"/>\n",
       "<circle clip-path=\"url(#clip8802)\" style=\"fill:#009af9; stroke:none; fill-opacity:1\" cx=\"2172.85\" cy=\"742.39\" r=\"14\"/>\n",
       "<circle clip-path=\"url(#clip8802)\" style=\"fill:#000000; stroke:none; fill-opacity:1\" cx=\"2189.77\" cy=\"570.598\" r=\"18\"/>\n",
       "<circle clip-path=\"url(#clip8802)\" style=\"fill:#009af9; stroke:none; fill-opacity:1\" cx=\"2189.77\" cy=\"570.598\" r=\"14\"/>\n",
       "<circle clip-path=\"url(#clip8802)\" style=\"fill:#000000; stroke:none; fill-opacity:1\" cx=\"2206.7\" cy=\"597.811\" r=\"18\"/>\n",
       "<circle clip-path=\"url(#clip8802)\" style=\"fill:#009af9; stroke:none; fill-opacity:1\" cx=\"2206.7\" cy=\"597.811\" r=\"14\"/>\n",
       "<circle clip-path=\"url(#clip8802)\" style=\"fill:#000000; stroke:none; fill-opacity:1\" cx=\"2223.62\" cy=\"962.932\" r=\"18\"/>\n",
       "<circle clip-path=\"url(#clip8802)\" style=\"fill:#009af9; stroke:none; fill-opacity:1\" cx=\"2223.62\" cy=\"962.932\" r=\"14\"/>\n",
       "<circle clip-path=\"url(#clip8802)\" style=\"fill:#000000; stroke:none; fill-opacity:1\" cx=\"2240.55\" cy=\"409.381\" r=\"18\"/>\n",
       "<circle clip-path=\"url(#clip8802)\" style=\"fill:#009af9; stroke:none; fill-opacity:1\" cx=\"2240.55\" cy=\"409.381\" r=\"14\"/>\n",
       "<circle clip-path=\"url(#clip8802)\" style=\"fill:#000000; stroke:none; fill-opacity:1\" cx=\"2257.47\" cy=\"812.323\" r=\"18\"/>\n",
       "<circle clip-path=\"url(#clip8802)\" style=\"fill:#009af9; stroke:none; fill-opacity:1\" cx=\"2257.47\" cy=\"812.323\" r=\"14\"/>\n",
       "<circle clip-path=\"url(#clip8802)\" style=\"fill:#000000; stroke:none; fill-opacity:1\" cx=\"2274.4\" cy=\"763.786\" r=\"18\"/>\n",
       "<circle clip-path=\"url(#clip8802)\" style=\"fill:#009af9; stroke:none; fill-opacity:1\" cx=\"2274.4\" cy=\"763.786\" r=\"14\"/>\n",
       "<circle clip-path=\"url(#clip8802)\" style=\"fill:#000000; stroke:none; fill-opacity:1\" cx=\"2291.32\" cy=\"728.908\" r=\"18\"/>\n",
       "<circle clip-path=\"url(#clip8802)\" style=\"fill:#009af9; stroke:none; fill-opacity:1\" cx=\"2291.32\" cy=\"728.908\" r=\"14\"/>\n",
       "<path clip-path=\"url(#clip8800)\" d=\"\n",
       "M1989.93 251.724 L2280.76 251.724 L2280.76 130.764 L1989.93 130.764  Z\n",
       "  \" fill=\"#ffffff\" fill-rule=\"evenodd\" fill-opacity=\"1\"/>\n",
       "<polyline clip-path=\"url(#clip8800)\" style=\"stroke:#000000; stroke-width:4; stroke-opacity:1; fill:none\" points=\"\n",
       "  1989.93,251.724 2280.76,251.724 2280.76,130.764 1989.93,130.764 1989.93,251.724 \n",
       "  \"/>\n",
       "<circle clip-path=\"url(#clip8800)\" style=\"fill:#000000; stroke:none; fill-opacity:1\" cx=\"2097.93\" cy=\"191.244\" r=\"25\"/>\n",
       "<circle clip-path=\"url(#clip8800)\" style=\"fill:#009af9; stroke:none; fill-opacity:1\" cx=\"2097.93\" cy=\"191.244\" r=\"21\"/>\n",
       "<g clip-path=\"url(#clip8800)\">\n",
       "<text style=\"fill:#000000; fill-opacity:1; font-family:Arial,Helvetica Neue,Helvetica,sans-serif; font-size:48px; text-anchor:start;\" transform=\"rotate(0, 2181.93, 208.744)\" x=\"2181.93\" y=\"208.744\">y1</text>\n",
       "</g>\n",
       "</svg>\n"
      ]
     },
     "execution_count": 127,
     "metadata": {},
     "output_type": "execute_result"
    }
   ],
   "source": [
    "scatter([y' .- yhat.data'])"
   ]
  },
  {
   "cell_type": "markdown",
   "metadata": {},
   "source": [
    "## Flux Classification"
   ]
  },
  {
   "cell_type": "code",
   "execution_count": 283,
   "metadata": {},
   "outputs": [
    {
     "data": {
      "text/plain": [
       "accuracy (generic function with 1 method)"
      ]
     },
     "execution_count": 283,
     "metadata": {},
     "output_type": "execute_result"
    }
   ],
   "source": [
    "function fluxclassification(data,lr=0.01,iterations=1000,hidden=10,checkpoint=0.1)\n",
    "    model = Chain(\n",
    "        Dense(ML.width(input_schema),hidden,relu),\n",
    "        Dense(hidden,ML.width(output_schema)),\n",
    "        softmax\n",
    "    )\n",
    "     \n",
    "    loss(x,y) = Flux.mse(model(x),y)\n",
    "\n",
    "    opt = ADAM(lr) \n",
    "    evalcb = Flux.throttle(() -> @show(loss(first(data)...)), checkpoint);\n",
    "    \n",
    "    for i = 1:iterations\n",
    "      Flux.train!(loss, params(model),data, opt, cb = evalcb)\n",
    "    end\n",
    "    return model\n",
    "end\n",
    "accuracy(x, y) = mean(Flux.onecold(x) .== Flux.onecold(y))*100"
   ]
  },
  {
   "cell_type": "code",
   "execution_count": 327,
   "metadata": {},
   "outputs": [
    {
     "name": "stdout",
     "output_type": "stream",
     "text": [
      "loss(first(data)...) = 0.08954839f0 (tracked)\n",
      "loss(first(data)...) = 0.007815041f0 (tracked)\n",
      "loss(first(data)...) = 0.0074611595f0 (tracked)\n",
      "loss(first(data)...) = 0.0074183946f0 (tracked)\n",
      "loss(first(data)...) = 0.007422068f0 (tracked)\n",
      "loss(first(data)...) = 0.007417016f0 (tracked)\n"
     ]
    },
    {
     "data": {
      "text/plain": [
       "96.72131147540983"
      ]
     },
     "execution_count": 327,
     "metadata": {},
     "output_type": "execute_result"
    }
   ],
   "source": [
    "input_schema, output_schema = ML.splitschema(cars_schema,:Cylinders);\n",
    "input = ML.featuremat(input_schema,cars)\n",
    "output = ML.featuremat(output_schema,cars)\n",
    "train_input,train_output,test_input,test_output = partitionTrainTest(input,output,0.7)\n",
    "data = [(train_input, train_output)] \n",
    "\n",
    "model = fluxclassification(data,0.1,1000)\n",
    "yhat=model(test_input)\n",
    "accuracy(yhat,test_output)"
   ]
  },
  {
   "cell_type": "code",
   "execution_count": 328,
   "metadata": {},
   "outputs": [],
   "source": [
    "using RCall"
   ]
  },
  {
   "cell_type": "code",
   "execution_count": 329,
   "metadata": {},
   "outputs": [],
   "source": [
    "pred = Flux.onecold(yhat.data)\n",
    "gt = Flux.onecold(test_output);"
   ]
  },
  {
   "cell_type": "code",
   "execution_count": 330,
   "metadata": {},
   "outputs": [
    {
     "data": {
      "text/plain": [
       "RObject{IntSxp}\n",
       "   \n",
       "     1  2  3  5\n",
       "  1 34  0  1  0\n",
       "  2  0 60  1  1\n",
       "  3  0  1 24  0\n"
      ]
     },
     "execution_count": 330,
     "metadata": {},
     "output_type": "execute_result"
    }
   ],
   "source": [
    "R\"table($pred,$gt)\""
   ]
  },
  {
   "cell_type": "code",
   "execution_count": 331,
   "metadata": {},
   "outputs": [
    {
     "data": {
      "text/plain": [
       "RObject{IntSxp}\n",
       "\n",
       "  3   4   5   6   8 \n",
       "  4 207   3  84 108 \n"
      ]
     },
     "execution_count": 331,
     "metadata": {},
     "output_type": "execute_result"
    }
   ],
   "source": [
    "cars |> DataFrame |> x-> x.Cylinders |> x->R\"table($x)\""
   ]
  },
  {
   "cell_type": "markdown",
   "metadata": {},
   "source": [
    "## Flux MNIST"
   ]
  },
  {
   "cell_type": "markdown",
   "metadata": {},
   "source": [
    "### MLP (multi-layer perceptron)"
   ]
  },
  {
   "cell_type": "code",
   "execution_count": 346,
   "metadata": {},
   "outputs": [
    {
     "name": "stdout",
     "output_type": "stream",
     "text": [
      "loss(X, Y) = 2.308472f0 (tracked)\n",
      "loss(X, Y) = 1.7174263f0 (tracked)\n",
      "loss(X, Y) = 1.2651258f0 (tracked)\n",
      "loss(X, Y) = 0.9309746f0 (tracked)\n",
      "loss(X, Y) = 0.7198473f0 (tracked)\n"
     ]
    },
    {
     "data": {
      "text/plain": [
       "0.8463"
      ]
     },
     "execution_count": 346,
     "metadata": {},
     "output_type": "execute_result"
    }
   ],
   "source": [
    "using Flux, Flux.Data.MNIST, Statistics\n",
    "using Flux: onehotbatch, onecold, crossentropy, throttle\n",
    "using Base.Iterators: repeated\n",
    "# using CuArrays\n",
    "\n",
    "# Classify MNIST digits with a simple multi-layer-perceptron\n",
    "\n",
    "imgs = MNIST.images()\n",
    "# Stack images into one large batch\n",
    "X = hcat(float.(reshape.(imgs, :))...) |> gpu\n",
    "\n",
    "labels = MNIST.labels()\n",
    "# One-hot-encode the labels\n",
    "Y = onehotbatch(labels, 0:9) |> gpu\n",
    "\n",
    "m = Chain(\n",
    "  Dense(28^2, 32, relu),\n",
    "  Dense(32, 10),\n",
    "  softmax) |> gpu\n",
    "\n",
    "loss(x, y) = crossentropy(m(x), y)\n",
    "\n",
    "accuracy(x, y) = mean(onecold(m(x)) .== onecold(y))\n",
    "\n",
    "fdataset = repeated((X, Y), 50)\n",
    "evalcb = () -> @show(loss(X, Y))\n",
    "opt = ADAM()\n",
    "\n",
    "Flux.train!(loss, params(m), fdataset, opt, cb = throttle(evalcb, 5))\n",
    "\n",
    "accuracy(X, Y)\n",
    "\n",
    "# Test set accuracy\n",
    "tX = hcat(float.(reshape.(MNIST.images(:test), :))...) |> gpu\n",
    "tY = onehotbatch(MNIST.labels(:test), 0:9) |> gpu\n",
    "\n",
    "accuracy(tX, tY)"
   ]
  },
  {
   "cell_type": "markdown",
   "metadata": {},
   "source": [
    "### Convolution layers"
   ]
  },
  {
   "cell_type": "code",
   "execution_count": null,
   "metadata": {},
   "outputs": [],
   "source": [
    "using Flux, Metalhead, Statistics\n",
    "using Flux: onehotbatch, onecold, crossentropy, throttle\n",
    "using Metalhead: trainimgs\n",
    "using Images: channelview\n",
    "using Statistics: mean\n",
    "using Base.Iterators: partition\n",
    "\n",
    "# VGG16 and VGG19 models\n",
    "\n",
    "vgg16() = Chain(\n",
    "  Conv((3, 3), 3 => 64, relu, pad=(1, 1), stride=(1, 1)),\n",
    "  BatchNorm(64),\n",
    "  Conv((3, 3), 64 => 64, relu, pad=(1, 1), stride=(1, 1)),\n",
    "  BatchNorm(64),\n",
    "  x -> maxpool(x, (2, 2)),\n",
    "  Conv((3, 3), 64 => 128, relu, pad=(1, 1), stride=(1, 1)),\n",
    "  BatchNorm(128),\n",
    "  Conv((3, 3), 128 => 128, relu, pad=(1, 1), stride=(1, 1)),\n",
    "  BatchNorm(128),\n",
    "  x -> maxpool(x, (2,2)),\n",
    "  Conv((3, 3), 128 => 256, relu, pad=(1, 1), stride=(1, 1)),\n",
    "  BatchNorm(256),\n",
    "  Conv((3, 3), 256 => 256, relu, pad=(1, 1), stride=(1, 1)),\n",
    "  BatchNorm(256),\n",
    "  Conv((3, 3), 256 => 256, relu, pad=(1, 1), stride=(1, 1)),\n",
    "  BatchNorm(256),\n",
    "  x -> maxpool(x, (2, 2)),\n",
    "  Conv((3, 3), 256 => 512, relu, pad=(1, 1), stride=(1, 1)),\n",
    "  BatchNorm(512),\n",
    "  Conv((3, 3), 512 => 512, relu, pad=(1, 1), stride=(1, 1)),\n",
    "  BatchNorm(512),\n",
    "  Conv((3, 3), 512 => 512, relu, pad=(1, 1), stride=(1, 1)),\n",
    "  BatchNorm(512),\n",
    "  x -> maxpool(x, (2, 2)),\n",
    "  Conv((3, 3), 512 => 512, relu, pad=(1, 1), stride=(1, 1)),\n",
    "  BatchNorm(512),\n",
    "  Conv((3, 3), 512 => 512, relu, pad=(1, 1), stride=(1, 1)),\n",
    "  BatchNorm(512),\n",
    "  Conv((3, 3), 512 => 512, relu, pad=(1, 1), stride=(1, 1)),\n",
    "  BatchNorm(512),\n",
    "  x -> maxpool(x, (2, 2)),\n",
    "  x -> reshape(x, :, size(x, 4)),\n",
    "  Dense(512, 4096, relu),\n",
    "  Dropout(0.5),\n",
    "  Dense(4096, 4096, relu),\n",
    "  Dropout(0.5),\n",
    "  Dense(4096, 10),\n",
    "  softmax) |> gpu\n",
    "\n",
    "\n",
    "# Function to convert the RGB image to Float64 Arrays\n",
    "\n",
    "getarray(X) = Float32.(permutedims(channelview(X), (2, 3, 1)))\n",
    "\n",
    "# Fetching the train and validation data and getting them into proper shape\n",
    "\n",
    "X = trainimgs(CIFAR10)\n",
    "imgs = [getarray(X[i].img) for i in 1:50000]\n",
    "labels = onehotbatch([X[i].ground_truth.class for i in 1:50000],1:10)\n",
    "train = gpu.([(cat(imgs[i]..., dims = 4), labels[:,i]) for i in partition(1:49000, 100)])\n",
    "valset = collect(49001:50000)\n",
    "valX = cat(imgs[valset]..., dims = 4) |> gpu\n",
    "valY = labels[:, valset] |> gpu\n",
    "\n",
    "# Defining the loss and accuracy functions\n",
    "\n",
    "m = vgg16()\n",
    "\n",
    "loss(x, y) = crossentropy(m(x), y)\n",
    "\n",
    "accuracy(x, y) = mean(onecold(m(x), 1:10) .== onecold(y, 1:10))\n",
    "\n",
    "# Defining the callback and the optimizer\n",
    "\n",
    "evalcb = throttle(() -> @show(accuracy(valX, valY)), 10)\n",
    "\n",
    "opt = ADAM()\n",
    "\n",
    "# Starting to train models\n",
    "\n",
    "Flux.train!(loss, params(m), train, opt, cb = evalcb)\n",
    "\n",
    "# Fetch the test data from Metalhead and get it into proper shape.\n",
    "# CIFAR-10 does not specify a validation set so valimgs fetch the testdata instead of testimgs\n",
    "\n",
    "test = valimgs(CIFAR10)\n",
    "\n",
    "testimgs = [getarray(test[i].img) for i in 1:10000]\n",
    "testY = onehotbatch([test[i].ground_truth.class for i in 1:10000], 1:10) |> gpu\n",
    "testX = cat(testimgs..., dims = 4) |> gpu\n",
    "\n",
    "# Print the final accuracy\n",
    "\n",
    "@show(accuracy(testX, testY))"
   ]
  },
  {
   "cell_type": "code",
   "execution_count": null,
   "metadata": {},
   "outputs": [],
   "source": []
  }
 ],
 "metadata": {
  "@webio": {
   "lastCommId": null,
   "lastKernelId": null
  },
  "kernelspec": {
   "display_name": "Julia 1.2.0",
   "language": "julia",
   "name": "julia-1.2"
  },
  "language_info": {
   "file_extension": ".jl",
   "mimetype": "application/julia",
   "name": "julia",
   "version": "1.2.0"
  }
 },
 "nbformat": 4,
 "nbformat_minor": 2
}
