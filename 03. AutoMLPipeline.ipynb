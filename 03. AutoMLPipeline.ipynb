{
 "cells": [
  {
   "cell_type": "markdown",
   "metadata": {},
   "source": [
    "### Load Modules"
   ]
  },
  {
   "cell_type": "code",
   "execution_count": 2,
   "metadata": {},
   "outputs": [],
   "source": [
    "using Random\n",
    "using AutoMLPipeline\n",
    "using AutoMLPipeline.FeatureSelectors\n",
    "using AutoMLPipeline.EnsembleMethods\n",
    "using AutoMLPipeline.CrossValidators\n",
    "using AutoMLPipeline.DecisionTreeLearners\n",
    "using AutoMLPipeline.Pipelines\n",
    "using AutoMLPipeline.BaseFilters\n",
    "using AutoMLPipeline.SKPreprocessors\n",
    "using AutoMLPipeline.Utils\n",
    "ENV[\"COLUMNS\"]=1000;"
   ]
  },
  {
   "cell_type": "markdown",
   "metadata": {},
   "source": [
    "### Load dataset\n",
    "- pro-football dataset\n",
    "- predict if the game is played home/away"
   ]
  },
  {
   "cell_type": "code",
   "execution_count": 3,
   "metadata": {},
   "outputs": [
    {
     "data": {
      "text/html": [
       "<table class=\"data-frame\"><thead><tr><th></th><th>Home.Away</th><th>Favorite_Points</th><th>Underdog_Points</th><th>Pointspread</th><th>Favorite_Name</th><th>Underdog_name</th><th>Year</th></tr><tr><th></th><th>String</th><th>Int64</th><th>Int64</th><th>Float64</th><th>String</th><th>String</th><th>Int64</th></tr></thead><tbody><p>5 rows × 7 columns</p><tr><th>1</th><td>away</td><td>27</td><td>24</td><td>4.0</td><td>BUF</td><td>MIA</td><td>89</td></tr><tr><th>2</th><td>at_home</td><td>17</td><td>14</td><td>3.0</td><td>CHI</td><td>CIN</td><td>89</td></tr><tr><th>3</th><td>away</td><td>51</td><td>0</td><td>2.5</td><td>CLE</td><td>PIT</td><td>89</td></tr><tr><th>4</th><td>at_home</td><td>28</td><td>0</td><td>5.5</td><td>NO</td><td>DAL</td><td>89</td></tr><tr><th>5</th><td>at_home</td><td>38</td><td>7</td><td>5.5</td><td>MIN</td><td>HOU</td><td>89</td></tr></tbody></table>"
      ],
      "text/latex": [
       "\\begin{tabular}{r|ccccccc}\n",
       "\t& Home.Away & Favorite\\_Points & Underdog\\_Points & Pointspread & Favorite\\_Name & Underdog\\_name & Year\\\\\n",
       "\t\\hline\n",
       "\t& String & Int64 & Int64 & Float64 & String & String & Int64\\\\\n",
       "\t\\hline\n",
       "\t1 & away & 27 & 24 & 4.0 & BUF & MIA & 89 \\\\\n",
       "\t2 & at\\_home & 17 & 14 & 3.0 & CHI & CIN & 89 \\\\\n",
       "\t3 & away & 51 & 0 & 2.5 & CLE & PIT & 89 \\\\\n",
       "\t4 & at\\_home & 28 & 0 & 5.5 & NO & DAL & 89 \\\\\n",
       "\t5 & at\\_home & 38 & 7 & 5.5 & MIN & HOU & 89 \\\\\n",
       "\\end{tabular}\n"
      ],
      "text/plain": [
       "5×7 DataFrames.DataFrame\n",
       "│ Row │ Home.Away │ Favorite_Points │ Underdog_Points │ Pointspread │ Favorite_Name │ Underdog_name │ Year  │\n",
       "│     │ \u001b[90mString\u001b[39m    │ \u001b[90mInt64\u001b[39m           │ \u001b[90mInt64\u001b[39m           │ \u001b[90mFloat64\u001b[39m     │ \u001b[90mString\u001b[39m        │ \u001b[90mString\u001b[39m        │ \u001b[90mInt64\u001b[39m │\n",
       "├─────┼───────────┼─────────────────┼─────────────────┼─────────────┼───────────────┼───────────────┼───────┤\n",
       "│ 1   │ away      │ 27              │ 24              │ 4.0         │ BUF           │ MIA           │ 89    │\n",
       "│ 2   │ at_home   │ 17              │ 14              │ 3.0         │ CHI           │ CIN           │ 89    │\n",
       "│ 3   │ away      │ 51              │ 0               │ 2.5         │ CLE           │ PIT           │ 89    │\n",
       "│ 4   │ at_home   │ 28              │ 0               │ 5.5         │ NO            │ DAL           │ 89    │\n",
       "│ 5   │ at_home   │ 38              │ 7               │ 5.5         │ MIN           │ HOU           │ 89    │"
      ]
     },
     "execution_count": 3,
     "metadata": {},
     "output_type": "execute_result"
    }
   ],
   "source": [
    "using CSV\n",
    "profbdata = CSV.read(\"profb.csv\")\n",
    "first(profbdata,5)"
   ]
  },
  {
   "cell_type": "markdown",
   "metadata": {},
   "source": [
    "### Split data into input features and target output"
   ]
  },
  {
   "cell_type": "code",
   "execution_count": 4,
   "metadata": {},
   "outputs": [],
   "source": [
    "X = profbdata[:,2:end] \n",
    "Y = profbdata[:,1] |> Vector;"
   ]
  },
  {
   "cell_type": "markdown",
   "metadata": {},
   "source": [
    "### Load the building blocks of modeling"
   ]
  },
  {
   "cell_type": "code",
   "execution_count": 5,
   "metadata": {},
   "outputs": [],
   "source": [
    "# decomposition\n",
    "pca = SKPreprocessor(\"PCA\")\n",
    "fa = SKPreprocessor(\"FactorAnalysis\")\n",
    "ica = SKPreprocessor(\"FastICA\")\n",
    "# Scaler \n",
    "rb = SKPreprocessor(\"RobustScaler\")\n",
    "pt = SKPreprocessor(\"PowerTransformer\")\n",
    "norm = SKPreprocessor(\"Normalizer\")\n",
    "mx = SKPreprocessor(\"MinMaxScaler\")\n",
    "# categorical preprocessing\n",
    "ohe = OneHotEncoder()\n",
    "# Column selector\n",
    "disc = CatNumDiscriminator()\n",
    "catf = CatFeatureSelector()\n",
    "numf = NumFeatureSelector()\n",
    "# Learners\n",
    "rf = SKLearner(\"RandomForestClassifier\")\n",
    "gb = SKLearner(\"GradientBoostingClassifier\")\n",
    "lsvc = SKLearner(\"LinearSVC\")\n",
    "svc = SKLearner(\"SVC\")\n",
    "mlp = SKLearner(\"MLPClassifier\")\n",
    "ada = SKLearner(\"AdaBoostClassifier\");\n",
    "jrf = RandomForest();\n",
    "vote = VoteEnsemble();\n",
    "stack = StackEnsemble();\n",
    "best = BestLearner();"
   ]
  },
  {
   "cell_type": "markdown",
   "metadata": {},
   "source": [
    "### Define a pipeline composed of transformers and a learner at the end\n",
    "#### Symbolic expression exploiting Julia Macro (allows symbolic manipulation)"
   ]
  },
  {
   "cell_type": "code",
   "execution_count": 6,
   "metadata": {},
   "outputs": [
    {
     "data": {
      "text/plain": [
       "100.0"
      ]
     },
     "execution_count": 6,
     "metadata": {},
     "output_type": "execute_result"
    }
   ],
   "source": [
    "pvote = @pipeline  (catf |> ohe) + (numf) |> vote\n",
    "pred = fit_transform!(pvote,X,Y)\n",
    "score(:accuracy,pred,Y)"
   ]
  },
  {
   "cell_type": "markdown",
   "metadata": {},
   "source": [
    "#### Corresponding function call"
   ]
  },
  {
   "cell_type": "code",
   "execution_count": 7,
   "metadata": {},
   "outputs": [
    {
     "data": {
      "text/plain": [
       ":(Pipeline(ComboPipeline(Pipeline(catf, ohe), numf), vote))"
      ]
     },
     "execution_count": 7,
     "metadata": {},
     "output_type": "execute_result"
    }
   ],
   "source": [
    "@pipelinex (catf |> ohe) + (numf) |> vote"
   ]
  },
  {
   "cell_type": "markdown",
   "metadata": {},
   "source": [
    "### Evaluate performance by 5-fold cross-validation"
   ]
  },
  {
   "cell_type": "code",
   "execution_count": 8,
   "metadata": {},
   "outputs": [
    {
     "name": "stdout",
     "output_type": "stream",
     "text": [
      "fold: 1, 0.5597014925373134\n",
      "fold: 2, 0.6148148148148148\n",
      "fold: 3, 0.5746268656716418\n",
      "fold: 4, 0.6444444444444445\n",
      "fold: 5, 0.6567164179104478\n"
     ]
    },
    {
     "data": {
      "text/plain": [
       "(mean = 0.6100608070757325, std = 0.04234739040027941, folds = 5)"
      ]
     },
     "execution_count": 8,
     "metadata": {},
     "output_type": "execute_result"
    }
   ],
   "source": [
    "crossvalidate(pvote,X,Y,\"accuracy_score\",5)"
   ]
  },
  {
   "cell_type": "markdown",
   "metadata": {},
   "source": [
    "### Use similar workflow to discover optimal pipeline"
   ]
  },
  {
   "cell_type": "markdown",
   "metadata": {},
   "source": [
    "### RandomForest learner"
   ]
  },
  {
   "cell_type": "code",
   "execution_count": 9,
   "metadata": {},
   "outputs": [
    {
     "data": {
      "text/plain": [
       "97.91666666666666"
      ]
     },
     "execution_count": 9,
     "metadata": {},
     "output_type": "execute_result"
    }
   ],
   "source": [
    "prf = @pipeline  (numf |> rb |> pca) + (numf |> rb |> ica) + (catf |> ohe) + (numf |> rb |> fa) |> rf\n",
    "pred = fit_transform!(prf,X,Y)\n",
    "score(:accuracy,pred,Y)"
   ]
  },
  {
   "cell_type": "code",
   "execution_count": 10,
   "metadata": {},
   "outputs": [
    {
     "data": {
      "text/plain": [
       ":(Pipeline(ComboPipeline(Pipeline(Pipeline(numf, rb), pca), Pipeline(Pipeline(numf, rb), ica), Pipeline(catf, ohe), Pipeline(Pipeline(numf, rb), fa)), rf))"
      ]
     },
     "execution_count": 10,
     "metadata": {},
     "output_type": "execute_result"
    }
   ],
   "source": [
    "@pipelinex (numf |> rb |> pca) + (numf |> rb |> ica) + (catf |> ohe) + (numf |> rb |> fa) |> rf"
   ]
  },
  {
   "cell_type": "code",
   "execution_count": 11,
   "metadata": {},
   "outputs": [
    {
     "name": "stdout",
     "output_type": "stream",
     "text": [
      "fold: 1, 0.7089552238805971\n",
      "fold: 2, 0.6666666666666666\n",
      "fold: 3, 0.6343283582089553\n",
      "fold: 4, 0.6222222222222222\n",
      "fold: 5, 0.6940298507462687\n"
     ]
    },
    {
     "data": {
      "text/plain": [
       "(mean = 0.665240464344942, std = 0.03724234983449279, folds = 5)"
      ]
     },
     "execution_count": 11,
     "metadata": {},
     "output_type": "execute_result"
    }
   ],
   "source": [
    "crossvalidate(prf,X,Y,\"accuracy_score\",5)"
   ]
  },
  {
   "cell_type": "markdown",
   "metadata": {},
   "source": [
    "### Gradient Boost Learner"
   ]
  },
  {
   "cell_type": "code",
   "execution_count": 12,
   "metadata": {},
   "outputs": [
    {
     "data": {
      "text/plain": [
       "89.58333333333334"
      ]
     },
     "execution_count": 12,
     "metadata": {},
     "output_type": "execute_result"
    }
   ],
   "source": [
    "pgb = @pipeline (numf |> rb |> pca) + (numf|>rb|>ica)  + (numf|>rb|>fa) |> gb\n",
    "pred = fit_transform!(pgb,X,Y)\n",
    "score(:accuracy,pred,Y)"
   ]
  },
  {
   "cell_type": "code",
   "execution_count": 13,
   "metadata": {},
   "outputs": [
    {
     "name": "stdout",
     "output_type": "stream",
     "text": [
      "fold: 1, 0.6268656716417911\n",
      "fold: 2, 0.6962962962962963\n",
      "fold: 3, 0.5597014925373134\n",
      "fold: 4, 0.6888888888888889\n",
      "fold: 5, 0.6194029850746269\n"
     ]
    },
    {
     "data": {
      "text/plain": [
       "(mean = 0.6382310668877833, std = 0.05609890533175638, folds = 5)"
      ]
     },
     "execution_count": 13,
     "metadata": {},
     "output_type": "execute_result"
    }
   ],
   "source": [
    "crossvalidate(pgb,X,Y,\"accuracy_score\",5)"
   ]
  },
  {
   "cell_type": "markdown",
   "metadata": {},
   "source": [
    "### Linear Support Vector Machine for Classification"
   ]
  },
  {
   "cell_type": "code",
   "execution_count": 14,
   "metadata": {},
   "outputs": [
    {
     "data": {
      "text/plain": [
       "79.91071428571429"
      ]
     },
     "execution_count": 14,
     "metadata": {},
     "output_type": "execute_result"
    }
   ],
   "source": [
    "plsvc = @pipeline ((numf |> rb |> pca)+(numf |> rb |> fa)+(numf |> rb |> ica)+(catf |> ohe )) |> lsvc\n",
    "pred = fit_transform!(plsvc,X,Y)\n",
    "score(:accuracy,pred,Y)"
   ]
  },
  {
   "cell_type": "code",
   "execution_count": 15,
   "metadata": {},
   "outputs": [
    {
     "name": "stdout",
     "output_type": "stream",
     "text": [
      "fold: 1, 0.7238805970149254\n",
      "fold: 2, 0.6444444444444445\n",
      "fold: 3, 0.746268656716418\n",
      "fold: 4, 0.7185185185185186\n",
      "fold: 5, 0.7611940298507462\n"
     ]
    },
    {
     "data": {
      "text/plain": [
       "(mean = 0.7188612493090105, std = 0.045017781073784874, folds = 5)"
      ]
     },
     "execution_count": 15,
     "metadata": {},
     "output_type": "execute_result"
    }
   ],
   "source": [
    "crossvalidate(plsvc,X,Y,\"accuracy_score\",5)"
   ]
  },
  {
   "cell_type": "markdown",
   "metadata": {},
   "source": [
    "### RBF Kernel Support Vector Machine for Classification"
   ]
  },
  {
   "cell_type": "code",
   "execution_count": 16,
   "metadata": {},
   "outputs": [
    {
     "data": {
      "text/plain": [
       "74.40476190476191"
      ]
     },
     "execution_count": 16,
     "metadata": {},
     "output_type": "execute_result"
    }
   ],
   "source": [
    "psvc = @pipeline (numf |> pca) + numf + (numf|> ica) + (catf |> ohe) |> svc\n",
    "pred = fit_transform!(psvc,X,Y)\n",
    "score(:accuracy,pred,Y)"
   ]
  },
  {
   "cell_type": "code",
   "execution_count": 17,
   "metadata": {},
   "outputs": [
    {
     "name": "stdout",
     "output_type": "stream",
     "text": [
      "fold: 1, 0.6417910447761194\n",
      "fold: 2, 0.7407407407407407\n",
      "fold: 3, 0.6343283582089553\n",
      "fold: 4, 0.6444444444444445\n",
      "fold: 5, 0.7014925373134329\n"
     ]
    },
    {
     "data": {
      "text/plain": [
       "(mean = 0.6725594250967386, std = 0.04659553794490995, folds = 5)"
      ]
     },
     "execution_count": 17,
     "metadata": {},
     "output_type": "execute_result"
    }
   ],
   "source": [
    "crossvalidate(psvc,X,Y,\"accuracy_score\",5)"
   ]
  }
 ],
 "metadata": {
  "kernelspec": {
   "display_name": "Julia 1.3.1",
   "language": "julia",
   "name": "julia-1.3"
  },
  "language_info": {
   "file_extension": ".jl",
   "mimetype": "application/julia",
   "name": "julia",
   "version": "1.3.1"
  }
 },
 "nbformat": 4,
 "nbformat_minor": 2
}
