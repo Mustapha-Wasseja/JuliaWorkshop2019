{
 "cells": [
  {
   "cell_type": "markdown",
   "metadata": {},
   "source": [
    "## Julia Interfacing with R and Python"
   ]
  },
  {
   "cell_type": "code",
   "execution_count": 1,
   "metadata": {},
   "outputs": [],
   "source": [
    "using PyCall\n",
    "using RCall\n",
    "using DecisionTree\n",
    "using DataFrames\n",
    "using ScikitLearn"
   ]
  },
  {
   "cell_type": "markdown",
   "metadata": {},
   "source": [
    "### R\"\" vs py\"\" String Macro"
   ]
  },
  {
   "cell_type": "markdown",
   "metadata": {},
   "source": [
    "- R\"\" executes R commands inside the string and returns an R object \n",
    "- py\"\" executes Python commands with implicit conversion of python objects into Julia data type."
   ]
  },
  {
   "cell_type": "code",
   "execution_count": 9,
   "metadata": {},
   "outputs": [
    {
     "data": {
      "text/plain": [
       "2"
      ]
     },
     "execution_count": 9,
     "metadata": {},
     "output_type": "execute_result"
    }
   ],
   "source": [
    "py\"1+1\" # returns julia numeric value by implicit conversion"
   ]
  },
  {
   "cell_type": "code",
   "execution_count": 14,
   "metadata": {},
   "outputs": [
    {
     "data": {
      "text/plain": [
       "RObject{RealSxp}\n",
       "[1] 2\n"
      ]
     },
     "execution_count": 14,
     "metadata": {},
     "output_type": "execute_result"
    }
   ],
   "source": [
    "R\"result=1+1\" # returns an RObject"
   ]
  },
  {
   "cell_type": "code",
   "execution_count": 15,
   "metadata": {},
   "outputs": [
    {
     "data": {
      "text/plain": [
       "2.0"
      ]
     },
     "execution_count": 15,
     "metadata": {},
     "output_type": "execute_result"
    }
   ],
   "source": [
    "@rget result # use @rget macro to copy value from R to Julia"
   ]
  },
  {
   "cell_type": "code",
   "execution_count": 36,
   "metadata": {},
   "outputs": [
    {
     "data": {
      "text/plain": [
       "2.0"
      ]
     },
     "execution_count": 36,
     "metadata": {},
     "output_type": "execute_result"
    }
   ],
   "source": [
    "R\"1+1\" |> rcopy # or use rcopy to directoy convert R object into Julia data type "
   ]
  },
  {
   "cell_type": "markdown",
   "metadata": {},
   "source": [
    "### Defining a function in Python"
   ]
  },
  {
   "cell_type": "code",
   "execution_count": 23,
   "metadata": {},
   "outputs": [],
   "source": [
    "py\"\"\"\n",
    "\n",
    "import numpy as np\n",
    "\n",
    "def mysin(x):\n",
    "   return np.sin(x)\n",
    "\"\"\""
   ]
  },
  {
   "cell_type": "code",
   "execution_count": 24,
   "metadata": {},
   "outputs": [
    {
     "data": {
      "text/plain": [
       "-0.5440211108893699"
      ]
     },
     "execution_count": 24,
     "metadata": {},
     "output_type": "execute_result"
    }
   ],
   "source": [
    "py\"mysin(10)\" # calling python function"
   ]
  },
  {
   "cell_type": "code",
   "execution_count": 38,
   "metadata": {},
   "outputs": [
    {
     "data": {
      "text/plain": [
       "-0.5440211108893699"
      ]
     },
     "execution_count": 38,
     "metadata": {},
     "output_type": "execute_result"
    }
   ],
   "source": [
    "py\"np.sin(10)\"  # calling directly numpy sin function"
   ]
  },
  {
   "cell_type": "markdown",
   "metadata": {},
   "source": [
    "### Defining a function in R"
   ]
  },
  {
   "cell_type": "code",
   "execution_count": 39,
   "metadata": {},
   "outputs": [
    {
     "data": {
      "text/plain": [
       "RObject{ClosSxp}\n",
       "function (x) \n",
       "{\n",
       "    sin(x)\n",
       "}\n"
      ]
     },
     "execution_count": 39,
     "metadata": {},
     "output_type": "execute_result"
    }
   ],
   "source": [
    "R\"\"\"\n",
    "\n",
    "mysin <- function(x) {\n",
    "   sin(x)\n",
    "}\n",
    "\"\"\""
   ]
  },
  {
   "cell_type": "code",
   "execution_count": 31,
   "metadata": {},
   "outputs": [
    {
     "data": {
      "text/plain": [
       "-0.5440211108893699"
      ]
     },
     "execution_count": 31,
     "metadata": {},
     "output_type": "execute_result"
    }
   ],
   "source": [
    "R\"mysin(10)\" |> rcopy   # R\"\" returns an object which rcopy converts to Julia data"
   ]
  },
  {
   "cell_type": "code",
   "execution_count": 42,
   "metadata": {},
   "outputs": [
    {
     "data": {
      "text/html": [
       "<table class=\"data-frame\"><thead><tr><th></th><th>Sepal_Length</th><th>Sepal_Width</th><th>Petal_Length</th><th>Petal_Width</th><th>Species</th></tr><tr><th></th><th>Float64</th><th>Float64</th><th>Float64</th><th>Float64</th><th>Categorical…</th></tr></thead><tbody><p>5 rows × 5 columns</p><tr><th>1</th><td>5.1</td><td>3.5</td><td>1.4</td><td>0.2</td><td>setosa</td></tr><tr><th>2</th><td>4.9</td><td>3.0</td><td>1.4</td><td>0.2</td><td>setosa</td></tr><tr><th>3</th><td>4.7</td><td>3.2</td><td>1.3</td><td>0.2</td><td>setosa</td></tr><tr><th>4</th><td>4.6</td><td>3.1</td><td>1.5</td><td>0.2</td><td>setosa</td></tr><tr><th>5</th><td>5.0</td><td>3.6</td><td>1.4</td><td>0.2</td><td>setosa</td></tr></tbody></table>"
      ],
      "text/latex": [
       "\\begin{tabular}{r|ccccc}\n",
       "\t& Sepal\\_Length & Sepal\\_Width & Petal\\_Length & Petal\\_Width & Species\\\\\n",
       "\t\\hline\n",
       "\t& Float64 & Float64 & Float64 & Float64 & Categorical…\\\\\n",
       "\t\\hline\n",
       "\t1 & 5.1 & 3.5 & 1.4 & 0.2 & setosa \\\\\n",
       "\t2 & 4.9 & 3.0 & 1.4 & 0.2 & setosa \\\\\n",
       "\t3 & 4.7 & 3.2 & 1.3 & 0.2 & setosa \\\\\n",
       "\t4 & 4.6 & 3.1 & 1.5 & 0.2 & setosa \\\\\n",
       "\t5 & 5.0 & 3.6 & 1.4 & 0.2 & setosa \\\\\n",
       "\\end{tabular}\n"
      ],
      "text/plain": [
       "5×5 DataFrame\n",
       "│ Row │ Sepal_Length │ Sepal_Width │ Petal_Length │ Petal_Width │ Species      │\n",
       "│     │ \u001b[90mFloat64\u001b[39m      │ \u001b[90mFloat64\u001b[39m     │ \u001b[90mFloat64\u001b[39m      │ \u001b[90mFloat64\u001b[39m     │ \u001b[90mCategorical…\u001b[39m │\n",
       "├─────┼──────────────┼─────────────┼──────────────┼─────────────┼──────────────┤\n",
       "│ 1   │ 5.1          │ 3.5         │ 1.4          │ 0.2         │ setosa       │\n",
       "│ 2   │ 4.9          │ 3.0         │ 1.4          │ 0.2         │ setosa       │\n",
       "│ 3   │ 4.7          │ 3.2         │ 1.3          │ 0.2         │ setosa       │\n",
       "│ 4   │ 4.6          │ 3.1         │ 1.5          │ 0.2         │ setosa       │\n",
       "│ 5   │ 5.0          │ 3.6         │ 1.4          │ 0.2         │ setosa       │"
      ]
     },
     "execution_count": 42,
     "metadata": {},
     "output_type": "execute_result"
    }
   ],
   "source": [
    "iris = R\"iris\" |> rcopy # copy iris dataset from R to Julia\n",
    "iris |> (x->first(x,5))"
   ]
  },
  {
   "cell_type": "code",
   "execution_count": 10,
   "metadata": {},
   "outputs": [
    {
     "data": {
      "image/png": "[encoded data removed]"
     },
     "metadata": {},
     "output_type": "display_data"
    },
    {
     "data": {
      "text/plain": [
       "RObject{VecSxp}\n"
      ]
     },
     "execution_count": 10,
     "metadata": {},
     "output_type": "execute_result"
    }
   ],
   "source": [
    "R\"\"\"\n",
    "library(ggplot2)\n",
    "\n",
    "ggplot(iris,aes(x=Sepal.Length,y=Petal.Width))+geom_point(aes(color=Species))\n",
    "\"\"\""
   ]
  },
  {
   "cell_type": "code",
   "execution_count": 11,
   "metadata": {},
   "outputs": [],
   "source": [
    "# won't run in binder\n",
    "\n",
    "py\"\"\"\n",
    "import matplotlib.pyplot as plt\n",
    "from mpl_toolkits.mplot3d import Axes3D\n",
    "from sklearn import datasets\n",
    "from sklearn.decomposition import PCA\n",
    "\n",
    "# import some data to play with\n",
    "iris = datasets.load_iris()\n",
    "X = iris.data[:, :2]  # we only take the first two features.\n",
    "y = iris.target\n",
    "\n",
    "x_min, x_max = X[:, 0].min() - .5, X[:, 0].max() + .5\n",
    "y_min, y_max = X[:, 1].min() - .5, X[:, 1].max() + .5\n",
    "\n",
    "plt.figure(2, figsize=(8, 6))\n",
    "plt.clf()\n",
    "\n",
    "# Plot the training points\n",
    "plt.scatter(X[:, 0], X[:, 1], c=y, cmap=plt.cm.Set1,\n",
    "            edgecolor='k')\n",
    "plt.xlabel('Sepal length')\n",
    "plt.ylabel('Sepal width')\n",
    "\n",
    "plt.xlim(x_min, x_max)\n",
    "plt.ylim(y_min, y_max)\n",
    "plt.xticks(())\n",
    "plt.yticks(())\n",
    "\n",
    "# To getter a better understanding of interaction of the dimensions\n",
    "# plot the first three PCA dimensions\n",
    "fig = plt.figure(1, figsize=(8, 6))\n",
    "ax = Axes3D(fig, elev=-150, azim=110)\n",
    "X_reduced = PCA(n_components=3).fit_transform(iris.data)\n",
    "ax.scatter(X_reduced[:, 0], X_reduced[:, 1], X_reduced[:, 2], c=y,\n",
    "           cmap=plt.cm.Set1, edgecolor='k', s=40)\n",
    "ax.set_title(\"First three PCA directions\")\n",
    "ax.set_xlabel(\"1st eigenvector\")\n",
    "ax.w_xaxis.set_ticklabels([])\n",
    "ax.set_ylabel(\"2nd eigenvector\")\n",
    "ax.w_yaxis.set_ticklabels([])\n",
    "ax.set_zlabel(\"3rd eigenvector\")\n",
    "ax.w_zaxis.set_ticklabels([])\n",
    "\n",
    "plt.show()\n",
    "\"\"\""
   ]
  },
  {
   "cell_type": "markdown",
   "metadata": {},
   "source": [
    "### Let's visualize the data"
   ]
  },
  {
   "cell_type": "code",
   "execution_count": 43,
   "metadata": {},
   "outputs": [],
   "source": [
    "using DataVoyager\n",
    "using VegaDatasets"
   ]
  },
  {
   "cell_type": "code",
   "execution_count": 18,
   "metadata": {
    "scrolled": true
   },
   "outputs": [
    {
     "data": {
      "text/plain": [
       "Voyager(Electron.Window(Application(Base.PipeEndpoint(RawFD(0x00000042) paused, 0 bytes waiting), Process(`\u001b[4m/Users/ppalmes/.julia/packages/Electron/wL84D/src/../deps/electron/Julia.app/Contents/MacOS/Julia\u001b[24m \u001b[4m/Users/ppalmes/.julia/packages/Electron/wL84D/src/main.js\u001b[24m \u001b[4m/var/folders/4q/wmjkdk493sn6nt63_t4v_jrr0000gn/T/juliaelectron-64142-1\u001b[24m \u001b[4m/var/folders/4q/wmjkdk493sn6nt63_t4v_jrr0000gn/T/juliaelectron-sysnotify-64142-1\u001b[24m \u001b[4mIXadn81TSTvWJjK7CTp0A2z498WaL9dHOEMMJeJvpr6ajMabCVdC2f091roLIkEZ2MPxdubDTMxP/iqGJq/uLcBWnIrUa7QnwvIiTFkkl9k6Lzua3t0odEAZrE4yCcsod85XRxmmgnjh/CiXTfZDJtERA/HRMxpp68TFlUAgrww=\u001b[24m`, ProcessRunning), [1 window]), 1, true, Channel{Any}(sz_max:128,sz_curr:0)))"
      ]
     },
     "execution_count": 18,
     "metadata": {},
     "output_type": "execute_result"
    }
   ],
   "source": [
    "# won't run in binder\n",
    "\n",
    "cars = VegaDatasets.dataset(\"cars\")\n",
    "cars |> Voyager()"
   ]
  },
  {
   "cell_type": "code",
   "execution_count": null,
   "metadata": {},
   "outputs": [],
   "source": [
    "using VegaDatasets\n",
    "cars=dataset(\"cars\")\n",
    "cars |> Voyager()"
   ]
  },
  {
   "cell_type": "markdown",
   "metadata": {},
   "source": [
    "###   Scikitlearn classifiers using Julia bindings of Python (PyCall.jl)"
   ]
  },
  {
   "cell_type": "code",
   "execution_count": 20,
   "metadata": {},
   "outputs": [
    {
     "name": "stdout",
     "output_type": "stream",
     "text": [
      "accuracy: 0.96\n"
     ]
    }
   ],
   "source": [
    "using PyCall\n",
    "LNM = pyimport(\"sklearn.linear_model\");\n",
    "learner=LNM.LogisticRegression()\n",
    "\n",
    "x=iris[:,1:4] |> Matrix;\n",
    "y=iris[:,5] |> Array;\n",
    "\n",
    "model=learner.fit(x, y)\n",
    "\n",
    "accuracy = sum(model.predict(x) .== y) / length(y)\n",
    "println(\"accuracy: $accuracy\")"
   ]
  },
  {
   "cell_type": "code",
   "execution_count": 21,
   "metadata": {},
   "outputs": [
    {
     "data": {
      "text/plain": [
       "PyObject LogisticRegression(C=1.0, class_weight=None, dual=False, fit_intercept=True,\n",
       "                   intercept_scaling=1, l1_ratio=None, max_iter=100,\n",
       "                   multi_class='warn', n_jobs=None, penalty='l2',\n",
       "                   random_state=None, solver='warn', tol=0.0001, verbose=0,\n",
       "                   warm_start=False)"
      ]
     },
     "execution_count": 21,
     "metadata": {},
     "output_type": "execute_result"
    }
   ],
   "source": [
    "learner"
   ]
  },
  {
   "cell_type": "code",
   "execution_count": 22,
   "metadata": {},
   "outputs": [
    {
     "data": {
      "text/plain": [
       "10-element Array{Float64,1}:\n",
       " 1.0               \n",
       " 0.9333333333333333\n",
       " 1.0               \n",
       " 0.9333333333333333\n",
       " 0.8666666666666667\n",
       " 1.0               \n",
       " 0.9333333333333333\n",
       " 1.0               \n",
       " 1.0               \n",
       " 1.0               "
      ]
     },
     "execution_count": 22,
     "metadata": {},
     "output_type": "execute_result"
    }
   ],
   "source": [
    "KNN = pyimport(\"sklearn.neighbors\")\n",
    "\n",
    "using ScikitLearn.CrossValidation: cross_val_score\n",
    "\n",
    "modelKNN = KNN.KNeighborsClassifier(3)\n",
    "cross_val_score(modelKNN, x, y; cv=10)  # 5-fold"
   ]
  },
  {
   "cell_type": "code",
   "execution_count": 23,
   "metadata": {},
   "outputs": [
    {
     "data": {
      "text/plain": [
       "PyObject LogisticRegression(C=1.0, class_weight=None, dual=False, fit_intercept=True,\n",
       "                   intercept_scaling=1, l1_ratio=None, max_iter=100,\n",
       "                   multi_class='auto', n_jobs=None, penalty='l2',\n",
       "                   random_state=None, solver='lbfgs', tol=0.0001, verbose=0,\n",
       "                   warm_start=False)"
      ]
     },
     "execution_count": 23,
     "metadata": {},
     "output_type": "execute_result"
    }
   ],
   "source": [
    "using ScikitLearn.GridSearch: GridSearchCV\n",
    "GS=pyimport(\"sklearn.model_selection\");\n",
    "lbgfs=LNM.LogisticRegression(multi_class=\"auto\",solver=\"lbfgs\")"
   ]
  },
  {
   "cell_type": "code",
   "execution_count": 24,
   "metadata": {},
   "outputs": [
    {
     "name": "stdout",
     "output_type": "stream",
     "text": [
      "Best parameters: Dict{Any,Any}(\"C\" => 0.6)\n"
     ]
    }
   ],
   "source": [
    "gridsearch = GS.GridSearchCV(lbgfs, Dict(:C => 0.1:0.1:2.0))\n",
    "res=gridsearch.fit(x, y)\n",
    "println(\"Best parameters: $(res.best_params_)\")"
   ]
  },
  {
   "cell_type": "code",
   "execution_count": 25,
   "metadata": {},
   "outputs": [
    {
     "name": "stderr",
     "output_type": "stream",
     "text": [
      "┌ Info: Recompiling stale cache file /Users/ppalmes/.julia/compiled/v1.2/Plots/ld3vC.ji for Plots [91a5bcdd-55d7-5caf-9e0b-520d859cae80]\n",
      "└ @ Base loading.jl:1240\n"
     ]
    },
    {
     "data": {
      "image/svg+xml": [
       "<?xml version=\"1.0\" encoding=\"utf-8\"?>\n",
       "<svg xmlns=\"http://www.w3.org/2000/svg\" xmlns:xlink=\"http://www.w3.org/1999/xlink\" width=\"600\" height=\"400\" viewBox=\"0 0 2400 1600\">\n",
       "<defs>\n",
       "  <clipPath id=\"clip2800\">\n",
       "    <rect x=\"0\" y=\"0\" width=\"2400\" height=\"1600\"/>\n",
       "  </clipPath>\n",
       "</defs>\n",
       "<path clip-path=\"url(#clip2800)\" d=\"\n",
       "M0 1600 L2400 1600 L2400 0 L0 0  Z\n",
       "  \" fill=\"#ffffff\" fill-rule=\"evenodd\" fill-opacity=\"1\"/>\n",
       "<defs>\n",
       "  <clipPath id=\"clip2801\">\n",
       "    <rect x=\"480\" y=\"0\" width=\"1681\" height=\"1600\"/>\n",
       "  </clipPath>\n",
       "</defs>\n",
       "<path clip-path=\"url(#clip2800)\" d=\"\n",
       "M234.185 1487.47 L2352.76 1487.47 L2352.76 47.2441 L234.185 47.2441  Z\n",
       "  \" fill=\"#ffffff\" fill-rule=\"evenodd\" fill-opacity=\"1\"/>\n",
       "<defs>\n",
       "  <clipPath id=\"clip2802\">\n",
       "    <rect x=\"234\" y=\"47\" width=\"2120\" height=\"1441\"/>\n",
       "  </clipPath>\n",
       "</defs>\n",
       "<polyline clip-path=\"url(#clip2802)\" style=\"stroke:#000000; stroke-width:2; stroke-opacity:0.1; fill:none\" points=\"\n",
       "  714.913,1487.47 714.913,47.2441 \n",
       "  \"/>\n",
       "<polyline clip-path=\"url(#clip2802)\" style=\"stroke:#000000; stroke-width:2; stroke-opacity:0.1; fill:none\" points=\"\n",
       "  1240.87,1487.47 1240.87,47.2441 \n",
       "  \"/>\n",
       "<polyline clip-path=\"url(#clip2802)\" style=\"stroke:#000000; stroke-width:2; stroke-opacity:0.1; fill:none\" points=\"\n",
       "  1766.84,1487.47 1766.84,47.2441 \n",
       "  \"/>\n",
       "<polyline clip-path=\"url(#clip2802)\" style=\"stroke:#000000; stroke-width:2; stroke-opacity:0.1; fill:none\" points=\"\n",
       "  2292.8,1487.47 2292.8,47.2441 \n",
       "  \"/>\n",
       "<polyline clip-path=\"url(#clip2802)\" style=\"stroke:#000000; stroke-width:2; stroke-opacity:0.1; fill:none\" points=\"\n",
       "  234.185,1381.38 2352.76,1381.38 \n",
       "  \"/>\n",
       "<polyline clip-path=\"url(#clip2802)\" style=\"stroke:#000000; stroke-width:2; stroke-opacity:0.1; fill:none\" points=\"\n",
       "  234.185,1102.31 2352.76,1102.31 \n",
       "  \"/>\n",
       "<polyline clip-path=\"url(#clip2802)\" style=\"stroke:#000000; stroke-width:2; stroke-opacity:0.1; fill:none\" points=\"\n",
       "  234.185,823.234 2352.76,823.234 \n",
       "  \"/>\n",
       "<polyline clip-path=\"url(#clip2802)\" style=\"stroke:#000000; stroke-width:2; stroke-opacity:0.1; fill:none\" points=\"\n",
       "  234.185,544.162 2352.76,544.162 \n",
       "  \"/>\n",
       "<polyline clip-path=\"url(#clip2802)\" style=\"stroke:#000000; stroke-width:2; stroke-opacity:0.1; fill:none\" points=\"\n",
       "  234.185,265.09 2352.76,265.09 \n",
       "  \"/>\n",
       "<polyline clip-path=\"url(#clip2800)\" style=\"stroke:#000000; stroke-width:4; stroke-opacity:1; fill:none\" points=\"\n",
       "  234.185,1487.47 2352.76,1487.47 \n",
       "  \"/>\n",
       "<polyline clip-path=\"url(#clip2800)\" style=\"stroke:#000000; stroke-width:4; stroke-opacity:1; fill:none\" points=\"\n",
       "  234.185,1487.47 234.185,47.2441 \n",
       "  \"/>\n",
       "<polyline clip-path=\"url(#clip2800)\" style=\"stroke:#000000; stroke-width:4; stroke-opacity:1; fill:none\" points=\"\n",
       "  714.913,1487.47 714.913,1465.87 \n",
       "  \"/>\n",
       "<polyline clip-path=\"url(#clip2800)\" style=\"stroke:#000000; stroke-width:4; stroke-opacity:1; fill:none\" points=\"\n",
       "  1240.87,1487.47 1240.87,1465.87 \n",
       "  \"/>\n",
       "<polyline clip-path=\"url(#clip2800)\" style=\"stroke:#000000; stroke-width:4; stroke-opacity:1; fill:none\" points=\"\n",
       "  1766.84,1487.47 1766.84,1465.87 \n",
       "  \"/>\n",
       "<polyline clip-path=\"url(#clip2800)\" style=\"stroke:#000000; stroke-width:4; stroke-opacity:1; fill:none\" points=\"\n",
       "  2292.8,1487.47 2292.8,1465.87 \n",
       "  \"/>\n",
       "<polyline clip-path=\"url(#clip2800)\" style=\"stroke:#000000; stroke-width:4; stroke-opacity:1; fill:none\" points=\"\n",
       "  234.185,1381.38 265.964,1381.38 \n",
       "  \"/>\n",
       "<polyline clip-path=\"url(#clip2800)\" style=\"stroke:#000000; stroke-width:4; stroke-opacity:1; fill:none\" points=\"\n",
       "  234.185,1102.31 265.964,1102.31 \n",
       "  \"/>\n",
       "<polyline clip-path=\"url(#clip2800)\" style=\"stroke:#000000; stroke-width:4; stroke-opacity:1; fill:none\" points=\"\n",
       "  234.185,823.234 265.964,823.234 \n",
       "  \"/>\n",
       "<polyline clip-path=\"url(#clip2800)\" style=\"stroke:#000000; stroke-width:4; stroke-opacity:1; fill:none\" points=\"\n",
       "  234.185,544.162 265.964,544.162 \n",
       "  \"/>\n",
       "<polyline clip-path=\"url(#clip2800)\" style=\"stroke:#000000; stroke-width:4; stroke-opacity:1; fill:none\" points=\"\n",
       "  234.185,265.09 265.964,265.09 \n",
       "  \"/>\n",
       "<g clip-path=\"url(#clip2800)\">\n",
       "<text style=\"fill:#000000; fill-opacity:1; font-family:Arial,Helvetica Neue,Helvetica,sans-serif; font-size:48px; text-anchor:middle;\" transform=\"rotate(0, 714.913, 1541.47)\" x=\"714.913\" y=\"1541.47\">0.5</text>\n",
       "</g>\n",
       "<g clip-path=\"url(#clip2800)\">\n",
       "<text style=\"fill:#000000; fill-opacity:1; font-family:Arial,Helvetica Neue,Helvetica,sans-serif; font-size:48px; text-anchor:middle;\" transform=\"rotate(0, 1240.87, 1541.47)\" x=\"1240.87\" y=\"1541.47\">1.0</text>\n",
       "</g>\n",
       "<g clip-path=\"url(#clip2800)\">\n",
       "<text style=\"fill:#000000; fill-opacity:1; font-family:Arial,Helvetica Neue,Helvetica,sans-serif; font-size:48px; text-anchor:middle;\" transform=\"rotate(0, 1766.84, 1541.47)\" x=\"1766.84\" y=\"1541.47\">1.5</text>\n",
       "</g>\n",
       "<g clip-path=\"url(#clip2800)\">\n",
       "<text style=\"fill:#000000; fill-opacity:1; font-family:Arial,Helvetica Neue,Helvetica,sans-serif; font-size:48px; text-anchor:middle;\" transform=\"rotate(0, 2292.8, 1541.47)\" x=\"2292.8\" y=\"1541.47\">2.0</text>\n",
       "</g>\n",
       "<g clip-path=\"url(#clip2800)\">\n",
       "<text style=\"fill:#000000; fill-opacity:1; font-family:Arial,Helvetica Neue,Helvetica,sans-serif; font-size:48px; text-anchor:end;\" transform=\"rotate(0, 210.185, 1398.88)\" x=\"210.185\" y=\"1398.88\">0.0250</text>\n",
       "</g>\n",
       "<g clip-path=\"url(#clip2800)\">\n",
       "<text style=\"fill:#000000; fill-opacity:1; font-family:Arial,Helvetica Neue,Helvetica,sans-serif; font-size:48px; text-anchor:end;\" transform=\"rotate(0, 210.185, 1119.81)\" x=\"210.185\" y=\"1119.81\">0.0275</text>\n",
       "</g>\n",
       "<g clip-path=\"url(#clip2800)\">\n",
       "<text style=\"fill:#000000; fill-opacity:1; font-family:Arial,Helvetica Neue,Helvetica,sans-serif; font-size:48px; text-anchor:end;\" transform=\"rotate(0, 210.185, 840.734)\" x=\"210.185\" y=\"840.734\">0.0300</text>\n",
       "</g>\n",
       "<g clip-path=\"url(#clip2800)\">\n",
       "<text style=\"fill:#000000; fill-opacity:1; font-family:Arial,Helvetica Neue,Helvetica,sans-serif; font-size:48px; text-anchor:end;\" transform=\"rotate(0, 210.185, 561.662)\" x=\"210.185\" y=\"561.662\">0.0325</text>\n",
       "</g>\n",
       "<g clip-path=\"url(#clip2800)\">\n",
       "<text style=\"fill:#000000; fill-opacity:1; font-family:Arial,Helvetica Neue,Helvetica,sans-serif; font-size:48px; text-anchor:end;\" transform=\"rotate(0, 210.185, 282.59)\" x=\"210.185\" y=\"282.59\">0.0350</text>\n",
       "</g>\n",
       "<polyline clip-path=\"url(#clip2802)\" style=\"stroke:#009af9; stroke-width:4; stroke-opacity:1; fill:none\" points=\"\n",
       "  294.145,88.0053 399.337,486.325 504.529,616.797 609.721,616.797 714.913,616.797 820.106,1446.71 925.298,1446.71 1030.49,1446.71 1135.68,1446.71 1240.87,1446.71 \n",
       "  1346.07,1446.71 1451.26,1446.71 1556.45,1446.71 1661.64,1446.71 1766.84,1446.71 1872.03,1446.71 1977.22,1446.71 2082.41,1446.71 2187.6,1446.71 2292.8,1446.71 \n",
       "  \n",
       "  \"/>\n",
       "<path clip-path=\"url(#clip2800)\" d=\"\n",
       "M1989.93 251.724 L2280.76 251.724 L2280.76 130.764 L1989.93 130.764  Z\n",
       "  \" fill=\"#ffffff\" fill-rule=\"evenodd\" fill-opacity=\"1\"/>\n",
       "<polyline clip-path=\"url(#clip2800)\" style=\"stroke:#000000; stroke-width:4; stroke-opacity:1; fill:none\" points=\"\n",
       "  1989.93,251.724 2280.76,251.724 2280.76,130.764 1989.93,130.764 1989.93,251.724 \n",
       "  \"/>\n",
       "<polyline clip-path=\"url(#clip2800)\" style=\"stroke:#009af9; stroke-width:4; stroke-opacity:1; fill:none\" points=\"\n",
       "  2013.93,191.244 2157.93,191.244 \n",
       "  \"/>\n",
       "<g clip-path=\"url(#clip2800)\">\n",
       "<text style=\"fill:#000000; fill-opacity:1; font-family:Arial,Helvetica Neue,Helvetica,sans-serif; font-size:48px; text-anchor:start;\" transform=\"rotate(0, 2181.93, 208.744)\" x=\"2181.93\" y=\"208.744\">y1</text>\n",
       "</g>\n",
       "</svg>\n"
      ]
     },
     "execution_count": 25,
     "metadata": {},
     "output_type": "execute_result"
    }
   ],
   "source": [
    "using Plots\n",
    "gr()\n",
    "Cparams=convert.(Float64,res.cv_results_[\"param_C\"])\n",
    "Plots.plot(Cparams,res.cv_results_[\"std_test_score\"])"
   ]
  },
  {
   "cell_type": "code",
   "execution_count": 26,
   "metadata": {},
   "outputs": [
    {
     "data": {
      "text/plain": [
       "PyObject <module 'sklearn.isotonic' from '/Users/ppalmes/.julia/conda/3/lib/python3.7/site-packages/sklearn/isotonic.py'>"
      ]
     },
     "execution_count": 26,
     "metadata": {},
     "output_type": "execute_result"
    }
   ],
   "source": [
    "using PyCall\n",
    "const ENS=pyimport(\"sklearn.ensemble\")\n",
    "const LM=pyimport(\"sklearn.linear_model\")\n",
    "const DA=pyimport(\"sklearn.discriminant_analysis\")\n",
    "const NN=pyimport(\"sklearn.neighbors\")\n",
    "const SVM=pyimport(\"sklearn.svm\")\n",
    "const TREE=pyimport(\"sklearn.tree\")\n",
    "const ANN=pyimport(\"sklearn.neural_network\")\n",
    "const GP=pyimport(\"sklearn.gaussian_process\")\n",
    "const KR=pyimport(\"sklearn.kernel_ridge\")\n",
    "const NB=pyimport(\"sklearn.naive_bayes\")\n",
    "const ISO=pyimport(\"sklearn.isotonic\")"
   ]
  },
  {
   "cell_type": "code",
   "execution_count": 27,
   "metadata": {},
   "outputs": [],
   "source": [
    "learners = Dict(\n",
    "  \"AdaBoostClassifier\" => ENS.AdaBoostClassifier,\n",
    "  \"BaggingClassifier\" => ENS.BaggingClassifier,\n",
    "  \"ExtraTreesClassifier\" => ENS.ExtraTreesClassifier,\n",
    "  \"VotingClassifier\" => ENS.VotingClassifier,\n",
    "  \"GradientBoostingClassifier\" => ENS.GradientBoostingClassifier,\n",
    "  \"RandomForestClassifier\" => ENS.RandomForestClassifier,\n",
    "  \"LDA\" => DA.LinearDiscriminantAnalysis,\n",
    "  \"QDA\" => DA.QuadraticDiscriminantAnalysis,\n",
    "  \"LogisticRegression\" => LM.LogisticRegression,\n",
    "  \"PassiveAggressiveClassifier\" => LM.PassiveAggressiveClassifier,\n",
    "  \"RidgeClassifier\" => LM.RidgeClassifier,\n",
    "  \"RidgeClassifierCV\" => LM.RidgeClassifierCV,\n",
    "  \"SGDClassifier\" => LM.SGDClassifier,\n",
    "  \"KNeighborsClassifier\" => NN.KNeighborsClassifier,\n",
    "  \"RadiusNeighborsClassifier\" => NN.RadiusNeighborsClassifier,\n",
    "  \"NearestCentroid\" => NN.NearestCentroid,\n",
    "  \"SVC\" => SVM.SVC,\n",
    "  \"LinearSVC\" => SVM.LinearSVC,\n",
    "  \"NuSVC\" => SVM.NuSVC,\n",
    "  \"MLPClassifier\" => ANN.MLPClassifier,\n",
    "  \"GaussianProcessClassifier\" => GP.GaussianProcessClassifier,\n",
    "  \"DecisionTreeClassifier\" => TREE.DecisionTreeClassifier,\n",
    "  \"GaussianNB\" => NB.GaussianNB,\n",
    "  \"MultinomialNB\" => NB.MultinomialNB,\n",
    "  \"ComplementNB\" => NB.ComplementNB,\n",
    "  \"BernoulliNB\" => NB.BernoulliNB\n",
    ");"
   ]
  },
  {
   "cell_type": "code",
   "execution_count": 28,
   "metadata": {},
   "outputs": [
    {
     "data": {
      "text/plain": [
       "sktrain (generic function with 1 method)"
      ]
     },
     "execution_count": 28,
     "metadata": {},
     "output_type": "execute_result"
    }
   ],
   "source": [
    "function sktrain(learner,x,y)\n",
    "    model = learner()\n",
    "    xx = x |> Matrix\n",
    "    yy = y |> Array\n",
    "    model.fit(xx,yy)\n",
    "    return model\n",
    "end"
   ]
  },
  {
   "cell_type": "code",
   "execution_count": 29,
   "metadata": {},
   "outputs": [
    {
     "data": {
      "text/plain": [
       "skpredict (generic function with 1 method)"
      ]
     },
     "execution_count": 29,
     "metadata": {},
     "output_type": "execute_result"
    }
   ],
   "source": [
    "function skpredict(themodel,x)\n",
    "    xx = x |> Matrix\n",
    "    return themodel.predict(xx) |> collect\n",
    "end"
   ]
  },
  {
   "cell_type": "code",
   "execution_count": 56,
   "metadata": {},
   "outputs": [],
   "source": [
    "x=iris[:,1:4] |> Matrix;\n",
    "y=iris[:,5] |> Array;"
   ]
  },
  {
   "cell_type": "code",
   "execution_count": 31,
   "metadata": {},
   "outputs": [
    {
     "data": {
      "text/plain": [
       "PyObject LogisticRegression(C=1.0, class_weight=None, dual=False, fit_intercept=True,\n",
       "                   intercept_scaling=1, l1_ratio=None, max_iter=100,\n",
       "                   multi_class='warn', n_jobs=None, penalty='l2',\n",
       "                   random_state=None, solver='warn', tol=0.0001, verbose=0,\n",
       "                   warm_start=False)"
      ]
     },
     "execution_count": 31,
     "metadata": {},
     "output_type": "execute_result"
    }
   ],
   "source": [
    "modelLR = sktrain(learners[\"LogisticRegression\"],x,y)"
   ]
  },
  {
   "cell_type": "code",
   "execution_count": 32,
   "metadata": {},
   "outputs": [
    {
     "data": {
      "text/plain": [
       "150-element Array{Any,1}:\n",
       " \"setosa\"   \n",
       " \"setosa\"   \n",
       " \"setosa\"   \n",
       " \"setosa\"   \n",
       " \"setosa\"   \n",
       " \"setosa\"   \n",
       " \"setosa\"   \n",
       " \"setosa\"   \n",
       " \"setosa\"   \n",
       " \"setosa\"   \n",
       " \"setosa\"   \n",
       " \"setosa\"   \n",
       " \"setosa\"   \n",
       " ⋮          \n",
       " \"virginica\"\n",
       " \"virginica\"\n",
       " \"virginica\"\n",
       " \"virginica\"\n",
       " \"virginica\"\n",
       " \"virginica\"\n",
       " \"virginica\"\n",
       " \"virginica\"\n",
       " \"virginica\"\n",
       " \"virginica\"\n",
       " \"virginica\"\n",
       " \"virginica\""
      ]
     },
     "execution_count": 32,
     "metadata": {},
     "output_type": "execute_result"
    }
   ],
   "source": [
    "res = skpredict(modelLR,x)"
   ]
  },
  {
   "cell_type": "code",
   "execution_count": 33,
   "metadata": {},
   "outputs": [
    {
     "data": {
      "text/plain": [
       "0.96"
      ]
     },
     "execution_count": 33,
     "metadata": {},
     "output_type": "execute_result"
    }
   ],
   "source": [
    "sum(res .== y) / length(y)"
   ]
  },
  {
   "cell_type": "markdown",
   "metadata": {},
   "source": [
    "### Let's use R's Caret to predict Iris species"
   ]
  },
  {
   "cell_type": "code",
   "execution_count": 44,
   "metadata": {},
   "outputs": [
    {
     "data": {
      "image/png": "[encoded data removed]"
     },
     "metadata": {},
     "output_type": "display_data"
    },
    {
     "data": {
      "text/plain": [
       "RObject{VecSxp}\n"
      ]
     },
     "execution_count": 44,
     "metadata": {},
     "output_type": "execute_result"
    }
   ],
   "source": [
    "using RCall\n",
    "R\"\n",
    "library(ggplot2)\n",
    "ggplot(iris,aes(Sepal.Length,Petal.Width,color=Species))+geom_point()\n",
    "\""
   ]
  },
  {
   "cell_type": "code",
   "execution_count": 48,
   "metadata": {},
   "outputs": [
    {
     "data": {
      "text/plain": [
       "RObject{StrSxp}\n",
       " [1] \"xgboost\"      \"randomForest\" \"e1071\"        \"caret\"        \"lattice\"     \n",
       " [6] \"ggplot2\"      \"stats\"        \"graphics\"     \"grDevices\"    \"utils\"       \n",
       "[11] \"datasets\"     \"methods\"      \"base\"        \n"
      ]
     },
     "execution_count": 48,
     "metadata": {},
     "output_type": "execute_result"
    }
   ],
   "source": [
    "using RCall\n",
    "R\"\"\"\n",
    "library(caret)\n",
    "library(e1071)\n",
    "library(randomForest)\n",
    "library(xgboost)\n",
    "\"\"\""
   ]
  },
  {
   "cell_type": "code",
   "execution_count": 53,
   "metadata": {},
   "outputs": [
    {
     "data": {
      "text/plain": [
       "crtrain (generic function with 1 method)"
      ]
     },
     "execution_count": 53,
     "metadata": {},
     "output_type": "execute_result"
    }
   ],
   "source": [
    "function crtrain(learner,x::DataFrame,y::Vector)\n",
    "    xx = x |> DataFrame # DataFrame(x)\n",
    "    yy = y |> Vector\n",
    "    model = rcall(:train,xx,yy,method=learner)\n",
    "    return model\n",
    "end"
   ]
  },
  {
   "cell_type": "code",
   "execution_count": 54,
   "metadata": {},
   "outputs": [
    {
     "data": {
      "text/plain": [
       "crtpredict (generic function with 1 method)"
      ]
     },
     "execution_count": 54,
     "metadata": {},
     "output_type": "execute_result"
    }
   ],
   "source": [
    "function crtpredict(model,x)\n",
    "    xx = x |> DataFrame\n",
    "    res = rcall(:predict,model,xx) #in robj\n",
    "    return rcopy(res) |> collect  # return extracted robj\n",
    "end"
   ]
  },
  {
   "cell_type": "code",
   "execution_count": 69,
   "metadata": {},
   "outputs": [],
   "source": [
    "R\"\"\"\n",
    "\n",
    "trainIndex <- createDataPartition(iris$Species, p = .8,list=F)\n",
    "train = iris[trainIndex,]\n",
    "test = iris[-trainIndex,]\n",
    "\"\"\"\n",
    "@rget train test;"
   ]
  },
  {
   "cell_type": "code",
   "execution_count": 72,
   "metadata": {},
   "outputs": [
    {
     "data": {
      "text/plain": [
       "RObject{VecSxp}\n",
       "Random Forest \n",
       "\n",
       "120 samples\n",
       "  4 predictor\n",
       "  3 classes: 'setosa', 'versicolor', 'virginica' \n",
       "\n",
       "No pre-processing\n",
       "Resampling: Bootstrapped (25 reps) \n",
       "Summary of sample sizes: 120, 120, 120, 120, 120, 120, ... \n",
       "Resampling results across tuning parameters:\n",
       "\n",
       "  mtry  Accuracy   Kappa    \n",
       "  2     0.9179832  0.8756277\n",
       "  3     0.9217727  0.8813783\n",
       "  4     0.9199307  0.8785092\n",
       "\n",
       "Accuracy was used to select the optimal model using the largest value.\n",
       "The final value used for the model was mtry = 3.\n"
      ]
     },
     "execution_count": 72,
     "metadata": {},
     "output_type": "execute_result"
    }
   ],
   "source": [
    "xtrain=train[:,1:4] |> DataFrame;\n",
    "ytrain=train[:,5] |> Array;\n",
    "xtest = test[:,1:4] |> DataFrame;\n",
    "ytest = test[:,:5] |> Array\n",
    "crtmodel = crtrain(\"rf\",xtrain,ytrain)"
   ]
  },
  {
   "cell_type": "code",
   "execution_count": 79,
   "metadata": {},
   "outputs": [
    {
     "data": {
      "text/plain": [
       "30-element Array{String,1}:\n",
       " \"setosa\"    \n",
       " \"setosa\"    \n",
       " \"setosa\"    \n",
       " \"setosa\"    \n",
       " \"setosa\"    \n",
       " \"setosa\"    \n",
       " \"setosa\"    \n",
       " \"setosa\"    \n",
       " \"setosa\"    \n",
       " \"setosa\"    \n",
       " \"versicolor\"\n",
       " \"versicolor\"\n",
       " \"versicolor\"\n",
       " ⋮           \n",
       " \"versicolor\"\n",
       " \"versicolor\"\n",
       " \"virginica\" \n",
       " \"virginica\" \n",
       " \"virginica\" \n",
       " \"virginica\" \n",
       " \"virginica\" \n",
       " \"virginica\" \n",
       " \"virginica\" \n",
       " \"virginica\" \n",
       " \"virginica\" \n",
       " \"virginica\" "
      ]
     },
     "execution_count": 79,
     "metadata": {},
     "output_type": "execute_result"
    }
   ],
   "source": [
    "ypred = crtpredict(crtmodel,xtest) "
   ]
  },
  {
   "cell_type": "code",
   "execution_count": 80,
   "metadata": {},
   "outputs": [
    {
     "data": {
      "text/plain": [
       "1.0"
      ]
     },
     "execution_count": 80,
     "metadata": {},
     "output_type": "execute_result"
    }
   ],
   "source": [
    " sum(ypred .== ytest) / length(ytest)"
   ]
  },
  {
   "cell_type": "code",
   "execution_count": 82,
   "metadata": {},
   "outputs": [
    {
     "data": {
      "text/plain": [
       "1.0"
      ]
     },
     "execution_count": 82,
     "metadata": {},
     "output_type": "execute_result"
    }
   ],
   "source": [
    "crtmodel = crtrain(\"gbTree\",xtrain,ytrain)\n",
    "ypred = crtpredict(crtmodel,xtest) \n",
    "sum(ypred .== ytest) / length(ytest)"
   ]
  }
 ],
 "metadata": {
  "@webio": {
   "lastCommId": null,
   "lastKernelId": null
  },
  "kernelspec": {
   "display_name": "Julia 1.2.0",
   "language": "julia",
   "name": "julia-1.2"
  },
  "language_info": {
   "file_extension": ".jl",
   "mimetype": "application/julia",
   "name": "julia",
   "version": "1.2.0"
  }
 },
 "nbformat": 4,
 "nbformat_minor": 2
}
