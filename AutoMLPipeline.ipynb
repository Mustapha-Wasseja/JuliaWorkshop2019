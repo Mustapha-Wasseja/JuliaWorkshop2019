{
 "cells": [
  {
   "cell_type": "code",
   "execution_count": 27,
   "metadata": {},
   "outputs": [],
   "source": [
    "using Random\n",
    "using AutoMLPipeline\n",
    "using AutoMLPipeline.FeatureSelectors\n",
    "using AutoMLPipeline.EnsembleMethods\n",
    "using AutoMLPipeline.CrossValidators\n",
    "using AutoMLPipeline.DecisionTreeLearners\n",
    "using AutoMLPipeline.Pipelines\n",
    "using AutoMLPipeline.BaseFilters\n",
    "using AutoMLPipeline.SKPreprocessors\n",
    "using AutoMLPipeline.Utils\n",
    "ENV[\"COLUMNS\"]=1000;"
   ]
  },
  {
   "cell_type": "code",
   "execution_count": 40,
   "metadata": {},
   "outputs": [],
   "source": [
    "# Julia MLs\n",
    "jrf = RandomForest()\n",
    "jada = Adaboost()\n",
    "jt = PrunedTree()\n",
    "vote = VoteEnsemble()\n",
    "stack = StackEnsemble()\n",
    "best = BestLearner();\n",
    "ohe = OneHotEncoder();"
   ]
  },
  {
   "cell_type": "code",
   "execution_count": 88,
   "metadata": {},
   "outputs": [],
   "source": [
    "# Scikitlearn Learners\n",
    "skrf = SKLearner(\"RandomForestClassifier\")\n",
    "sksvc = SKLearner(\"SVC\")\n",
    "sklsvc = SKLearner(\"LinearSVC\")\n",
    "skada = SKLearner(\"AdaBoostClassifier\")\n",
    "skgb = SKLearner(\"GradientBoostingClassifier\");"
   ]
  },
  {
   "cell_type": "code",
   "execution_count": 42,
   "metadata": {},
   "outputs": [],
   "source": [
    "# Scikitlearn preprocessors\n",
    "pca = SKPreprocessor(\"PCA\")\n",
    "kpca = SKPreprocessor(\"KernelPCA\")\n",
    "fa = SKPreprocessor(\"FactorAnalysis\")\n",
    "fica = SKPreprocessor(\"FastICA\")\n",
    "rbs = SKPreprocessor(\"RobustScaler\");\n",
    "pt = SKPreprocessor(\"PowerTransformer\");"
   ]
  },
  {
   "cell_type": "code",
   "execution_count": 43,
   "metadata": {},
   "outputs": [],
   "source": [
    "# Column Selectors\n",
    "cat = CatFeatureSelector()\n",
    "num = NumFeatureSelector()\n",
    "disc = CatNumDiscriminator();"
   ]
  },
  {
   "cell_type": "code",
   "execution_count": 44,
   "metadata": {},
   "outputs": [
    {
     "data": {
      "text/html": [
       "<table class=\"data-frame\"><thead><tr><th></th><th>Home.Away</th><th>Favorite_Points</th><th>Underdog_Points</th><th>Pointspread</th><th>Favorite_Name</th><th>Underdog_name</th><th>Year</th></tr><tr><th></th><th>String</th><th>Int64</th><th>Int64</th><th>Float64</th><th>String</th><th>String</th><th>Int64</th></tr></thead><tbody><p>5 rows × 7 columns</p><tr><th>1</th><td>away</td><td>27</td><td>24</td><td>4.0</td><td>BUF</td><td>MIA</td><td>89</td></tr><tr><th>2</th><td>at_home</td><td>17</td><td>14</td><td>3.0</td><td>CHI</td><td>CIN</td><td>89</td></tr><tr><th>3</th><td>away</td><td>51</td><td>0</td><td>2.5</td><td>CLE</td><td>PIT</td><td>89</td></tr><tr><th>4</th><td>at_home</td><td>28</td><td>0</td><td>5.5</td><td>NO</td><td>DAL</td><td>89</td></tr><tr><th>5</th><td>at_home</td><td>38</td><td>7</td><td>5.5</td><td>MIN</td><td>HOU</td><td>89</td></tr></tbody></table>"
      ],
      "text/latex": [
       "\\begin{tabular}{r|ccccccc}\n",
       "\t& Home.Away & Favorite\\_Points & Underdog\\_Points & Pointspread & Favorite\\_Name & Underdog\\_name & Year\\\\\n",
       "\t\\hline\n",
       "\t& String & Int64 & Int64 & Float64 & String & String & Int64\\\\\n",
       "\t\\hline\n",
       "\t1 & away & 27 & 24 & 4.0 & BUF & MIA & 89 \\\\\n",
       "\t2 & at\\_home & 17 & 14 & 3.0 & CHI & CIN & 89 \\\\\n",
       "\t3 & away & 51 & 0 & 2.5 & CLE & PIT & 89 \\\\\n",
       "\t4 & at\\_home & 28 & 0 & 5.5 & NO & DAL & 89 \\\\\n",
       "\t5 & at\\_home & 38 & 7 & 5.5 & MIN & HOU & 89 \\\\\n",
       "\\end{tabular}\n"
      ],
      "text/plain": [
       "5×7 DataFrames.DataFrame\n",
       "│ Row │ Home.Away │ Favorite_Points │ Underdog_Points │ Pointspread │ Favorite_Name │ Underdog_name │ Year  │\n",
       "│     │ \u001b[90mString\u001b[39m    │ \u001b[90mInt64\u001b[39m           │ \u001b[90mInt64\u001b[39m           │ \u001b[90mFloat64\u001b[39m     │ \u001b[90mString\u001b[39m        │ \u001b[90mString\u001b[39m        │ \u001b[90mInt64\u001b[39m │\n",
       "├─────┼───────────┼─────────────────┼─────────────────┼─────────────┼───────────────┼───────────────┼───────┤\n",
       "│ 1   │ away      │ 27              │ 24              │ 4.0         │ BUF           │ MIA           │ 89    │\n",
       "│ 2   │ at_home   │ 17              │ 14              │ 3.0         │ CHI           │ CIN           │ 89    │\n",
       "│ 3   │ away      │ 51              │ 0               │ 2.5         │ CLE           │ PIT           │ 89    │\n",
       "│ 4   │ at_home   │ 28              │ 0               │ 5.5         │ NO            │ DAL           │ 89    │\n",
       "│ 5   │ at_home   │ 38              │ 7               │ 5.5         │ MIN           │ HOU           │ 89    │"
      ]
     },
     "execution_count": 44,
     "metadata": {},
     "output_type": "execute_result"
    }
   ],
   "source": [
    "using CSV\n",
    "profbdata = CSV.read(\"profb.csv\")\n",
    "first(profbdata,5)"
   ]
  },
  {
   "cell_type": "code",
   "execution_count": 36,
   "metadata": {},
   "outputs": [],
   "source": [
    "X = profbdata[:,2:end] \n",
    "Y = profbdata[:,1] |> Vector;"
   ]
  },
  {
   "cell_type": "code",
   "execution_count": 95,
   "metadata": {},
   "outputs": [
    {
     "data": {
      "text/plain": [
       "0.7991071428571429"
      ]
     },
     "execution_count": 95,
     "metadata": {},
     "output_type": "execute_result"
    }
   ],
   "source": [
    "p1 = @pipeline ((num |> rbs |> pca)+(num |> rbs |> fa)+(num |> rbs |> fica)+(cat |> ohe )) |> sklsvc\n",
    "sum(fit_transform!(p1,X,Y) .== Y) /length(Y)"
   ]
  },
  {
   "cell_type": "code",
   "execution_count": 96,
   "metadata": {},
   "outputs": [
    {
     "name": "stdout",
     "output_type": "stream",
     "text": [
      "fold: 1, 83.5820895522388\n",
      "fold: 2, 77.61194029850746\n",
      "fold: 3, 64.70588235294117\n",
      "fold: 4, 77.61194029850746\n",
      "fold: 5, 67.16417910447761\n",
      "fold: 6, 73.13432835820896\n",
      "fold: 7, 79.1044776119403\n",
      "fold: 8, 73.52941176470588\n",
      "fold: 9, 79.1044776119403\n",
      "fold: 10, 62.68656716417911\n"
     ]
    },
    {
     "data": {
      "text/plain": [
       "(mean = 73.82352941176471, std = 6.926457357166602, folds = 10)"
      ]
     },
     "execution_count": 96,
     "metadata": {},
     "output_type": "execute_result"
    }
   ],
   "source": [
    "acc(X,Y) = score(:accuracy,X,Y)\n",
    "crossvalidate(p1,X,Y,acc)"
   ]
  },
  {
   "cell_type": "code",
   "execution_count": 91,
   "metadata": {},
   "outputs": [
    {
     "data": {
      "text/plain": [
       "0.7991071428571429"
      ]
     },
     "execution_count": 91,
     "metadata": {},
     "output_type": "execute_result"
    }
   ],
   "source": [
    "p2 = @pipeline (num |> pca) + num + (num|> fica) + (cat |> ohe) |> sklsvc\n",
    "sum(fit_transform!(p1,X,Y) .== Y) /length(Y)"
   ]
  },
  {
   "cell_type": "code",
   "execution_count": 94,
   "metadata": {},
   "outputs": [
    {
     "name": "stdout",
     "output_type": "stream",
     "text": [
      "fold: 1, 55.223880597014926\n",
      "fold: 2, 67.16417910447761\n",
      "fold: 3, 36.76470588235294\n",
      "fold: 4, 65.67164179104478\n",
      "fold: 5, 41.7910447761194\n",
      "fold: 6, 67.16417910447761\n",
      "fold: 7, 82.08955223880598\n",
      "fold: 8, 70.58823529411765\n",
      "fold: 9, 67.16417910447761\n",
      "fold: 10, 74.6268656716418\n"
     ]
    },
    {
     "data": {
      "text/plain": [
       "(mean = 62.82484635645303, std = 14.199400776537406, folds = 10)"
      ]
     },
     "execution_count": 94,
     "metadata": {},
     "output_type": "execute_result"
    }
   ],
   "source": [
    "crossvalidate(p2,X,Y,acc)"
   ]
  },
  {
   "cell_type": "code",
   "execution_count": null,
   "metadata": {},
   "outputs": [],
   "source": []
  }
 ],
 "metadata": {
  "kernelspec": {
   "display_name": "Julia 1.3.1",
   "language": "julia",
   "name": "julia-1.3"
  },
  "language_info": {
   "file_extension": ".jl",
   "mimetype": "application/julia",
   "name": "julia",
   "version": "1.3.1"
  }
 },
 "nbformat": 4,
 "nbformat_minor": 2
}
