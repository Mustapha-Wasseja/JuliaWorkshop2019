{
 "cells": [
  {
   "cell_type": "markdown",
   "metadata": {},
   "source": [
    "## Data Preparation "
   ]
  },
  {
   "cell_type": "code",
   "execution_count": 11,
   "metadata": {},
   "outputs": [],
   "source": [
    "import JuliaDB\n",
    "using JuliaDB: ML,table\n",
    "const Jdb = JuliaDB\n",
    "using VegaDatasets"
   ]
  },
  {
   "cell_type": "code",
   "execution_count": 12,
   "metadata": {},
   "outputs": [
    {
     "data": {
      "text/plain": [
       "Table with 406 rows, 9 columns:\n",
       "Columns:\n",
       "\u001b[1m#  \u001b[22m\u001b[1mcolname           \u001b[22m\u001b[1mtype\u001b[22m\n",
       "────────────────────────────────────────────\n",
       "1  Name              String\n",
       "2  Miles_per_Gallon  Union{Missing, Float64}\n",
       "3  Cylinders         Int64\n",
       "4  Displacement      Float64\n",
       "5  Horsepower        Union{Missing, Int64}\n",
       "6  Weight_in_lbs     Int64\n",
       "7  Acceleration      Float64\n",
       "8  Year              String\n",
       "9  Origin            String"
      ]
     },
     "execution_count": 12,
     "metadata": {},
     "output_type": "execute_result"
    }
   ],
   "source": [
    "cars = dataset(\"cars\") |> table"
   ]
  },
  {
   "cell_type": "code",
   "execution_count": 13,
   "metadata": {},
   "outputs": [
    {
     "data": {
      "text/plain": [
       "Dict{Symbol,Any} with 9 entries:\n",
       "  :Cylinders        => Continous(μ=5.475369458128076, σ=1.7121596315485288)\n",
       "  :Horsepower       => Maybe{Continuous}(Continous(μ=105.08250000000002, σ=38.7…\n",
       "  :Displacement     => Continous(μ=194.77955665024618, σ=104.92245837948875)\n",
       "  :Weight_in_lbs    => Continous(μ=2979.4137931034484, σ=847.0043282393509)\n",
       "  :Miles_per_Gallon => Maybe{Continuous}(Continous(μ=23.514572864321607, σ=7.81…\n",
       "  :Year             => nothing\n",
       "  :Acceleration     => Continous(μ=15.51970443349754, σ=2.803358816342545)\n",
       "  :Origin           => nothing\n",
       "  :Name             => nothing"
      ]
     },
     "execution_count": 13,
     "metadata": {},
     "output_type": "execute_result"
    }
   ],
   "source": [
    "ML.schema(cars)"
   ]
  },
  {
   "cell_type": "code",
   "execution_count": 14,
   "metadata": {},
   "outputs": [
    {
     "data": {
      "text/plain": [
       "Dict{Symbol,Any} with 9 entries:\n",
       "  :Cylinders        => Categorical([8, 4, 6, 3, 5])\n",
       "  :Horsepower       => Maybe{Continuous}(Continous(μ=105.08250000000002, σ=38.7…\n",
       "  :Displacement     => Continous(μ=194.77955665024618, σ=104.92245837948875)\n",
       "  :Weight_in_lbs    => Continous(μ=2979.4137931034484, σ=847.0043282393509)\n",
       "  :Miles_per_Gallon => Maybe{Continuous}(Continous(μ=23.514572864321607, σ=7.81…\n",
       "  :Year             => nothing\n",
       "  :Acceleration     => Continous(μ=15.51970443349754, σ=2.803358816342545)\n",
       "  :Origin           => nothing\n",
       "  :Name             => nothing"
      ]
     },
     "execution_count": 14,
     "metadata": {},
     "output_type": "execute_result"
    }
   ],
   "source": [
    "cars_schema = ML.schema(cars,hints = Dict(\n",
    "        :Cylinders=>ML.Categorical\n",
    "    )\n",
    ")"
   ]
  },
  {
   "cell_type": "code",
   "execution_count": 15,
   "metadata": {},
   "outputs": [],
   "source": [
    "input_schema, output_schema = ML.splitschema(cars_schema,:Displacement);"
   ]
  },
  {
   "cell_type": "code",
   "execution_count": 16,
   "metadata": {},
   "outputs": [
    {
     "data": {
      "text/plain": [
       "Dict{Symbol,Any} with 8 entries:\n",
       "  :Cylinders        => Categorical([8, 4, 6, 3, 5])\n",
       "  :Horsepower       => Maybe{Continuous}(Continous(μ=105.08250000000002, σ=38.7…\n",
       "  :Weight_in_lbs    => Continous(μ=2979.4137931034484, σ=847.0043282393509)\n",
       "  :Miles_per_Gallon => Maybe{Continuous}(Continous(μ=23.514572864321607, σ=7.81…\n",
       "  :Year             => nothing\n",
       "  :Acceleration     => Continous(μ=15.51970443349754, σ=2.803358816342545)\n",
       "  :Origin           => nothing\n",
       "  :Name             => nothing"
      ]
     },
     "execution_count": 16,
     "metadata": {},
     "output_type": "execute_result"
    }
   ],
   "source": [
    "input_schema"
   ]
  },
  {
   "cell_type": "code",
   "execution_count": 17,
   "metadata": {},
   "outputs": [
    {
     "data": {
      "text/plain": [
       "11×406 LinearAlgebra.Adjoint{Float32,Array{Float32,2}}:\n",
       "  1.0        1.0        1.0       …   0.0        0.0        0.0     \n",
       "  0.0        0.0        0.0           1.0        1.0        1.0     \n",
       "  0.0        0.0        0.0           0.0        0.0        0.0     \n",
       "  0.0        0.0        0.0           0.0        0.0        0.0     \n",
       "  0.0        0.0        0.0           0.0        0.0        0.0     \n",
       "  0.0        0.0        0.0       …   0.0        0.0        0.0     \n",
       "  0.642721   1.54551    1.1586       -0.543801  -0.672771  -0.595389\n",
       "  0.619343   0.842482   0.53906      -0.80804   -0.418432  -0.306272\n",
       "  0.0        0.0        0.0           0.0        0.0        0.0     \n",
       " -0.705551  -1.08938   -0.705551      1.08565    0.573879   0.957708\n",
       " -1.25553   -1.43389   -1.61225   …  -1.39822    1.09879    1.38416 "
      ]
     },
     "execution_count": 17,
     "metadata": {},
     "output_type": "execute_result"
    }
   ],
   "source": [
    "input = ML.featuremat(input_schema,cars)"
   ]
  },
  {
   "cell_type": "code",
   "execution_count": 18,
   "metadata": {},
   "outputs": [
    {
     "data": {
      "text/plain": [
       "1×406 LinearAlgebra.Adjoint{Float32,Array{Float32,2}}:\n",
       " 1.06956  1.47938  1.1744  1.04096  1.0219  …  -0.56975  -0.712713  -0.722243"
      ]
     },
     "execution_count": 18,
     "metadata": {},
     "output_type": "execute_result"
    }
   ],
   "source": [
    "output = ML.featuremat(output_schema,cars)"
   ]
  },
  {
   "cell_type": "code",
   "execution_count": 44,
   "metadata": {},
   "outputs": [
    {
     "data": {
      "text/plain": [
       "partitionTrainTest (generic function with 2 methods)"
      ]
     },
     "execution_count": 44,
     "metadata": {},
     "output_type": "execute_result"
    }
   ],
   "source": [
    "using Random\n",
    "function partitionTrainTest(input,output, at = 0.8)\n",
    "    @assert size(input,2) == size(output,2)\n",
    "    n = size(input,2)\n",
    "    idx = shuffle(1:n)\n",
    "    train_idx = view(idx, 1:floor(Int, at*n))\n",
    "    test_idx = view(idx, (floor(Int, at*n)+1):n)\n",
    "    return input[:,train_idx], output[:,train_idx], input[:,test_idx],output[:,test_idx]\n",
    "end"
   ]
  },
  {
   "cell_type": "code",
   "execution_count": 45,
   "metadata": {},
   "outputs": [
    {
     "data": {
      "text/plain": [
       "(Float32[1.0 0.0 … 0.0 0.0; 0.0 1.0 … 1.0 0.0; … ; -0.4240762 0.31799284 … -0.44966477 0.24122709; -0.97015923 1.9549034 … 1.2414734 -1.0415022], Float32[1.0219017 -0.9319221 … -0.9319221 -0.2552319], Float32[0.0 0.0 … 1.0 1.0; 1.0 1.0 … 0.0 0.0; … ; -0.06583597 0.4715244 … -0.8462879 -1.4732083; -0.54210126 -0.29240084 … -0.22105783 -1.4338887], Float32[-0.6936509 -0.7222434 … 1.4793824 1.7939005])"
      ]
     },
     "execution_count": 45,
     "metadata": {},
     "output_type": "execute_result"
    }
   ],
   "source": [
    "train_input,train_output,test_input,test_output = partitionTrainTest(input,output,0.7)"
   ]
  },
  {
   "cell_type": "markdown",
   "metadata": {},
   "source": [
    "## Use Flux"
   ]
  },
  {
   "cell_type": "code",
   "execution_count": 46,
   "metadata": {},
   "outputs": [
    {
     "data": {
      "text/plain": [
       "Flux"
      ]
     },
     "execution_count": 46,
     "metadata": {},
     "output_type": "execute_result"
    }
   ],
   "source": [
    "import Flux\n",
    "const Fx = Flux"
   ]
  },
  {
   "cell_type": "code",
   "execution_count": 47,
   "metadata": {},
   "outputs": [
    {
     "data": {
      "text/plain": [
       "Flux.Optimise.ADAM(0.001, (0.9, 0.999), IdDict{Any,Any}())"
      ]
     },
     "execution_count": 47,
     "metadata": {},
     "output_type": "execute_result"
    }
   ],
   "source": [
    "model = Fx.Chain(\n",
    "    Fx.Dense(ML.width(input_schema),5,Fx.relu),\n",
    "    Fx.Dense(5,ML.width(output_schema))\n",
    ")\n",
    "\n",
    "loss(x, y) = Flux.mse(model(x), y)\n",
    "#loss(x,y) = Fx.crossentropy(model(x),y)\n",
    "opt = Flux.ADAM(0.001)"
   ]
  },
  {
   "cell_type": "code",
   "execution_count": 48,
   "metadata": {},
   "outputs": [],
   "source": [
    "data = [(train_input, train_output)] #|> gpu;"
   ]
  },
  {
   "cell_type": "code",
   "execution_count": 49,
   "metadata": {},
   "outputs": [
    {
     "name": "stdout",
     "output_type": "stream",
     "text": [
      "loss(first(data)...) = 3.6375585f0 (tracked)\n",
      "loss(first(data)...) = 0.10504713f0 (tracked)\n",
      "loss(first(data)...) = 0.049422108f0 (tracked)\n"
     ]
    }
   ],
   "source": [
    "evalcb = Fx.throttle(() -> @show(loss(first(data)...)), 0.1);\n",
    "for i = 1:1000\n",
    "  Fx.train!(loss, Fx.params(model),data, opt, cb = evalcb)\n",
    "end"
   ]
  },
  {
   "cell_type": "code",
   "execution_count": 50,
   "metadata": {},
   "outputs": [
    {
     "data": {
      "text/plain": [
       "1×122 Array{Float32,2}:\n",
       " -0.693651  -0.722243  -0.855675  …  1.95592  -0.998638  1.47938  1.7939"
      ]
     },
     "execution_count": 50,
     "metadata": {},
     "output_type": "execute_result"
    }
   ],
   "source": [
    "yhat=model(test_input)\n",
    "y=test_output"
   ]
  },
  {
   "cell_type": "code",
   "execution_count": 64,
   "metadata": {},
   "outputs": [
    {
     "name": "stdout",
     "output_type": "stream",
     "text": [
      "rmse=0.2095043\n"
     ]
    },
    {
     "data": {
      "image/svg+xml": [
       "<?xml version=\"1.0\" encoding=\"utf-8\"?>\n",
       "<svg xmlns=\"http://www.w3.org/2000/svg\" xmlns:xlink=\"http://www.w3.org/1999/xlink\" width=\"600\" height=\"400\" viewBox=\"0 0 2400 1600\">\n",
       "<defs>\n",
       "  <clipPath id=\"clip0800\">\n",
       "    <rect x=\"0\" y=\"0\" width=\"2400\" height=\"1600\"/>\n",
       "  </clipPath>\n",
       "</defs>\n",
       "<path clip-path=\"url(#clip0800)\" d=\"\n",
       "M0 1600 L2400 1600 L2400 0 L0 0  Z\n",
       "  \" fill=\"#ffffff\" fill-rule=\"evenodd\" fill-opacity=\"1\"/>\n",
       "<defs>\n",
       "  <clipPath id=\"clip0801\">\n",
       "    <rect x=\"480\" y=\"0\" width=\"1681\" height=\"1600\"/>\n",
       "  </clipPath>\n",
       "</defs>\n",
       "<path clip-path=\"url(#clip0800)\" d=\"\n",
       "M141.865 1487.47 L2352.76 1487.47 L2352.76 47.2441 L141.865 47.2441  Z\n",
       "  \" fill=\"#ffffff\" fill-rule=\"evenodd\" fill-opacity=\"1\"/>\n",
       "<defs>\n",
       "  <clipPath id=\"clip0802\">\n",
       "    <rect x=\"141\" y=\"47\" width=\"2212\" height=\"1441\"/>\n",
       "  </clipPath>\n",
       "</defs>\n",
       "<polyline clip-path=\"url(#clip0802)\" style=\"stroke:#000000; stroke-width:2; stroke-opacity:0.1; fill:none\" points=\"\n",
       "  187.199,1487.47 187.199,47.2441 \n",
       "  \"/>\n",
       "<polyline clip-path=\"url(#clip0802)\" style=\"stroke:#000000; stroke-width:2; stroke-opacity:0.1; fill:none\" points=\"\n",
       "  531.951,1487.47 531.951,47.2441 \n",
       "  \"/>\n",
       "<polyline clip-path=\"url(#clip0802)\" style=\"stroke:#000000; stroke-width:2; stroke-opacity:0.1; fill:none\" points=\"\n",
       "  876.702,1487.47 876.702,47.2441 \n",
       "  \"/>\n",
       "<polyline clip-path=\"url(#clip0802)\" style=\"stroke:#000000; stroke-width:2; stroke-opacity:0.1; fill:none\" points=\"\n",
       "  1221.45,1487.47 1221.45,47.2441 \n",
       "  \"/>\n",
       "<polyline clip-path=\"url(#clip0802)\" style=\"stroke:#000000; stroke-width:2; stroke-opacity:0.1; fill:none\" points=\"\n",
       "  1566.21,1487.47 1566.21,47.2441 \n",
       "  \"/>\n",
       "<polyline clip-path=\"url(#clip0802)\" style=\"stroke:#000000; stroke-width:2; stroke-opacity:0.1; fill:none\" points=\"\n",
       "  1910.96,1487.47 1910.96,47.2441 \n",
       "  \"/>\n",
       "<polyline clip-path=\"url(#clip0802)\" style=\"stroke:#000000; stroke-width:2; stroke-opacity:0.1; fill:none\" points=\"\n",
       "  2255.71,1487.47 2255.71,47.2441 \n",
       "  \"/>\n",
       "<polyline clip-path=\"url(#clip0802)\" style=\"stroke:#000000; stroke-width:2; stroke-opacity:0.1; fill:none\" points=\"\n",
       "  141.865,1349.33 2352.76,1349.33 \n",
       "  \"/>\n",
       "<polyline clip-path=\"url(#clip0802)\" style=\"stroke:#000000; stroke-width:2; stroke-opacity:0.1; fill:none\" points=\"\n",
       "  141.865,965.21 2352.76,965.21 \n",
       "  \"/>\n",
       "<polyline clip-path=\"url(#clip0802)\" style=\"stroke:#000000; stroke-width:2; stroke-opacity:0.1; fill:none\" points=\"\n",
       "  141.865,581.094 2352.76,581.094 \n",
       "  \"/>\n",
       "<polyline clip-path=\"url(#clip0802)\" style=\"stroke:#000000; stroke-width:2; stroke-opacity:0.1; fill:none\" points=\"\n",
       "  141.865,196.978 2352.76,196.978 \n",
       "  \"/>\n",
       "<polyline clip-path=\"url(#clip0800)\" style=\"stroke:#000000; stroke-width:4; stroke-opacity:1; fill:none\" points=\"\n",
       "  141.865,1487.47 2352.76,1487.47 \n",
       "  \"/>\n",
       "<polyline clip-path=\"url(#clip0800)\" style=\"stroke:#000000; stroke-width:4; stroke-opacity:1; fill:none\" points=\"\n",
       "  141.865,1487.47 141.865,47.2441 \n",
       "  \"/>\n",
       "<polyline clip-path=\"url(#clip0800)\" style=\"stroke:#000000; stroke-width:4; stroke-opacity:1; fill:none\" points=\"\n",
       "  187.199,1487.47 187.199,1465.87 \n",
       "  \"/>\n",
       "<polyline clip-path=\"url(#clip0800)\" style=\"stroke:#000000; stroke-width:4; stroke-opacity:1; fill:none\" points=\"\n",
       "  531.951,1487.47 531.951,1465.87 \n",
       "  \"/>\n",
       "<polyline clip-path=\"url(#clip0800)\" style=\"stroke:#000000; stroke-width:4; stroke-opacity:1; fill:none\" points=\"\n",
       "  876.702,1487.47 876.702,1465.87 \n",
       "  \"/>\n",
       "<polyline clip-path=\"url(#clip0800)\" style=\"stroke:#000000; stroke-width:4; stroke-opacity:1; fill:none\" points=\"\n",
       "  1221.45,1487.47 1221.45,1465.87 \n",
       "  \"/>\n",
       "<polyline clip-path=\"url(#clip0800)\" style=\"stroke:#000000; stroke-width:4; stroke-opacity:1; fill:none\" points=\"\n",
       "  1566.21,1487.47 1566.21,1465.87 \n",
       "  \"/>\n",
       "<polyline clip-path=\"url(#clip0800)\" style=\"stroke:#000000; stroke-width:4; stroke-opacity:1; fill:none\" points=\"\n",
       "  1910.96,1487.47 1910.96,1465.87 \n",
       "  \"/>\n",
       "<polyline clip-path=\"url(#clip0800)\" style=\"stroke:#000000; stroke-width:4; stroke-opacity:1; fill:none\" points=\"\n",
       "  2255.71,1487.47 2255.71,1465.87 \n",
       "  \"/>\n",
       "<polyline clip-path=\"url(#clip0800)\" style=\"stroke:#000000; stroke-width:4; stroke-opacity:1; fill:none\" points=\"\n",
       "  141.865,1349.33 175.028,1349.33 \n",
       "  \"/>\n",
       "<polyline clip-path=\"url(#clip0800)\" style=\"stroke:#000000; stroke-width:4; stroke-opacity:1; fill:none\" points=\"\n",
       "  141.865,965.21 175.028,965.21 \n",
       "  \"/>\n",
       "<polyline clip-path=\"url(#clip0800)\" style=\"stroke:#000000; stroke-width:4; stroke-opacity:1; fill:none\" points=\"\n",
       "  141.865,581.094 175.028,581.094 \n",
       "  \"/>\n",
       "<polyline clip-path=\"url(#clip0800)\" style=\"stroke:#000000; stroke-width:4; stroke-opacity:1; fill:none\" points=\"\n",
       "  141.865,196.978 175.028,196.978 \n",
       "  \"/>\n",
       "<g clip-path=\"url(#clip0800)\">\n",
       "<text style=\"fill:#000000; fill-opacity:1; font-family:Arial,Helvetica Neue,Helvetica,sans-serif; font-size:48px; text-anchor:middle;\" transform=\"rotate(0, 187.199, 1541.47)\" x=\"187.199\" y=\"1541.47\">0</text>\n",
       "</g>\n",
       "<g clip-path=\"url(#clip0800)\">\n",
       "<text style=\"fill:#000000; fill-opacity:1; font-family:Arial,Helvetica Neue,Helvetica,sans-serif; font-size:48px; text-anchor:middle;\" transform=\"rotate(0, 531.951, 1541.47)\" x=\"531.951\" y=\"1541.47\">20</text>\n",
       "</g>\n",
       "<g clip-path=\"url(#clip0800)\">\n",
       "<text style=\"fill:#000000; fill-opacity:1; font-family:Arial,Helvetica Neue,Helvetica,sans-serif; font-size:48px; text-anchor:middle;\" transform=\"rotate(0, 876.702, 1541.47)\" x=\"876.702\" y=\"1541.47\">40</text>\n",
       "</g>\n",
       "<g clip-path=\"url(#clip0800)\">\n",
       "<text style=\"fill:#000000; fill-opacity:1; font-family:Arial,Helvetica Neue,Helvetica,sans-serif; font-size:48px; text-anchor:middle;\" transform=\"rotate(0, 1221.45, 1541.47)\" x=\"1221.45\" y=\"1541.47\">60</text>\n",
       "</g>\n",
       "<g clip-path=\"url(#clip0800)\">\n",
       "<text style=\"fill:#000000; fill-opacity:1; font-family:Arial,Helvetica Neue,Helvetica,sans-serif; font-size:48px; text-anchor:middle;\" transform=\"rotate(0, 1566.21, 1541.47)\" x=\"1566.21\" y=\"1541.47\">80</text>\n",
       "</g>\n",
       "<g clip-path=\"url(#clip0800)\">\n",
       "<text style=\"fill:#000000; fill-opacity:1; font-family:Arial,Helvetica Neue,Helvetica,sans-serif; font-size:48px; text-anchor:middle;\" transform=\"rotate(0, 1910.96, 1541.47)\" x=\"1910.96\" y=\"1541.47\">100</text>\n",
       "</g>\n",
       "<g clip-path=\"url(#clip0800)\">\n",
       "<text style=\"fill:#000000; fill-opacity:1; font-family:Arial,Helvetica Neue,Helvetica,sans-serif; font-size:48px; text-anchor:middle;\" transform=\"rotate(0, 2255.71, 1541.47)\" x=\"2255.71\" y=\"1541.47\">120</text>\n",
       "</g>\n",
       "<g clip-path=\"url(#clip0800)\">\n",
       "<text style=\"fill:#000000; fill-opacity:1; font-family:Arial,Helvetica Neue,Helvetica,sans-serif; font-size:48px; text-anchor:end;\" transform=\"rotate(0, 117.865, 1366.83)\" x=\"117.865\" y=\"1366.83\">-1</text>\n",
       "</g>\n",
       "<g clip-path=\"url(#clip0800)\">\n",
       "<text style=\"fill:#000000; fill-opacity:1; font-family:Arial,Helvetica Neue,Helvetica,sans-serif; font-size:48px; text-anchor:end;\" transform=\"rotate(0, 117.865, 982.71)\" x=\"117.865\" y=\"982.71\">0</text>\n",
       "</g>\n",
       "<g clip-path=\"url(#clip0800)\">\n",
       "<text style=\"fill:#000000; fill-opacity:1; font-family:Arial,Helvetica Neue,Helvetica,sans-serif; font-size:48px; text-anchor:end;\" transform=\"rotate(0, 117.865, 598.594)\" x=\"117.865\" y=\"598.594\">1</text>\n",
       "</g>\n",
       "<g clip-path=\"url(#clip0800)\">\n",
       "<text style=\"fill:#000000; fill-opacity:1; font-family:Arial,Helvetica Neue,Helvetica,sans-serif; font-size:48px; text-anchor:end;\" transform=\"rotate(0, 117.865, 214.478)\" x=\"117.865\" y=\"214.478\">2</text>\n",
       "</g>\n",
       "<polyline clip-path=\"url(#clip0802)\" style=\"stroke:#009af9; stroke-width:4; stroke-opacity:1; fill:none\" points=\"\n",
       "  204.437,1231.65 221.675,1242.63 238.912,1293.89 256.15,433.565 273.387,561.698 290.625,1242.63 307.862,1319.51 325.1,360.346 342.338,1198.7 359.575,1348.8 \n",
       "  376.813,1429.34 394.05,1165.75 411.288,1107.18 428.525,396.956 445.763,1268.26 463.001,396.956 480.238,1400.06 497.476,1422.02 514.713,1345.14 531.951,763.05 \n",
       "  549.188,1143.79 566.426,1356.12 583.664,393.295 600.901,1165.75 618.139,1044.94 635.376,396.956 652.614,1107.18 669.851,1125.48 687.089,1345.14 704.327,828.947 \n",
       "  721.564,763.05 738.802,1367.11 756.039,1374.43 773.277,763.05 790.514,1165.75 807.752,572.681 824.99,554.376 842.227,565.359 859.465,572.681 876.702,250.518 \n",
       "  893.94,1242.63 911.178,832.608 928.415,1235.31 945.653,1235.31 962.89,763.05 980.128,1392.73 997.365,565.359 1014.6,828.947 1031.84,1184.06 1049.08,828.947 \n",
       "  1066.32,396.956 1083.55,1297.55 1100.79,572.681 1118.03,854.574 1135.27,1323.18 1152.5,213.908 1169.74,854.574 1186.98,393.295 1204.22,832.608 1221.45,1015.66 \n",
       "  1238.69,1165.75 1255.93,213.908 1273.17,763.05 1290.4,763.05 1307.64,1008.33 1324.88,565.359 1342.12,854.574 1359.35,1282.91 1376.59,1319.51 1393.83,946.098 \n",
       "  1411.07,1235.31 1428.3,828.947 1445.54,1385.41 1462.78,213.908 1480.02,832.608 1497.26,1286.57 1514.49,1323.18 1531.73,1264.6 1548.97,1242.63 1566.21,854.574 \n",
       "  1583.44,565.359 1600.68,1165.75 1617.92,1367.11 1635.16,1235.31 1652.39,1081.55 1669.63,1286.57 1686.87,946.098 1704.11,1323.18 1721.34,396.956 1738.58,1319.51 \n",
       "  1755.82,1125.48 1773.06,1286.57 1790.29,1319.51 1807.53,1147.45 1824.77,832.608 1842.01,1326.84 1859.24,946.098 1876.48,1125.48 1893.72,514.106 1910.96,1323.18 \n",
       "  1928.19,1187.72 1945.43,107.741 1962.67,554.376 1979.91,1238.97 1997.14,1363.45 2014.38,1418.36 2031.62,1165.75 2048.86,360.346 2066.1,514.106 2083.33,946.098 \n",
       "  2100.57,949.759 2117.81,1319.51 2135.05,1231.65 2152.28,565.359 2169.52,1257.28 2186.76,763.05 2204,854.574 2221.23,1282.91 2238.47,213.908 2255.71,1348.8 \n",
       "  2272.95,396.956 2290.18,276.144 \n",
       "  \"/>\n",
       "<polyline clip-path=\"url(#clip0802)\" style=\"stroke:#e26f46; stroke-width:4; stroke-opacity:1; fill:none\" points=\"\n",
       "  204.437,1257.82 221.675,1219.07 238.912,1314.48 256.15,379.454 273.387,495.307 290.625,1228.8 307.862,1272.7 325.1,440.713 342.338,1303.2 359.575,1323.68 \n",
       "  376.813,1360.56 394.05,1268.19 411.288,934.837 428.525,441.881 445.763,1259.99 463.001,443.002 480.238,1446.71 497.476,1402.98 514.713,1352.77 531.951,815.485 \n",
       "  549.188,1173.31 566.426,1300.59 583.664,486.98 600.901,1225.87 618.139,984.216 635.376,311.701 652.614,1210.12 669.851,1206.25 687.089,1433.9 704.327,856.09 \n",
       "  721.564,869.989 738.802,1357.66 756.039,1344.34 773.277,819.787 790.514,1305.27 807.752,555.931 824.99,512.695 842.227,458.624 859.465,470.196 876.702,155.855 \n",
       "  893.94,1215.33 911.178,858.671 928.415,1255.59 945.653,1258.84 962.89,842.988 980.128,1365.71 997.365,593.028 1014.6,830.02 1031.84,1249.19 1049.08,828.682 \n",
       "  1066.32,335.397 1083.55,1231.86 1100.79,504.631 1118.03,872.236 1135.27,1259.43 1152.5,88.0053 1169.74,835.793 1186.98,396.278 1204.22,872.486 1221.45,924.596 \n",
       "  1238.69,1229.82 1255.93,292.208 1273.17,849.802 1290.4,838.921 1307.64,1264.91 1324.88,450.866 1342.12,834.251 1359.35,1342.95 1376.59,1301.42 1393.83,838.717 \n",
       "  1411.07,1419.05 1428.3,863.826 1445.54,1367.52 1462.78,303.529 1480.02,903.635 1497.26,1285.53 1514.49,1175.82 1531.73,1246.76 1548.97,1226.94 1566.21,845.152 \n",
       "  1583.44,444.928 1600.68,1162.13 1617.92,1342.59 1635.16,1133 1652.39,872.762 1669.63,1337.16 1686.87,960.799 1704.11,1248.14 1721.34,372.477 1738.58,1291.54 \n",
       "  1755.82,1245 1773.06,1235.64 1790.29,1331.05 1807.53,850.347 1824.77,902.324 1842.01,1314.01 1859.24,859.273 1876.48,1269.88 1893.72,456.826 1910.96,1323.9 \n",
       "  1928.19,1222.21 1945.43,176.775 1962.67,592.064 1979.91,1242.18 1997.14,1373.67 2014.38,1337.02 2031.62,1289.16 2048.86,320.187 2066.1,481.335 2083.33,913.506 \n",
       "  2100.57,859.908 2117.81,1356.2 2135.05,1209.38 2152.28,579.921 2169.52,1209.42 2186.76,788.971 2204,825.653 2221.23,1297.85 2238.47,453.059 2255.71,1328.22 \n",
       "  2272.95,485.515 2290.18,207.247 \n",
       "  \"/>\n",
       "<path clip-path=\"url(#clip0800)\" d=\"\n",
       "M1832.1 312.204 L2280.76 312.204 L2280.76 130.764 L1832.1 130.764  Z\n",
       "  \" fill=\"#ffffff\" fill-rule=\"evenodd\" fill-opacity=\"1\"/>\n",
       "<polyline clip-path=\"url(#clip0800)\" style=\"stroke:#000000; stroke-width:4; stroke-opacity:1; fill:none\" points=\"\n",
       "  1832.1,312.204 2280.76,312.204 2280.76,130.764 1832.1,130.764 1832.1,312.204 \n",
       "  \"/>\n",
       "<polyline clip-path=\"url(#clip0800)\" style=\"stroke:#009af9; stroke-width:4; stroke-opacity:1; fill:none\" points=\"\n",
       "  1856.1,191.244 2000.1,191.244 \n",
       "  \"/>\n",
       "<g clip-path=\"url(#clip0800)\">\n",
       "<text style=\"fill:#000000; fill-opacity:1; font-family:Arial,Helvetica Neue,Helvetica,sans-serif; font-size:48px; text-anchor:start;\" transform=\"rotate(0, 2024.1, 208.744)\" x=\"2024.1\" y=\"208.744\">actual</text>\n",
       "</g>\n",
       "<polyline clip-path=\"url(#clip0800)\" style=\"stroke:#e26f46; stroke-width:4; stroke-opacity:1; fill:none\" points=\"\n",
       "  1856.1,251.724 2000.1,251.724 \n",
       "  \"/>\n",
       "<g clip-path=\"url(#clip0800)\">\n",
       "<text style=\"fill:#000000; fill-opacity:1; font-family:Arial,Helvetica Neue,Helvetica,sans-serif; font-size:48px; text-anchor:start;\" transform=\"rotate(0, 2024.1, 269.224)\" x=\"2024.1\" y=\"269.224\">prediction</text>\n",
       "</g>\n",
       "</svg>\n"
      ]
     },
     "execution_count": 64,
     "metadata": {},
     "output_type": "execute_result"
    }
   ],
   "source": [
    "using Plots\n",
    "using Statistics\n",
    "sqrt((y .- yhat.data).^2 |> mean ) |> x-> println(\"rmse=\",x)\n",
    "plot([y' yhat.data'],lab=[\"actual\",\"prediction\"])"
   ]
  },
  {
   "cell_type": "markdown",
   "metadata": {},
   "source": [
    "## Using Knet"
   ]
  },
  {
   "cell_type": "code",
   "execution_count": 65,
   "metadata": {},
   "outputs": [
    {
     "name": "stderr",
     "output_type": "stream",
     "text": [
      "┌ Info: Precompiling Knet [1902f260-5fb4-5aff-8c31-6271790ab950]\n",
      "└ @ Base loading.jl:1242\n"
     ]
    }
   ],
   "source": [
    "import Knet\n",
    "using Flux: onecold"
   ]
  },
  {
   "cell_type": "code",
   "execution_count": 66,
   "metadata": {},
   "outputs": [
    {
     "data": {
      "text/plain": [
       "4-element Array{Array{Float32,2},1}:\n",
       " [0.15638451 0.08042237 … 0.09426158 0.052824635; 0.14081827 0.015274953 … 0.10766815 0.06627576; … ; 0.0012411039 -0.1322762 … -0.15162571 -0.052992847; 0.13441737 0.05228636 … 0.089399256 0.09475982]\n",
       " [0.0; 0.0; … ; 0.0; 0.0]                                                                                                                                                                                \n",
       " [-0.09414563 0.14063123 … -0.07491995 -0.09777867]                                                                                                                                                      \n",
       " [0.0]                                                                                                                                                                                                   "
      ]
     },
     "execution_count": 66,
     "metadata": {},
     "output_type": "execute_result"
    }
   ],
   "source": [
    "Atype = Knet.gpu() >= 0 ? KnetArray{Float32} : Array{Float32}\n",
    "# setup weight parameters\n",
    "# cars data: input=11, hidden=>5, output=>1,\n",
    "wmlp=map(Atype, [ 0.1*randn(5,11), zeros(5,1),\n",
    "                  0.1*randn(1,5),  zeros(1,1) ])"
   ]
  },
  {
   "cell_type": "code",
   "execution_count": 67,
   "metadata": {},
   "outputs": [
    {
     "data": {
      "text/plain": [
       "knetpredict (generic function with 1 method)"
      ]
     },
     "execution_count": 67,
     "metadata": {},
     "output_type": "execute_result"
    }
   ],
   "source": [
    "function knetpredict(w,x)\n",
    "    for i=1:2:length(w)\n",
    "        x = w[i]*Knet.mat(x) .+ w[i+1]\n",
    "        if i<length(w)-1\n",
    "            x = max.(0,x)\n",
    "        end\n",
    "    end\n",
    "    return x\n",
    "end"
   ]
  },
  {
   "cell_type": "code",
   "execution_count": 68,
   "metadata": {},
   "outputs": [
    {
     "data": {
      "text/plain": [
       "train! (generic function with 1 method)"
      ]
     },
     "execution_count": 68,
     "metadata": {},
     "output_type": "execute_result"
    }
   ],
   "source": [
    "# SGD training loop\n",
    "function train!(w, data; lr=.1)\n",
    "    for (x,y) in data\n",
    "        dw = lossgradient(w, x, y)\n",
    "        for i in 1:length(w)\n",
    "            w[i] -= lr * dw[i]\n",
    "        end\n",
    "    end\n",
    "    return w\n",
    "end\n"
   ]
  },
  {
   "cell_type": "code",
   "execution_count": 74,
   "metadata": {},
   "outputs": [],
   "source": [
    "loss(w,x,ygold) = Knet.logsumexp(knetpredict(w,x),ygold); # nll is negative log likelihood\n",
    "lossgradient = Knet.grad(loss);"
   ]
  },
  {
   "cell_type": "code",
   "execution_count": 75,
   "metadata": {},
   "outputs": [
    {
     "ename": "MethodError",
     "evalue": "MethodError: no method matching logsumexp(::Array{Float32,2}, ::Array{Float32,2})\nClosest candidates are:\n  logsumexp(::Any; dims) at /Users/ppalmes/.julia/packages/Knet/IIjk8/src/loss.jl:225",
     "output_type": "error",
     "traceback": [
      "MethodError: no method matching logsumexp(::Array{Float32,2}, ::Array{Float32,2})\nClosest candidates are:\n  logsumexp(::Any; dims) at /Users/ppalmes/.julia/packages/Knet/IIjk8/src/loss.jl:225",
      "",
      "Stacktrace:",
      " [1] loss(::Array{Array{Float32,2},1}, ::Array{Float32,2}, ::Array{Float32,2}) at ./In[74]:1",
      " [2] top-level scope at In[75]:3"
     ]
    }
   ],
   "source": [
    "x=train_input\n",
    "ygold=(train_output)\n",
    "\n",
    "loss(wmlp,x,ygold)\n",
    "\n",
    "@time weights = [ copy(train!(wmlp, [(x, ygold)])) for epoch=1:1000 ]\n",
    "\n",
    "losses = [ loss(w,x,ygold) for w in weights ]"
   ]
  },
  {
   "cell_type": "code",
   "execution_count": null,
   "metadata": {},
   "outputs": [],
   "source": [
    "println(\"losses:\")\n",
    "println(\"====\")\n",
    "[x for x in losses[end-10:end]]"
   ]
  },
  {
   "cell_type": "code",
   "execution_count": null,
   "metadata": {},
   "outputs": [],
   "source": [
    "using Plots\n",
    "gr()\n",
    "Plots.plot(losses,xlabel=\"epochs\",ylabel=\"Loss\")"
   ]
  },
  {
   "cell_type": "code",
   "execution_count": null,
   "metadata": {},
   "outputs": [],
   "source": [
    "res=argmax(knetpredict(wmlp,train_input)) .== argmax(train_output)\n",
    "sum(res)/length(res)*100"
   ]
  },
  {
   "cell_type": "code",
   "execution_count": null,
   "metadata": {},
   "outputs": [],
   "source": [
    "res=argmax(knetpredict(wmlp,test_input)) .== argmax(test_output)\n",
    "k_accuracy = sum(res)/length(res)*100"
   ]
  },
  {
   "cell_type": "code",
   "execution_count": 97,
   "metadata": {},
   "outputs": [
    {
     "name": "stderr",
     "output_type": "stream",
     "text": [
      "┌ Warning: `getindex(o::PyObject, s::Symbol)` is deprecated in favor of dot overloading (`getproperty`) so elements should now be accessed as e.g. `o.s` instead of `o[:s]`.\n",
      "│   caller = make_py_graph(::Array{UInt8,1}) at py.jl:51\n",
      "└ @ Main ~/.julia/packages/TensorFlow/q9pY2/src/py.jl:51\n",
      "┌ Warning: `getindex(o::PyObject, s::Symbol)` is deprecated in favor of dot overloading (`getproperty`) so elements should now be accessed as e.g. `o.s` instead of `o[:s]`.\n",
      "│   caller = make_py_graph(::Array{UInt8,1}) at py.jl:52\n",
      "└ @ Main ~/.julia/packages/TensorFlow/q9pY2/src/py.jl:52\n",
      "┌ Warning: `getindex(o::PyObject, s::Symbol)` is deprecated in favor of dot overloading (`getproperty`) so elements should now be accessed as e.g. `o.s` instead of `o[:s]`.\n",
      "│   caller = py_with(::getfield(Main, Symbol(\"##3#4\")){Array{UInt8,1}}, ::PyObject) at py.jl:19\n",
      "└ @ Main ~/.julia/packages/TensorFlow/q9pY2/src/py.jl:19\n",
      "┌ Warning: `getindex(o::PyObject, s::Symbol)` is deprecated in favor of dot overloading (`getproperty`) so elements should now be accessed as e.g. `o.s` instead of `o[:s]`.\n",
      "│   caller = (::getfield(Main, Symbol(\"##3#4\")){Array{UInt8,1}})() at py.jl:54\n",
      "└ @ Main ~/.julia/packages/TensorFlow/q9pY2/src/py.jl:54\n",
      "┌ Warning: `getindex(o::PyObject, s::Symbol)` is deprecated in favor of dot overloading (`getproperty`) so elements should now be accessed as e.g. `o.s` instead of `o[:s]`.\n",
      "│   caller = (::getfield(Main, Symbol(\"##3#4\")){Array{UInt8,1}})() at py.jl:54\n",
      "└ @ Main ~/.julia/packages/TensorFlow/q9pY2/src/py.jl:54\n",
      "┌ Warning: `getindex(o::PyObject, s::Symbol)` is deprecated in favor of dot overloading (`getproperty`) so elements should now be accessed as e.g. `o.s` instead of `o[:s]`.\n",
      "│   caller = (::getfield(Main, Symbol(\"##3#4\")){Array{UInt8,1}})() at py.jl:54\n",
      "└ @ Main ~/.julia/packages/TensorFlow/q9pY2/src/py.jl:54\n",
      "┌ Warning: `getindex(o::PyObject, s::Symbol)` is deprecated in favor of dot overloading (`getproperty`) so elements should now be accessed as e.g. `o.s` instead of `o[:s]`.\n",
      "│   caller = (::getfield(Main, Symbol(\"##3#4\")){Array{UInt8,1}})() at py.jl:55\n",
      "└ @ Main ~/.julia/packages/TensorFlow/q9pY2/src/py.jl:55\n",
      "┌ Warning: `getindex(o::PyObject, s::Symbol)` is deprecated in favor of dot overloading (`getproperty`) so elements should now be accessed as e.g. `o.s` instead of `o[:s]`.\n",
      "│   caller = (::getfield(Main, Symbol(\"##3#4\")){Array{UInt8,1}})() at py.jl:42\n",
      "└ @ Main ~/.julia/packages/TensorFlow/q9pY2/src/py.jl:42\n",
      "┌ Warning: `getindex(o::PyObject, s::Symbol)` is deprecated in favor of dot overloading (`getproperty`) so elements should now be accessed as e.g. `o.s` instead of `o[:s]`.\n",
      "│   caller = (::getfield(Main, Symbol(\"##3#4\")){Array{UInt8,1}})() at py.jl:42\n",
      "└ @ Main ~/.julia/packages/TensorFlow/q9pY2/src/py.jl:42\n"
     ]
    },
    {
     "ename": "RemoteException",
     "evalue": "On worker 2:\ntype KeyError has no field val\ngetproperty at ./Base.jl:20\n#3 at /Users/ppalmes/.julia/packages/TensorFlow/q9pY2/src/py.jl:44\npy_with at /Users/ppalmes/.julia/packages/TensorFlow/q9pY2/src/py.jl:20\nmake_py_graph at /Users/ppalmes/.julia/packages/TensorFlow/q9pY2/src/py.jl:52\npy_gradients at /Users/ppalmes/.julia/packages/TensorFlow/q9pY2/src/py.jl:75\n#29 at /Users/ppalmes/.julia/packages/TensorFlow/q9pY2/src/TensorFlow.jl:189\n#116 at /Users/sabae/buildbot/worker/package_macos64/build/usr/share/julia/stdlib/v1.2/Distributed/src/process_messages.jl:307\nrun_work_thunk at /Users/sabae/buildbot/worker/package_macos64/build/usr/share/julia/stdlib/v1.2/Distributed/src/process_messages.jl:79\nrun_work_thunk at /Users/sabae/buildbot/worker/package_macos64/build/usr/share/julia/stdlib/v1.2/Distributed/src/process_messages.jl:88\n#102 at ./task.jl:268",
     "output_type": "error",
     "traceback": [
      "On worker 2:\ntype KeyError has no field val\ngetproperty at ./Base.jl:20\n#3 at /Users/ppalmes/.julia/packages/TensorFlow/q9pY2/src/py.jl:44\npy_with at /Users/ppalmes/.julia/packages/TensorFlow/q9pY2/src/py.jl:20\nmake_py_graph at /Users/ppalmes/.julia/packages/TensorFlow/q9pY2/src/py.jl:52\npy_gradients at /Users/ppalmes/.julia/packages/TensorFlow/q9pY2/src/py.jl:75\n#29 at /Users/ppalmes/.julia/packages/TensorFlow/q9pY2/src/TensorFlow.jl:189\n#116 at /Users/sabae/buildbot/worker/package_macos64/build/usr/share/julia/stdlib/v1.2/Distributed/src/process_messages.jl:307\nrun_work_thunk at /Users/sabae/buildbot/worker/package_macos64/build/usr/share/julia/stdlib/v1.2/Distributed/src/process_messages.jl:79\nrun_work_thunk at /Users/sabae/buildbot/worker/package_macos64/build/usr/share/julia/stdlib/v1.2/Distributed/src/process_messages.jl:88\n#102 at ./task.jl:268",
      "",
      "Stacktrace:",
      " [1] #remotecall_wait#154(::Base.Iterators.Pairs{Union{},Union{},Tuple{},NamedTuple{(),Tuple{}}}, ::typeof(remotecall_wait), ::Function, ::Distributed.Worker) at /Users/sabae/buildbot/worker/package_macos64/build/usr/share/julia/stdlib/v1.2/Distributed/src/remotecall.jl:421",
      " [2] remotecall_wait(::Function, ::Distributed.Worker) at /Users/sabae/buildbot/worker/package_macos64/build/usr/share/julia/stdlib/v1.2/Distributed/src/remotecall.jl:412",
      " [3] #remotecall_wait#157(::Base.Iterators.Pairs{Union{},Union{},Tuple{},NamedTuple{(),Tuple{}}}, ::typeof(remotecall_wait), ::Function, ::Int64) at /Users/sabae/buildbot/worker/package_macos64/build/usr/share/julia/stdlib/v1.2/Distributed/src/remotecall.jl:433",
      " [4] remotecall_wait(::Function, ::Int64) at /Users/sabae/buildbot/worker/package_macos64/build/usr/share/julia/stdlib/v1.2/Distributed/src/remotecall.jl:433",
      " [5] top-level scope at /Users/ppalmes/.julia/packages/TensorFlow/q9pY2/src/TensorFlow.jl:188",
      " [6] eval at ./boot.jl:330 [inlined]",
      " [7] eval at ./Base.jl:70 [inlined]",
      " [8] add_gradients_py(::Tensor{Float64}, ::Array{Any,1}, ::Nothing) at /Users/ppalmes/.julia/packages/TensorFlow/q9pY2/src/core.jl:1548",
      " [9] gradients at /Users/ppalmes/.julia/packages/TensorFlow/q9pY2/src/core.jl:1536 [inlined] (repeats 2 times)",
      " [10] compute_gradients(::TensorFlow.train.AdamOptimizer, ::Tensor{Float64}, ::Nothing) at /Users/ppalmes/.julia/packages/TensorFlow/q9pY2/src/train.jl:49",
      " [11] #minimize#1(::Nothing, ::Nothing, ::Nothing, ::typeof(TensorFlow.train.minimize), ::TensorFlow.train.AdamOptimizer, ::Tensor{Float64}) at /Users/ppalmes/.julia/packages/TensorFlow/q9pY2/src/train.jl:41",
      " [12] minimize(::TensorFlow.train.AdamOptimizer, ::Tensor{Float64}) at /Users/ppalmes/.julia/packages/TensorFlow/q9pY2/src/train.jl:38",
      " [13] top-level scope at In[97]:37"
     ]
    }
   ],
   "source": [
    "using TensorFlow\n",
    "using Distributions\n",
    "using Printf\n",
    "\n",
    "# Generate some synthetic data\n",
    "x = randn(100, 50)\n",
    "w = randn(50, 10)\n",
    "y_prob = exp.(x*w)\n",
    "y_prob ./= sum(y_prob,dims=2)\n",
    "\n",
    "function draw(probs)\n",
    "    y = zeros(size(probs))\n",
    "    for i in 1:size(probs, 1)\n",
    "        idx = rand(Categorical(probs[i, :]))\n",
    "        y[i, idx] = 1\n",
    "    end\n",
    "    return y\n",
    "end\n",
    "\n",
    "y = draw(y_prob)\n",
    "\n",
    "# Build the model\n",
    "sess = Session(Graph())\n",
    "\n",
    "X = placeholder(Float64, shape=[-1, 50])\n",
    "Y_obs = placeholder(Float64, shape=[-1, 10])\n",
    "\n",
    "variable_scope(\"logisitic_model\"; initializer=Normal(0, .001)) do\n",
    "    global W = get_variable(\"W\", [50, 10], Float64)\n",
    "    global B = get_variable(\"B\", [10], Float64)\n",
    "end\n",
    "\n",
    "Y=nn.softmax(X*W + B)\n",
    "\n",
    "Loss = -reduce_sum(log(Y).*Y_obs)\n",
    "optimizer = train.AdamOptimizer()\n",
    "minimize_op = train.minimize(optimizer, Loss)\n",
    "saver = train.Saver()\n",
    "\n",
    "# Run training\n",
    "run(sess, global_variables_initializer())\n",
    "checkpoint_path = mktempdir()\n",
    "@info(\"Checkpoint files saved in $checkpoint_path\")\n",
    "for epoch in 1:100\n",
    "    cur_loss, _ = run(sess, [Loss, minimize_op], Dict(X=>x, Y_obs=>y))\n",
    "    println(@sprintf(\"Current loss is %.2f.\", cur_loss))\n",
    "    train.save(saver, sess, joinpath(checkpoint_path, \"logistic\"), global_step=epoch)\n",
    "end"
   ]
  },
  {
   "cell_type": "code",
   "execution_count": null,
   "metadata": {},
   "outputs": [],
   "source": []
  }
 ],
 "metadata": {
  "@webio": {
   "lastCommId": null,
   "lastKernelId": null
  },
  "kernelspec": {
   "display_name": "Julia 1.2.0",
   "language": "julia",
   "name": "julia-1.2"
  },
  "language_info": {
   "file_extension": ".jl",
   "mimetype": "application/julia",
   "name": "julia",
   "version": "1.2.0"
  }
 },
 "nbformat": 4,
 "nbformat_minor": 2
}
