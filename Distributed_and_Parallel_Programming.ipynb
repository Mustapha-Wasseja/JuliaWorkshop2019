{
 "cells": [
  {
   "cell_type": "markdown",
   "metadata": {},
   "source": [
    "## Add available processors"
   ]
  },
  {
   "cell_type": "code",
   "execution_count": 2,
   "metadata": {},
   "outputs": [
    {
     "data": {
      "text/plain": [
       "1"
      ]
     },
     "execution_count": 2,
     "metadata": {},
     "output_type": "execute_result"
    }
   ],
   "source": [
    "using Distributed\n",
    "nprocs()"
   ]
  },
  {
   "cell_type": "code",
   "execution_count": 3,
   "metadata": {},
   "outputs": [
    {
     "data": {
      "text/plain": [
       "8-element Array{Int64,1}:\n",
       " 2\n",
       " 3\n",
       " 4\n",
       " 5\n",
       " 6\n",
       " 7\n",
       " 8\n",
       " 9"
      ]
     },
     "execution_count": 3,
     "metadata": {},
     "output_type": "execute_result"
    }
   ],
   "source": [
    "nprocs() == 1 && addprocs()"
   ]
  },
  {
   "cell_type": "code",
   "execution_count": 4,
   "metadata": {},
   "outputs": [
    {
     "data": {
      "text/plain": [
       "8-element Array{Int64,1}:\n",
       " 2\n",
       " 3\n",
       " 4\n",
       " 5\n",
       " 6\n",
       " 7\n",
       " 8\n",
       " 9"
      ]
     },
     "execution_count": 4,
     "metadata": {},
     "output_type": "execute_result"
    }
   ],
   "source": [
    "workers()"
   ]
  },
  {
   "cell_type": "markdown",
   "metadata": {},
   "source": [
    "## Remote Calls and References"
   ]
  },
  {
   "cell_type": "code",
   "execution_count": 5,
   "metadata": {},
   "outputs": [
    {
     "data": {
      "text/plain": [
       "Future(2, 1, 10, nothing)"
      ]
     },
     "execution_count": 5,
     "metadata": {},
     "output_type": "execute_result"
    }
   ],
   "source": [
    "ref = @spawn sin(π/5)"
   ]
  },
  {
   "cell_type": "code",
   "execution_count": 6,
   "metadata": {},
   "outputs": [
    {
     "data": {
      "text/plain": [
       "0.5877852522924731"
      ]
     },
     "execution_count": 6,
     "metadata": {},
     "output_type": "execute_result"
    }
   ],
   "source": [
    "fetch(ref)"
   ]
  },
  {
   "cell_type": "code",
   "execution_count": 10,
   "metadata": {},
   "outputs": [],
   "source": [
    "n=10\n",
    "refs = Array{Future,1}(undef,n)\n",
    "for i = 1:n\n",
    "    refs[i] = @spawn sin(i)\n",
    "end"
   ]
  },
  {
   "cell_type": "code",
   "execution_count": 11,
   "metadata": {},
   "outputs": [
    {
     "data": {
      "text/plain": [
       "10-element Array{Future,1}:\n",
       " Future(5, 1, 22, nothing)\n",
       " Future(6, 1, 23, nothing)\n",
       " Future(7, 1, 24, nothing)\n",
       " Future(8, 1, 25, nothing)\n",
       " Future(9, 1, 26, nothing)\n",
       " Future(2, 1, 27, nothing)\n",
       " Future(3, 1, 28, nothing)\n",
       " Future(4, 1, 29, nothing)\n",
       " Future(5, 1, 30, nothing)\n",
       " Future(6, 1, 31, nothing)"
      ]
     },
     "execution_count": 11,
     "metadata": {},
     "output_type": "execute_result"
    }
   ],
   "source": [
    "refs"
   ]
  },
  {
   "cell_type": "code",
   "execution_count": 12,
   "metadata": {},
   "outputs": [
    {
     "data": {
      "text/plain": [
       "1.4111883712180104"
      ]
     },
     "execution_count": 12,
     "metadata": {},
     "output_type": "execute_result"
    }
   ],
   "source": [
    "reduce(+,map(fetch,refs))"
   ]
  },
  {
   "cell_type": "code",
   "execution_count": 13,
   "metadata": {},
   "outputs": [
    {
     "data": {
      "text/plain": [
       "10-element Array{Float64,1}:\n",
       "  0.8414709848078965 \n",
       "  0.9092974268256817 \n",
       "  0.1411200080598672 \n",
       " -0.7568024953079282 \n",
       " -0.9589242746631385 \n",
       " -0.27941549819892586\n",
       "  0.6569865987187891 \n",
       "  0.9893582466233818 \n",
       "  0.4121184852417566 \n",
       " -0.5440211108893698 "
      ]
     },
     "execution_count": 13,
     "metadata": {},
     "output_type": "execute_result"
    }
   ],
   "source": [
    "res=@distributed (vcat) for i=1:n\n",
    "    sin(i)\n",
    "end"
   ]
  },
  {
   "cell_type": "code",
   "execution_count": 14,
   "metadata": {},
   "outputs": [
    {
     "data": {
      "text/plain": [
       "1.4111883712180104"
      ]
     },
     "execution_count": 14,
     "metadata": {},
     "output_type": "execute_result"
    }
   ],
   "source": [
    "reduce(+,res)"
   ]
  },
  {
   "cell_type": "code",
   "execution_count": 20,
   "metadata": {},
   "outputs": [
    {
     "name": "stdout",
     "output_type": "stream",
     "text": [
      "      From worker 4:\t(5, -0.9589242746631385)\n",
      "      From worker 9:\t(10, -0.5440211108893698)\n",
      "      From worker 5:\t(6, -0.27941549819892586)\n",
      "      From worker 6:\t(7, 0.6569865987187891)\n",
      "      From worker 8:\t(9, 0.4121184852417566)\n",
      "      From worker 7:\t(8, 0.9893582466233818)\n",
      "      From worker 3:\t(3, 0.1411200080598672)\n",
      "      From worker 3:\t(4, -0.7568024953079282)\n",
      "      From worker 2:\t(1, 0.8414709848078965)\n",
      "      From worker 2:\t(2, 0.9092974268256817)\n"
     ]
    },
    {
     "data": {
      "text/html": [
       "<table class=\"data-frame\"><thead><tr><th></th><th>worker</th><th>sin</th></tr><tr><th></th><th>Int64</th><th>Float64</th></tr></thead><tbody><p>10 rows × 2 columns</p><tr><th>1</th><td>2</td><td>0.841471</td></tr><tr><th>2</th><td>2</td><td>0.909297</td></tr><tr><th>3</th><td>3</td><td>0.14112</td></tr><tr><th>4</th><td>3</td><td>-0.756802</td></tr><tr><th>5</th><td>4</td><td>-0.958924</td></tr><tr><th>6</th><td>5</td><td>-0.279415</td></tr><tr><th>7</th><td>6</td><td>0.656987</td></tr><tr><th>8</th><td>7</td><td>0.989358</td></tr><tr><th>9</th><td>8</td><td>0.412118</td></tr><tr><th>10</th><td>9</td><td>-0.544021</td></tr></tbody></table>"
      ],
      "text/latex": [
       "\\begin{tabular}{r|cc}\n",
       "\t& worker & sin\\\\\n",
       "\t\\hline\n",
       "\t& Int64 & Float64\\\\\n",
       "\t\\hline\n",
       "\t1 & 2 & 0.841471 \\\\\n",
       "\t2 & 2 & 0.909297 \\\\\n",
       "\t3 & 3 & 0.14112 \\\\\n",
       "\t4 & 3 & -0.756802 \\\\\n",
       "\t5 & 4 & -0.958924 \\\\\n",
       "\t6 & 5 & -0.279415 \\\\\n",
       "\t7 & 6 & 0.656987 \\\\\n",
       "\t8 & 7 & 0.989358 \\\\\n",
       "\t9 & 8 & 0.412118 \\\\\n",
       "\t10 & 9 & -0.544021 \\\\\n",
       "\\end{tabular}\n"
      ],
      "text/plain": [
       "10×2 DataFrame\n",
       "│ Row │ worker │ sin       │\n",
       "│     │ \u001b[90mInt64\u001b[39m  │ \u001b[90mFloat64\u001b[39m   │\n",
       "├─────┼────────┼───────────┤\n",
       "│ 1   │ 2      │ 0.841471  │\n",
       "│ 2   │ 2      │ 0.909297  │\n",
       "│ 3   │ 3      │ 0.14112   │\n",
       "│ 4   │ 3      │ -0.756802 │\n",
       "│ 5   │ 4      │ -0.958924 │\n",
       "│ 6   │ 5      │ -0.279415 │\n",
       "│ 7   │ 6      │ 0.656987  │\n",
       "│ 8   │ 7      │ 0.989358  │\n",
       "│ 9   │ 8      │ 0.412118  │\n",
       "│ 10  │ 9      │ -0.544021 │"
      ]
     },
     "execution_count": 20,
     "metadata": {},
     "output_type": "execute_result"
    }
   ],
   "source": [
    "@everywhere using DataFrames\n",
    "@sync res=@distributed (vcat) for i = 1:10\n",
    "    println((i,sin(i)))\n",
    "    DataFrame(worker=myid(), sin=sin(i))\n",
    "end"
   ]
  },
  {
   "cell_type": "code",
   "execution_count": 21,
   "metadata": {},
   "outputs": [
    {
     "data": {
      "text/plain": [
       "1.4111883712180104"
      ]
     },
     "execution_count": 21,
     "metadata": {},
     "output_type": "execute_result"
    }
   ],
   "source": [
    "sum(res[:,2])"
   ]
  },
  {
   "cell_type": "markdown",
   "metadata": {},
   "source": [
    "## Monte-Carlo Simulation to estimate $\\pi$"
   ]
  },
  {
   "cell_type": "code",
   "execution_count": 22,
   "metadata": {},
   "outputs": [],
   "source": [
    "#==========================#\n",
    "# monte-carlo simulation\n",
    "# π r^2 / 4 r^2 = s/n \n",
    "#==========================#\n",
    "\n",
    "\n",
    "@everywhere function isInside() \n",
    "    x = rand()\n",
    "    y = rand()\n",
    "    x^2 + y^2 < 1 ? 1 : 0\n",
    "end;\n",
    "\n",
    "@everywhere function ppi(n)\n",
    "    s=@distributed (+) for i = 1:n\n",
    "        isInside()\n",
    "    end\n",
    "    4s/n\n",
    "end;\n"
   ]
  },
  {
   "cell_type": "code",
   "execution_count": 23,
   "metadata": {},
   "outputs": [
    {
     "name": "stdout",
     "output_type": "stream",
     "text": [
      "  2.055649 seconds (538.02 k allocations: 27.646 MiB, 0.53% gc time)\n"
     ]
    },
    {
     "data": {
      "text/plain": [
       "3.141542924"
      ]
     },
     "execution_count": 23,
     "metadata": {},
     "output_type": "execute_result"
    }
   ],
   "source": [
    "@time ppi(10^9)"
   ]
  },
  {
   "cell_type": "markdown",
   "metadata": {},
   "source": [
    "## Distributed Arrays"
   ]
  },
  {
   "cell_type": "code",
   "execution_count": 24,
   "metadata": {},
   "outputs": [
    {
     "data": {
      "text/plain": [
       "20×20 Array{Float64,2}:\n",
       "  3.0  4.0   5.0   3.0  2.0   9.0  2.0  …  0.0   6.0   8.0  10.0  1.0  3.0\n",
       "  2.0  2.0   4.0   5.0  4.0   9.0  5.0     1.0   6.0   9.0   2.0  9.0  5.0\n",
       "  0.0  2.0   7.0   3.0  2.0   4.0  3.0     9.0   9.0  10.0   7.0  5.0  4.0\n",
       "  7.0  5.0  10.0   5.0  1.0   4.0  1.0     8.0   4.0   3.0   9.0  9.0  3.0\n",
       "  0.0  8.0   9.0   8.0  7.0   9.0  1.0     4.0   2.0   7.0   2.0  3.0  8.0\n",
       "  2.0  8.0   2.0   3.0  5.0   4.0  1.0  …  7.0   7.0   6.0   8.0  3.0  7.0\n",
       "  8.0  7.0   5.0   4.0  6.0   8.0  8.0     3.0   1.0   1.0   2.0  2.0  6.0\n",
       "  6.0  1.0   3.0   4.0  2.0   5.0  5.0     9.0   0.0   2.0   4.0  6.0  1.0\n",
       "  4.0  6.0   3.0   4.0  2.0   3.0  5.0     7.0   3.0   5.0   5.0  2.0  1.0\n",
       "  8.0  2.0   8.0   2.0  5.0   2.0  5.0     2.0   0.0   4.0   5.0  8.0  8.0\n",
       "  7.0  1.0   5.0   3.0  8.0   8.0  6.0  …  4.0   6.0   3.0   3.0  3.0  8.0\n",
       "  3.0  2.0   8.0   0.0  6.0   9.0  4.0     8.0  10.0   7.0   9.0  9.0  3.0\n",
       "  9.0  7.0   6.0   3.0  8.0   9.0  8.0     4.0   3.0   1.0   7.0  2.0  9.0\n",
       "  3.0  1.0   4.0  10.0  7.0   2.0  7.0     8.0   1.0   6.0   5.0  8.0  6.0\n",
       "  1.0  9.0   5.0  10.0  1.0   8.0  6.0     6.0   5.0   0.0   1.0  9.0  2.0\n",
       "  3.0  2.0   9.0   1.0  2.0  10.0  6.0  …  8.0   4.0   2.0  10.0  8.0  6.0\n",
       "  1.0  9.0   2.0   7.0  9.0   7.0  7.0     7.0   7.0   0.0   8.0  5.0  1.0\n",
       " 10.0  2.0   9.0   2.0  1.0   9.0  8.0     0.0   5.0   5.0   5.0  5.0  5.0\n",
       "  8.0  6.0   6.0   8.0  6.0   0.0  9.0     1.0   7.0   0.0   1.0  6.0  5.0\n",
       "  0.0  7.0   3.0   0.0  6.0   2.0  6.0     6.0   6.0   4.0   9.0  6.0  6.0"
      ]
     },
     "execution_count": 24,
     "metadata": {},
     "output_type": "execute_result"
    }
   ],
   "source": [
    "@everywhere using DistributedArrays\n",
    "\n",
    "a = round.(10*rand(20,20))"
   ]
  },
  {
   "cell_type": "code",
   "execution_count": 25,
   "metadata": {},
   "outputs": [
    {
     "data": {
      "text/plain": [
       "20×20 Array{Int64,2}:\n",
       " 1  1  1  1  1  1  1  1  1  1  1  1  1  1  1  1  1  1  1  1\n",
       " 1  1  1  1  1  1  1  1  1  1  1  1  1  1  1  1  1  1  1  1\n",
       " 1  1  1  1  1  1  1  1  1  1  1  1  1  1  1  1  1  1  1  1\n",
       " 1  1  1  1  1  1  1  1  1  1  1  1  1  1  1  1  1  1  1  1\n",
       " 1  1  1  1  1  1  1  1  1  1  1  1  1  1  1  1  1  1  1  1\n",
       " 1  1  1  1  1  1  1  1  1  1  1  1  1  1  1  1  1  1  1  1\n",
       " 1  1  1  1  1  1  1  1  1  1  1  1  1  1  1  1  1  1  1  1\n",
       " 1  1  1  1  1  1  1  1  1  1  1  1  1  1  1  1  1  1  1  1\n",
       " 1  1  1  1  1  1  1  1  1  1  1  1  1  1  1  1  1  1  1  1\n",
       " 1  1  1  1  1  1  1  1  1  1  1  1  1  1  1  1  1  1  1  1\n",
       " 1  1  1  1  1  1  1  1  1  1  1  1  1  1  1  1  1  1  1  1\n",
       " 1  1  1  1  1  1  1  1  1  1  1  1  1  1  1  1  1  1  1  1\n",
       " 1  1  1  1  1  1  1  1  1  1  1  1  1  1  1  1  1  1  1  1\n",
       " 1  1  1  1  1  1  1  1  1  1  1  1  1  1  1  1  1  1  1  1\n",
       " 1  1  1  1  1  1  1  1  1  1  1  1  1  1  1  1  1  1  1  1\n",
       " 1  1  1  1  1  1  1  1  1  1  1  1  1  1  1  1  1  1  1  1\n",
       " 1  1  1  1  1  1  1  1  1  1  1  1  1  1  1  1  1  1  1  1\n",
       " 1  1  1  1  1  1  1  1  1  1  1  1  1  1  1  1  1  1  1  1\n",
       " 1  1  1  1  1  1  1  1  1  1  1  1  1  1  1  1  1  1  1  1\n",
       " 1  1  1  1  1  1  1  1  1  1  1  1  1  1  1  1  1  1  1  1"
      ]
     },
     "execution_count": 25,
     "metadata": {},
     "output_type": "execute_result"
    }
   ],
   "source": [
    "map(x->myid(),a)"
   ]
  },
  {
   "cell_type": "code",
   "execution_count": 26,
   "metadata": {},
   "outputs": [
    {
     "data": {
      "text/plain": [
       "20×20 DArray{Float64,2,Array{Float64,2}}:\n",
       "  3.0  4.0   5.0   3.0  2.0   9.0  2.0  …  0.0   6.0   8.0  10.0  1.0  3.0\n",
       "  2.0  2.0   4.0   5.0  4.0   9.0  5.0     1.0   6.0   9.0   2.0  9.0  5.0\n",
       "  0.0  2.0   7.0   3.0  2.0   4.0  3.0     9.0   9.0  10.0   7.0  5.0  4.0\n",
       "  7.0  5.0  10.0   5.0  1.0   4.0  1.0     8.0   4.0   3.0   9.0  9.0  3.0\n",
       "  0.0  8.0   9.0   8.0  7.0   9.0  1.0     4.0   2.0   7.0   2.0  3.0  8.0\n",
       "  2.0  8.0   2.0   3.0  5.0   4.0  1.0  …  7.0   7.0   6.0   8.0  3.0  7.0\n",
       "  8.0  7.0   5.0   4.0  6.0   8.0  8.0     3.0   1.0   1.0   2.0  2.0  6.0\n",
       "  6.0  1.0   3.0   4.0  2.0   5.0  5.0     9.0   0.0   2.0   4.0  6.0  1.0\n",
       "  4.0  6.0   3.0   4.0  2.0   3.0  5.0     7.0   3.0   5.0   5.0  2.0  1.0\n",
       "  8.0  2.0   8.0   2.0  5.0   2.0  5.0     2.0   0.0   4.0   5.0  8.0  8.0\n",
       "  7.0  1.0   5.0   3.0  8.0   8.0  6.0  …  4.0   6.0   3.0   3.0  3.0  8.0\n",
       "  3.0  2.0   8.0   0.0  6.0   9.0  4.0     8.0  10.0   7.0   9.0  9.0  3.0\n",
       "  9.0  7.0   6.0   3.0  8.0   9.0  8.0     4.0   3.0   1.0   7.0  2.0  9.0\n",
       "  3.0  1.0   4.0  10.0  7.0   2.0  7.0     8.0   1.0   6.0   5.0  8.0  6.0\n",
       "  1.0  9.0   5.0  10.0  1.0   8.0  6.0     6.0   5.0   0.0   1.0  9.0  2.0\n",
       "  3.0  2.0   9.0   1.0  2.0  10.0  6.0  …  8.0   4.0   2.0  10.0  8.0  6.0\n",
       "  1.0  9.0   2.0   7.0  9.0   7.0  7.0     7.0   7.0   0.0   8.0  5.0  1.0\n",
       " 10.0  2.0   9.0   2.0  1.0   9.0  8.0     0.0   5.0   5.0   5.0  5.0  5.0\n",
       "  8.0  6.0   6.0   8.0  6.0   0.0  9.0     1.0   7.0   0.0   1.0  6.0  5.0\n",
       "  0.0  7.0   3.0   0.0  6.0   2.0  6.0     6.0   6.0   4.0   9.0  6.0  6.0"
      ]
     },
     "execution_count": 26,
     "metadata": {},
     "output_type": "execute_result"
    }
   ],
   "source": [
    "da = distribute(a)"
   ]
  },
  {
   "cell_type": "code",
   "execution_count": 27,
   "metadata": {},
   "outputs": [
    {
     "data": {
      "text/plain": [
       "20×20 DArray{Int64,2,Array{Int64,2}}:\n",
       " 2  2  2  2  2  4  4  4  4  4  6  6  6  6  6  8  8  8  8  8\n",
       " 2  2  2  2  2  4  4  4  4  4  6  6  6  6  6  8  8  8  8  8\n",
       " 2  2  2  2  2  4  4  4  4  4  6  6  6  6  6  8  8  8  8  8\n",
       " 2  2  2  2  2  4  4  4  4  4  6  6  6  6  6  8  8  8  8  8\n",
       " 2  2  2  2  2  4  4  4  4  4  6  6  6  6  6  8  8  8  8  8\n",
       " 2  2  2  2  2  4  4  4  4  4  6  6  6  6  6  8  8  8  8  8\n",
       " 2  2  2  2  2  4  4  4  4  4  6  6  6  6  6  8  8  8  8  8\n",
       " 2  2  2  2  2  4  4  4  4  4  6  6  6  6  6  8  8  8  8  8\n",
       " 2  2  2  2  2  4  4  4  4  4  6  6  6  6  6  8  8  8  8  8\n",
       " 2  2  2  2  2  4  4  4  4  4  6  6  6  6  6  8  8  8  8  8\n",
       " 3  3  3  3  3  5  5  5  5  5  7  7  7  7  7  9  9  9  9  9\n",
       " 3  3  3  3  3  5  5  5  5  5  7  7  7  7  7  9  9  9  9  9\n",
       " 3  3  3  3  3  5  5  5  5  5  7  7  7  7  7  9  9  9  9  9\n",
       " 3  3  3  3  3  5  5  5  5  5  7  7  7  7  7  9  9  9  9  9\n",
       " 3  3  3  3  3  5  5  5  5  5  7  7  7  7  7  9  9  9  9  9\n",
       " 3  3  3  3  3  5  5  5  5  5  7  7  7  7  7  9  9  9  9  9\n",
       " 3  3  3  3  3  5  5  5  5  5  7  7  7  7  7  9  9  9  9  9\n",
       " 3  3  3  3  3  5  5  5  5  5  7  7  7  7  7  9  9  9  9  9\n",
       " 3  3  3  3  3  5  5  5  5  5  7  7  7  7  7  9  9  9  9  9\n",
       " 3  3  3  3  3  5  5  5  5  5  7  7  7  7  7  9  9  9  9  9"
      ]
     },
     "execution_count": 27,
     "metadata": {},
     "output_type": "execute_result"
    }
   ],
   "source": [
    "map(x->myid(),da)"
   ]
  },
  {
   "cell_type": "code",
   "execution_count": 28,
   "metadata": {},
   "outputs": [
    {
     "data": {
      "text/plain": [
       "2×4 Array{Int64,2}:\n",
       " 2  4  6  8\n",
       " 3  5  7  9"
      ]
     },
     "execution_count": 28,
     "metadata": {},
     "output_type": "execute_result"
    }
   ],
   "source": [
    "da.pids"
   ]
  },
  {
   "cell_type": "code",
   "execution_count": 29,
   "metadata": {},
   "outputs": [
    {
     "data": {
      "text/plain": [
       "2×4 Array{Future,2}:\n",
       " Future(2, 1, 3618, nothing)  …  Future(8, 1, 3624, nothing)\n",
       " Future(3, 1, 3619, nothing)     Future(9, 1, 3625, nothing)"
      ]
     },
     "execution_count": 29,
     "metadata": {},
     "output_type": "execute_result"
    }
   ],
   "source": [
    "[@spawnat p sum(localpart(da)) for p in da.pids]"
   ]
  },
  {
   "cell_type": "code",
   "execution_count": 30,
   "metadata": {},
   "outputs": [
    {
     "data": {
      "text/plain": [
       "2×4 Array{Float64,2}:\n",
       " 218.0  235.0  253.0  241.0\n",
       " 246.0  279.0  255.0  252.0"
      ]
     },
     "execution_count": 30,
     "metadata": {},
     "output_type": "execute_result"
    }
   ],
   "source": [
    "map(fetch,[@spawnat p sum(localpart(da)) for p in da.pids])"
   ]
  },
  {
   "cell_type": "code",
   "execution_count": 31,
   "metadata": {},
   "outputs": [
    {
     "data": {
      "text/plain": [
       "1979.0"
      ]
     },
     "execution_count": 31,
     "metadata": {},
     "output_type": "execute_result"
    }
   ],
   "source": [
    "reduce(+,map(fetch,[@spawnat p sum(localpart(da)) for p in da.pids]))"
   ]
  },
  {
   "cell_type": "code",
   "execution_count": 32,
   "metadata": {},
   "outputs": [
    {
     "data": {
      "text/plain": [
       "1979.0"
      ]
     },
     "execution_count": 32,
     "metadata": {},
     "output_type": "execute_result"
    }
   ],
   "source": [
    "sum(da)"
   ]
  },
  {
   "cell_type": "markdown",
   "metadata": {},
   "source": [
    "## Cross-validation in parallel"
   ]
  },
  {
   "cell_type": "code",
   "execution_count": 34,
   "metadata": {},
   "outputs": [],
   "source": [
    "#using RDatasets\n",
    "@everywhere using RDatasets\n",
    "@everywhere using Statistics\n",
    "#using DecisionTree\n",
    "@everywhere using DecisionTree\n",
    "\n",
    "@everywhere function irisAcc() \n",
    "    iris = dataset(\"datasets\", \"iris\")\n",
    "    features = iris[:, 1:4] |>Matrix;\n",
    "    labels = iris[:, 5] |> Vector;\n",
    "    model = build_forest(labels, features, 2, 4, 0.5, 6);\n",
    "    accuracy = nfoldCV_forest(labels, features, 2, 4, 2, 0.5);\n",
    "    mean(accuracy)\n",
    "end"
   ]
  },
  {
   "cell_type": "code",
   "execution_count": 35,
   "metadata": {},
   "outputs": [
    {
     "name": "stdout",
     "output_type": "stream",
     "text": [
      "\n",
      "Fold 1\n",
      "Classes:  "
     ]
    },
    {
     "data": {
      "text/plain": [
       "3×3 Array{Int64,2}:\n",
       " 23   0   0\n",
       "  0  29   0\n",
       "  0   2  21"
      ]
     },
     "metadata": {},
     "output_type": "display_data"
    },
    {
     "name": "stdout",
     "output_type": "stream",
     "text": [
      "CategoricalString{UInt8}[\"setosa\", \"versicolor\", \"virginica\"]\n",
      "Matrix:   \n",
      "Accuracy: "
     ]
    },
    {
     "data": {
      "text/plain": [
       "3×3 Array{Int64,2}:\n",
       " 27   0   0\n",
       "  0  18   3\n",
       "  0   4  23"
      ]
     },
     "metadata": {},
     "output_type": "display_data"
    },
    {
     "data": {
      "text/plain": [
       "3×3 Array{Int64,2}:\n",
       " 27   0   0\n",
       "  0  22   0\n",
       "  0   3  23"
      ]
     },
     "metadata": {},
     "output_type": "display_data"
    },
    {
     "data": {
      "text/plain": [
       "3×3 Array{Int64,2}:\n",
       " 23   0   0\n",
       "  0  25   3\n",
       "  0   2  22"
      ]
     },
     "metadata": {},
     "output_type": "display_data"
    },
    {
     "data": {
      "text/plain": [
       "3×3 Array{Int64,2}:\n",
       " 26   0   0\n",
       "  0  26   0\n",
       "  0   2  21"
      ]
     },
     "metadata": {},
     "output_type": "display_data"
    },
    {
     "data": {
      "text/plain": [
       "3×3 Array{Int64,2}:\n",
       " 24   0   0\n",
       "  0  22   2\n",
       "  0   1  26"
      ]
     },
     "metadata": {},
     "output_type": "display_data"
    },
    {
     "data": {
      "text/plain": [
       "3×3 Array{Int64,2}:\n",
       " 28   0   0\n",
       "  0  24   2\n",
       "  0   1  20"
      ]
     },
     "metadata": {},
     "output_type": "display_data"
    },
    {
     "data": {
      "text/plain": [
       "3×3 Array{Int64,2}:\n",
       " 22   0   0\n",
       "  0  24   0\n",
       "  0   2  27"
      ]
     },
     "metadata": {},
     "output_type": "display_data"
    },
    {
     "data": {
      "text/plain": [
       "3×3 Array{Int64,2}:\n",
       " 23   0   0\n",
       "  0  30   1\n",
       "  0   1  20"
      ]
     },
     "metadata": {},
     "output_type": "display_data"
    },
    {
     "data": {
      "text/plain": [
       "3×3 Array{Int64,2}:\n",
       " 27   0   0\n",
       "  0  19   0\n",
       "  0   2  27"
      ]
     },
     "metadata": {},
     "output_type": "display_data"
    },
    {
     "data": {
      "text/plain": [
       "3×3 Array{Int64,2}:\n",
       " 26   0   0\n",
       "  0  23   2\n",
       "  0   1  23"
      ]
     },
     "metadata": {},
     "output_type": "display_data"
    },
    {
     "data": {
      "text/plain": [
       "3×3 Array{Int64,2}:\n",
       " 24   0   0\n",
       "  0  25   0\n",
       "  0   2  24"
      ]
     },
     "metadata": {},
     "output_type": "display_data"
    },
    {
     "data": {
      "text/plain": [
       "3×3 Array{Int64,2}:\n",
       " 28   0   0\n",
       "  0  21   1\n",
       "  0   3  22"
      ]
     },
     "metadata": {},
     "output_type": "display_data"
    },
    {
     "data": {
      "text/plain": [
       "3×3 Array{Int64,2}:\n",
       " 22   0   0\n",
       "  0  27   1\n",
       "  0   1  24"
      ]
     },
     "metadata": {},
     "output_type": "display_data"
    },
    {
     "data": {
      "text/plain": [
       "3×3 Array{Int64,2}:\n",
       " 25   0   0\n",
       "  0  19   1\n",
       "  0   2  28"
      ]
     },
     "metadata": {},
     "output_type": "display_data"
    },
    {
     "name": "stdout",
     "output_type": "stream",
     "text": [
      "0.9733333333333334\n",
      "Kappa:    0.9596122778675283\n",
      "\n",
      "Fold 2\n",
      "Classes:  CategoricalString{UInt8}[\"setosa\", \"versicolor\", \"virginica\"]\n",
      "Matrix:   \n",
      "Accuracy: 0.9066666666666666\n",
      "Kappa:    0.8593247588424436\n",
      "\n",
      "Mean Accuracy: 0.94\n",
      "\n",
      "Fold 1\n",
      "Classes:  CategoricalString{UInt8}[\"setosa\", \"versicolor\", \"virginica\"]\n",
      "Matrix:   \n",
      "Accuracy: 0.96\n",
      "Kappa:    0.9399679829242262\n",
      "\n",
      "Fold 2\n",
      "Classes:  CategoricalString{UInt8}[\"setosa\", \"versicolor\", \"virginica\"]\n",
      "Matrix:   \n",
      "Accuracy: 0.9333333333333333\n",
      "Kappa:    0.8997326203208557\n",
      "\n",
      "Mean Accuracy: 0.9466666666666667\n",
      "\n",
      "Fold 1\n",
      "Classes:  CategoricalString{UInt8}[\"setosa\", \"versicolor\", \"virginica\"]\n",
      "Matrix:   \n",
      "Accuracy: 0.9733333333333334\n",
      "Kappa:    0.9598715890850723\n",
      "\n",
      "Fold 2\n",
      "Classes:  CategoricalString{UInt8}[\"setosa\", \"versicolor\", \"virginica\"]\n",
      "Matrix:   \n",
      "Accuracy: 0.96\n",
      "Kappa:    0.9398556535685645\n",
      "\n",
      "Mean Accuracy: 0.9666666666666667\n",
      "\n",
      "Fold 1\n",
      "Classes:  CategoricalString{UInt8}[\"setosa\", \"versicolor\", \"virginica\"]\n",
      "Matrix:   \n",
      "Accuracy: 0.96\n",
      "Kappa:    0.9396621078037006\n",
      "\n",
      "Fold 2\n",
      "Classes:  CategoricalString{UInt8}[\"setosa\", \"versicolor\", \"virginica\"]\n",
      "Matrix:   \n",
      "Accuracy: 0.9733333333333334\n",
      "Kappa:    0.9598286020353509\n",
      "\n",
      "Mean Accuracy: 0.9666666666666667\n",
      "\n",
      "Fold 1\n",
      "Classes:  CategoricalString{UInt8}[\"setosa\", \"versicolor\", \"virginica\"]\n",
      "Matrix:   \n",
      "Accuracy: 0.9733333333333334\n",
      "Kappa:    0.9593936112615052\n",
      "\n",
      "Fold 2\n",
      "Classes:  CategoricalString{UInt8}[\"setosa\", \"versicolor\", \"virginica\"]\n",
      "Matrix:   \n",
      "Accuracy: 0.9733333333333334\n",
      "Kappa:    0.9596122778675283\n",
      "\n",
      "Mean Accuracy: 0.9733333333333334\n",
      "\n",
      "Fold 1\n",
      "Classes:  CategoricalString{UInt8}[\"setosa\", \"versicolor\", \"virginica\"]\n",
      "Matrix:   \n",
      "Accuracy: 0.96\n",
      "Kappa:    0.9399839957321952\n",
      "\n",
      "Fold 2\n",
      "Classes:  CategoricalString{UInt8}[\"setosa\", \"versicolor\", \"virginica\"]\n",
      "Matrix:   \n",
      "Accuracy: 0.9733333333333334\n",
      "Kappa:    0.9600000000000001\n",
      "\n",
      "Mean Accuracy: 0.9666666666666667\n",
      "\n",
      "Fold 1\n",
      "Classes:  CategoricalString{UInt8}[\"setosa\", \"versicolor\", \"virginica\"]\n",
      "Matrix:   \n",
      "Accuracy: 0.9466666666666667\n",
      "Kappa:    0.9197431781701444\n",
      "\n",
      "Fold 2\n",
      "Classes:  CategoricalString{UInt8}[\"setosa\", \"versicolor\", \"virginica\"]\n",
      "Matrix:   \n",
      "Accuracy: 0.9733333333333334\n",
      "Kappa:    0.959807073954984\n",
      "\n",
      "Mean Accuracy: 0.96\n",
      "\n",
      "Fold 1\n",
      "Classes:  CategoricalString{UInt8}[\"setosa\", \"versicolor\", \"virginica\"]\n",
      "Matrix:   \n",
      "Accuracy: 0.96\n",
      "Kappa:    0.9393530997304582\n"
     ]
    },
    {
     "data": {
      "text/plain": [
       "3×3 Array{Int64,2}:\n",
       " 25   0   0\n",
       "  0  27   3\n",
       "  0   1  19"
      ]
     },
     "metadata": {},
     "output_type": "display_data"
    },
    {
     "data": {
      "text/plain": [
       "3×3 Array{Int64,2}:\n",
       " 28   0   0\n",
       "  0  22   1\n",
       "  0   0  24"
      ]
     },
     "metadata": {},
     "output_type": "display_data"
    },
    {
     "data": {
      "text/plain": [
       "3×3 Array{Int64,2}:\n",
       " 22   0   0\n",
       "  0  25   2\n",
       "  0   0  26"
      ]
     },
     "metadata": {},
     "output_type": "display_data"
    },
    {
     "data": {
      "text/plain": [
       "3×3 Array{Int64,2}:\n",
       " 27   0   0\n",
       "  0  21   0\n",
       "  0   1  26"
      ]
     },
     "metadata": {},
     "output_type": "display_data"
    },
    {
     "data": {
      "text/plain": [
       "3×3 Array{Int64,2}:\n",
       " 23   0   0\n",
       "  0  28   1\n",
       "  0   2  21"
      ]
     },
     "metadata": {},
     "output_type": "display_data"
    },
    {
     "data": {
      "text/plain": [
       "3×3 Array{Int64,2}:\n",
       " 24   0   0\n",
       "  0  24   2\n",
       "  0   0  25"
      ]
     },
     "metadata": {},
     "output_type": "display_data"
    },
    {
     "data": {
      "text/plain": [
       "3×3 Array{Int64,2}:\n",
       " 26   0   0\n",
       "  0  22   2\n",
       "  0   0  25"
      ]
     },
     "metadata": {},
     "output_type": "display_data"
    },
    {
     "data": {
      "text/plain": [
       "3×3 Array{Int64,2}:\n",
       " 28   0   0\n",
       "  0  23   1\n",
       "  0   1  22"
      ]
     },
     "metadata": {},
     "output_type": "display_data"
    },
    {
     "data": {
      "text/plain": [
       "3×3 Array{Int64,2}:\n",
       " 22   0   0\n",
       "  0  26   0\n",
       "  0   1  26"
      ]
     },
     "metadata": {},
     "output_type": "display_data"
    },
    {
     "data": {
      "text/plain": [
       "3×3 Array{Int64,2}:\n",
       " 27   0   0\n",
       "  0  21   1\n",
       "  0   2  24"
      ]
     },
     "metadata": {},
     "output_type": "display_data"
    },
    {
     "data": {
      "text/plain": [
       "3×3 Array{Int64,2}:\n",
       " 23   0   0\n",
       "  0  28   0\n",
       "  0   0  24"
      ]
     },
     "metadata": {},
     "output_type": "display_data"
    },
    {
     "data": {
      "text/plain": [
       "3×3 Array{Int64,2}:\n",
       " 26   0   0\n",
       "  0  22   2\n",
       "  0   1  24"
      ]
     },
     "metadata": {},
     "output_type": "display_data"
    },
    {
     "data": {
      "text/plain": [
       "3×3 Array{Int64,2}:\n",
       " 24   0   0\n",
       "  0  25   1\n",
       "  0   2  23"
      ]
     },
     "metadata": {},
     "output_type": "display_data"
    },
    {
     "data": {
      "text/plain": [
       "3×3 Array{Int64,2}:\n",
       " 27   0   0\n",
       "  0  25   0\n",
       "  0   1  22"
      ]
     },
     "metadata": {},
     "output_type": "display_data"
    },
    {
     "data": {
      "text/plain": [
       "3×3 Array{Int64,2}:\n",
       " 23   0   0\n",
       "  0  25   0\n",
       "  0   1  26"
      ]
     },
     "metadata": {},
     "output_type": "display_data"
    },
    {
     "data": {
      "text/plain": [
       "3×3 Array{Int64,2}:\n",
       " 22   0   0\n",
       "  0  26   0\n",
       "  0   3  24"
      ]
     },
     "metadata": {},
     "output_type": "display_data"
    },
    {
     "name": "stdout",
     "output_type": "stream",
     "text": [
      "\n",
      "Fold 2\n",
      "Classes:  CategoricalString{UInt8}[\"setosa\", \"versicolor\", \"virginica\"]\n",
      "Matrix:   \n",
      "Accuracy: 0.9466666666666667\n",
      "Kappa:    0.9193548387096774\n",
      "\n",
      "Mean Accuracy: 0.9533333333333334\n",
      "\n",
      "Fold 1\n",
      "Classes:  CategoricalString{UInt8}[\"setosa\", \"versicolor\", \"virginica\"]\n",
      "Matrix:   \n",
      "Accuracy: 0.9866666666666667\n",
      "Kappa:    0.9799196787148596\n",
      "\n",
      "Fold 2\n",
      "Classes:  CategoricalString{UInt8}[\"setosa\", \"versicolor\", \"virginica\"]\n",
      "Matrix:   \n",
      "Accuracy: 0.9733333333333334\n",
      "Kappa:    0.9598715890850723\n",
      "\n",
      "Mean Accuracy: 0.98\n",
      "\n",
      "Fold 1\n",
      "Classes:  CategoricalString{UInt8}[\"setosa\", \"versicolor\", \"virginica\"]\n",
      "Matrix:   \n",
      "Accuracy: 0.9866666666666667\n",
      "Kappa:    0.979903536977492\n",
      "\n",
      "Fold 2\n",
      "Classes:  CategoricalString{UInt8}[\"setosa\", \"versicolor\", \"virginica\"]\n",
      "Matrix:   \n",
      "Accuracy: 0.96\n",
      "Kappa:    0.939516129032258\n",
      "\n",
      "Mean Accuracy: 0.9733333333333334\n",
      "\n",
      "Fold 1\n",
      "Classes:  CategoricalString{UInt8}[\"setosa\", \"versicolor\", \"virginica\"]\n",
      "Matrix:   \n",
      "Accuracy: 0.9733333333333334\n",
      "Kappa:    0.9600000000000001\n",
      "\n",
      "Fold 2\n",
      "Classes:  CategoricalString{UInt8}[\"setosa\", \"versicolor\", \"virginica\"]\n",
      "Matrix:   \n",
      "Accuracy: 0.9733333333333334\n",
      "Kappa:    0.9599572877736253\n",
      "\n",
      "Mean Accuracy: 0.9733333333333334\n",
      "\n",
      "Fold 1\n",
      "Classes:  CategoricalString{UInt8}[\"setosa\", \"versicolor\", \"virginica\"]\n",
      "Matrix:   \n",
      "Accuracy: 0.9733333333333334\n",
      "Kappa:    0.9598501070663812\n",
      "\n",
      "Fold 2\n",
      "Classes:  CategoricalString{UInt8}[\"setosa\", \"versicolor\", \"virginica\"]\n",
      "Matrix:   \n",
      "Accuracy: 0.9866666666666667\n",
      "Kappa:    0.9799304254749798\n",
      "\n",
      "Mean Accuracy: 0.98\n",
      "\n",
      "Fold 1\n",
      "Classes:  CategoricalString{UInt8}[\"setosa\", \"versicolor\", \"virginica\"]\n",
      "Matrix:   \n",
      "Accuracy: 0.96\n",
      "Kappa:    0.9398395721925134\n",
      "\n",
      "Fold 2\n",
      "Classes:  CategoricalString{UInt8}[\"setosa\", \"versicolor\", \"virginica\"]\n",
      "Matrix:   \n",
      "Accuracy: 1.0\n",
      "Kappa:    1.0\n",
      "\n",
      "Mean Accuracy: 0.98\n",
      "\n",
      "Fold 1\n",
      "Classes:  CategoricalString{UInt8}[\"setosa\", \"versicolor\", \"virginica\"]\n",
      "Matrix:   \n",
      "Accuracy: 0.96\n",
      "Kappa:    0.9399519615692553\n",
      "\n",
      "Fold 2\n",
      "Classes:  CategoricalString{UInt8}[\"setosa\", \"versicolor\", \"virginica\"]\n",
      "Matrix:   \n",
      "Accuracy: 0.96\n",
      "Kappa:    0.9399519615692553\n",
      "\n",
      "Mean Accuracy: 0.96\n",
      "\n",
      "Fold 1\n",
      "Classes:  CategoricalString{UInt8}[\"setosa\", \"versicolor\", \"virginica\"]\n",
      "Matrix:   \n",
      "Accuracy: 0.9866666666666667\n",
      "Kappa:    0.9799465240641712\n",
      "\n",
      "Fold 2\n",
      "Classes:  CategoricalString{UInt8}[\"setosa\", \"versicolor\", \"virginica\"]\n",
      "Matrix:   \n",
      "Accuracy: 0.9866666666666667\n",
      "Kappa:    0.9799679487179489\n",
      "\n",
      "Mean Accuracy: 0.9866666666666667\n",
      "\n",
      "Fold 1\n",
      "Classes:  CategoricalString{UInt8}[\"setosa\", \"versicolor\", \"virginica\"]\n",
      "Matrix:   \n",
      "Accuracy: 0.96\n",
      "Kappa:    0.9398234822144957\n"
     ]
    },
    {
     "data": {
      "text/plain": [
       "3×3 Array{Int64,2}:\n",
       " 28   0   0\n",
       "  0  24   0\n",
       "  0   2  21"
      ]
     },
     "metadata": {},
     "output_type": "display_data"
    },
    {
     "data": {
      "text/plain": [
       "3×3 Array{Int64,2}:\n",
       " 24   0   0\n",
       "  0  26   2\n",
       "  0   0  23"
      ]
     },
     "metadata": {},
     "output_type": "display_data"
    },
    {
     "data": {
      "text/plain": [
       "3×3 Array{Int64,2}:\n",
       " 26   0   0\n",
       "  0  18   4\n",
       "  0   1  26"
      ]
     },
     "metadata": {},
     "output_type": "display_data"
    },
    {
     "data": {
      "text/plain": [
       "3×3 Array{Int64,2}:\n",
       " 27   0   0\n",
       "  0  23   2\n",
       "  0   0  23"
      ]
     },
     "metadata": {},
     "output_type": "display_data"
    },
    {
     "data": {
      "text/plain": [
       "3×3 Array{Int64,2}:\n",
       " 23   0   0\n",
       "  0  24   1\n",
       "  0   1  26"
      ]
     },
     "metadata": {},
     "output_type": "display_data"
    },
    {
     "data": {
      "text/plain": [
       "3×3 Array{Int64,2}:\n",
       " 23   0   0\n",
       "  0  27   1\n",
       "  0   2  22"
      ]
     },
     "metadata": {},
     "output_type": "display_data"
    },
    {
     "data": {
      "text/plain": [
       "3×3 Array{Int64,2}:\n",
       " 27   0   0\n",
       "  0  21   1\n",
       "  0   2  24"
      ]
     },
     "metadata": {},
     "output_type": "display_data"
    },
    {
     "data": {
      "text/plain": [
       "3×3 Array{Int64,2}:\n",
       " 22   0   0\n",
       "  0  25   0\n",
       "  0   0  28"
      ]
     },
     "metadata": {},
     "output_type": "display_data"
    },
    {
     "data": {
      "text/plain": [
       "3×3 Array{Int64,2}:\n",
       " 28   0   0\n",
       "  0  21   4\n",
       "  0   1  21"
      ]
     },
     "metadata": {},
     "output_type": "display_data"
    },
    {
     "data": {
      "text/plain": [
       "3×3 Array{Int64,2}:\n",
       " 26   0   0\n",
       "  0  23   3\n",
       "  0   0  23"
      ]
     },
     "metadata": {},
     "output_type": "display_data"
    },
    {
     "data": {
      "text/plain": [
       "3×3 Array{Int64,2}:\n",
       " 24   0   0\n",
       "  0  22   2\n",
       "  0   1  26"
      ]
     },
     "metadata": {},
     "output_type": "display_data"
    },
    {
     "data": {
      "text/plain": [
       "3×3 Array{Int64,2}:\n",
       " 28   0   0\n",
       "  0  15   6\n",
       "  0   1  25"
      ]
     },
     "metadata": {},
     "output_type": "display_data"
    },
    {
     "data": {
      "text/plain": [
       "3×3 Array{Int64,2}:\n",
       " 22   0   0\n",
       "  0  25   4\n",
       "  0   0  24"
      ]
     },
     "metadata": {},
     "output_type": "display_data"
    },
    {
     "data": {
      "text/plain": [
       "3×3 Array{Int64,2}:\n",
       " 31   0   0\n",
       "  0  27   0\n",
       "  0   0  17"
      ]
     },
     "metadata": {},
     "output_type": "display_data"
    },
    {
     "data": {
      "text/plain": [
       "3×3 Array{Int64,2}:\n",
       " 19   0   0\n",
       "  0  20   3\n",
       "  0   0  33"
      ]
     },
     "metadata": {},
     "output_type": "display_data"
    },
    {
     "data": {
      "text/plain": [
       "3×3 Array{Int64,2}:\n",
       " 20   0   0\n",
       "  0  32   1\n",
       "  0   2  20"
      ]
     },
     "metadata": {},
     "output_type": "display_data"
    },
    {
     "data": {
      "text/plain": [
       "3×3 Array{Int64,2}:\n",
       " 30   0   0\n",
       "  0  17   0\n",
       "  0   1  27"
      ]
     },
     "metadata": {},
     "output_type": "display_data"
    },
    {
     "name": "stdout",
     "output_type": "stream",
     "text": [
      "\n",
      "Fold 2\n",
      "Classes:  CategoricalString{UInt8}[\"setosa\", \"versicolor\", \"virginica\"]\n",
      "Matrix:   \n",
      "Accuracy: 0.9733333333333334\n",
      "Kappa:    0.9598286020353509\n",
      "\n",
      "Mean Accuracy: 0.9666666666666667\n",
      "\n",
      "Fold 1\n",
      "Classes:  CategoricalString{UInt8}[\"setosa\", \"versicolor\", \"virginica\"]\n",
      "Matrix:   \n",
      "Accuracy: 0.9733333333333334\n",
      "Kappa:    0.9599572877736253\n",
      "\n",
      "Fold 2\n",
      "Classes:  CategoricalString{UInt8}[\"setosa\", \"versicolor\", \"virginica\"]\n",
      "Matrix:   \n",
      "Accuracy: 0.9333333333333333\n",
      "Kappa:    0.8992206396130072\n",
      "\n",
      "Mean Accuracy: 0.9533333333333334\n",
      "\n",
      "Fold 1\n",
      "Classes:  CategoricalString{UInt8}[\"setosa\", \"versicolor\", \"virginica\"]\n",
      "Matrix:   \n",
      "Accuracy: 0.9733333333333334\n",
      "Kappa:    0.9599572877736253\n",
      "\n",
      "Fold 2\n",
      "Classes:  CategoricalString{UInt8}[\"setosa\", \"versicolor\", \"virginica\"]\n",
      "Matrix:   \n",
      "Accuracy: 0.9733333333333334\n",
      "Kappa:    0.9599144842330305\n",
      "\n",
      "Mean Accuracy: 0.9733333333333334\n",
      "\n",
      "Fold 1\n",
      "Classes:  CategoricalString{UInt8}[\"setosa\", \"versicolor\", \"virginica\"]\n",
      "Matrix:   \n",
      "Accuracy: 0.96\n",
      "Kappa:    0.9397106109324759\n",
      "\n",
      "Fold 2\n",
      "Classes:  CategoricalString{UInt8}[\"setosa\", \"versicolor\", \"virginica\"]\n",
      "Matrix:   \n",
      "Accuracy: 0.96\n",
      "Kappa:    0.9398395721925134\n",
      "\n",
      "Mean Accuracy: 0.96\n",
      "\n",
      "Fold 1\n",
      "Classes:  CategoricalString{UInt8}[\"setosa\", \"versicolor\", \"virginica\"]\n",
      "Matrix:   \n",
      "Accuracy: 1.0\n",
      "Kappa:    1.0\n",
      "\n",
      "Fold 2\n",
      "Classes:  CategoricalString{UInt8}[\"setosa\", \"versicolor\", \"virginica\"]\n",
      "Matrix:   \n",
      "Accuracy: 0.9333333333333333\n",
      "Kappa:    0.8997594226142743\n",
      "\n",
      "Mean Accuracy: 0.9666666666666667\n",
      "\n",
      "Fold 1\n",
      "Classes:  CategoricalString{UInt8}[\"setosa\", \"versicolor\", \"virginica\"]\n",
      "Matrix:   \n",
      "Accuracy: 0.96\n",
      "Kappa:    0.9400479616306954\n",
      "\n",
      "Fold 2\n",
      "Classes:  CategoricalString{UInt8}[\"setosa\", \"versicolor\", \"virginica\"]\n",
      "Matrix:   \n",
      "Accuracy: 0.96\n",
      "Kappa:    0.9398556535685645\n",
      "\n",
      "Mean Accuracy: 0.96\n",
      "\n",
      "Fold 1\n",
      "Classes:  CategoricalString{UInt8}[\"setosa\", \"versicolor\", \"virginica\"]\n",
      "Matrix:   \n",
      "Accuracy: 0.9066666666666666\n",
      "Kappa:    0.8580697485806976\n",
      "\n",
      "Fold 2\n",
      "Classes:  CategoricalString{UInt8}[\"setosa\", \"versicolor\", \"virginica\"]\n",
      "Matrix:   \n",
      "Accuracy: 0.9466666666666667\n",
      "Kappa:    0.919871794871795\n",
      "\n",
      "Mean Accuracy: 0.9266666666666666\n",
      "\n",
      "Fold 1\n",
      "Classes:  CategoricalString{UInt8}[\"setosa\", \"versicolor\", \"virginica\"]\n",
      "Matrix:   \n",
      "Accuracy: 1.0\n",
      "Kappa:    1.0\n",
      "\n",
      "Fold 2\n",
      "Classes:  CategoricalString{UInt8}[\"setosa\", \"versicolor\", \"virginica\"]\n",
      "Matrix:   \n",
      "Accuracy: 0.96\n",
      "Kappa:    0.9377765486725663\n",
      "\n",
      "Mean Accuracy: 0.98\n",
      "\n",
      "Fold 1\n",
      "Classes:  CategoricalString{UInt8}[\"setosa\", \"versicolor\", \"virginica\"]\n",
      "Matrix:   \n",
      "Accuracy: 0.96\n",
      "Kappa:    0.9382037901675363\n",
      "\n",
      "Fold 2\n",
      "Classes:  CategoricalString{UInt8}[\"setosa\", \"versicolor\", \"virginica\"]\n",
      "Matrix:   \n",
      "Accuracy: 0.9866666666666667\n",
      "Kappa:    0.9795249795249795\n",
      "\n",
      "Mean Accuracy: 0.9733333333333334\n"
     ]
    },
    {
     "data": {
      "text/plain": [
       "3×3 Array{Int64,2}:\n",
       " 29   0   0\n",
       "  0  21   1\n",
       "  0   3  21"
      ]
     },
     "metadata": {},
     "output_type": "display_data"
    },
    {
     "data": {
      "text/plain": [
       "3×3 Array{Int64,2}:\n",
       " 21   0   0\n",
       "  0  27   1\n",
       "  0   1  25"
      ]
     },
     "metadata": {},
     "output_type": "display_data"
    },
    {
     "data": {
      "text/plain": [
       "3×3 Array{Int64,2}:\n",
       " 25   0   0\n",
       "  0  23   3\n",
       "  0   0  24"
      ]
     },
     "metadata": {},
     "output_type": "display_data"
    },
    {
     "data": {
      "text/plain": [
       "3×3 Array{Int64,2}:\n",
       " 25   0   0\n",
       "  0  20   4\n",
       "  0   0  26"
      ]
     },
     "metadata": {},
     "output_type": "display_data"
    },
    {
     "data": {
      "text/plain": [
       "3×3 Array{Int64,2}:\n",
       " 21   0   0\n",
       "  0  22   0\n",
       "  0   4  28"
      ]
     },
     "metadata": {},
     "output_type": "display_data"
    },
    {
     "data": {
      "text/plain": [
       "3×3 Array{Int64,2}:\n",
       " 29   0   0\n",
       "  0  28   0\n",
       "  0   1  17"
      ]
     },
     "metadata": {},
     "output_type": "display_data"
    },
    {
     "data": {
      "text/plain": [
       "3×3 Array{Int64,2}:\n",
       " 27   0   0\n",
       "  0  19   2\n",
       "  0   1  26"
      ]
     },
     "metadata": {},
     "output_type": "display_data"
    },
    {
     "data": {
      "text/plain": [
       "3×3 Array{Int64,2}:\n",
       " 23   0   0\n",
       "  0  27   2\n",
       "  0   1  22"
      ]
     },
     "metadata": {},
     "output_type": "display_data"
    },
    {
     "data": {
      "text/plain": [
       "3×3 Array{Int64,2}:\n",
       " 27   0   0\n",
       "  0  25   1\n",
       "  0   0  22"
      ]
     },
     "metadata": {},
     "output_type": "display_data"
    },
    {
     "data": {
      "text/plain": [
       "3×3 Array{Int64,2}:\n",
       " 23   0   0\n",
       "  0  24   0\n",
       "  0   3  25"
      ]
     },
     "metadata": {},
     "output_type": "display_data"
    },
    {
     "data": {
      "text/plain": [
       "3×3 Array{Int64,2}:\n",
       " 25   0   0\n",
       "  0  21   2\n",
       "  0   1  26"
      ]
     },
     "metadata": {},
     "output_type": "display_data"
    },
    {
     "data": {
      "text/plain": [
       "3×3 Array{Int64,2}:\n",
       " 25   0   0\n",
       "  0  25   2\n",
       "  0   0  23"
      ]
     },
     "metadata": {},
     "output_type": "display_data"
    },
    {
     "data": {
      "text/plain": [
       "3×3 Array{Int64,2}:\n",
       " 23   0   0\n",
       "  0  25   3\n",
       "  0   0  24"
      ]
     },
     "metadata": {},
     "output_type": "display_data"
    },
    {
     "name": "stdout",
     "output_type": "stream",
     "text": [
      "\n",
      "Fold 1\n",
      "Classes:  CategoricalString{UInt8}[\"setosa\", \"versicolor\", \"virginica\"]\n",
      "Matrix:   \n",
      "Accuracy: 0.9466666666666667\n",
      "Kappa:    0.9195278969957081\n",
      "\n",
      "Fold 2\n",
      "Classes:  CategoricalString{UInt8}[\"setosa\", \"versicolor\", \"virginica\"]\n",
      "Matrix:   \n",
      "Accuracy: 0.9733333333333334\n",
      "Kappa:    0.9597207303974222\n",
      "\n",
      "Mean Accuracy: 0.96\n",
      "\n",
      "Fold 1\n",
      "Classes:  CategoricalString{UInt8}[\"setosa\", \"versicolor\", \"virginica\"]\n",
      "Matrix:   \n",
      "Accuracy: 0.96\n",
      "Kappa:    0.9400639318060735\n",
      "\n",
      "Fold 2\n",
      "Classes:  CategoricalString{UInt8}[\"setosa\", \"versicolor\", \"virginica\"]\n",
      "Matrix:   \n",
      "Accuracy: 0.9466666666666667\n",
      "Kappa:    0.9197860962566845\n",
      "\n",
      "Mean Accuracy: 0.9533333333333334\n",
      "\n",
      "Fold 1\n",
      "Classes:  CategoricalString{UInt8}[\"setosa\", \"versicolor\", \"virginica\"]\n",
      "Matrix:   \n",
      "Accuracy: 0.9466666666666667\n",
      "Kappa:    0.9192680301399354\n",
      "\n",
      "Fold 2\n",
      "Classes:  CategoricalString{UInt8}[\"setosa\", \"versicolor\", \"virginica\"]\n",
      "Matrix:   \n",
      "Accuracy: 0.9866666666666667\n",
      "Kappa:    0.979541734860884\n",
      "\n",
      "Mean Accuracy: 0.9666666666666667\n",
      "\n",
      "Fold 1\n",
      "Classes:  CategoricalString{UInt8}[\"setosa\", \"versicolor\", \"virginica\"]\n",
      "Matrix:   \n",
      "Accuracy: 0.96\n",
      "Kappa:    0.939516129032258\n",
      "\n",
      "Fold 2\n",
      "Classes:  CategoricalString{UInt8}[\"setosa\", \"versicolor\", \"virginica\"]\n",
      "Matrix:   \n",
      "Accuracy: 0.96\n",
      "Kappa:    0.9397106109324759\n",
      "\n",
      "Mean Accuracy: 0.96\n",
      "\n",
      "Fold 1\n",
      "Classes:  CategoricalString{UInt8}[\"setosa\", \"versicolor\", \"virginica\"]\n",
      "Matrix:   \n",
      "Accuracy: 0.9866666666666667\n",
      "Kappa:    0.9799465240641712\n",
      "\n",
      "Fold 2\n",
      "Classes:  CategoricalString{UInt8}[\"setosa\", \"versicolor\", \"virginica\"]\n",
      "Matrix:   \n",
      "Accuracy: 0.96\n",
      "Kappa:    0.9399679829242262\n",
      "\n",
      "Mean Accuracy: 0.9733333333333334\n",
      "\n",
      "Fold 1\n",
      "Classes:  CategoricalString{UInt8}[\"setosa\", \"versicolor\", \"virginica\"]\n",
      "Matrix:   \n",
      "Accuracy: 0.96\n",
      "Kappa:    0.9398073836276083\n",
      "\n",
      "Fold 2\n",
      "Classes:  CategoricalString{UInt8}[\"setosa\", \"versicolor\", \"virginica\"]\n",
      "Matrix:   \n",
      "Accuracy: 0.9733333333333334\n",
      "Kappa:    0.9600000000000001\n",
      "\n",
      "Mean Accuracy: 0.9666666666666667\n",
      "\n",
      "Fold 1\n",
      "Classes:  CategoricalString{UInt8}[\"setosa\", \"versicolor\", \"virginica\"]\n",
      "Matrix:   \n",
      "Accuracy: 0.96\n",
      "Kappa:    0."
     ]
    },
    {
     "data": {
      "text/plain": [
       "3×3 Array{Int64,2}:\n",
       " 27   0   0\n",
       "  0  20   2\n",
       "  0   0  26"
      ]
     },
     "metadata": {},
     "output_type": "display_data"
    },
    {
     "data": {
      "text/plain": [
       "3×3 Array{Int64,2}:\n",
       " 23   0   0\n",
       "  0  24   2\n",
       "  0   1  25"
      ]
     },
     "metadata": {},
     "output_type": "display_data"
    },
    {
     "data": {
      "text/plain": [
       "3×3 Array{Int64,2}:\n",
       " 27   0   0\n",
       "  0  24   0\n",
       "  0   1  23"
      ]
     },
     "metadata": {},
     "output_type": "display_data"
    },
    {
     "data": {
      "text/plain": [
       "3×3 Array{Int64,2}:\n",
       " 28   0   0\n",
       "  0  24   3\n",
       "  0   1  19"
      ]
     },
     "metadata": {},
     "output_type": "display_data"
    },
    {
     "data": {
      "text/plain": [
       "3×3 Array{Int64,2}:\n",
       " 22   0   0\n",
       "  0  20   3\n",
       "  0   0  30"
      ]
     },
     "metadata": {},
     "output_type": "display_data"
    },
    {
     "data": {
      "text/plain": [
       "3×3 Array{Int64,2}:\n",
       " 27   0   0\n",
       "  0  22   1\n",
       "  0   1  24"
      ]
     },
     "metadata": {},
     "output_type": "display_data"
    },
    {
     "data": {
      "text/plain": [
       "3×3 Array{Int64,2}:\n",
       " 23   0   0\n",
       "  0  27   0\n",
       "  0   2  23"
      ]
     },
     "metadata": {},
     "output_type": "display_data"
    },
    {
     "data": {
      "text/plain": [
       "3×3 Array{Int64,2}:\n",
       " 27   0   0\n",
       "  0  22   2\n",
       "  0   0  24"
      ]
     },
     "metadata": {},
     "output_type": "display_data"
    },
    {
     "data": {
      "text/plain": [
       "3×3 Array{Int64,2}:\n",
       " 23   0   0\n",
       "  0  23   3\n",
       "  0   0  26"
      ]
     },
     "metadata": {},
     "output_type": "display_data"
    },
    {
     "data": {
      "text/plain": [
       "3×3 Array{Int64,2}:\n",
       " 22   0   0\n",
       "  0  20   2\n",
       "  0   1  30"
      ]
     },
     "metadata": {},
     "output_type": "display_data"
    },
    {
     "data": {
      "text/plain": [
       "3×3 Array{Int64,2}:\n",
       " 28   0   0\n",
       "  0  28   0\n",
       "  0   0  19"
      ]
     },
     "metadata": {},
     "output_type": "display_data"
    },
    {
     "data": {
      "text/plain": [
       "3×3 Array{Int64,2}:\n",
       " 26   0   0\n",
       "  0  23   1\n",
       "  0   1  24"
      ]
     },
     "metadata": {},
     "output_type": "display_data"
    },
    {
     "data": {
      "text/plain": [
       "3×3 Array{Int64,2}:\n",
       " 24   0   0\n",
       "  0  23   3\n",
       "  0   0  25"
      ]
     },
     "metadata": {},
     "output_type": "display_data"
    },
    {
     "data": {
      "text/plain": [
       "3×3 Array{Int64,2}:\n",
       " 24   0   0\n",
       "  0  24   0\n",
       "  0   3  24"
      ]
     },
     "metadata": {},
     "output_type": "display_data"
    },
    {
     "data": {
      "text/plain": [
       "3×3 Array{Int64,2}:\n",
       " 26   0   0\n",
       "  0  25   1\n",
       "  0   1  22"
      ]
     },
     "metadata": {},
     "output_type": "display_data"
    },
    {
     "name": "stdout",
     "output_type": "stream",
     "text": [
      "9399679829242262\n",
      "\n",
      "Fold 2\n",
      "Classes:  CategoricalString{UInt8}[\"setosa\", \"versicolor\", \"virginica\"]\n",
      "Matrix:   \n",
      "Accuracy: 0.9733333333333334\n",
      "Kappa:    0.9597639484978542\n",
      "\n",
      "Mean Accuracy: 0.9666666666666667\n",
      "\n",
      "Fold 1\n",
      "Classes:  CategoricalString{UInt8}[\"setosa\", \"versicolor\", \"virginica\"]\n",
      "Matrix:   \n",
      "Accuracy: 0.96\n",
      "Kappa:    0.9399038461538461\n",
      "\n",
      "Fold 2\n",
      "Classes:  CategoricalString{UInt8}[\"setosa\", \"versicolor\", \"virginica\"]\n",
      "Matrix:   \n",
      "Accuracy: 0.9866666666666667\n",
      "Kappa:    0.9799679487179489\n",
      "\n",
      "Mean Accuracy: 0.9733333333333334\n",
      "\n",
      "Fold 1\n",
      "Classes:  CategoricalString{UInt8}[\"setosa\", \"versicolor\", \"virginica\"]\n",
      "Matrix:   \n",
      "Accuracy: 0.9466666666666667\n",
      "Kappa:    0.9194847020933977\n",
      "\n",
      "Fold 2\n",
      "Classes:  CategoricalString{UInt8}[\"setosa\", \"versicolor\", \"virginica\"]\n",
      "Matrix:   \n",
      "Accuracy: 0.96\n",
      "Kappa:    0.9390409103224058\n",
      "\n",
      "Mean Accuracy: 0.9533333333333334\n",
      "\n",
      "Fold 1\n",
      "Classes:  CategoricalString{UInt8}[\"setosa\", \"versicolor\", \"virginica\"]\n",
      "Matrix:   \n",
      "Accuracy: 0.9733333333333334\n",
      "Kappa:    0.9599144842330305\n",
      "\n",
      "Fold 2\n",
      "Classes:  CategoricalString{UInt8}[\"setosa\", \"versicolor\", \"virginica\"]\n",
      "Matrix:   \n",
      "Accuracy: 0.9733333333333334\n",
      "Kappa:    0.9598715890850723\n",
      "\n",
      "Mean Accuracy: 0.9733333333333334\n",
      "\n",
      "Fold 1\n",
      "Classes:  CategoricalString{UInt8}[\"setosa\", \"versicolor\", \"virginica\"]\n",
      "Matrix:   \n",
      "Accuracy: 0.9733333333333334\n",
      "Kappa:    0.9599358974358975\n",
      "\n",
      "Fold 2\n",
      "Classes:  CategoricalString{UInt8}[\"setosa\", \"versicolor\", \"virginica\"]\n",
      "Matrix:   \n",
      "Accuracy: 0.96\n",
      "Kappa:    0.9399038461538461\n",
      "\n",
      "Mean Accuracy: 0.9666666666666667\n",
      "\n",
      "Fold 1\n",
      "Classes:  CategoricalString{UInt8}[\"setosa\", \"versicolor\", \"virginica\"]\n",
      "Matrix:   \n",
      "Accuracy: 0.96\n",
      "Kappa:    0.9389747762408461\n",
      "\n",
      "Fold 2\n",
      "Classes:  CategoricalString{UInt8}[\"setosa\", \"versicolor\", \"virginica\"]\n",
      "Matrix:   \n",
      "Accuracy: 1.0\n",
      "Kappa:    1.0\n",
      "\n",
      "Mean Accuracy: 0.98\n",
      "\n",
      "Fold 1\n",
      "Classes:  CategoricalString{UInt8}[\"setosa\", \"versicolor\", \"virginica\"]\n",
      "Matrix:   \n",
      "Accuracy: 0.9733333333333334\n",
      "Kappa:    0.9599786552828176\n",
      "\n",
      "Fold 2\n",
      "Classes:  CategoricalString{UInt8}[\"setosa\", \"versicolor\", \"virginica\"]\n",
      "Matrix:   \n",
      "Accuracy: 0.96\n",
      "Kappa:    0.9400159957344708\n",
      "\n",
      "Mean Accuracy: 0.9666666666666667\n",
      "\n",
      "Fold 1\n",
      "Classes:  CategoricalString{UInt8}[\"setosa\", \"versicolor\", \"virginica\"]\n",
      "Matrix:   \n",
      "Accuracy: 0.96\n",
      "Kappa:    0.9400479616306954\n",
      "\n",
      "Fold 2\n",
      "Classes:  CategoricalString{UInt8}[\"setosa\", \"versicolor\", \"virginica\"]\n",
      "Matrix:   \n",
      "Accuracy: 0.9733333333333334\n",
      "Kappa:    0.9599358974358975\n",
      "\n",
      "Mean Accuracy: 0.9666666666666667\n"
     ]
    },
    {
     "data": {
      "text/plain": [
       "3×3 Array{Int64,2}:\n",
       " 25   0   0\n",
       "  0  23   0\n",
       "  0   3  24"
      ]
     },
     "metadata": {},
     "output_type": "display_data"
    },
    {
     "data": {
      "text/plain": [
       "3×3 Array{Int64,2}:\n",
       " 25   0   0\n",
       "  0  27   0\n",
       "  0   2  21"
      ]
     },
     "metadata": {},
     "output_type": "display_data"
    },
    {
     "data": {
      "text/plain": [
       "3×3 Array{Int64,2}:\n",
       " 24   0   0\n",
       "  0  24   1\n",
       "  0   4  22"
      ]
     },
     "metadata": {},
     "output_type": "display_data"
    },
    {
     "data": {
      "text/plain": [
       "3×3 Array{Int64,2}:\n",
       " 26   0   0\n",
       "  0  25   0\n",
       "  0   0  24"
      ]
     },
     "metadata": {},
     "output_type": "display_data"
    },
    {
     "data": {
      "text/plain": [
       "3×3 Array{Int64,2}:\n",
       " 25   0   0\n",
       "  0  28   0\n",
       "  0   2  20"
      ]
     },
     "metadata": {},
     "output_type": "display_data"
    },
    {
     "data": {
      "text/plain": [
       "3×3 Array{Int64,2}:\n",
       " 25   0   0\n",
       "  0  21   1\n",
       "  0   3  25"
      ]
     },
     "metadata": {},
     "output_type": "display_data"
    },
    {
     "data": {
      "text/plain": [
       "3×3 Array{Int64,2}:\n",
       " 26   0   0\n",
       "  0  25   1\n",
       "  0   1  22"
      ]
     },
     "metadata": {},
     "output_type": "display_data"
    },
    {
     "data": {
      "text/plain": [
       "3×3 Array{Int64,2}:\n",
       " 24   0   0\n",
       "  0  24   0\n",
       "  0   4  23"
      ]
     },
     "metadata": {},
     "output_type": "display_data"
    },
    {
     "data": {
      "text/plain": [
       "3×3 Array{Int64,2}:\n",
       " 26   0   0\n",
       "  0  23   0\n",
       "  0   2  24"
      ]
     },
     "metadata": {},
     "output_type": "display_data"
    },
    {
     "data": {
      "text/plain": [
       "3×3 Array{Int64,2}:\n",
       " 24   0   0\n",
       "  0  25   2\n",
       "  0   1  23"
      ]
     },
     "metadata": {},
     "output_type": "display_data"
    },
    {
     "data": {
      "text/plain": [
       "3×3 Array{Int64,2}:\n",
       " 29   0   0\n",
       "  0  24   0\n",
       "  0   4  18"
      ]
     },
     "metadata": {},
     "output_type": "display_data"
    },
    {
     "data": {
      "text/plain": [
       "3×3 Array{Int64,2}:\n",
       " 21   0   0\n",
       "  0  25   1\n",
       "  0   1  27"
      ]
     },
     "metadata": {},
     "output_type": "display_data"
    },
    {
     "data": {
      "text/plain": [
       "3×3 Array{Int64,2}:\n",
       " 22   0   0\n",
       "  0  27   1\n",
       "  0   3  22"
      ]
     },
     "metadata": {},
     "output_type": "display_data"
    },
    {
     "data": {
      "text/plain": [
       "3×3 Array{Int64,2}:\n",
       " 28   0   0\n",
       "  0  20   2\n",
       "  0   0  25"
      ]
     },
     "metadata": {},
     "output_type": "display_data"
    },
    {
     "data": {
      "text/plain": [
       "3×3 Array{Int64,2}:\n",
       " 23   0   0\n",
       "  0  23   0\n",
       "  0   4  25"
      ]
     },
     "metadata": {},
     "output_type": "display_data"
    },
    {
     "name": "stdout",
     "output_type": "stream",
     "text": [
      "\n",
      "Fold 1\n",
      "Classes:  CategoricalString{UInt8}[\"setosa\", \"versicolor\", \"virginica\"]\n",
      "Matrix:   \n",
      "Accuracy: 0.96\n",
      "Kappa:    0.9400639318060735\n",
      "\n",
      "Fold 2\n",
      "Classes:  CategoricalString{UInt8}[\"setosa\", \"versicolor\", \"virginica\"]\n",
      "Matrix:   \n",
      "Accuracy: 0.9733333333333334\n",
      "Kappa:    0.9598286020353509\n",
      "\n",
      "Mean Accuracy: 0.9666666666666667\n",
      "\n",
      "Fold 1\n",
      "Classes:  CategoricalString{UInt8}[\"setosa\", \"versicolor\", \"virginica\"]\n",
      "Matrix:   \n",
      "Accuracy: 0.9333333333333333\n",
      "Kappa:    0.9000266595574514\n",
      "\n",
      "Fold 2\n",
      "Classes:  CategoricalString{UInt8}[\"setosa\", \"versicolor\", \"virginica\"]\n",
      "Matrix:   \n",
      "Accuracy: 1.0\n",
      "Kappa:    1.0\n",
      "\n",
      "Mean Accuracy: 0.9666666666666667\n",
      "\n",
      "Fold 1\n",
      "Classes:  CategoricalString{UInt8}[\"setosa\", \"versicolor\", \"virginica\"]\n",
      "Matrix:   \n",
      "Accuracy: 0.9733333333333334\n",
      "Kappa:    0.9596774193548387\n",
      "\n",
      "Fold 2\n",
      "Classes:  CategoricalString{UInt8}[\"setosa\", \"versicolor\", \"virginica\"]\n",
      "Matrix:   \n",
      "Accuracy: 0.9466666666666667\n",
      "Kappa:    0.919871794871795\n",
      "\n",
      "Mean Accuracy: 0.96\n",
      "\n",
      "Fold 1\n",
      "Classes:  CategoricalString{UInt8}[\"setosa\", \"versicolor\", \"virginica\"]\n",
      "Matrix:   \n",
      "Accuracy: 0.9733333333333334\n",
      "Kappa:    0.9599358974358975\n",
      "\n",
      "Fold 2\n",
      "Classes:  CategoricalString{UInt8}[\"setosa\", \"versicolor\", \"virginica\"]\n",
      "Matrix:   \n",
      "Accuracy: 0.9466666666666667\n",
      "Kappa:    0.9201277955271567\n",
      "\n",
      "Mean Accuracy: 0.96\n",
      "\n",
      "Fold 1\n",
      "Classes:  CategoricalString{UInt8}[\"setosa\", \"versicolor\", \"virginica\"]\n",
      "Matrix:   \n",
      "Accuracy: 0.9733333333333334\n",
      "Kappa:    0.9600000000000001\n",
      "\n",
      "Fold 2\n",
      "Classes:  CategoricalString{UInt8}[\"setosa\", \"versicolor\", \"virginica\"]\n",
      "Matrix:   \n",
      "Accuracy: 0.96\n",
      "Kappa:    0.9399519615692553\n",
      "\n",
      "Mean Accuracy: 0.9666666666666667\n",
      "\n",
      "Fold 1\n",
      "Classes:  CategoricalString{UInt8}[\"setosa\", \"versicolor\", \"virginica\"]\n",
      "Matrix:   \n",
      "Accuracy: 0.9466666666666667\n",
      "Kappa:    0.9192680301399354\n",
      "\n",
      "Fold 2\n",
      "Classes:  CategoricalString{UInt8}[\"setosa\", \"versicolor\", \"virginica\"]\n",
      "Matrix:   \n",
      "Accuracy: 0.9733333333333334\n",
      "Kappa:    0.9597207303974222\n",
      "\n",
      "Mean Accuracy: 0.96\n",
      "\n",
      "Fold 1\n",
      "Classes:  CategoricalString{UInt8}[\"setosa\", \"versicolor\", \"virginica\"]\n",
      "Matrix:   \n",
      "Accuracy: 0.9466666666666667\n",
      "Kappa:    0.9194847020933977\n",
      "\n",
      "Fold 2\n",
      "Classes:  CategoricalString{UInt8}[\"setosa\", \"versicolor\", \"virginica\"]\n",
      "Matrix:   \n",
      "Accuracy: 0.9733333333333334\n",
      "Kappa:    0.9597423510466989\n",
      "\n",
      "Mean Accuracy: 0.96\n",
      "\n",
      "Fold 1\n",
      "Classes:  CategoricalString{UInt8}[\"setosa\", \"versicolor\", \"virginica\"]\n",
      "Matrix:   \n",
      "Accuracy: 0.9466666666666667\n",
      "Kappa:    0.9199999999999998\n"
     ]
    },
    {
     "data": {
      "text/plain": [
       "3×3 Array{Int64,2}:\n",
       " 27   0   0\n",
       "  0  27   0\n",
       "  0   1  20"
      ]
     },
     "metadata": {},
     "output_type": "display_data"
    },
    {
     "data": {
      "text/plain": [
       "3×3 Array{Int64,2}:\n",
       " 23   0   0\n",
       "  0  27   0\n",
       "  0   1  24"
      ]
     },
     "metadata": {},
     "output_type": "display_data"
    },
    {
     "data": {
      "text/plain": [
       "3×3 Array{Int64,2}:\n",
       " 27   0   0\n",
       "  0  22   1\n",
       "  0   2  23"
      ]
     },
     "metadata": {},
     "output_type": "display_data"
    },
    {
     "data": {
      "text/plain": [
       "3×3 Array{Int64,2}:\n",
       " 25   0   0\n",
       "  0  25   0\n",
       "  0   0  25"
      ]
     },
     "metadata": {},
     "output_type": "display_data"
    },
    {
     "data": {
      "text/plain": [
       "3×3 Array{Int64,2}:\n",
       " 25   0   0\n",
       "  0  23   2\n",
       "  0   0  25"
      ]
     },
     "metadata": {},
     "output_type": "display_data"
    },
    {
     "data": {
      "text/plain": [
       "3×3 Array{Int64,2}:\n",
       " 26   0   0\n",
       "  0  20   0\n",
       "  0   1  28"
      ]
     },
     "metadata": {},
     "output_type": "display_data"
    },
    {
     "data": {
      "text/plain": [
       "3×3 Array{Int64,2}:\n",
       " 24   0   0\n",
       "  0  29   1\n",
       "  0   2  19"
      ]
     },
     "metadata": {},
     "output_type": "display_data"
    },
    {
     "data": {
      "text/plain": [
       "3×3 Array{Int64,2}:\n",
       " 26   0   0\n",
       "  0  23   2\n",
       "  0   0  24"
      ]
     },
     "metadata": {},
     "output_type": "display_data"
    },
    {
     "data": {
      "text/plain": [
       "3×3 Array{Int64,2}:\n",
       " 24   0   0\n",
       "  0  22   3\n",
       "  0   0  26"
      ]
     },
     "metadata": {},
     "output_type": "display_data"
    },
    {
     "data": {
      "text/plain": [
       "3×3 Array{Int64,2}:\n",
       " 29   0   0\n",
       "  0  20   5\n",
       "  0   0  21"
      ]
     },
     "metadata": {},
     "output_type": "display_data"
    },
    {
     "data": {
      "text/plain": [
       "3×3 Array{Int64,2}:\n",
       " 21   0   0\n",
       "  0  23   2\n",
       "  0   0  29"
      ]
     },
     "metadata": {},
     "output_type": "display_data"
    },
    {
     "data": {
      "text/plain": [
       "3×3 Array{Int64,2}:\n",
       " 27   0   0\n",
       "  0  18   3\n",
       "  0   1  26"
      ]
     },
     "metadata": {},
     "output_type": "display_data"
    },
    {
     "data": {
      "text/plain": [
       "3×3 Array{Int64,2}:\n",
       " 23   0   0\n",
       "  0  26   3\n",
       "  0   0  23"
      ]
     },
     "metadata": {},
     "output_type": "display_data"
    },
    {
     "data": {
      "text/plain": [
       "3×3 Array{Int64,2}:\n",
       " 23   0   0\n",
       "  0  28   1\n",
       "  0   4  19"
      ]
     },
     "metadata": {},
     "output_type": "display_data"
    },
    {
     "data": {
      "text/plain": [
       "3×3 Array{Int64,2}:\n",
       " 27   0   0\n",
       "  0  20   1\n",
       "  0   3  24"
      ]
     },
     "metadata": {},
     "output_type": "display_data"
    },
    {
     "name": "stdout",
     "output_type": "stream",
     "text": [
      "\n",
      "Fold 2\n",
      "Classes:  CategoricalString{UInt8}[\"setosa\", \"versicolor\", \"virginica\"]\n",
      "Matrix:   \n",
      "Accuracy: 0.9866666666666667\n",
      "Kappa:    0.9798387096774194\n",
      "\n",
      "Mean Accuracy: 0.9666666666666667\n",
      "\n",
      "Fold 1\n",
      "Classes:  CategoricalString{UInt8}[\"setosa\", \"versicolor\", \"virginica\"]\n",
      "Matrix:   \n",
      "Accuracy: 0.9866666666666667\n",
      "Kappa:    0.9799465240641712\n",
      "\n",
      "Fold 2\n",
      "Classes:  CategoricalString{UInt8}[\"setosa\", \"versicolor\", \"virginica\"]\n",
      "Matrix:   \n",
      "Accuracy: 0.96\n",
      "Kappa:    0.9399038461538461\n",
      "\n",
      "Mean Accuracy: 0.9733333333333334\n",
      "\n",
      "Fold 1\n",
      "Classes:  CategoricalString{UInt8}[\"setosa\", \"versicolor\", \"virginica\"]\n",
      "Matrix:   \n",
      "Accuracy: 1.0\n",
      "Kappa:    1.0\n",
      "\n",
      "Fold 2\n",
      "Classes:  CategoricalString{UInt8}[\"setosa\", \"versicolor\", \"virginica\"]\n",
      "Matrix:   \n",
      "Accuracy: 0.9733333333333334\n",
      "Kappa:    0.9600000000000001\n",
      "\n",
      "Mean Accuracy: 0.9866666666666667\n",
      "\n",
      "Fold 1\n",
      "Classes:  CategoricalString{UInt8}[\"setosa\", \"versicolor\", \"virginica\"]\n",
      "Matrix:   \n",
      "Accuracy: 0.9866666666666667\n",
      "Kappa:    0.979822437449556\n",
      "\n",
      "Fold 2\n",
      "Classes:  CategoricalString{UInt8}[\"setosa\", \"versicolor\", \"virginica\"]\n",
      "Matrix:   \n",
      "Accuracy: 0.96\n",
      "Kappa:    0.9391727493917275\n",
      "\n",
      "Mean Accuracy: 0.9733333333333334\n",
      "\n",
      "Fold 1\n",
      "Classes:  CategoricalString{UInt8}[\"setosa\", \"versicolor\", \"virginica\"]\n",
      "Matrix:   \n",
      "Accuracy: 0.9733333333333334\n",
      "Kappa:    0.9600000000000001\n",
      "\n",
      "Fold 2\n",
      "Classes:  CategoricalString{UInt8}[\"setosa\", \"versicolor\", \"virginica\"]\n",
      "Matrix:   \n",
      "Accuracy: 0.96\n",
      "Kappa:    0.9399198931909212\n",
      "\n",
      "Mean Accuracy: 0.9666666666666667\n",
      "\n",
      "Fold 1\n",
      "Classes:  CategoricalString{UInt8}[\"setosa\", \"versicolor\", \"virginica\"]\n",
      "Matrix:   \n",
      "Accuracy: 0.9333333333333333\n",
      "Kappa:    0.8996789727126806\n",
      "\n",
      "Fold 2\n",
      "Classes:  CategoricalString{UInt8}[\"setosa\", \"versicolor\", \"virginica\"]\n",
      "Matrix:   \n",
      "Accuracy: 0.9733333333333334\n",
      "Kappa:    0.9595687331536389\n",
      "\n",
      "Mean Accuracy: 0.9533333333333334\n",
      "\n",
      "Fold 1\n",
      "Classes:  CategoricalString{UInt8}[\"setosa\", \"versicolor\", \"virginica\"]\n",
      "Matrix:   \n",
      "Accuracy: 0.9466666666666667\n",
      "Kappa:    0.9192245557350566\n",
      "\n",
      "Fold 2\n",
      "Classes:  CategoricalString{UInt8}[\"setosa\", \"versicolor\", \"virginica\"]\n",
      "Matrix:   \n",
      "Accuracy: 0.96\n",
      "Kappa:    0.9399038461538461\n",
      "\n",
      "Mean Accuracy: 0.9533333333333334\n",
      "\n",
      "Fold 1\n",
      "Classes:  CategoricalString{UInt8}[\"setosa\", \"versicolor\", \"virginica\"]\n",
      "Matrix:   \n",
      "Accuracy: 0.9333333333333333\n",
      "Kappa:    0.8988673139158576\n",
      "\n",
      "Fold 2\n",
      "Classes:  CategoricalString{UInt8}[\"setosa\", \"versicolor\", \"virginica\"]\n",
      "Matrix:   \n",
      "Accuracy: 0.9466666666666667\n",
      "Kappa:    0.9197431781701444\n",
      "\n",
      "Mean Accuracy: 0.94\n",
      "\n",
      "Fold 1\n",
      "Classes:  CategoricalString{UInt8}["
     ]
    },
    {
     "data": {
      "text/plain": [
       "3×3 Array{Int64,2}:\n",
       " 25   0   0\n",
       "  0  22   2\n",
       "  0   0  26"
      ]
     },
     "metadata": {},
     "output_type": "display_data"
    },
    {
     "data": {
      "text/plain": [
       "3×3 Array{Int64,2}:\n",
       " 25   0   0\n",
       "  0  25   1\n",
       "  0   1  23"
      ]
     },
     "metadata": {},
     "output_type": "display_data"
    },
    {
     "data": {
      "text/plain": [
       "3×3 Array{Int64,2}:\n",
       " 22   0   0\n",
       "  0  29   1\n",
       "  0   2  21"
      ]
     },
     "metadata": {},
     "output_type": "display_data"
    },
    {
     "data": {
      "text/plain": [
       "3×3 Array{Int64,2}:\n",
       " 28   0   0\n",
       "  0  20   0\n",
       "  0   0  27"
      ]
     },
     "metadata": {},
     "output_type": "display_data"
    },
    {
     "data": {
      "text/plain": [
       "3×3 Array{Int64,2}:\n",
       " 26   0   0\n",
       "  0  24   2\n",
       "  0   0  23"
      ]
     },
     "metadata": {},
     "output_type": "display_data"
    },
    {
     "data": {
      "text/plain": [
       "3×3 Array{Int64,2}:\n",
       " 24   0   0\n",
       "  0  21   3\n",
       "  0   1  26"
      ]
     },
     "metadata": {},
     "output_type": "display_data"
    },
    {
     "data": {
      "text/plain": [
       "3×3 Array{Int64,2}:\n",
       " 25   0   0\n",
       "  0  21   4\n",
       "  0   1  24"
      ]
     },
     "metadata": {},
     "output_type": "display_data"
    },
    {
     "data": {
      "text/plain": [
       "3×3 Array{Int64,2}:\n",
       " 25   0   0\n",
       "  0  24   1\n",
       "  0   2  23"
      ]
     },
     "metadata": {},
     "output_type": "display_data"
    },
    {
     "data": {
      "text/plain": [
       "3×3 Array{Int64,2}:\n",
       " 24   0   0\n",
       "  0  28   0\n",
       "  0   4  19"
      ]
     },
     "metadata": {},
     "output_type": "display_data"
    },
    {
     "data": {
      "text/plain": [
       "3×3 Array{Int64,2}:\n",
       " 26   0   0\n",
       "  0  22   0\n",
       "  0   3  24"
      ]
     },
     "metadata": {},
     "output_type": "display_data"
    },
    {
     "data": {
      "text/plain": [
       "3×3 Array{Int64,2}:\n",
       " 24   0   0\n",
       "  0  24   2\n",
       "  0   1  24"
      ]
     },
     "metadata": {},
     "output_type": "display_data"
    },
    {
     "data": {
      "text/plain": [
       "3×3 Array{Int64,2}:\n",
       " 26   0   0\n",
       "  0  24   0\n",
       "  0   1  24"
      ]
     },
     "metadata": {},
     "output_type": "display_data"
    },
    {
     "data": {
      "text/plain": [
       "3×3 Array{Int64,2}:\n",
       " 25   0   0\n",
       "  0  28   2\n",
       "  0   1  19"
      ]
     },
     "metadata": {},
     "output_type": "display_data"
    },
    {
     "data": {
      "text/plain": [
       "3×3 Array{Int64,2}:\n",
       " 25   0   0\n",
       "  0  20   0\n",
       "  0   5  25"
      ]
     },
     "metadata": {},
     "output_type": "display_data"
    },
    {
     "data": {
      "text/plain": [
       "3×3 Array{Int64,2}:\n",
       " 26   0   0\n",
       "  0  22   0\n",
       "  0   2  25"
      ]
     },
     "metadata": {},
     "output_type": "display_data"
    },
    {
     "data": {
      "text/plain": [
       "3×3 Array{Int64,2}:\n",
       " 24   0   0\n",
       "  0  27   1\n",
       "  0   2  21"
      ]
     },
     "metadata": {},
     "output_type": "display_data"
    },
    {
     "name": "stdout",
     "output_type": "stream",
     "text": [
      "\"setosa\", \"versicolor\", \"virginica\"]\n",
      "Matrix:   \n",
      "Accuracy: 0.9733333333333334\n",
      "Kappa:    0.9599358974358975\n",
      "\n",
      "Fold 2\n",
      "Classes:  CategoricalString{UInt8}[\"setosa\", \"versicolor\", \"virginica\"]\n",
      "Matrix:   \n",
      "Accuracy: 0.9733333333333334\n",
      "Kappa:    0.9599786552828176\n",
      "\n",
      "Mean Accuracy: 0.9733333333333334\n",
      "\n",
      "Fold 1\n",
      "Classes:  CategoricalString{UInt8}[\"setosa\", \"versicolor\", \"virginica\"]\n",
      "Matrix:   \n",
      "Accuracy: 0.96\n",
      "Kappa:    0.9392712550607287\n",
      "\n",
      "Fold 2\n",
      "Classes:  CategoricalString{UInt8}[\"setosa\", \"versicolor\", \"virginica\"]\n",
      "Matrix:   \n",
      "Accuracy: 1.0\n",
      "Kappa:    1.0\n",
      "\n",
      "Mean Accuracy: 0.98\n",
      "\n",
      "Fold 1\n",
      "Classes:  CategoricalString{UInt8}[\"setosa\", \"versicolor\", \"virginica\"]\n",
      "Matrix:   \n",
      "Accuracy: 0.9733333333333334\n",
      "Kappa:    0.9600000000000001\n",
      "\n",
      "Fold 2\n",
      "Classes:  CategoricalString{UInt8}[\"setosa\", \"versicolor\", \"virginica\"]\n",
      "Matrix:   \n",
      "Accuracy: 0.9466666666666667\n",
      "Kappa:    0.9197431781701444\n",
      "\n",
      "Mean Accuracy: 0.96\n",
      "\n",
      "Fold 1\n",
      "Classes:  CategoricalString{UInt8}[\"setosa\", \"versicolor\", \"virginica\"]\n",
      "Matrix:   \n",
      "Accuracy: 0.9333333333333333\n",
      "Kappa:    0.9\n",
      "\n",
      "Fold 2\n",
      "Classes:  CategoricalString{UInt8}[\"setosa\", \"versicolor\", \"virginica\"]\n",
      "Matrix:   \n",
      "Accuracy: 0.96\n",
      "Kappa:    0.94\n",
      "\n",
      "Mean Accuracy: 0.9466666666666667\n",
      "\n",
      "Fold 1\n",
      "Classes:  CategoricalString{UInt8}[\"setosa\", \"versicolor\", \"virginica\"]\n",
      "Matrix:   \n",
      "Accuracy: 0.9466666666666667\n",
      "Kappa:    0.9192680301399354\n",
      "\n",
      "Fold 2\n",
      "Classes:  CategoricalString{UInt8}[\"setosa\", \"versicolor\", \"virginica\"]\n",
      "Matrix:   \n",
      "Accuracy: 0.96\n",
      "Kappa:    0.9400159957344708\n",
      "\n",
      "Mean Accuracy: 0.9533333333333334\n",
      "\n",
      "Fold 1\n",
      "Classes:  CategoricalString{UInt8}[\"setosa\", \"versicolor\", \"virginica\"]\n",
      "Matrix:   \n",
      "Accuracy: 0.96\n",
      "Kappa:    0.9399839957321952\n",
      "\n",
      "Fold 2\n",
      "Classes:  CategoricalString{UInt8}[\"setosa\", \"versicolor\", \"virginica\"]\n",
      "Matrix:   \n",
      "Accuracy: 0.9866666666666667\n",
      "Kappa:    0.9799946652440651\n",
      "\n",
      "Mean Accuracy: 0.9733333333333334\n",
      "\n",
      "Fold 1\n",
      "Classes:  CategoricalString{UInt8}[\"setosa\", \"versicolor\", \"virginica\"]\n",
      "Matrix:   \n",
      "Accuracy: 0.96\n",
      "Kappa:    0.9393530997304582\n",
      "\n",
      "Fold 2\n",
      "Classes:  CategoricalString{UInt8}[\"setosa\", \"versicolor\", \"virginica\"]\n",
      "Matrix:   \n",
      "Accuracy: 0.9333333333333333\n",
      "Kappa:    0.9\n",
      "\n",
      "Mean Accuracy: 0.9466666666666667\n",
      "\n",
      "Fold 1\n",
      "Classes:  CategoricalString{UInt8}[\"setosa\", \"versicolor\", \"virginica\"]\n",
      "Matrix:   \n",
      "Accuracy: 0.9733333333333334\n",
      "Kappa:    0.9599572877736253\n",
      "\n",
      "Fold 2\n",
      "Classes:  CategoricalString{UInt8}[\"setosa\", \"versicolor\", \"virginica\"]\n",
      "Matrix:   \n",
      "Accuracy: "
     ]
    },
    {
     "data": {
      "text/plain": [
       "3×3 Array{Int64,2}:\n",
       " 31   0   0\n",
       "  0  19   3\n",
       "  0   0  22"
      ]
     },
     "metadata": {},
     "output_type": "display_data"
    },
    {
     "data": {
      "text/plain": [
       "3×3 Array{Int64,2}:\n",
       " 19   0   0\n",
       "  0  26   2\n",
       "  0   0  28"
      ]
     },
     "metadata": {},
     "output_type": "display_data"
    },
    {
     "data": {
      "text/plain": [
       "3×3 Array{Int64,2}:\n",
       " 25   0   0\n",
       "  0  24   2\n",
       "  0   0  24"
      ]
     },
     "metadata": {},
     "output_type": "display_data"
    },
    {
     "data": {
      "text/plain": [
       "3×3 Array{Int64,2}:\n",
       " 25   0   0\n",
       "  0  21   3\n",
       "  0   2  24"
      ]
     },
     "metadata": {},
     "output_type": "display_data"
    },
    {
     "data": {
      "text/plain": [
       "3×3 Array{Int64,2}:\n",
       " 28   0   0\n",
       "  0  20   0\n",
       "  0   2  25"
      ]
     },
     "metadata": {},
     "output_type": "display_data"
    },
    {
     "data": {
      "text/plain": [
       "3×3 Array{Int64,2}:\n",
       " 22   0   0\n",
       "  0  28   2\n",
       "  0   1  22"
      ]
     },
     "metadata": {},
     "output_type": "display_data"
    },
    {
     "data": {
      "text/plain": [
       "3×3 Array{Int64,2}:\n",
       " 28   0   0\n",
       "  0  22   0\n",
       "  0   3  22"
      ]
     },
     "metadata": {},
     "output_type": "display_data"
    },
    {
     "data": {
      "text/plain": [
       "3×3 Array{Int64,2}:\n",
       " 22   0   0\n",
       "  0  28   0\n",
       "  0   1  24"
      ]
     },
     "metadata": {},
     "output_type": "display_data"
    },
    {
     "data": {
      "text/plain": [
       "3×3 Array{Int64,2}:\n",
       " 26   0   0\n",
       "  0  27   1\n",
       "  0   1  20"
      ]
     },
     "metadata": {},
     "output_type": "display_data"
    },
    {
     "data": {
      "text/plain": [
       "3×3 Array{Int64,2}:\n",
       " 24   0   0\n",
       "  0  22   0\n",
       "  0   1  28"
      ]
     },
     "metadata": {},
     "output_type": "display_data"
    },
    {
     "data": {
      "text/plain": [
       "3×3 Array{Int64,2}:\n",
       " 26   0   0\n",
       "  0  20   4\n",
       "  0   0  25"
      ]
     },
     "metadata": {},
     "output_type": "display_data"
    },
    {
     "data": {
      "text/plain": [
       "3×3 Array{Int64,2}:\n",
       " 24   0   0\n",
       "  0  25   1\n",
       "  0   0  25"
      ]
     },
     "metadata": {},
     "output_type": "display_data"
    },
    {
     "data": {
      "text/plain": [
       "3×3 Array{Int64,2}:\n",
       " 23   0   0\n",
       "  0  28   0\n",
       "  0   2  22"
      ]
     },
     "metadata": {},
     "output_type": "display_data"
    },
    {
     "data": {
      "text/plain": [
       "3×3 Array{Int64,2}:\n",
       " 27   0   0\n",
       "  0  20   2\n",
       "  0   3  23"
      ]
     },
     "metadata": {},
     "output_type": "display_data"
    },
    {
     "data": {
      "text/plain": [
       "3×3 Array{Int64,2}:\n",
       " 26   0   0\n",
       "  0  21   1\n",
       "  0   3  24"
      ]
     },
     "metadata": {},
     "output_type": "display_data"
    },
    {
     "data": {
      "text/plain": [
       "3×3 Array{Int64,2}:\n",
       " 24   0   0\n",
       "  0  26   2\n",
       "  0   0  23"
      ]
     },
     "metadata": {},
     "output_type": "display_data"
    },
    {
     "name": "stdout",
     "output_type": "stream",
     "text": [
      "0.96\n",
      "Kappa:    0.9396944518895738\n",
      "\n",
      "Mean Accuracy: 0.9666666666666667\n",
      "\n",
      "Fold 1\n",
      "Classes:  CategoricalString{UInt8}[\"setosa\", \"versicolor\", \"virginica\"]\n",
      "Matrix:   \n",
      "Accuracy: 0.96\n",
      "Kappa:    0.9391233766233765\n",
      "\n",
      "Fold 2\n",
      "Classes:  CategoricalString{UInt8}[\"setosa\", \"versicolor\", \"virginica\"]\n",
      "Matrix:   \n",
      "Accuracy: 0.9733333333333334\n",
      "Kappa:    0.9594155844155845\n",
      "\n",
      "Mean Accuracy: 0.9666666666666667\n",
      "\n",
      "Fold 1\n",
      "Classes:  CategoricalString{UInt8}[\"setosa\", \"versicolor\", \"virginica\"]\n",
      "Matrix:   \n",
      "Accuracy: 0.9733333333333334\n",
      "Kappa:    0.9600213219616205\n",
      "\n",
      "Fold 2\n",
      "Classes:  CategoricalString{UInt8}[\"setosa\", \"versicolor\", \"virginica\"]\n",
      "Matrix:   \n",
      "Accuracy: 0.9333333333333333\n",
      "Kappa:    0.8998932194340631\n",
      "\n",
      "Mean Accuracy: 0.9533333333333334\n",
      "\n",
      "Fold 1\n",
      "Classes:  CategoricalString{UInt8}[\"setosa\", \"versicolor\", \"virginica\"]\n",
      "Matrix:   \n",
      "Accuracy: 0.9733333333333334\n",
      "Kappa:    0.9597423510466989\n",
      "\n",
      "Fold 2\n",
      "Classes:  CategoricalString{UInt8}[\"setosa\", \"versicolor\", \"virginica\"]\n",
      "Matrix:   \n",
      "Accuracy: 0.96\n",
      "Kappa:    0.9394998655552568\n",
      "\n",
      "Mean Accuracy: 0.9666666666666667\n",
      "\n",
      "Fold 1\n",
      "Classes:  CategoricalString{UInt8}[\"setosa\", \"versicolor\", \"virginica\"]\n",
      "Matrix:   \n",
      "Accuracy: 0.96\n",
      "Kappa:    0.9398556535685645\n",
      "\n",
      "Fold 2\n",
      "Classes:  CategoricalString{UInt8}[\"setosa\", \"versicolor\", \"virginica\"]\n",
      "Matrix:   \n",
      "Accuracy: 0.9866666666666667\n",
      "Kappa:    0.9798873692679001\n",
      "\n",
      "Mean Accuracy: 0.9733333333333334\n",
      "\n",
      "Fold 1\n",
      "Classes:  CategoricalString{UInt8}[\"setosa\", \"versicolor\", \"virginica\"]\n",
      "Matrix:   \n",
      "Accuracy: 0.9733333333333334\n",
      "Kappa:    0.9597207303974222\n",
      "\n",
      "Fold 2\n",
      "Classes:  CategoricalString{UInt8}[\"setosa\", \"versicolor\", \"virginica\"]\n",
      "Matrix:   \n",
      "Accuracy: 0.9866666666666667\n",
      "Kappa:    0.9798981506298582\n",
      "\n",
      "Mean Accuracy: 0.98\n",
      "\n",
      "Fold 1\n",
      "Classes:  CategoricalString{UInt8}[\"setosa\", \"versicolor\", \"virginica\"]\n",
      "Matrix:   \n",
      "Accuracy: 0.9466666666666667\n",
      "Kappa:    0.919871794871795\n",
      "\n",
      "Fold 2\n",
      "Classes:  CategoricalString{UInt8}[\"setosa\", \"versicolor\", \"virginica\"]\n",
      "Matrix:   \n",
      "Accuracy: 0.9866666666666667\n",
      "Kappa:    0.9799946652440651\n",
      "\n",
      "Mean Accuracy: 0.9666666666666667\n",
      "\n",
      "Fold 1\n",
      "Classes:  CategoricalString{UInt8}[\"setosa\", \"versicolor\", \"virginica\"]\n",
      "Matrix:   \n",
      "Accuracy: 0.9733333333333334\n",
      "Kappa:    0.9597639484978542\n",
      "\n",
      "Fold 2\n",
      "Classes:  CategoricalString{UInt8}[\"setosa\", \"versicolor\", \"virginica\"]\n",
      "Matrix:   \n",
      "Accuracy: 0.9333333333333333\n",
      "Kappa:    0.8997326203208557\n",
      "\n",
      "Mean Accuracy: 0.9533333333333334\n",
      "\n",
      "Fold 1\n",
      "Classes:  CategoricalString{UInt8}[\"setosa\", \"versicolor\", \"virginica\"]\n",
      "Matrix:   \n",
      "Accuracy: 0.9466666666666667\n",
      "Kappa:    0.9199145755472502\n",
      "\n",
      "Fold 2\n",
      "Classes:  CategoricalString{UInt8}[\"setosa\", \"versicolor\", \"virginica\"]\n",
      "Matrix:   \n",
      "Accuracy: 0.9733333333333334\n",
      "Kappa:    0.9599572877736253\n",
      "\n",
      "Mean Accuracy: 0.96\n"
     ]
    },
    {
     "data": {
      "text/plain": [
       "3×3 Array{Int64,2}:\n",
       " 23   0   0\n",
       "  0  25   1\n",
       "  0   6  20"
      ]
     },
     "metadata": {},
     "output_type": "display_data"
    },
    {
     "data": {
      "text/plain": [
       "3×3 Array{Int64,2}:\n",
       " 27   0   0\n",
       "  0  24   0\n",
       "  0   1  23"
      ]
     },
     "metadata": {},
     "output_type": "display_data"
    },
    {
     "data": {
      "text/plain": [
       "3×3 Array{Int64,2}:\n",
       " 28   0   0\n",
       "  0  26   0\n",
       "  0   0  21"
      ]
     },
     "metadata": {},
     "output_type": "display_data"
    },
    {
     "data": {
      "text/plain": [
       "3×3 Array{Int64,2}:\n",
       " 22   0   0\n",
       "  0  23   1\n",
       "  0   5  24"
      ]
     },
     "metadata": {},
     "output_type": "display_data"
    },
    {
     "data": {
      "text/plain": [
       "3×3 Array{Int64,2}:\n",
       " 21   0   0\n",
       "  0  28   0\n",
       "  0   2  24"
      ]
     },
     "metadata": {},
     "output_type": "display_data"
    },
    {
     "data": {
      "text/plain": [
       "3×3 Array{Int64,2}:\n",
       " 29   0   0\n",
       "  0  22   0\n",
       "  0   3  21"
      ]
     },
     "metadata": {},
     "output_type": "display_data"
    },
    {
     "data": {
      "text/plain": [
       "3×3 Array{Int64,2}:\n",
       " 28   0   0\n",
       "  0  26   1\n",
       "  0   2  18"
      ]
     },
     "metadata": {},
     "output_type": "display_data"
    },
    {
     "data": {
      "text/plain": [
       "3×3 Array{Int64,2}:\n",
       " 22   0   0\n",
       "  0  23   0\n",
       "  0   0  30"
      ]
     },
     "metadata": {},
     "output_type": "display_data"
    },
    {
     "data": {
      "text/plain": [
       "3×3 Array{Int64,2}:\n",
       " 27   0   0\n",
       "  0  21   4\n",
       "  0   0  23"
      ]
     },
     "metadata": {},
     "output_type": "display_data"
    },
    {
     "data": {
      "text/plain": [
       "3×3 Array{Int64,2}:\n",
       " 23   0   0\n",
       "  0  24   1\n",
       "  0   1  26"
      ]
     },
     "metadata": {},
     "output_type": "display_data"
    },
    {
     "data": {
      "text/plain": [
       "3×3 Array{Int64,2}:\n",
       " 28   0   0\n",
       "  0  17   2\n",
       "  0   1  27"
      ]
     },
     "metadata": {},
     "output_type": "display_data"
    },
    {
     "data": {
      "text/plain": [
       "3×3 Array{Int64,2}:\n",
       " 22   0   0\n",
       "  0  30   1\n",
       "  0   0  22"
      ]
     },
     "metadata": {},
     "output_type": "display_data"
    },
    {
     "data": {
      "text/plain": [
       "3×3 Array{Int64,2}:\n",
       " 25   0   0\n",
       "  0  26   1\n",
       "  0   2  21"
      ]
     },
     "metadata": {},
     "output_type": "display_data"
    },
    {
     "data": {
      "text/plain": [
       "3×3 Array{Int64,2}:\n",
       " 25   0   0\n",
       "  0  21   2\n",
       "  0   2  25"
      ]
     },
     "metadata": {},
     "output_type": "display_data"
    },
    {
     "name": "stdout",
     "output_type": "stream",
     "text": [
      "\n",
      "Fold 1\n",
      "Classes:  CategoricalString{UInt8}[\"setosa\", \"versicolor\", \"virginica\"]\n",
      "Matrix:   \n",
      "Accuracy: 0.9066666666666666\n",
      "Kappa:    0.8597756410256411\n",
      "\n",
      "Fold 2\n",
      "Classes:  CategoricalString{UInt8}[\"setosa\", \"versicolor\", \"virginica\"]\n",
      "Matrix:   \n",
      "Accuracy: 0.9866666666666667\n",
      "Kappa:    0.9799679487179489\n",
      "\n",
      "Mean Accuracy: 0.9466666666666667\n",
      "\n",
      "Fold 1\n",
      "Classes:  CategoricalString{UInt8}[\"setosa\", \"versicolor\", \"virginica\"]\n",
      "Matrix:   \n",
      "Accuracy: 1.0\n",
      "Kappa:    1.0\n",
      "\n",
      "Fold 2\n",
      "Classes:  CategoricalString{UInt8}[\"setosa\", \"versicolor\", \"virginica\"]\n",
      "Matrix:   \n",
      "Accuracy: 0.92\n",
      "Kappa:    0.8798076923076925\n",
      "\n",
      "Mean Accuracy: 0.96\n",
      "\n",
      "Fold 1\n",
      "Classes:  CategoricalString{UInt8}[\"setosa\", \"versicolor\", \"virginica\"]\n",
      "Matrix:   \n",
      "Accuracy: 0.9733333333333334\n",
      "Kappa:    0.9596774193548387\n",
      "\n",
      "Fold 2\n",
      "Classes:  CategoricalString{UInt8}[\"setosa\", \"versicolor\", \"virginica\"]\n",
      "Matrix:   \n",
      "Accuracy: 0.96\n",
      "Kappa:    0.9396782841823056\n",
      "\n",
      "Mean Accuracy: 0.9666666666666667\n",
      "\n",
      "Fold 1\n",
      "Classes:  CategoricalString{UInt8}[\"setosa\", \"versicolor\", \"virginica\"]\n",
      "Matrix:   \n",
      "Accuracy: 0.96\n",
      "Kappa:    0.9392712550607287\n",
      "\n",
      "Fold 2\n",
      "Classes:  CategoricalString{UInt8}[\"setosa\", \"versicolor\", \"virginica\"]\n",
      "Matrix:   \n",
      "Accuracy: 1.0\n",
      "Kappa:    1.0\n",
      "\n",
      "Mean Accuracy: 0.98\n",
      "\n",
      "Fold 1\n",
      "Classes:  CategoricalString{UInt8}[\"setosa\", \"versicolor\", \"virginica\"]\n",
      "Matrix:   \n",
      "Accuracy: 0.9466666666666667\n",
      "Kappa:    0.9199999999999998\n",
      "\n",
      "Fold 2\n",
      "Classes:  CategoricalString{UInt8}[\"setosa\", \"versicolor\", \"virginica\"]\n",
      "Matrix:   \n",
      "Accuracy: 0.9733333333333334\n",
      "Kappa:    0.9599144842330305\n",
      "\n",
      "Mean Accuracy: 0.96\n",
      "\n",
      "Fold 1\n",
      "Classes:  CategoricalString{UInt8}[\"setosa\", \"versicolor\", \"virginica\"]\n",
      "Matrix:   \n",
      "Accuracy: 0.96\n",
      "Kappa:    0.9389747762408461\n",
      "\n",
      "Fold 2\n",
      "Classes:  CategoricalString{UInt8}[\"setosa\", \"versicolor\", \"virginica\"]\n",
      "Matrix:   \n",
      "Accuracy: 0.9866666666666667\n",
      "Kappa:    0.9797570850202428\n",
      "\n",
      "Mean Accuracy: 0.9733333333333334\n",
      "\n",
      "Fold 1\n",
      "Classes:  CategoricalString{UInt8}[\"setosa\", \"versicolor\", \"virginica\"]\n",
      "Matrix:   \n",
      "Accuracy: 0.96\n",
      "Kappa:    0.9398073836276083\n",
      "\n",
      "Fold 2\n",
      "Classes:  CategoricalString{UInt8}[\"setosa\", \"versicolor\", \"virginica\"]\n",
      "Matrix:   \n",
      "Accuracy: 0.9466666666666667\n",
      "Kappa:    0.9198289684660608\n",
      "\n",
      "Mean Accuracy: 0.9533333333333334\n"
     ]
    },
    {
     "data": {
      "text/plain": [
       "3×3 Array{Int64,2}:\n",
       " 22   0   0\n",
       "  0  26   1\n",
       "  0   1  25"
      ]
     },
     "metadata": {},
     "output_type": "display_data"
    },
    {
     "data": {
      "text/plain": [
       "3×3 Array{Int64,2}:\n",
       " 28   0   0\n",
       "  0  23   0\n",
       "  0   7  17"
      ]
     },
     "metadata": {},
     "output_type": "display_data"
    },
    {
     "data": {
      "text/plain": [
       "3×3 Array{Int64,2}:\n",
       " 34   0   0\n",
       "  0  19   1\n",
       "  0   0  21"
      ]
     },
     "metadata": {},
     "output_type": "display_data"
    },
    {
     "data": {
      "text/plain": [
       "3×3 Array{Int64,2}:\n",
       " 16   0   0\n",
       "  0  26   4\n",
       "  0   0  29"
      ]
     },
     "metadata": {},
     "output_type": "display_data"
    },
    {
     "data": {
      "text/plain": [
       "3×3 Array{Int64,2}:\n",
       " 25   0   0\n",
       "  0  21   2\n",
       "  0   1  26"
      ]
     },
     "metadata": {},
     "output_type": "display_data"
    },
    {
     "data": {
      "text/plain": [
       "3×3 Array{Int64,2}:\n",
       " 25   0   0\n",
       "  0  27   0\n",
       "  0   1  22"
      ]
     },
     "metadata": {},
     "output_type": "display_data"
    },
    {
     "data": {
      "text/plain": [
       "3×3 Array{Int64,2}:\n",
       " 23   0   0\n",
       "  0  30   1\n",
       "  0   1  20"
      ]
     },
     "metadata": {},
     "output_type": "display_data"
    },
    {
     "data": {
      "text/plain": [
       "3×3 Array{Int64,2}:\n",
       " 27   0   0\n",
       "  0  19   0\n",
       "  0   3  26"
      ]
     },
     "metadata": {},
     "output_type": "display_data"
    },
    {
     "data": {
      "text/plain": [
       "3×3 Array{Int64,2}:\n",
       " 23   0   0\n",
       "  0  23   0\n",
       "  0   3  26"
      ]
     },
     "metadata": {},
     "output_type": "display_data"
    },
    {
     "data": {
      "text/plain": [
       "3×3 Array{Int64,2}:\n",
       " 27   0   0\n",
       "  0  27   0\n",
       "  0   3  18"
      ]
     },
     "metadata": {},
     "output_type": "display_data"
    },
    {
     "data": {
      "text/plain": [
       "3×3 Array{Int64,2}:\n",
       " 23   0   0\n",
       "  0  28   0\n",
       "  0   0  24"
      ]
     },
     "metadata": {},
     "output_type": "display_data"
    },
    {
     "data": {
      "text/plain": [
       "3×3 Array{Int64,2}:\n",
       " 27   0   0\n",
       "  0  20   2\n",
       "  0   2  24"
      ]
     },
     "metadata": {},
     "output_type": "display_data"
    },
    {
     "data": {
      "text/plain": [
       "3×3 Array{Int64,2}:\n",
       " 28   0   0\n",
       "  0  24   2\n",
       "  0   1  20"
      ]
     },
     "metadata": {},
     "output_type": "display_data"
    },
    {
     "data": {
      "text/plain": [
       "3×3 Array{Int64,2}:\n",
       " 22   0   0\n",
       "  0  23   1\n",
       "  0   2  27"
      ]
     },
     "metadata": {},
     "output_type": "display_data"
    },
    {
     "data": {
      "text/plain": [
       "3×3 Array{Int64,2}:\n",
       " 22   0   0\n",
       "  0  28   0\n",
       "  0   1  24"
      ]
     },
     "metadata": {},
     "output_type": "display_data"
    },
    {
     "data": {
      "text/plain": [
       "3×3 Array{Int64,2}:\n",
       " 28   0   0\n",
       "  0  21   1\n",
       "  0   3  22"
      ]
     },
     "metadata": {},
     "output_type": "display_data"
    },
    {
     "data": {
      "text/plain": [
       "3×3 Array{Int64,2}:\n",
       " 24   0   0\n",
       "  0  27   2\n",
       "  0   1  21"
      ]
     },
     "metadata": {},
     "output_type": "display_data"
    },
    {
     "data": {
      "text/plain": [
       "3×3 Array{Int64,2}:\n",
       " 26   0   0\n",
       "  0  19   2\n",
       "  0   0  28"
      ]
     },
     "metadata": {},
     "output_type": "display_data"
    },
    {
     "name": "stdout",
     "output_type": "stream",
     "text": [
      "\n",
      "Fold 1\n",
      "Classes:  CategoricalString{UInt8}[\"setosa\", \"versicolor\", \"virginica\"]\n",
      "Matrix:   \n",
      "Accuracy: 0.9733333333333334\n",
      "Kappa:    0.9598501070663812\n",
      "\n",
      "Fold 2\n",
      "Classes:  CategoricalString{UInt8}[\"setosa\", \"versicolor\", \"virginica\"]\n",
      "Matrix:   \n",
      "Accuracy: 0.9066666666666666\n",
      "Kappa:    0.8597381779321399\n",
      "\n",
      "Mean Accuracy: 0.94\n",
      "\n",
      "Fold 1\n",
      "Classes:  CategoricalString{UInt8}[\"setosa\", \"versicolor\", \"virginica\"]\n",
      "Matrix:   \n",
      "Accuracy: 0.9866666666666667\n",
      "Kappa:    0.9793217535153018\n",
      "\n",
      "Fold 2\n",
      "Classes:  CategoricalString{UInt8}[\"setosa\", \"versicolor\", \"virginica\"]\n",
      "Matrix:   \n",
      "Accuracy: 0.9466666666666667\n",
      "Kappa:    0.9174008810572687\n",
      "\n",
      "Mean Accuracy: 0.9666666666666667\n",
      "\n",
      "Fold 1\n",
      "Classes:  CategoricalString{UInt8}[\"setosa\", \"versicolor\", \"virginica\"]\n",
      "Matrix:   \n",
      "Accuracy: 0.96\n",
      "Kappa:    0.9398073836276083\n",
      "\n",
      "Fold 2\n",
      "Classes:  CategoricalString{UInt8}[\"setosa\", \"versicolor\", \"virginica\"]\n",
      "Matrix:   \n",
      "Accuracy: 0.9866666666666667\n",
      "Kappa:    0.9799357945425361\n",
      "\n",
      "Mean Accuracy: 0.9733333333333334\n",
      "\n",
      "Fold 1\n",
      "Classes:  CategoricalString{UInt8}[\"setosa\", \"versicolor\", \"virginica\"]\n",
      "Matrix:   \n",
      "Accuracy: 0.9733333333333334\n",
      "Kappa:    0.9593936112615052\n",
      "\n",
      "Fold 2\n",
      "Classes:  CategoricalString{UInt8}[\"setosa\", \"versicolor\", \"virginica\"]\n",
      "Matrix:   \n",
      "Accuracy: 0.96\n",
      "Kappa:    0.9395810955961331\n",
      "\n",
      "Mean Accuracy: 0.9666666666666667\n",
      "\n",
      "Fold 1\n",
      "Classes:  CategoricalString{UInt8}[\"setosa\", \"versicolor\", \"virginica\"]\n",
      "Matrix:   \n",
      "Accuracy: 0.96\n",
      "Kappa:    0.9399038461538461\n",
      "\n",
      "Fold 2\n",
      "Classes:  CategoricalString{UInt8}[\"setosa\", \"versicolor\", \"virginica\"]\n",
      "Matrix:   \n",
      "Accuracy: 0.96\n",
      "Kappa:    0.9393203883495145\n",
      "\n",
      "Mean Accuracy: 0.96\n",
      "\n",
      "Fold 1\n",
      "Classes:  CategoricalString{UInt8}[\"setosa\", \"versicolor\", \"virginica\"]\n",
      "Matrix:   \n",
      "Accuracy: 1.0\n",
      "Kappa:    1.0\n",
      "\n",
      "Fold 2\n",
      "Classes:  CategoricalString{UInt8}[\"setosa\", \"versicolor\", \"virginica\"]\n",
      "Matrix:   \n",
      "Accuracy: 0.9466666666666667\n",
      "Kappa:    0.9197002141327623\n",
      "\n",
      "Mean Accuracy: 0.9733333333333334\n",
      "\n",
      "Fold 1\n",
      "Classes:  CategoricalString{UInt8}[\"setosa\", \"versicolor\", \"virginica\"]\n",
      "Matrix:   \n",
      "Accuracy: 0.96\n",
      "Kappa:    0.9396621078037006\n",
      "\n",
      "Fold 2\n",
      "Classes:  CategoricalString{UInt8}[\"setosa\", \"versicolor\", \"virginica\"]\n",
      "Matrix:   \n",
      "Accuracy: 0.96\n",
      "Kappa:    0.9396621078037006\n",
      "\n",
      "Mean Accuracy: 0.96\n",
      "\n",
      "Fold 1\n",
      "Classes:  CategoricalString{UInt8}[\"setosa\", \"versicolor\", \"virginica\"]\n",
      "Matrix:   \n",
      "Accuracy: 0.9866666666666667\n",
      "Kappa:    0.9798873692679001\n",
      "\n",
      "Fold 2\n",
      "Classes:  CategoricalString{UInt8}[\"setosa\", \"versicolor\", \"virginica\"]\n",
      "Matrix:   \n",
      "Accuracy: 0.9466666666666667\n",
      "Kappa:    0.9197431781701444\n",
      "\n",
      "Mean Accuracy: 0.9666666666666667\n",
      "\n",
      "Fold 1\n",
      "Classes:  CategoricalString{UInt8}[\"setosa\", \"versicolor\", \"virginica\"]\n",
      "Matrix:   \n",
      "Accuracy: 0.96\n",
      "Kappa:    0.9396944518895738\n",
      "\n",
      "Fold 2\n",
      "Classes:  CategoricalString{UInt8}[\"setosa\", \"versicolor\", \"virginica\"]\n",
      "Matrix:   \n",
      "Accuracy: 0.9733333333333334"
     ]
    },
    {
     "data": {
      "text/plain": [
       "3×3 Array{Int64,2}:\n",
       " 21   0   0\n",
       "  0  27   1\n",
       "  0   2  24"
      ]
     },
     "metadata": {},
     "output_type": "display_data"
    },
    {
     "data": {
      "text/plain": [
       "3×3 Array{Int64,2}:\n",
       " 29   0   0\n",
       "  0  21   1\n",
       "  0   2  22"
      ]
     },
     "metadata": {},
     "output_type": "display_data"
    },
    {
     "data": {
      "text/plain": [
       "3×3 Array{Int64,2}:\n",
       " 23   0   0\n",
       "  0  23   0\n",
       "  0   0  29"
      ]
     },
     "metadata": {},
     "output_type": "display_data"
    },
    {
     "data": {
      "text/plain": [
       "3×3 Array{Int64,2}:\n",
       " 27   0   0\n",
       "  0  25   2\n",
       "  0   0  21"
      ]
     },
     "metadata": {},
     "output_type": "display_data"
    },
    {
     "data": {
      "text/plain": [
       "3×3 Array{Int64,2}:\n",
       " 26   0   0\n",
       "  0  26   0\n",
       "  0   3  20"
      ]
     },
     "metadata": {},
     "output_type": "display_data"
    },
    {
     "data": {
      "text/plain": [
       "3×3 Array{Int64,2}:\n",
       " 24   0   0\n",
       "  0  22   2\n",
       "  0   1  26"
      ]
     },
     "metadata": {},
     "output_type": "display_data"
    },
    {
     "data": {
      "text/plain": [
       "3×3 Array{Int64,2}:\n",
       " 20   0   0\n",
       "  0  31   2\n",
       "  0   1  21"
      ]
     },
     "metadata": {},
     "output_type": "display_data"
    },
    {
     "data": {
      "text/plain": [
       "3×3 Array{Int64,2}:\n",
       " 30   0   0\n",
       "  0  17   0\n",
       "  0   0  28"
      ]
     },
     "metadata": {},
     "output_type": "display_data"
    },
    {
     "data": {
      "text/plain": [
       "3×3 Array{Int64,2}:\n",
       " 23   0   0\n",
       "  0  25   0\n",
       "  0   3  24"
      ]
     },
     "metadata": {},
     "output_type": "display_data"
    },
    {
     "data": {
      "text/plain": [
       "3×3 Array{Int64,2}:\n",
       " 27   0   0\n",
       "  0  24   1\n",
       "  0   3  20"
      ]
     },
     "metadata": {},
     "output_type": "display_data"
    },
    {
     "data": {
      "text/plain": [
       "3×3 Array{Int64,2}:\n",
       " 22   0   0\n",
       "  0  25   1\n",
       "  0   2  25"
      ]
     },
     "metadata": {},
     "output_type": "display_data"
    },
    {
     "data": {
      "text/plain": [
       "3×3 Array{Int64,2}:\n",
       " 28   0   0\n",
       "  0  23   1\n",
       "  0   2  21"
      ]
     },
     "metadata": {},
     "output_type": "display_data"
    },
    {
     "data": {
      "text/plain": [
       "3×3 Array{Int64,2}:\n",
       " 26   0   0\n",
       "  0  19   1\n",
       "  0   1  28"
      ]
     },
     "metadata": {},
     "output_type": "display_data"
    },
    {
     "data": {
      "text/plain": [
       "3×3 Array{Int64,2}:\n",
       " 24   0   0\n",
       "  0  30   0\n",
       "  0   0  21"
      ]
     },
     "metadata": {},
     "output_type": "display_data"
    },
    {
     "data": {
      "text/plain": [
       "3×3 Array{Int64,2}:\n",
       " 31   0   0\n",
       "  0  24   0\n",
       "  0   2  18"
      ]
     },
     "metadata": {},
     "output_type": "display_data"
    },
    {
     "data": {
      "text/plain": [
       "3×3 Array{Int64,2}:\n",
       " 19   0   0\n",
       "  0  25   1\n",
       "  0   2  28"
      ]
     },
     "metadata": {},
     "output_type": "display_data"
    },
    {
     "name": "stdout",
     "output_type": "stream",
     "text": [
      "\n",
      "Kappa:    0.9595687331536389\n",
      "\n",
      "Mean Accuracy: 0.9666666666666667\n",
      "\n",
      "Fold 1\n",
      "Classes:  CategoricalString{UInt8}[\"setosa\", \"versicolor\", \"virginica\"]\n",
      "Matrix:   \n",
      "Accuracy: 0.96\n",
      "Kappa:    0.9395486297689414\n",
      "\n",
      "Fold 2\n",
      "Classes:  CategoricalString{UInt8}[\"setosa\", \"versicolor\", \"virginica\"]\n",
      "Matrix:   \n",
      "Accuracy: 0.96\n",
      "Kappa:    0.9396135265700483\n",
      "\n",
      "Mean Accuracy: 0.96\n",
      "\n",
      "Fold 1\n",
      "Classes:  CategoricalString{UInt8}[\"setosa\", \"versicolor\", \"virginica\"]\n",
      "Matrix:   \n",
      "Accuracy: 1.0\n",
      "Kappa:    1.0\n",
      "\n",
      "Fold 2\n",
      "Classes:  CategoricalString{UInt8}[\"setosa\", \"versicolor\", \"virginica\"]\n",
      "Matrix:   \n",
      "Accuracy: 0.9733333333333334\n",
      "Kappa:    0.9598715890850723\n",
      "\n",
      "Mean Accuracy: 0.9866666666666667\n",
      "\n",
      "Fold 1\n",
      "Classes:  CategoricalString{UInt8}[\"setosa\", \"versicolor\", \"virginica\"]\n",
      "Matrix:   \n",
      "Accuracy: 0.96\n",
      "Kappa:    0.9397590361445782\n",
      "\n",
      "Fold 2\n",
      "Classes:  CategoricalString{UInt8}[\"setosa\", \"versicolor\", \"virginica\"]\n",
      "Matrix:   \n",
      "Accuracy: 0.96\n",
      "Kappa:    0.9398556535685645\n",
      "\n",
      "Mean Accuracy: 0.96\n",
      "\n",
      "Fold 1\n",
      "Classes:  CategoricalString{UInt8}[\"setosa\", \"versicolor\", \"virginica\"]\n",
      "Matrix:   \n",
      "Accuracy: 0.96\n",
      "Kappa:    0.9385749385749386\n",
      "\n",
      "Fold 2\n",
      "Classes:  CategoricalString{UInt8}[\"setosa\", \"versicolor\", \"virginica\"]\n",
      "Matrix:   \n",
      "Accuracy: 1.0\n",
      "Kappa:    1.0\n",
      "\n",
      "Mean Accuracy: 0.98\n",
      "\n",
      "Fold 1\n",
      "Classes:  CategoricalString{UInt8}[\"setosa\", \"versicolor\", \"virginica\"]\n",
      "Matrix:   \n",
      "Accuracy: 0.96\n",
      "Kappa:    0.9399679829242262\n",
      "\n",
      "Fold 2\n",
      "Classes:  CategoricalString{UInt8}[\"setosa\", \"versicolor\", \"virginica\"]\n",
      "Matrix:   \n",
      "Accuracy: 0.9466666666666667\n",
      "Kappa:    0.9197431781701444\n",
      "\n",
      "Mean Accuracy: 0.9533333333333334\n",
      "\n",
      "Fold 1\n",
      "Classes:  CategoricalString{UInt8}[\"setosa\", \"versicolor\", \"virginica\"]\n",
      "Matrix:   \n",
      "Accuracy: 0.96\n",
      "Kappa:    0.9397912764249398\n",
      "\n",
      "Fold 2\n",
      "Classes:  CategoricalString{UInt8}[\"setosa\", \"versicolor\", \"virginica\"]\n",
      "Matrix:   \n",
      "Accuracy: 0.96\n",
      "Kappa:    0.9397590361445782\n",
      "\n",
      "Mean Accuracy: 0.96\n",
      "\n",
      "Fold 1\n",
      "Classes:  CategoricalString{UInt8}[\"setosa\", \"versicolor\", \"virginica\"]\n",
      "Matrix:   \n",
      "Accuracy: 0.9733333333333334\n",
      "Kappa:    0.9595469255663431\n",
      "\n",
      "Fold 2\n",
      "Classes:  CategoricalString{UInt8}[\"setosa\", \"versicolor\", \"virginica\"]\n",
      "Matrix:   \n",
      "Accuracy: 1.0\n",
      "Kappa:    1.0\n",
      "\n",
      "Mean Accuracy: 0.9866666666666667\n",
      "\n",
      "Fold 1\n",
      "Classes:  CategoricalString{UInt8}[\"setosa\", \"versicolor\", \"virginica\"]\n",
      "Matrix:   \n",
      "Accuracy: 0.9733333333333334\n",
      "Kappa:    0.9592391304347827\n",
      "\n",
      "Fold 2\n",
      "Classes:  CategoricalString{UInt8}[\"setosa\", \"versicolor\", \"virginica\"]\n",
      "Matrix:   \n",
      "Accuracy: "
     ]
    },
    {
     "data": {
      "text/plain": [
       "3×3 Array{Int64,2}:\n",
       " 28   0   0\n",
       "  0  18   3\n",
       "  0   0  26"
      ]
     },
     "metadata": {},
     "output_type": "display_data"
    },
    {
     "data": {
      "text/plain": [
       "3×3 Array{Int64,2}:\n",
       " 22   0   0\n",
       "  0  29   0\n",
       "  0   0  24"
      ]
     },
     "metadata": {},
     "output_type": "display_data"
    },
    {
     "data": {
      "text/plain": [
       "3×3 Array{Int64,2}:\n",
       " 30   0   0\n",
       "  0  20   2\n",
       "  0   0  23"
      ]
     },
     "metadata": {},
     "output_type": "display_data"
    },
    {
     "data": {
      "text/plain": [
       "3×3 Array{Int64,2}:\n",
       " 20   0   0\n",
       "  0  26   2\n",
       "  0   0  27"
      ]
     },
     "metadata": {},
     "output_type": "display_data"
    },
    {
     "data": {
      "text/plain": [
       "3×3 Array{Int64,2}:\n",
       " 20   0   0\n",
       "  0  25   0\n",
       "  0   6  24"
      ]
     },
     "metadata": {},
     "output_type": "display_data"
    },
    {
     "data": {
      "text/plain": [
       "3×3 Array{Int64,2}:\n",
       " 30   0   0\n",
       "  0  25   0\n",
       "  0   1  19"
      ]
     },
     "metadata": {},
     "output_type": "display_data"
    },
    {
     "data": {
      "text/plain": [
       "3×3 Array{Int64,2}:\n",
       " 24   0   0\n",
       "  0  21   3\n",
       "  0   0  27"
      ]
     },
     "metadata": {},
     "output_type": "display_data"
    },
    {
     "data": {
      "text/plain": [
       "3×3 Array{Int64,2}:\n",
       " 26   0   0\n",
       "  0  24   2\n",
       "  0   0  23"
      ]
     },
     "metadata": {},
     "output_type": "display_data"
    },
    {
     "data": {
      "text/plain": [
       "3×3 Array{Int64,2}:\n",
       " 28   0   0\n",
       "  0  18   2\n",
       "  0   0  27"
      ]
     },
     "metadata": {},
     "output_type": "display_data"
    },
    {
     "data": {
      "text/plain": [
       "3×3 Array{Int64,2}:\n",
       " 22   0   0\n",
       "  0  27   3\n",
       "  0   0  23"
      ]
     },
     "metadata": {},
     "output_type": "display_data"
    },
    {
     "data": {
      "text/plain": [
       "3×3 Array{Int64,2}:\n",
       " 27   0   0\n",
       "  0  26   0\n",
       "  0   1  21"
      ]
     },
     "metadata": {},
     "output_type": "display_data"
    },
    {
     "data": {
      "text/plain": [
       "3×3 Array{Int64,2}:\n",
       " 23   0   0\n",
       "  0  23   1\n",
       "  0   3  25"
      ]
     },
     "metadata": {},
     "output_type": "display_data"
    },
    {
     "name": "stdout",
     "output_type": "stream",
     "text": [
      "0.96\n",
      "Kappa:    0.9390574214517876\n",
      "\n",
      "Mean Accuracy: 0.9666666666666667\n",
      "\n",
      "Fold 1\n",
      "Classes:  CategoricalString{UInt8}[\"setosa\", \"versicolor\", \"virginica\"]\n",
      "Matrix:   \n",
      "Accuracy: 0.96\n",
      "Kappa:    0.9393367484497168\n",
      "\n",
      "Fold 2\n",
      "Classes:  CategoricalString{UInt8}[\"setosa\", \"versicolor\", \"virginica\"]\n",
      "Matrix:   \n",
      "Accuracy: 1.0\n",
      "Kappa:    1.0\n",
      "\n",
      "Mean Accuracy: 0.98\n",
      "\n",
      "Fold 1\n",
      "Classes:  CategoricalString{UInt8}[\"setosa\", \"versicolor\", \"virginica\"]\n",
      "Matrix:   \n",
      "Accuracy: 0.9733333333333334\n",
      "Kappa:    0.9595687331536389\n",
      "\n",
      "Fold 2\n",
      "Classes:  CategoricalString{UInt8}[\"setosa\", \"versicolor\", \"virginica\"]\n",
      "Matrix:   \n",
      "Accuracy: 0.9733333333333334\n",
      "Kappa:    0.9596122778675283\n",
      "\n",
      "Mean Accuracy: 0.9733333333333334\n",
      "\n",
      "Fold 1\n",
      "Classes:  CategoricalString{UInt8}[\"setosa\", \"versicolor\", \"virginica\"]\n",
      "Matrix:   \n",
      "Accuracy: 0.92\n",
      "Kappa:    0.8793565683646113\n",
      "\n",
      "Fold 2\n",
      "Classes:  CategoricalString{UInt8}[\"setosa\", \"versicolor\", \"virginica\"]\n",
      "Matrix:   \n",
      "Accuracy: 0.9866666666666667\n",
      "Kappa:    0.9797023004059542\n",
      "\n",
      "Mean Accuracy: 0.9533333333333334\n",
      "\n",
      "Fold 1\n",
      "Classes:  CategoricalString{UInt8}[\"setosa\", \"versicolor\", \"virginica\"]\n",
      "Matrix:   \n",
      "Accuracy: 0.96\n",
      "Kappa:    0.9397590361445782\n",
      "\n",
      "Fold 2\n",
      "Classes:  CategoricalString{UInt8}[\"setosa\", \"versicolor\", \"virginica\"]\n",
      "Matrix:   \n",
      "Accuracy: 0.9733333333333334\n",
      "Kappa:    0.9600000000000001\n",
      "\n",
      "Mean Accuracy: 0.9666666666666667\n",
      "\n",
      "Fold 1\n",
      "Classes:  CategoricalString{UInt8}[\"setosa\", \"versicolor\", \"virginica\"]\n",
      "Matrix:   \n",
      "Accuracy: 0.9733333333333334\n",
      "Kappa:    0.9594375338020552\n",
      "\n",
      "Fold 2\n",
      "Classes:  CategoricalString{UInt8}[\"setosa\", \"versicolor\", \"virginica\"]\n",
      "Matrix:   \n",
      "Accuracy: 0.96\n",
      "Kappa:    0.9397267613179747\n",
      "\n",
      "Mean Accuracy: 0.9666666666666667\n",
      "\n",
      "Fold 1\n",
      "Classes:  CategoricalString{UInt8}[\"setosa\", \"versicolor\", \"virginica\"]\n",
      "Matrix:   \n",
      "Accuracy: 0.9866666666666667\n",
      "Kappa:    0.979903536977492\n",
      "\n",
      "Fold 2\n",
      "Classes:  CategoricalString{UInt8}[\"setosa\", \"versicolor\", \"virginica\"]\n",
      "Matrix:   \n",
      "Accuracy: "
     ]
    },
    {
     "data": {
      "text/plain": [
       "3×3 Array{Int64,2}:\n",
       " 24   0   0\n",
       "  0  26   2\n",
       "  0   1  22"
      ]
     },
     "metadata": {},
     "output_type": "display_data"
    },
    {
     "data": {
      "text/plain": [
       "3×3 Array{Int64,2}:\n",
       " 26   0   0\n",
       "  0  22   0\n",
       "  0   1  26"
      ]
     },
     "metadata": {},
     "output_type": "display_data"
    },
    {
     "name": "stdout",
     "output_type": "stream",
     "text": [
      "0.9466666666666667\n",
      "Kappa:    0.919871794871795\n",
      "\n",
      "Mean Accuracy: 0.9666666666666667\n",
      "\n",
      "Fold 1\n",
      "Classes:  CategoricalString{UInt8}[\"setosa\", \"versicolor\", \"virginica\"]\n",
      "Matrix:   \n",
      "Accuracy: 0.96\n",
      "Kappa:    0.9398556535685645\n",
      "\n",
      "Fold 2\n",
      "Classes:  CategoricalString{UInt8}[\"setosa\", \"versicolor\", \"virginica\"]\n",
      "Matrix:   \n",
      "Accuracy: 0.9866666666666667\n",
      "Kappa:    0.9799518845228548\n",
      "\n",
      "Mean Accuracy: 0.9733333333333334\n",
      "Overall Acc:96.5133333333333 22.915654 seconds (68.67 M allocations: 3.253 GiB, 9.55% gc time)\n"
     ]
    }
   ],
   "source": [
    "function mserial(n)\n",
    "    sm=0.0\n",
    "    for i=1:n\n",
    "         sm += irisAcc()\n",
    "    end\n",
    "    print(\"Overall Acc:\",sm/n*100.0)\n",
    "end\n",
    "@time mserial(100)"
   ]
  },
  {
   "cell_type": "code",
   "execution_count": 36,
   "metadata": {},
   "outputs": [
    {
     "name": "stdout",
     "output_type": "stream",
     "text": [
      "      From worker 4:\t\n",
      "      From worker 3:\t\n",
      "      From worker 4:\tFold 1\n",
      "      From worker 3:\tFold 1\n",
      "      From worker 2:\t\n",
      "      From worker 2:\tFold 1\n",
      "      From worker 3:\tClasses:  CategoricalString{UInt8}[\"setosa\", \"versicolor\", \"virginica\"]\n",
      "      From worker 4:\tClasses:  CategoricalString{UInt8}[\"setosa\", \"versicolor\", \"virginica\"]\n",
      "      From worker 2:\tClasses:  CategoricalString{UInt8}[\"setosa\", \"versicolor\", \"virginica\"]\n",
      "      From worker 5:\t\n",
      "      From worker 3:\tMatrix:   3×3 Array{Int64,2}:\n",
      "      From worker 4:\tMatrix:   3×3 Array{Int64,2}:\n",
      "      From worker 5:\tFold 1\n",
      "      From worker 2:\tMatrix:   3×3 Array{Int64,2}:\n",
      "      From worker 3:\t 29   0   0\n",
      "      From worker 3:\t  0  20   1\n",
      "      From worker 3:\t  0   0  25\n",
      "      From worker 3:\tAccuracy: 0.9866666666666667\n",
      "      From worker 3:\tKappa:    0.9798061389337642\n",
      "      From worker 4:\t 26   0   0\n",
      "      From worker 4:\t  0  24   1\n",
      "      From worker 4:\t  0   0  24\n",
      "      From worker 4:\tAccuracy: 0.9866666666666667\n",
      "      From worker 4:\tKappa:    0.9799946652440651\n",
      "      From worker 3:\t\n",
      "      From worker 3:\tFold 2\n",
      "      From worker 3:\tClasses:  CategoricalString{UInt8}[\"setosa\", \"versicolor\", \"virginica\"]\n",
      "      From worker 3:\tMatrix:   3×3 Array{Int64,2}:\n",
      "      From worker 3:\t 21   0   0\n",
      "      From worker 3:\t  0  24   5\n",
      "      From worker 3:\t  0   0  25\n",
      "      From worker 3:\tAccuracy: 0.9333333333333333\n",
      "      From worker 3:\tKappa:    0.8996789727126806\n",
      "      From worker 2:\t 28   0   0\n",
      "      From worker 4:\t\n",
      "      From worker 4:\tFold 2\n",
      "      From worker 4:\tClasses:  CategoricalString{UInt8}[\"setosa\", \"versicolor\", \"virginica\"]\n",
      "      From worker 4:\tMatrix:   3×3 Array{Int64,2}:\n",
      "      From worker 4:\t 24   0   0\n",
      "      From worker 2:\t  0  20   2\n",
      "      From worker 4:\t  0  25   0\n",
      "      From worker 2:\t  0   1  24\n",
      "      From worker 4:\t  0   0  26\n",
      "      From worker 4:\tAccuracy: 1.0\n",
      "      From worker 2:\tAccuracy: 0.96\n",
      "      From worker 2:\tKappa:    0.9396621078037006\n",
      "      From worker 4:\tKappa:    1.0\n",
      "      From worker 3:\t\n",
      "      From worker 4:\t\n",
      "      From worker 4:\tMean Accuracy: 0.9933333333333334\n",
      "      From worker 3:\tMean Accuracy: 0.96\n",
      "      From worker 2:\t\n",
      "      From worker 2:\tFold 2\n",
      "      From worker 2:\tClasses:  CategoricalString{UInt8}[\"setosa\", \"versicolor\", \"virginica\"]\n",
      "      From worker 2:\tMatrix:   3×3 Array{Int64,2}:\n",
      "      From worker 2:\t 22   0   0\n",
      "      From worker 2:\t  0  24   4\n",
      "      From worker 2:\t  0   0  25\n",
      "      From worker 2:\tAccuracy: 0.9466666666666667\n",
      "      From worker 2:\tKappa:    0.919871794871795\n",
      "      From worker 2:\t\n",
      "      From worker 2:\tMean Accuracy: 0.9533333333333334\n",
      "      From worker 5:\tClasses:  CategoricalString{UInt8}[\"setosa\", \"versicolor\", \"virginica\"]\n",
      "      From worker 4:\t\n",
      "      From worker 4:\tFold 1\n",
      "      From worker 2:\t\n",
      "      From worker 2:\tFold 1\n",
      "      From worker 4:\tClasses:  CategoricalString{UInt8}[\"setosa\", \"versicolor\", \"virginica\"]\n",
      "      From worker 3:\t\n",
      "      From worker 3:\tFold 1\n",
      "      From worker 2:\tClasses:  CategoricalString{UInt8}[\"setosa\", \"versicolor\", \"virginica\"]\n",
      "      From worker 4:\tMatrix:   3×3 Array{Int64,2}:\n",
      "      From worker 3:\tClasses:  CategoricalString{UInt8}[\"setosa\", \"versicolor\", \"virginica\"]\n",
      "      From worker 2:\tMatrix:   3×3 Array{Int64,2}:\n",
      "      From worker 4:\t 24   0   0\n",
      "      From worker 4:\t  0  23   1\n",
      "      From worker 3:\tMatrix:   3×3 Array{Int64,2}:\n",
      "      From worker 3:\t 25   0   0\n",
      "      From worker 2:\t 29   0   0\n",
      "      From worker 2:\t  0  26   1\n",
      "      From worker 4:\t  0   1  26\n",
      "      From worker 4:\tAccuracy: 0.9733333333333334\n",
      "      From worker 4:\tKappa:    0.9599358974358975\n",
      "      From worker 3:\t  0  23   3\n",
      "      From worker 3:\t  0   0  24\n",
      "      From worker 3:\tAccuracy: 0.96\n",
      "      From worker 3:\tKappa:    0.9400639318060735\n",
      "      From worker 2:\t  0   0  19\n",
      "      From worker 2:\tAccuracy: 0.9866666666666667\n",
      "      From worker 2:\tKappa:    0.979740680713128\n",
      "      From worker 4:\t\n",
      "      From worker 4:\tFold 2\n",
      "      From worker 4:\tClasses:  CategoricalString{UInt8}[\"setosa\", \"versicolor\", \"virginica\"]\n",
      "      From worker 2:\t\n",
      "      From worker 3:\t\n",
      "      From worker 3:\tFold 2\n",
      "      From worker 4:\tMatrix:   3×3 Array{Int64,2}:\n",
      "      From worker 2:\tFold 2\n",
      "      From worker 4:\t 26   0   0\n",
      "      From worker 2:\tClasses:  CategoricalString{UInt8}[\"setosa\", \"versicolor\", \"virginica\"]\n",
      "      From worker 3:\tClasses:  CategoricalString{UInt8}[\"setosa\", \"versicolor\", \"virginica\"]\n",
      "      From worker 4:\t  0  26   0\n",
      "      From worker 2:\tMatrix:   3×3 Array{Int64,2}:\n",
      "      From worker 3:\tMatrix:   3×3 Array{Int64,2}:\n",
      "      From worker 4:\t  0   1  22\n",
      "      From worker 4:\tAccuracy: 0.9866666666666667\n",
      "      From worker 4:\tKappa:    0.9799518845228548\n",
      "      From worker 4:\t\n",
      "      From worker 4:\tMean Accuracy: 0.98\n",
      "      From worker 2:\t 21   0   0\n",
      "      From worker 3:\t 25   0   0\n",
      "      From worker 2:\t  0  21   2\n",
      "      From worker 2:\t  0   1  30\n",
      "      From worker 2:\tAccuracy: 0.96\n",
      "      From worker 2:\tKappa:    0.9389582202930005\n",
      "      From worker 2:\t\n",
      "      From worker 2:\tMean Accuracy: 0.9733333333333334\n",
      "      From worker 3:\t  0  22   2\n",
      "      From worker 3:\t  0   1  25\n",
      "      From worker 3:\tAccuracy: 0.96\n",
      "      From worker 3:\tKappa:    0.9399359316604378\n",
      "      From worker 3:\t\n",
      "      From worker 3:\tMean Accuracy: 0.96\n",
      "      From worker 4:\t\n",
      "      From worker 4:\tFold 1\n",
      "      From worker 4:\tClasses:  CategoricalString{UInt8}[\"setosa\", \"versicolor\", \"virginica\"]\n",
      "      From worker 2:\t\n",
      "      From worker 2:\tFold 1\n",
      "      From worker 4:\tMatrix:   3×3 Array{Int64,2}:\n",
      "      From worker 2:\tClasses:  CategoricalString{UInt8}[\"setosa\", \"versicolor\", \"virginica\"]\n",
      "      From worker 4:\t 30   0   0\n",
      "      From worker 2:\tMatrix:   3×3 Array{Int64,2}:\n",
      "      From worker 4:\t  0  20   2\n",
      "      From worker 2:\t 26   0   0\n",
      "      From worker 4:\t  0   0  23\n",
      "      From worker 4:\tAccuracy: 0.9733333333333334\n",
      "      From worker 4:\tKappa:    0.9595687331536389\n",
      "      From worker 3:\t\n",
      "      From worker 3:\tFold 1\n",
      "      From worker 2:\t  0  22   2\n",
      "      From worker 3:\tClasses:  CategoricalString{UInt8}[\"setosa\", \"versicolor\", \"virginica\"]\n",
      "      From worker 3:\tMatrix:   3×3 Array{Int64,2}:\n",
      "      From worker 3:\t 25   0   0\n",
      "      From worker 2:\t  0   0  25\n",
      "      From worker 2:\tAccuracy: 0.9733333333333334\n",
      "      From worker 2:\tKappa:    0.9599572877736253\n",
      "      From worker 3:\t  0  26   1\n",
      "      From worker 3:\t  0   0  23\n",
      "      From worker 3:\tAccuracy: 0.9866666666666667\n",
      "      From worker 3:\tKappa:    0.9799786438868124\n",
      "      From worker 5:\tMatrix:   3×3 Array{Int64,2}:\n",
      "      From worker 4:\t\n",
      "      From worker 4:\tFold 2\n",
      "      From worker 4:\tClasses:  CategoricalString{UInt8}[\"setosa\", \"versicolor\", \"virginica\"]\n",
      "      From worker 4:\tMatrix:   3×3 Array{Int64,2}:\n",
      "      From worker 4:\t 20   0   0\n",
      "      From worker 2:\t\n",
      "      From worker 2:\tFold 2\n",
      "      From worker 2:\tClasses:  CategoricalString{UInt8}[\"setosa\", \"versicolor\", \"virginica\"]\n",
      "      From worker 4:\t  0  28   0\n",
      "      From worker 4:\t  0   2  25\n",
      "      From worker 4:\tAccuracy: 0.9733333333333334\n",
      "      From worker 4:\tKappa:    0.9595687331536389\n",
      "      From worker 4:\t\n",
      "      From worker 4:\tMean Accuracy: 0.9733333333333334\n",
      "      From worker 2:\tMatrix:   3×3 Array{Int64,2}:\n",
      "      From worker 2:\t 24   0   0\n",
      "      From worker 2:\t  0  23   3\n",
      "      From worker 2:\t  0   0  25\n",
      "      From worker 2:\tAccuracy: 0.96\n",
      "      From worker 2:\tKappa:    0.9400159957344708\n",
      "      From worker 2:\t\n",
      "      From worker 2:\tMean Accuracy: 0.9666666666666667\n",
      "      From worker 3:\t\n",
      "      From worker 3:\tFold 2\n",
      "      From worker 3:\tClasses:  CategoricalString{UInt8}[\"setosa\", \"versicolor\", \"virginica\"]\n",
      "      From worker 3:\tMatrix:   3×3 Array{Int64,2}:\n",
      "      From worker 3:\t 25   0   0\n",
      "      From worker 3:\t  0  21   2\n",
      "      From worker 3:\t  0   0  27\n",
      "      From worker 3:\tAccuracy: 0.9733333333333334\n",
      "      From worker 3:\tKappa:    0.9598286020353509\n",
      "      From worker 3:\t\n",
      "      From worker 3:\tMean Accuracy: 0.98\n",
      "      From worker 5:\t 26   0   0\n",
      "      From worker 5:\t  0  20   4\n",
      "      From worker 5:\t  0   0  25\n",
      "      From worker 5:\tAccuracy: 0.9466666666666667\n",
      "      From worker 5:\tKappa:    0.919871794871795\n",
      "      From worker 4:\t\n",
      "      From worker 4:\tFold 1\n",
      "      From worker 4:\tClasses:  CategoricalString{UInt8}[\"setosa\", \"versicolor\", \"virginica\"]\n",
      "      From worker 4:\tMatrix:   3×3 Array{Int64,2}:\n",
      "      From worker 4:\t 29   0   0\n",
      "      From worker 4:\t  0  21   3\n",
      "      From worker 4:\t  0   0  22\n",
      "      From worker 4:\tAccuracy: 0.96\n",
      "      From worker 4:\tKappa:    0.9396782841823056\n",
      "      From worker 3:\t\n",
      "      From worker 3:\tFold 1\n",
      "      From worker 3:\tClasses:  CategoricalString{UInt8}[\"setosa\", \"versicolor\", \"virginica\"]\n",
      "      From worker 2:\t\n",
      "      From worker 3:\tMatrix:   3×3 Array{Int64,2}:\n",
      "      From worker 2:\tFold 1\n",
      "      From worker 3:\t 25   0   0\n",
      "      From worker 3:\t  0  23   1\n",
      "      From worker 5:\t\n",
      "      From worker 5:\tFold 2\n",
      "      From worker 3:\t  0   0  26\n",
      "      From worker 5:\tClasses:  CategoricalString{UInt8}[\"setosa\", \"versicolor\", \"virginica\"]\n",
      "      From worker 3:\tAccuracy: 0.9866666666666667\n",
      "      From worker 3:\tKappa:    0.9799786438868124\n",
      "      From worker 5:\tMatrix:   3×3 Array{Int64,2}:\n",
      "      From worker 5:\t 24   0   0\n",
      "      From worker 2:\tClasses:  CategoricalString{UInt8}[\"setosa\", \"versicolor\", \"virginica\"]\n",
      "      From worker 5:\t  0  24   2\n",
      "      From worker 4:\t\n",
      "      From worker 5:\t  0   0  25\n",
      "      From worker 5:\tAccuracy: 0.9733333333333334\n",
      "      From worker 4:\tFold 2\n",
      "      From worker 5:\tKappa:    0.9600000000000001\n",
      "      From worker 4:\tClasses:  CategoricalString{UInt8}[\"setosa\", \"versicolor\", \"virginica\"]\n",
      "      From worker 2:\tMatrix:   3×3 Array{Int64,2}:\n",
      "      From worker 4:\tMatrix:   3×3 Array{Int64,2}:\n",
      "      From worker 4:\t 21   0   0\n",
      "      From worker 4:\t  0  26   0\n",
      "      From worker 2:\t 27   0   0\n",
      "      From worker 4:\t  0   1  27\n",
      "      From worker 4:\tAccuracy: 0.9866666666666667\n",
      "      From worker 4:\tKappa:    0.9798711755233495\n",
      "      From worker 2:\t  0  24   0\n",
      "      From worker 4:\t\n",
      "      From worker 4:\tMean Accuracy: 0.9733333333333334\n",
      "      From worker 2:\t  0   0  24\n",
      "      From worker 2:\tAccuracy: 1.0\n",
      "      From worker 2:\tKappa:    1.0\n",
      "      From worker 3:\t\n",
      "      From worker 3:\tFold 2\n",
      "      From worker 3:\tClasses:  CategoricalString{UInt8}[\"setosa\", \"versicolor\", \"virginica\"]\n",
      "      From worker 3:\tMatrix:   3×3 Array{Int64,2}:\n",
      "      From worker 3:\t 25   0   0\n",
      "      From worker 3:\t  0  24   2\n",
      "      From worker 3:\t  0   0  24\n",
      "      From worker 3:\tAccuracy: 0.9733333333333334\n",
      "      From worker 3:\tKappa:    0.9600213219616205\n",
      "      From worker 3:\t\n",
      "      From worker 3:\tMean Accuracy: 0.98\n",
      "      From worker 2:\t\n",
      "      From worker 2:\tFold 2\n",
      "      From worker 2:\tClasses:  CategoricalString{UInt8}[\"setosa\", \"versicolor\", \"virginica\"]\n",
      "      From worker 2:\tMatrix:   3×3 Array{Int64,2}:\n",
      "      From worker 2:\t 23   0   0\n",
      "      From worker 2:\t  0  25   1\n",
      "      From worker 2:\t  0   1  25\n",
      "      From worker 2:\tAccuracy: 0.9733333333333334\n",
      "      From worker 2:\tKappa:    0.9599358974358975\n",
      "      From worker 2:\t\n",
      "      From worker 2:\tMean Accuracy: 0.9866666666666667\n",
      "      From worker 5:\t\n",
      "      From worker 5:\tMean Accuracy: 0.96\n",
      "      From worker 4:\t\n",
      "      From worker 3:\t\n",
      "      From worker 3:\tFold 1\n",
      "      From worker 3:\tClasses:  CategoricalString{UInt8}[\"setosa\", \"versicolor\", \"virginica\"]\n",
      "      From worker 4:\tFold 1\n",
      "      From worker 3:\tMatrix:   3×3 Array{Int64,2}:\n",
      "      From worker 2:\t\n",
      "      From worker 2:\tFold 1\n",
      "      From worker 4:\tClasses:  CategoricalString{UInt8}[\"setosa\", \"versicolor\", \"virginica\"]\n",
      "      From worker 3:\t 21   0   0\n",
      "      From worker 2:\tClasses:  CategoricalString{UInt8}[\"setosa\", \"versicolor\", \"virginica\"]\n",
      "      From worker 4:\tMatrix:   3×3 Array{Int64,2}:\n",
      "      From worker 4:\t 25   0   0\n",
      "      From worker 3:\t  0  26   4\n",
      "      From worker 2:\tMatrix:   3×3 Array{Int64,2}:\n",
      "      From worker 2:\t 22   0   0\n",
      "      From worker 4:\t  0  20   0\n",
      "      From worker 3:\t  0   0  24\n",
      "      From worker 3:\tAccuracy: 0.9466666666666667\n",
      "      From worker 3:\tKappa:    0.9196141479099679\n",
      "      From worker 2:\t  0  18   4\n",
      "      From worker 2:\t  0   0  31\n",
      "      From worker 2:\tAccuracy: 0.9466666666666667\n",
      "      From worker 2:\tKappa:    0.9180327868852457\n",
      "      From worker 4:\t  0   2  28\n",
      "      From worker 4:\tAccuracy: 0.9733333333333334\n",
      "      From worker 4:\tKappa:    0.9596774193548387\n",
      "      From worker 3:\t\n",
      "      From worker 3:\tFold 2\n",
      "      From worker 3:\tClasses:  CategoricalString{UInt8}[\"setosa\", \"versicolor\", \"virginica\"]\n",
      "      From worker 3:\tMatrix:   3×3 Array{Int64,2}:\n",
      "      From worker 3:\t 29   0   0\n",
      "      From worker 3:\t  0  17   3\n",
      "      From worker 3:\t  0   0  26\n",
      "      From worker 3:\tAccuracy: 0.96\n",
      "      From worker 3:\tKappa:    0.9390243902439024\n",
      "      From worker 4:\t\n",
      "      From worker 4:\tFold 2\n",
      "      From worker 3:\t\n",
      "      From worker 3:\tMean Accuracy: 0.9533333333333334\n",
      "      From worker 2:\t\n",
      "      From worker 2:\tFold 2\n",
      "      From worker 4:\tClasses:  CategoricalString{UInt8}[\"setosa\", \"versicolor\", \"virginica\"]\n",
      "      From worker 2:\tClasses:  CategoricalString{UInt8}[\"setosa\", \"versicolor\", \"virginica\"]\n",
      "      From worker 4:\tMatrix:   3×3 Array{Int64,2}:\n",
      "      From worker 2:\tMatrix:   3×3 Array{Int64,2}:\n",
      "      From worker 5:\t\n",
      "      From worker 5:\tFold 1\n",
      "      From worker 4:\t 25   0   0\n",
      "      From worker 2:\t 28   0   0\n",
      "      From worker 5:\tClasses:  CategoricalString{UInt8}[\"setosa\", \"versicolor\", \"virginica\"]\n",
      "      From worker 4:\t  0  28   2\n",
      "      From worker 4:\t  0   0  20\n",
      "      From worker 4:\tAccuracy: 0.9733333333333334\n",
      "      From worker 4:\tKappa:    0.9596774193548387\n",
      "      From worker 4:\t\n",
      "      From worker 2:\t  0  27   1\n",
      "      From worker 2:\t  0   0  19\n",
      "      From worker 2:\tAccuracy: 0.9866666666666667\n",
      "      From worker 2:\tKappa:    0.9797570850202428\n",
      "      From worker 5:\tMatrix:   3×3 Array{Int64,2}:\n",
      "      From worker 4:\tMean Accuracy: 0.9733333333333334\n",
      "      From worker 2:\t\n",
      "      From worker 2:\tMean Accuracy: 0.9666666666666667\n",
      "      From worker 5:\t 25   0   0\n",
      "      From worker 5:\t  0  29   1\n",
      "      From worker 5:\t  0   0  20\n",
      "      From worker 5:\tAccuracy: 0.9866666666666667\n",
      "      From worker 5:\tKappa:    0.9797843665768194\n",
      "      From worker 5:\t\n",
      "      From worker 5:\tFold 2\n",
      "      From worker 5:\tClasses:  CategoricalString{UInt8}[\"setosa\", \"versicolor\", \"virginica\"]\n",
      "      From worker 5:\tMatrix:   3×3 Array{Int64,2}:\n",
      "      From worker 5:\t 25   0   0\n",
      "      From worker 5:\t  0  19   1\n",
      "      From worker 5:\t  0   1  29\n",
      "      From worker 5:\tAccuracy: 0.9733333333333334\n",
      "      From worker 5:\tKappa:    0.9594594594594595\n",
      "      From worker 5:\t\n",
      "      From worker 5:\tMean Accuracy: 0.98\n",
      "      From worker 3:\t\n",
      "      From worker 3:\tFold 1\n",
      "      From worker 3:\tClasses:  CategoricalString{UInt8}[\"setosa\", \"versicolor\", \"virginica\"]\n",
      "      From worker 3:\tMatrix:   3×3 Array{Int64,2}:\n",
      "      From worker 3:\t 28   0   0\n",
      "      From worker 3:\t  0  23   2\n",
      "      From worker 4:\t\n",
      "      From worker 4:\tFold 1\n",
      "      From worker 3:\t  0   1  21\n",
      "      From worker 3:\tAccuracy: 0.96\n",
      "      From worker 4:\tClasses:  CategoricalString{UInt8}[\"setosa\", \"versicolor\", \"virginica\"]\n",
      "      From worker 3:\tKappa:    0.9397590361445782\n",
      "      From worker 4:\tMatrix:   3×3 Array{Int64,2}:\n",
      "      From worker 4:\t 26   0   0\n",
      "      From worker 4:\t  0  22   1\n",
      "      From worker 4:\t  0   1  25\n",
      "      From worker 4:\tAccuracy: 0.9733333333333334\n",
      "      From worker 4:\tKappa:    0.9599358974358975\n",
      "      From worker 2:\t\n",
      "      From worker 3:\t\n",
      "      From worker 3:\tFold 2\n",
      "      From worker 2:\tFold 1\n",
      "      From worker 3:\tClasses:  CategoricalString{UInt8}[\"setosa\", \"versicolor\", \"virginica\"]\n",
      "      From worker 3:\tMatrix:   3×3 Array{Int64,2}:\n",
      "      From worker 2:\tClasses:  CategoricalString{UInt8}[\"setosa\", \"versicolor\", \"virginica\"]\n",
      "      From worker 3:\t 22   0   0\n",
      "      From worker 2:\tMatrix:   3×3 Array{Int64,2}:\n",
      "      From worker 3:\t  0  24   1\n",
      "      From worker 4:\t\n",
      "      From worker 4:\tFold 2\n",
      "      From worker 3:\t  0   0  28\n",
      "      From worker 3:\tAccuracy: 0.9866666666666667\n",
      "      From worker 4:\tClasses:  CategoricalString{UInt8}[\"setosa\", \"versicolor\", \"virginica\"]\n",
      "      From worker 3:\tKappa:    0.9798873692679001\n",
      "      From worker 3:\t\n",
      "      From worker 3:\tMean Accuracy: 0.9733333333333334\n",
      "      From worker 4:\tMatrix:   3×3 Array{Int64,2}:\n",
      "      From worker 4:\t 24   0   0\n",
      "      From worker 4:\t  0  25   2\n",
      "      From worker 4:\t  0   1  23\n",
      "      From worker 4:\tAccuracy: 0.96\n",
      "      From worker 4:\tKappa:    0.9399519615692553\n",
      "      From worker 4:\t\n",
      "      From worker 2:\t 22   0   0\n",
      "      From worker 4:\tMean Accuracy: 0.9666666666666667\n",
      "      From worker 2:\t  0  25   3\n",
      "      From worker 2:\t  0   0  25\n",
      "      From worker 2:\tAccuracy: 0.96\n",
      "      From worker 2:\tKappa:    0.9398556535685645\n",
      "      From worker 5:\t\n",
      "      From worker 5:\tFold 1\n",
      "      From worker 5:\tClasses:  CategoricalString{UInt8}[\"setosa\", \"versicolor\", \"virginica\"]\n",
      "      From worker 5:\tMatrix:   3×3 Array{Int64,2}:\n",
      "      From worker 5:\t 22   0   0\n",
      "      From worker 5:\t  0  22   8\n",
      "      From worker 5:\t  0   0  23\n",
      "      From worker 5:\tAccuracy: 0.8933333333333333\n",
      "      From worker 5:\tKappa:    0.840764331210191\n",
      "      From worker 2:\t\n",
      "      From worker 2:\tFold 2\n",
      "      From worker 2:\tClasses:  CategoricalString{UInt8}[\"setosa\", \"versicolor\", \"virginica\"]\n",
      "      From worker 5:\t\n",
      "      From worker 2:\tMatrix:   3×3 Array{Int64,2}:\n",
      "      From worker 5:\tFold 2\n",
      "      From worker 2:\t 28   0   0\n",
      "      From worker 5:\tClasses:  CategoricalString{UInt8}[\"setosa\", \"versicolor\", \"virginica\"]\n",
      "      From worker 2:\t  0  20   2\n",
      "      From worker 5:\tMatrix:   3×3 Array{Int64,2}:\n",
      "      From worker 2:\t  0   0  25\n",
      "      From worker 2:\tAccuracy: 0.9733333333333334\n",
      "      From worker 2:\tKappa:    0.9597423510466989\n",
      "      From worker 2:\t\n",
      "      From worker 2:\tMean Accuracy: 0.9666666666666667\n",
      "      From worker 5:\t 28   0   0\n",
      "      From worker 5:\t  0  18   2\n",
      "      From worker 5:\t  0   0  27\n",
      "      From worker 5:\tAccuracy: 0.9733333333333334\n",
      "      From worker 5:\tKappa:    0.9594375338020552\n",
      "      From worker 5:\t\n",
      "      From worker 5:\tMean Accuracy: 0.9333333333333333\n",
      "      From worker 3:\t\n",
      "      From worker 3:\tFold 1\n",
      "      From worker 3:\tClasses:  CategoricalString{UInt8}[\"setosa\", \"versicolor\", \"virginica\"]\n",
      "      From worker 3:\tMatrix:   3×3 Array{Int64,2}:\n",
      "      From worker 4:\t\n"
     ]
    },
    {
     "name": "stdout",
     "output_type": "stream",
     "text": [
      "      From worker 4:\tFold 1\n",
      "      From worker 3:\t 24   0   0\n",
      "      From worker 4:\tClasses:  CategoricalString{UInt8}[\"setosa\", \"versicolor\", \"virginica\"]\n",
      "      From worker 4:\tMatrix:   3×3 Array{Int64,2}:\n",
      "      From worker 4:\t 25   0   0\n",
      "      From worker 4:\t  0  22   2\n",
      "      From worker 4:\t  0   0  26\n",
      "      From worker 4:\tAccuracy: 0.9733333333333334\n",
      "      From worker 4:\tKappa:    0.9599358974358975\n",
      "      From worker 3:\t  0  21   1\n",
      "      From worker 3:\t  0   1  28\n",
      "      From worker 3:\tAccuracy: 0.9733333333333334\n",
      "      From worker 3:\tKappa:    0.9597207303974222\n",
      "      From worker 5:\t\n",
      "      From worker 5:\tFold 1\n",
      "      From worker 5:\tClasses:  CategoricalString{UInt8}[\"setosa\", \"versicolor\", \"virginica\"]\n",
      "      From worker 5:\tMatrix:   3×3 Array{Int64,2}:\n",
      "      From worker 5:\t 26   0   0\n",
      "      From worker 5:\t  0  24   0\n",
      "      From worker 5:\t  0   0  25\n",
      "      From worker 5:\tAccuracy: 1.0\n",
      "      From worker 5:\tKappa:    1.0\n",
      "      From worker 3:\t\n",
      "      From worker 3:\tFold 2\n",
      "      From worker 3:\tClasses:  CategoricalString{UInt8}[\"setosa\", \"versicolor\", \"virginica\"]\n",
      "      From worker 2:\t\n",
      "      From worker 3:\tMatrix:   3×3 Array{Int64,2}:\n",
      "      From worker 2:\tFold 1\n",
      "      From worker 3:\t 26   0   0\n",
      "      From worker 4:\t\n",
      "      From worker 4:\tFold 2\n",
      "      From worker 3:\t  0  24   4\n",
      "      From worker 4:\tClasses:  CategoricalString{UInt8}[\"setosa\", \"versicolor\", \"virginica\"]\n",
      "      From worker 3:\t  0   0  21\n",
      "      From worker 3:\tAccuracy: 0.9466666666666667\n",
      "      From worker 3:\tKappa:    0.9200426439232411\n",
      "      From worker 3:\t\n",
      "      From worker 4:\tMatrix:   3×3 Array{Int64,2}:\n",
      "      From worker 3:\tMean Accuracy: 0.96\n",
      "      From worker 4:\t 25   0   0\n",
      "      From worker 4:\t  0  25   1\n",
      "      From worker 2:\tClasses:  CategoricalString{UInt8}[\"setosa\", \"versicolor\", \"virginica\"]\n",
      "      From worker 4:\t  0   0  24\n",
      "      From worker 4:\tAccuracy: 0.9866666666666667\n",
      "      From worker 4:\tKappa:    0.9799999999999999\n",
      "      From worker 2:\tMatrix:   3×3 Array{Int64,2}:\n",
      "      From worker 4:\t\n",
      "      From worker 4:\tMean Accuracy: 0.98\n",
      "      From worker 2:\t 28   0   0\n",
      "      From worker 2:\t  0  23   6\n",
      "      From worker 5:\t\n",
      "      From worker 5:\tFold 2\n",
      "      From worker 2:\t  0   0  18\n",
      "      From worker 5:\tClasses:  CategoricalString{UInt8}[\"setosa\", \"versicolor\", \"virginica\"]\n",
      "      From worker 2:\tAccuracy: 0.92\n",
      "      From worker 2:\tKappa:    0.8797434526990913\n",
      "      From worker 5:\tMatrix:   3×3 Array{Int64,2}:\n",
      "      From worker 5:\t 24   0   0\n",
      "      From worker 5:\t  0  25   1\n",
      "      From worker 5:\t  0   3  22\n",
      "      From worker 5:\tAccuracy: 0.9466666666666667\n",
      "      From worker 5:\tKappa:    0.9199145755472502\n",
      "      From worker 5:\t\n",
      "      From worker 5:\tMean Accuracy: 0.9733333333333334\n",
      "      From worker 2:\t\n",
      "      From worker 2:\tFold 2\n",
      "      From worker 2:\tClasses:  CategoricalString{UInt8}[\"setosa\", \"versicolor\", \"virginica\"]\n",
      "      From worker 2:\tMatrix:   3×3 Array{Int64,2}:\n",
      "      From worker 2:\t 22   0   0\n",
      "      From worker 2:\t  0  21   0\n",
      "      From worker 2:\t  0   0  32\n",
      "      From worker 2:\tAccuracy: 1.0\n",
      "      From worker 2:\tKappa:    1.0\n",
      "      From worker 2:\t\n",
      "      From worker 2:\tMean Accuracy: 0.96\n",
      "      From worker 3:\t\n",
      "      From worker 3:\tFold 1\n",
      "      From worker 3:\tClasses:  CategoricalString{UInt8}[\"setosa\", \"versicolor\", \"virginica\"]\n",
      "      From worker 3:\tMatrix:   3×3 Array{Int64,2}:\n",
      "      From worker 3:\t 25   0   0\n",
      "      From worker 3:\t  0  20   2\n",
      "      From worker 3:\t  0   0  28\n",
      "      From worker 3:\tAccuracy: 0.9733333333333334\n",
      "      From worker 3:\tKappa:    0.9596774193548387\n",
      "      From worker 4:\t\n",
      "      From worker 4:\tFold 1\n",
      "      From worker 4:\tClasses:  CategoricalString{UInt8}[\"setosa\", \"versicolor\", \"virginica\"]\n",
      "      From worker 4:\tMatrix:   3×3 Array{Int64,2}:\n",
      "      From worker 5:\t\n",
      "      From worker 5:\tFold 1\n",
      "      From worker 4:\t 23   0   0\n",
      "      From worker 4:\t  0  23   1\n",
      "      From worker 5:\tClasses:  CategoricalString{UInt8}[\"setosa\", \"versicolor\", \"virginica\"]\n",
      "      From worker 4:\t  0   0  28\n",
      "      From worker 5:\tMatrix:   3×3 Array{Int64,2}:\n",
      "      From worker 4:\tAccuracy: 0.9866666666666667\n",
      "      From worker 4:\tKappa:    0.979903536977492\n",
      "      From worker 5:\t 24   0   0\n",
      "      From worker 5:\t  0  26   1\n",
      "      From worker 5:\t  0   1  23\n",
      "      From worker 5:\tAccuracy: 0.9733333333333334\n",
      "      From worker 5:\tKappa:    0.9599358974358975\n",
      "      From worker 3:\t\n",
      "      From worker 3:\tFold 2\n",
      "      From worker 3:\tClasses:  CategoricalString{UInt8}[\"setosa\", \"versicolor\", \"virginica\"]\n",
      "      From worker 3:\tMatrix:   3×3 Array{Int64,2}:\n",
      "      From worker 2:\t\n",
      "      From worker 3:\t 25   0   0\n",
      "      From worker 3:\t  0  25   3\n",
      "      From worker 3:\t  0   0  22\n",
      "      From worker 3:\tAccuracy: 0.96\n",
      "      From worker 3:\tKappa:    0.94\n",
      "      From worker 3:\t\n",
      "      From worker 3:\tMean Accuracy: 0.9666666666666667\n",
      "      From worker 4:\t\n",
      "      From worker 4:\tFold 2\n",
      "      From worker 4:\tClasses:  CategoricalString{UInt8}[\"setosa\", \"versicolor\", \"virginica\"]\n",
      "      From worker 2:\tFold 1\n",
      "      From worker 2:\tClasses:  CategoricalString{UInt8}[\"setosa\", \"versicolor\", \"virginica\"]\n",
      "      From worker 2:\tMatrix:   3×3 Array{Int64,2}:\n",
      "      From worker 4:\tMatrix:   3×3 Array{Int64,2}:\n",
      "      From worker 2:\t 28   0   0\n",
      "      From worker 4:\t 27   0   0\n",
      "      From worker 2:\t  0  22   2\n",
      "      From worker 4:\t  0  21   5\n",
      "      From worker 4:\t  0   0  22\n",
      "      From worker 4:\tAccuracy: 0.9333333333333333\n",
      "      From worker 4:\tKappa:    0.9001597444089458\n",
      "      From worker 4:\t\n",
      "      From worker 4:\tMean Accuracy: 0.96\n",
      "      From worker 2:\t  0   0  23\n",
      "      From worker 2:\tAccuracy: 0.9733333333333334\n",
      "      From worker 2:\tKappa:    0.9598715890850723\n",
      "      From worker 5:\t\n",
      "      From worker 5:\tFold 2\n",
      "      From worker 5:\tClasses:  CategoricalString{UInt8}[\"setosa\", \"versicolor\", \"virginica\"]\n",
      "      From worker 5:\tMatrix:   3×3 Array{Int64,2}:\n",
      "      From worker 2:\t\n",
      "      From worker 5:\t 26   0   0\n",
      "      From worker 2:\tFold 2\n",
      "      From worker 2:\tClasses:  CategoricalString{UInt8}[\"setosa\", \"versicolor\", \"virginica\"]\n",
      "      From worker 2:\tMatrix:   3×3 Array{Int64,2}:\n",
      "      From worker 2:\t 22   0   0\n",
      "      From worker 2:\t  0  24   2\n",
      "      From worker 2:\t  0   0  27\n",
      "      From worker 2:\tAccuracy: 0.9733333333333334\n",
      "      From worker 2:\tKappa:    0.9598286020353509\n",
      "      From worker 2:\t\n",
      "      From worker 2:\tMean Accuracy: 0.9733333333333334\n",
      "      From worker 5:\t  0  22   1\n",
      "      From worker 5:\t  0   1  25\n",
      "      From worker 5:\tAccuracy: 0.9733333333333334\n",
      "      From worker 5:\tKappa:    0.9599358974358975\n",
      "      From worker 5:\t\n",
      "      From worker 5:\tMean Accuracy: 0.9733333333333334\n",
      "      From worker 3:\t\n",
      "      From worker 3:\tFold 1\n",
      "      From worker 3:\tClasses:  CategoricalString{UInt8}[\"setosa\", \"versicolor\", \"virginica\"]\n",
      "      From worker 3:\tMatrix:   3×3 Array{Int64,2}:\n",
      "      From worker 3:\t 24   0   0\n",
      "      From worker 4:\t\n",
      "      From worker 4:\tFold 1\n",
      "      From worker 3:\t  0  20   2\n",
      "      From worker 4:\tClasses:  CategoricalString{UInt8}[\"setosa\", \"versicolor\", \"virginica\"]\n",
      "      From worker 3:\t  0   1  28\n",
      "      From worker 3:\tAccuracy: 0.96\n",
      "      From worker 3:\tKappa:    0.9394673123486682\n",
      "      From worker 4:\tMatrix:   3×3 Array{Int64,2}:\n",
      "      From worker 4:\t 26   0   0\n",
      "      From worker 4:\t  0  20   4\n",
      "      From worker 4:\t  0   0  25\n",
      "      From worker 4:\tAccuracy: 0.9466666666666667\n",
      "      From worker 4:\tKappa:    0.919871794871795\n",
      "      From worker 3:\t\n",
      "      From worker 3:\tFold 2\n",
      "      From worker 3:\tClasses:  CategoricalString{UInt8}[\"setosa\", \"versicolor\", \"virginica\"]\n",
      "      From worker 3:\tMatrix:   3×3 Array{Int64,2}:\n",
      "      From worker 3:\t 26   0   0\n",
      "      From worker 3:\t  0  25   3\n",
      "      From worker 2:\t\n",
      "      From worker 2:\tFold 1\n",
      "      From worker 3:\t  0   0  21\n",
      "      From worker 2:\tClasses:  CategoricalString{UInt8}[\"setosa\", \"versicolor\", \"virginica\"]\n",
      "      From worker 3:\tAccuracy: 0.96\n",
      "      From worker 3:\tKappa:    0.9399198931909212\n",
      "      From worker 3:\t\n",
      "      From worker 3:\tMean Accuracy: 0.96\n",
      "      From worker 4:\t\n",
      "      From worker 4:\tFold 2\n",
      "      From worker 2:\tMatrix:   3×3 Array{Int64,2}:\n",
      "      From worker 4:\tClasses:  CategoricalString{UInt8}[\"setosa\", \"versicolor\", \"virginica\"]\n",
      "      From worker 2:\t 28   0   0\n",
      "      From worker 2:\t  0  22   5\n",
      "      From worker 4:\tMatrix:   3×3 Array{Int64,2}:\n",
      "      From worker 2:\t  0   0  20\n",
      "      From worker 2:\tAccuracy: 0.9333333333333333\n",
      "      From worker 2:\tKappa:    0.8999199359487591\n",
      "      From worker 4:\t 24   0   0\n",
      "      From worker 4:\t  0  24   2\n",
      "      From worker 4:\t  0   2  23\n",
      "      From worker 4:\tAccuracy: 0.9466666666666667\n",
      "      From worker 4:\tKappa:    0.9199573105656351\n",
      "      From worker 4:\t\n",
      "      From worker 4:\tMean Accuracy: 0.9466666666666667\n",
      "      From worker 2:\t\n",
      "      From worker 2:\tFold 2\n",
      "      From worker 2:\tClasses:  CategoricalString{UInt8}[\"setosa\", \"versicolor\", \"virginica\"]\n",
      "      From worker 2:\tMatrix:   3×3 Array{Int64,2}:\n",
      "      From worker 2:\t 22   0   0\n",
      "      From worker 2:\t  0  20   3\n",
      "      From worker 2:\t  0   0  30\n",
      "      From worker 2:\tAccuracy: 0.96\n",
      "      From worker 2:\tKappa:    0.9390409103224058\n",
      "      From worker 2:\t\n",
      "      From worker 2:\tMean Accuracy: 0.9466666666666667\n",
      "      From worker 5:\t\n",
      "      From worker 5:\tFold 1\n",
      "      From worker 5:\tClasses:  CategoricalString{UInt8}[\"setosa\", \"versicolor\", \"virginica\"]\n",
      "      From worker 5:\tMatrix:   3×3 Array{Int64,2}:\n",
      "      From worker 5:\t 24   0   0\n",
      "      From worker 5:\t  0  22   1\n",
      "      From worker 5:\t  0   0  28\n",
      "      From worker 5:\tAccuracy: 0.9866666666666667\n",
      "      From worker 5:\tKappa:    0.9798981506298582\n",
      "      From worker 3:\t\n",
      "      From worker 3:\tFold 1\n",
      "      From worker 3:\tClasses:  CategoricalString{UInt8}[\"setosa\", \"versicolor\", \"virginica\"]\n",
      "      From worker 3:\tMatrix:   3×3 Array{Int64,2}:\n",
      "      From worker 3:\t 27   0   0\n",
      "      From worker 4:\t\n",
      "      From worker 4:\tFold 1\n",
      "      From worker 3:\t  0  22   2\n",
      "      From worker 4:\tClasses:  CategoricalString{UInt8}[\"setosa\", \"versicolor\", \"virginica\"]\n",
      "      From worker 3:\t  0   1  23\n",
      "      From worker 3:\tAccuracy: 0.96\n",
      "      From worker 3:\tKappa:    0.9399038461538461\n",
      "      From worker 4:\tMatrix:   3×3 Array{Int64,2}:\n",
      "      From worker 5:\t\n",
      "      From worker 5:\tFold 2\n",
      "      From worker 4:\t 27   0   0\n",
      "      From worker 5:\tClasses:  CategoricalString{UInt8}[\"setosa\", \"versicolor\", \"virginica\"]\n",
      "      From worker 4:\t  0  23   2\n",
      "      From worker 5:\tMatrix:   3×3 Array{Int64,2}:\n",
      "      From worker 4:\t  0   0  23\n",
      "      From worker 4:\tAccuracy: 0.9733333333333334\n",
      "      From worker 4:\tKappa:    0.9599572877736253\n",
      "      From worker 5:\t 26   0   0\n",
      "      From worker 5:\t  0  27   0\n",
      "      From worker 5:\t  0   2  20\n",
      "      From worker 5:\tAccuracy: 0.9733333333333334\n",
      "      From worker 5:\tKappa:    0.9597423510466989\n",
      "      From worker 5:\t\n",
      "      From worker 5:\tMean Accuracy: 0.98\n",
      "      From worker 3:\t\n",
      "      From worker 3:\tFold 2\n",
      "      From worker 3:\tClasses:  CategoricalString{UInt8}[\"setosa\", \"versicolor\", \"virginica\"]\n",
      "      From worker 3:\tMatrix:   3×3 Array{Int64,2}:\n",
      "      From worker 3:\t 23   0   0\n",
      "      From worker 3:\t  0  23   3\n",
      "      From worker 3:\t  0   0  26\n",
      "      From worker 2:\t\n",
      "      From worker 2:\tFold 1\n",
      "      From worker 3:\tAccuracy: 0.96\n",
      "      From worker 3:\tKappa:    0.9399038461538461\n",
      "      From worker 3:\t\n",
      "      From worker 3:\tMean Accuracy: 0.96\n",
      "      From worker 2:\tClasses:  CategoricalString{UInt8}[\"setosa\", \"versicolor\", \"virginica\"]\n",
      "      From worker 4:\t\n",
      "      From worker 4:\tFold 2\n",
      "      From worker 2:\tMatrix:   3×3 Array{Int64,2}:\n",
      "      From worker 2:\t 22   0   0\n",
      "      From worker 4:\tClasses:  CategoricalString{UInt8}[\"setosa\", \"versicolor\", \"virginica\"]\n",
      "      From worker 2:\t  0  25   0\n",
      "      From worker 4:\tMatrix:   3×3 Array{Int64,2}:\n",
      "      From worker 4:\t 23   0   0\n",
      "      From worker 4:\t  0  24   1\n",
      "      From worker 4:\t  0   0  27\n",
      "      From worker 4:\tAccuracy: 0.9866666666666667\n",
      "      From worker 4:\tKappa:    0.9799465240641712\n",
      "      From worker 4:\t\n",
      "      From worker 4:\tMean Accuracy: 0.98\n",
      "      From worker 2:\t  0   0  28\n",
      "      From worker 2:\tAccuracy: 1.0\n",
      "      From worker 2:\tKappa:    1.0\n",
      "      From worker 2:\t\n",
      "      From worker 2:\tFold 2\n",
      "      From worker 2:\tClasses:  CategoricalString{UInt8}[\"setosa\", \"versicolor\", \"virginica\"]\n",
      "      From worker 2:\tMatrix:   3×3 Array{Int64,2}:\n",
      "      From worker 2:\t 28   0   0\n",
      "      From worker 2:\t  0  22   3\n",
      "      From worker 2:\t  0   0  22\n",
      "      From worker 2:\tAccuracy: 0.96\n",
      "      From worker 2:\tKappa:    0.9398556535685645\n",
      "      From worker 2:\t\n",
      "      From worker 2:\tMean Accuracy: 0.98\n",
      "      From worker 3:\t\n",
      "      From worker 3:\tFold 1\n",
      "      From worker 3:\tClasses:  CategoricalString{UInt8}[\"setosa\", \"versicolor\", \"virginica\"]\n",
      "      From worker 3:\tMatrix:   3×3 Array{Int64,2}:\n",
      "      From worker 3:\t 24   0   0\n",
      "      From worker 3:\t  0  28   2\n",
      "      From worker 3:\t  0   0  21\n",
      "      From worker 3:\tAccuracy: 0.9733333333333334\n",
      "      From worker 3:\tKappa:    0.9597423510466989\n",
      "      From worker 4:\t\n",
      "      From worker 4:\tFold 1\n",
      "      From worker 4:\tClasses:  CategoricalString{UInt8}[\"setosa\", \"versicolor\", \"virginica\"]\n",
      "      From worker 4:\tMatrix:   3×3 Array{Int64,2}:\n",
      "      From worker 4:\t 27   0   0\n",
      "      From worker 4:\t  0  19   2\n",
      "      From worker 4:\t  0   0  27\n",
      "      From worker 4:\tAccuracy: 0.9733333333333334\n",
      "      From worker 4:\tKappa:    0.9596122778675283\n",
      "      From worker 5:\t\n",
      "      From worker 5:\tFold 1\n",
      "      From worker 5:\tClasses:  CategoricalString{UInt8}[\"setosa\", \"versicolor\", \"virginica\"]\n",
      "      From worker 5:\tMatrix:   3×3 Array{Int64,2}:\n",
      "      From worker 5:\t 23   0   0\n",
      "      From worker 3:\t\n",
      "      From worker 5:\t  0  29   2\n",
      "      From worker 3:\tFold 2\n",
      "      From worker 5:\t  0   0  21\n",
      "      From worker 3:\tClasses:  CategoricalString{UInt8}[\"setosa\", \"versicolor\", \"virginica\"]\n",
      "      From worker 5:\tAccuracy: 0.9733333333333334\n",
      "      From worker 5:\tKappa:    0.9596122778675283\n",
      "      From worker 3:\tMatrix:   3×3 Array{Int64,2}:\n",
      "      From worker 3:\t 26   0   0\n",
      "      From worker 3:\t  0  18   2\n",
      "      From worker 3:\t  0   2  27\n",
      "      From worker 3:\tAccuracy: 0.9466666666666667\n",
      "      From worker 3:\tKappa:    0.919093851132686\n",
      "      From worker 2:\t\n",
      "      From worker 2:\tFold 1\n",
      "      From worker 3:\t\n",
      "      From worker 3:\tMean Accuracy: 0.96\n",
      "      From worker 2:\tClasses:  CategoricalString{UInt8}[\"setosa\", \"versicolor\", \"virginica\"]\n",
      "      From worker 4:\t\n",
      "      From worker 4:\tFold 2\n",
      "      From worker 4:\tClasses:  CategoricalString{UInt8}[\"setosa\", \"versicolor\", \"virginica\"]\n",
      "      From worker 4:\tMatrix:   3×3 Array{Int64,2}:\n",
      "      From worker 4:\t 23   0   0\n"
     ]
    },
    {
     "name": "stdout",
     "output_type": "stream",
     "text": [
      "      From worker 4:\t  0  25   4\n",
      "      From worker 4:\t  0   1  22\n",
      "      From worker 4:\tAccuracy: 0.9333333333333333\n",
      "      From worker 4:\tKappa:    0.8998397435897436\n",
      "      From worker 4:\t\n",
      "      From worker 4:\tMean Accuracy: 0.9533333333333334\n",
      "      From worker 2:\tMatrix:   3×3 Array{Int64,2}:\n",
      "      From worker 2:\t 27   0   0\n",
      "      From worker 2:\t  0  21   1\n",
      "      From worker 2:\t  0   0  26\n",
      "      From worker 2:\tAccuracy: 0.9866666666666667\n",
      "      From worker 2:\tKappa:    0.979903536977492\n",
      "      From worker 5:\t\n",
      "      From worker 5:\tFold 2\n",
      "      From worker 2:\t\n",
      "      From worker 2:\tFold 2\n",
      "      From worker 2:\tClasses:  CategoricalString{UInt8}[\"setosa\", \"versicolor\", \"virginica\"]\n",
      "      From worker 2:\tMatrix:   3×3 Array{Int64,2}:\n",
      "      From worker 2:\t 23   0   0\n",
      "      From worker 2:\t  0  27   1\n",
      "      From worker 2:\t  0   2  22\n",
      "      From worker 2:\tAccuracy: 0.96\n",
      "      From worker 2:\tKappa:    0.9397106109324759\n",
      "      From worker 2:\t\n",
      "      From worker 2:\tMean Accuracy: 0.9733333333333334\n",
      "      From worker 4:\t\n",
      "      From worker 4:\tFold 1\n",
      "      From worker 4:\tClasses:  CategoricalString{UInt8}[\"setosa\", \"versicolor\", \"virginica\"]\n",
      "      From worker 4:\tMatrix:   3×3 Array{Int64,2}:\n",
      "      From worker 4:\t 28   0   0\n",
      "      From worker 4:\t  0  20   1\n",
      "      From worker 4:\t  0   0  26\n",
      "      From worker 4:\tAccuracy: 0.9866666666666667\n",
      "      From worker 4:\tKappa:    0.9798332885184191\n",
      "      From worker 3:\t\n",
      "      From worker 3:\tFold 1\n",
      "      From worker 3:\tClasses:  CategoricalString{UInt8}[\"setosa\", \"versicolor\", \"virginica\"]\n",
      "      From worker 3:\tMatrix:   3×3 Array{Int64,2}:\n",
      "      From worker 3:\t 28   0   0\n",
      "      From worker 3:\t  0  19   2\n",
      "      From worker 3:\t  0   0  26\n",
      "      From worker 3:\tAccuracy: 0.9733333333333334\n",
      "      From worker 3:\tKappa:    0.9596122778675283\n",
      "      From worker 5:\tClasses:  CategoricalString{UInt8}[\"setosa\", \"versicolor\", \"virginica\"]\n",
      "      From worker 5:\tMatrix:   3×3 Array{Int64,2}:\n",
      "      From worker 4:\t\n",
      "      From worker 5:\t 27   0   0\n",
      "      From worker 4:\tFold 2\n",
      "      From worker 5:\t  0  17   2\n",
      "      From worker 4:\tClasses:  CategoricalString{UInt8}[\"setosa\", \"versicolor\", \"virginica\"]\n",
      "      From worker 5:\t  0   0  29\n",
      "      From worker 4:\tMatrix:   3×3 Array{Int64,2}:\n",
      "      From worker 5:\tAccuracy: 0.9733333333333334\n",
      "      From worker 5:\tKappa:    0.9591725639629832\n",
      "      From worker 5:\t\n",
      "      From worker 5:\tMean Accuracy: 0.9733333333333334\n",
      "      From worker 4:\t 22   0   0\n",
      "      From worker 4:\t  0  24   5\n",
      "      From worker 4:\t  0   0  24\n",
      "      From worker 4:\tAccuracy: 0.9333333333333333\n",
      "      From worker 4:\tKappa:    0.8999733262203254\n",
      "      From worker 4:\t\n",
      "      From worker 4:\tMean Accuracy: 0.96\n",
      "      From worker 2:\t\n",
      "      From worker 2:\tFold 1\n",
      "      From worker 3:\t\n",
      "      From worker 3:\tFold 2\n",
      "      From worker 3:\tClasses:  CategoricalString{UInt8}[\"setosa\", \"versicolor\", \"virginica\"]\n",
      "      From worker 3:\tMatrix:   3×3 Array{Int64,2}:\n",
      "      From worker 3:\t 22   0   0\n",
      "      From worker 3:\t  0  26   3\n",
      "      From worker 3:\t  0   0  24\n",
      "      From worker 3:\tAccuracy: 0.96\n",
      "      From worker 3:\tKappa:    0.9398234822144957\n",
      "      From worker 3:\t\n",
      "      From worker 3:\tMean Accuracy: 0.9666666666666667\n",
      "      From worker 2:\tClasses:  CategoricalString{UInt8}[\"setosa\", \"versicolor\", \"virginica\"]\n",
      "      From worker 5:\t\n",
      "      From worker 5:\tFold 1\n",
      "      From worker 5:\tClasses:  CategoricalString{UInt8}[\"setosa\", \"versicolor\", \"virginica\"]\n",
      "      From worker 5:\tMatrix:   3×3 Array{Int64,2}:\n",
      "      From worker 2:\tMatrix:   3×3 Array{Int64,2}:\n",
      "      From worker 5:\t 28   0   0\n",
      "      From worker 2:\t 25   0   0\n",
      "      From worker 4:\t\n",
      "      From worker 4:\tFold 1\n",
      "      From worker 5:\t  0  26   2\n",
      "      From worker 2:\t  0  22   1\n",
      "      From worker 4:\tClasses:  CategoricalString{UInt8}[\"setosa\", \"versicolor\", \"virginica\"]\n",
      "      From worker 4:\tMatrix:   3×3 Array{Int64,2}:\n",
      "      From worker 5:\t  0   1  18\n",
      "      From worker 5:\tAccuracy: 0.96\n",
      "      From worker 5:\tKappa:    0.9392712550607287\n",
      "      From worker 4:\t 27   0   0\n",
      "      From worker 4:\t  0  20   3\n",
      "      From worker 4:\t  0   0  25\n",
      "      From worker 4:\tAccuracy: 0.96\n",
      "      From worker 4:\tKappa:    0.9397751605995717\n",
      "      From worker 3:\t\n",
      "      From worker 3:\tFold 1\n",
      "      From worker 3:\tClasses:  CategoricalString{UInt8}[\"setosa\", \"versicolor\", \"virginica\"]\n",
      "      From worker 3:\tMatrix:   3×3 Array{Int64,2}:\n",
      "      From worker 3:\t 26   0   0\n",
      "      From worker 3:\t  0  25   0\n",
      "      From worker 3:\t  0   0  24\n",
      "      From worker 3:\tAccuracy: 1.0\n",
      "      From worker 3:\tKappa:    1.0\n",
      "      From worker 2:\t  0   1  26\n",
      "      From worker 2:\tAccuracy: 0.9733333333333334\n",
      "      From worker 5:\t\n",
      "      From worker 5:\tFold 2\n",
      "      From worker 5:\tClasses:  CategoricalString{UInt8}[\"setosa\", \"versicolor\", \"virginica\"]\n",
      "      From worker 4:\t\n",
      "      From worker 5:\tMatrix:   3×3 Array{Int64,2}:\n",
      "      From worker 4:\tFold 2\n",
      "      From worker 5:\t 22   0   0\n",
      "      From worker 4:\tClasses:  CategoricalString{UInt8}[\"setosa\", \"versicolor\", \"virginica\"]\n",
      "      From worker 5:\t  0  22   0\n",
      "      From worker 4:\tMatrix:   3×3 Array{Int64,2}:\n",
      "      From worker 4:\t 23   0   0\n",
      "      From worker 4:\t  0  25   2\n",
      "      From worker 5:\t  0   0  31\n",
      "      From worker 4:\t  0   2  23\n",
      "      From worker 4:\tAccuracy: 0.9466666666666667\n",
      "      From worker 5:\tAccuracy: 1.0\n",
      "      From worker 5:\tKappa:    1.0\n",
      "      From worker 5:\t\n",
      "      From worker 4:\tKappa:    0.9198289684660608\n",
      "      From worker 4:\t\n",
      "      From worker 4:\tMean Accuracy: 0.9533333333333334\n",
      "      From worker 5:\tMean Accuracy: 0.98\n",
      "      From worker 2:\tKappa:    0.9599144842330305\n",
      "      From worker 3:\t\n",
      "      From worker 3:\tFold 2\n",
      "      From worker 3:\tClasses:  CategoricalString{UInt8}[\"setosa\", \"versicolor\", \"virginica\"]\n",
      "      From worker 3:\tMatrix:   3×3 Array{Int64,2}:\n",
      "      From worker 3:\t 24   0   0\n",
      "      From worker 3:\t  0  23   2\n",
      "      From worker 3:\t  0   1  25\n",
      "      From worker 3:\tAccuracy: 0.96\n",
      "      From worker 3:\tKappa:    0.9399519615692553\n",
      "      From worker 3:\t\n",
      "      From worker 3:\tMean Accuracy: 0.98\n",
      "      From worker 2:\t\n",
      "      From worker 2:\tFold 2\n",
      "      From worker 2:\tClasses:  CategoricalString{UInt8}[\"setosa\", \"versicolor\", \"virginica\"]\n",
      "      From worker 2:\tMatrix:   3×3 Array{Int64,2}:\n",
      "      From worker 2:\t 25   0   0\n",
      "      From worker 2:\t  0  24   3\n",
      "      From worker 2:\t  0   1  22\n",
      "      From worker 2:\tAccuracy: 0.9466666666666667\n",
      "      From worker 2:\tKappa:    0.9199999999999998\n",
      "      From worker 2:\t\n",
      "      From worker 2:\tMean Accuracy: 0.96\n",
      "      From worker 5:\t\n",
      "      From worker 5:\tFold 1\n",
      "      From worker 5:\tClasses:  CategoricalString{UInt8}[\"setosa\", \"versicolor\", \"virginica\"]\n",
      "      From worker 5:\tMatrix:   3×3 Array{Int64,2}:\n",
      "      From worker 5:\t 22   0   0\n",
      "      From worker 5:\t  0  27   1\n",
      "      From worker 5:\t  0   0  25\n",
      "      From worker 5:\tAccuracy: 0.9866666666666667\n",
      "      From worker 5:\tKappa:    0.9799196787148596\n",
      "      From worker 2:\t\n",
      "      From worker 2:\tFold 1\n",
      "      From worker 2:\tClasses:  CategoricalString{UInt8}[\"setosa\", \"versicolor\", \"virginica\"]\n",
      "      From worker 2:\tMatrix:   3×3 Array{Int64,2}:\n",
      "      From worker 2:\t 23   0   0\n",
      "      From worker 2:\t  0  23   2\n",
      "      From worker 2:\t  0   0  27\n",
      "      From worker 2:\tAccuracy: 0.9733333333333334\n",
      "      From worker 2:\tKappa:    0.9598715890850723\n",
      "      From worker 5:\t\n",
      "      From worker 5:\tFold 2\n",
      "      From worker 5:\tClasses:  CategoricalString{UInt8}[\"setosa\", \"versicolor\", \"virginica\"]\n",
      "      From worker 5:\tMatrix:   3×3 Array{Int64,2}:\n",
      "      From worker 5:\t 28   0   0\n",
      "      From worker 5:\t  0  21   1\n",
      "      From worker 5:\t  0   0  25\n",
      "      From worker 5:\tAccuracy: 0.9866666666666667\n",
      "      From worker 5:\tKappa:    0.9798873692679001\n",
      "      From worker 5:\t\n",
      "      From worker 5:\tMean Accuracy: 0.9866666666666667\n",
      "      From worker 2:\t\n",
      "      From worker 2:\tFold 2\n",
      "      From worker 2:\tClasses:  CategoricalString{UInt8}[\"setosa\", \"versicolor\", \"virginica\"]\n",
      "      From worker 2:\tMatrix:   3×3 Array{Int64,2}:\n",
      "      From worker 2:\t 27   0   0\n",
      "      From worker 2:\t  0  22   3\n",
      "      From worker 2:\t  0   0  23\n",
      "      From worker 2:\tAccuracy: 0.96\n",
      "      From worker 2:\tKappa:    0.9399679829242262\n",
      "      From worker 2:\t\n",
      "      From worker 2:\tMean Accuracy: 0.9666666666666667\n",
      "      From worker 5:\t\n",
      "      From worker 5:\tFold 1\n",
      "      From worker 5:\tClasses:  CategoricalString{UInt8}[\"setosa\", \"versicolor\", \"virginica\"]\n",
      "      From worker 5:\tMatrix:   3×3 Array{Int64,2}:\n",
      "      From worker 5:\t 26   0   0\n",
      "      From worker 5:\t  0  18   3\n",
      "      From worker 5:\t  0   0  28\n",
      "      From worker 5:\tAccuracy: 0.96\n",
      "      From worker 5:\tKappa:    0.9392384553065082\n",
      "      From worker 5:\t\n",
      "      From worker 5:\tFold 2\n",
      "      From worker 5:\tClasses:  CategoricalString{UInt8}[\"setosa\", \"versicolor\", \"virginica\"]\n",
      "      From worker 5:\tMatrix:   3×3 Array{Int64,2}:\n",
      "      From worker 5:\t 24   0   0\n",
      "      From worker 5:\t  0  25   4\n",
      "      From worker 5:\t  0   0  22\n",
      "      From worker 5:\tAccuracy: 0.9466666666666667\n",
      "      From worker 5:\tKappa:    0.9200426439232411\n",
      "      From worker 5:\t\n",
      "      From worker 5:\tMean Accuracy: 0.9533333333333334\n",
      "      From worker 5:\t\n",
      "      From worker 5:\tFold 1\n",
      "      From worker 5:\tClasses:  CategoricalString{UInt8}[\"setosa\", \"versicolor\", \"virginica\"]\n",
      "      From worker 5:\tMatrix:   3×3 Array{Int64,2}:\n",
      "      From worker 5:\t 24   0   0\n",
      "      From worker 5:\t  0  22   2\n",
      "      From worker 5:\t  0   2  25\n",
      "      From worker 5:\tAccuracy: 0.9466666666666667\n",
      "      From worker 5:\tKappa:    0.919871794871795\n",
      "      From worker 5:\t\n",
      "      From worker 5:\tFold 2\n",
      "      From worker 5:\tClasses:  CategoricalString{UInt8}[\"setosa\", \"versicolor\", \"virginica\"]\n",
      "      From worker 5:\tMatrix:   3×3 Array{Int64,2}:\n",
      "      From worker 5:\t 26   0   0\n",
      "      From worker 5:\t  0  26   0\n",
      "      From worker 5:\t  0   1  22\n",
      "      From worker 5:\tAccuracy: 0.9866666666666667\n",
      "      From worker 5:\tKappa:    0.9799518845228548\n",
      "      From worker 5:\t\n",
      "      From worker 5:\tMean Accuracy: 0.9666666666666667\n",
      "      From worker 5:\t\n",
      "      From worker 5:\tFold 1\n",
      "      From worker 5:\tClasses:  CategoricalString{UInt8}[\"setosa\", \"versicolor\", \"virginica\"]\n",
      "      From worker 5:\tMatrix:   3×3 Array{Int64,2}:\n",
      "      From worker 5:\t 21   0   0\n",
      "      From worker 5:\t  0  24   2\n",
      "      From worker 5:\t  0   0  28\n",
      "      From worker 5:\tAccuracy: 0.9733333333333334\n",
      "      From worker 5:\tKappa:    0.9596774193548387\n",
      "      From worker 5:\t\n",
      "      From worker 5:\tFold 2\n",
      "      From worker 5:\tClasses:  CategoricalString{UInt8}[\"setosa\", \"versicolor\", \"virginica\"]\n",
      "      From worker 5:\tMatrix:   3×3 Array{Int64,2}:\n",
      "      From worker 5:\t 29   0   0\n",
      "      From worker 5:\t  0  23   1\n",
      "      From worker 5:\t  0   0  22\n",
      "      From worker 5:\tAccuracy: 0.9866666666666667\n",
      "      From worker 5:\tKappa:    0.9798711755233495\n",
      "      From worker 5:\t\n",
      "      From worker 5:\tMean Accuracy: 0.98\n",
      "      From worker 5:\t\n",
      "      From worker 5:\tFold 1\n",
      "      From worker 5:\tClasses:  CategoricalString{UInt8}[\"setosa\", \"versicolor\", \"virginica\"]\n",
      "      From worker 5:\tMatrix:   3×3 Array{Int64,2}:\n",
      "      From worker 5:\t 20   0   0\n",
      "      From worker 5:\t  0  26   2\n",
      "      From worker 5:\t  0   0  27\n",
      "      From worker 5:\tAccuracy: 0.9733333333333334\n",
      "      From worker 5:\tKappa:    0.9596122778675283\n",
      "      From worker 5:\t\n",
      "      From worker 5:\tFold 2\n",
      "      From worker 5:\tClasses:  CategoricalString{UInt8}[\"setosa\", \"versicolor\", \"virginica\"]\n",
      "      From worker 5:\tMatrix:   3×3 Array{Int64,2}:\n",
      "      From worker 5:\t 30   0   0\n",
      "      From worker 5:\t  0  19   3\n",
      "      From worker 5:\t  0   0  23\n",
      "      From worker 5:\tAccuracy: 0.96\n",
      "      From worker 5:\tKappa:    0.9393367484497168\n",
      "      From worker 5:\t\n",
      "      From worker 5:\tMean Accuracy: 0.9666666666666667\n"
     ]
    },
    {
     "name": "stdout",
     "output_type": "stream",
     "text": [
      "      From worker 7:\t\n",
      "      From worker 8:\t\n",
      "      From worker 9:\t\n",
      "      From worker 7:\tFold 1\n",
      "      From worker 8:\tFold 1\n",
      "      From worker 9:\tFold 1\n",
      "      From worker 6:\t\n",
      "      From worker 6:\tFold 1\n",
      "      From worker 8:\tClasses:  CategoricalString{UInt8}[\"setosa\", \"versicolor\", \"virginica\"]\n",
      "      From worker 9:\tClasses:  CategoricalString{UInt8}[\"setosa\", \"versicolor\", \"virginica\"]\n",
      "      From worker 7:\tClasses:  CategoricalString{UInt8}[\"setosa\", \"versicolor\", \"virginica\"]\n",
      "      From worker 6:\tClasses:  CategoricalString{UInt8}[\"setosa\", \"versicolor\", \"virginica\"]\n",
      "      From worker 9:\tMatrix:   3×3 Array{Int64,2}:\n",
      "      From worker 8:\tMatrix:   3×3 Array{Int64,2}:\n",
      "      From worker 7:\tMatrix:   3×3 Array{Int64,2}:\n",
      "      From worker 8:\t 24   0   0\n",
      "      From worker 8:\t  0  24   3\n",
      "      From worker 8:\t  0   0  24\n",
      "      From worker 8:\tAccuracy: 0.96\n",
      "      From worker 8:\tKappa:    0.9400479616306954\n",
      "      From worker 8:\t\n",
      "      From worker 8:\tFold 2\n",
      "      From worker 8:\tClasses:  CategoricalString{UInt8}[\"setosa\", \"versicolor\", \"virginica\"]\n",
      "      From worker 8:\tMatrix:   3×3 Array{Int64,2}:\n",
      "      From worker 8:\t 26   0   0\n",
      "      From worker 8:\t  0  21   2\n",
      "      From worker 8:\t  0   1  25\n",
      "      From worker 8:\tAccuracy: 0.96\n",
      "      From worker 8:\tKappa:    0.9398556535685645\n",
      "      From worker 9:\t 20   0   0\n",
      "      From worker 9:\t  0  25   4\n",
      "      From worker 9:\t  0   1  25\n",
      "      From worker 9:\tAccuracy: 0.9333333333333333\n",
      "      From worker 9:\tKappa:    0.8991121872477805\n",
      "      From worker 9:\t\n",
      "      From worker 9:\tFold 2\n",
      "      From worker 9:\tClasses:  CategoricalString{UInt8}[\"setosa\", \"versicolor\", \"virginica\"]\n",
      "      From worker 9:\tMatrix:   3×3 Array{Int64,2}:\n",
      "      From worker 9:\t 30   0   0\n",
      "      From worker 9:\t  0  20   1\n",
      "      From worker 9:\t  0   0  24\n",
      "      From worker 9:\tAccuracy: 0.9866666666666667\n",
      "      From worker 9:\tKappa:    0.9797570850202428\n",
      "      From worker 8:\t\n",
      "      From worker 9:\t\n",
      "      From worker 7:\t 27   0   0\n",
      "      From worker 7:\t  0  21   2\n",
      "      From worker 7:\t  0   0  25\n",
      "      From worker 7:\tAccuracy: 0.9733333333333334\n",
      "      From worker 7:\tKappa:    0.9598715890850723\n",
      "      From worker 7:\t\n",
      "      From worker 7:\tFold 2\n",
      "      From worker 7:\tClasses:  CategoricalString{UInt8}[\"setosa\", \"versicolor\", \"virginica\"]\n",
      "      From worker 7:\tMatrix:   3×3 Array{Int64,2}:\n",
      "      From worker 7:\t 23   0   0\n",
      "      From worker 7:\t  0  26   1\n",
      "      From worker 7:\t  0   2  23\n",
      "      From worker 7:\tAccuracy: 0.96\n",
      "      From worker 7:\tKappa:    0.9398395721925134\n",
      "      From worker 9:\tMean Accuracy: 0.96\n",
      "      From worker 8:\tMean Accuracy: 0.96\n",
      "      From worker 9:\t\n",
      "      From worker 9:\tFold 1\n",
      "      From worker 9:\tClasses:  CategoricalString{UInt8}[\"setosa\", \"versicolor\", \"virginica\"]\n",
      "      From worker 9:\tMatrix:   3×3 Array{Int64,2}:\n",
      "      From worker 9:\t 23   0   0\n",
      "      From worker 9:\t  0  21   2\n",
      "      From worker 9:\t  0   0  29\n",
      "      From worker 9:\tAccuracy: 0.9733333333333334\n",
      "      From worker 9:\tKappa:    0.9596122778675283\n",
      "      From worker 8:\t\n",
      "      From worker 8:\tFold 1\n",
      "      From worker 8:\tClasses:  CategoricalString{UInt8}[\"setosa\", \"versicolor\", \"virginica\"]\n",
      "      From worker 8:\tMatrix:   3×3 Array{Int64,2}:\n",
      "      From worker 8:\t 28   0   0\n",
      "      From worker 8:\t  0  21   0\n",
      "      From worker 8:\t  0   1  25\n",
      "      From worker 8:\tAccuracy: 0.9866666666666667\n",
      "      From worker 8:\tKappa:    0.9798873692679001\n",
      "      From worker 9:\t\n",
      "      From worker 9:\tFold 2\n",
      "      From worker 9:\tClasses:  CategoricalString{UInt8}[\"setosa\", \"versicolor\", \"virginica\"]\n",
      "      From worker 9:\tMatrix:   3×3 Array{Int64,2}:\n",
      "      From worker 9:\t 27   0   0\n",
      "      From worker 9:\t  0  24   3\n",
      "      From worker 9:\t  0   0  21\n",
      "      From worker 8:\t\n",
      "      From worker 9:\tAccuracy: 0.96\n",
      "      From worker 9:\tKappa:    0.9399038461538461\n",
      "      From worker 9:\t\n",
      "      From worker 8:\tFold 2\n",
      "      From worker 9:\tMean Accuracy: 0.9666666666666667\n",
      "      From worker 8:\tClasses:  CategoricalString{UInt8}[\"setosa\", \"versicolor\", \"virginica\"]\n",
      "      From worker 8:\tMatrix:   3×3 Array{Int64,2}:\n",
      "      From worker 8:\t 22   0   0\n",
      "      From worker 8:\t  0  28   1\n",
      "      From worker 8:\t  0   2  22\n",
      "      From worker 8:\tAccuracy: 0.96\n",
      "      From worker 8:\tKappa:    0.9394998655552568\n",
      "      From worker 8:\t\n",
      "      From worker 8:\tMean Accuracy: 0.9733333333333334\n",
      "      From worker 7:\t\n",
      "      From worker 9:\t\n",
      "      From worker 9:\tFold 1\n",
      "      From worker 9:\tClasses:  CategoricalString{UInt8}[\"setosa\", \"versicolor\", \"virginica\"]\n",
      "      From worker 9:\tMatrix:   3×3 Array{Int64,2}:\n",
      "      From worker 9:\t 29   0   0\n",
      "      From worker 9:\t  0  25   1\n",
      "      From worker 9:\t  0   1  19\n",
      "      From worker 9:\tAccuracy: 0.9733333333333334\n",
      "      From worker 9:\tKappa:    0.9595469255663431\n",
      "      From worker 8:\t\n",
      "      From worker 8:\tFold 1\n",
      "      From worker 8:\tClasses:  CategoricalString{UInt8}[\"setosa\", \"versicolor\", \"virginica\"]\n",
      "      From worker 8:\tMatrix:   3×3 Array{Int64,2}:\n",
      "      From worker 8:\t 24   0   0\n",
      "      From worker 8:\t  0  24   3\n",
      "      From worker 8:\t  0   0  24\n",
      "      From worker 8:\tAccuracy: 0.96\n",
      "      From worker 8:\tKappa:    0.9400479616306954\n",
      "      From worker 9:\t\n",
      "      From worker 9:\tFold 2\n",
      "      From worker 9:\tClasses:  CategoricalString{UInt8}[\"setosa\", \"versicolor\", \"virginica\"]\n",
      "      From worker 9:\tMatrix:   3×3 Array{Int64,2}:\n",
      "      From worker 9:\t 21   0   0\n",
      "      From worker 9:\t  0  21   3\n",
      "      From worker 9:\t  0   0  30\n",
      "      From worker 8:\t\n",
      "      From worker 8:\tFold 2\n",
      "      From worker 9:\tAccuracy: 0.96\n",
      "      From worker 9:\tKappa:    0.9390243902439024\n",
      "      From worker 9:\t\n",
      "      From worker 8:\tClasses:  CategoricalString{UInt8}[\"setosa\", \"versicolor\", \"virginica\"]\n",
      "      From worker 9:\tMean Accuracy: 0.9666666666666667\n",
      "      From worker 8:\tMatrix:   3×3 Array{Int64,2}:\n",
      "      From worker 8:\t 26   0   0\n",
      "      From worker 8:\t  0  22   1\n",
      "      From worker 8:\t  0   0  26\n",
      "      From worker 8:\tAccuracy: 0.9866666666666667\n",
      "      From worker 8:\tKappa:    0.9799518845228548\n",
      "      From worker 8:\t\n",
      "      From worker 8:\tMean Accuracy: 0.9733333333333334\n",
      "      From worker 9:\t\n",
      "      From worker 9:\tFold 1\n",
      "      From worker 9:\tClasses:  CategoricalString{UInt8}[\"setosa\", \"versicolor\", \"virginica\"]\n",
      "      From worker 9:\tMatrix:   3×3 Array{Int64,2}:\n",
      "      From worker 9:\t 24   0   0\n",
      "      From worker 9:\t  0  24   2\n",
      "      From worker 9:\t  0   0  25\n",
      "      From worker 9:\tAccuracy: 0.9733333333333334\n",
      "      From worker 9:\tKappa:    0.9600000000000001\n",
      "      From worker 8:\t\n",
      "      From worker 8:\tFold 1\n",
      "      From worker 8:\tClasses:  CategoricalString{UInt8}[\"setosa\", \"versicolor\", \"virginica\"]\n",
      "      From worker 8:\tMatrix:   3×3 Array{Int64,2}:\n",
      "      From worker 7:\tMean Accuracy: 0.9666666666666667\n",
      "      From worker 8:\t 27   0   0\n",
      "      From worker 8:\t  0  22   2\n",
      "      From worker 8:\t  0   0  24\n",
      "      From worker 8:\tAccuracy: 0.9733333333333334\n",
      "      From worker 8:\tKappa:    0.9599358974358975\n",
      "      From worker 9:\t\n",
      "      From worker 9:\tFold 2\n",
      "      From worker 9:\tClasses:  CategoricalString{UInt8}[\"setosa\", \"versicolor\", \"virginica\"]\n",
      "      From worker 9:\tMatrix:   3×3 Array{Int64,2}:\n",
      "      From worker 9:\t 26   0   0\n",
      "      From worker 9:\t  0  21   3\n",
      "      From worker 9:\t  0   0  25\n",
      "      From worker 9:\tAccuracy: 0.96\n",
      "      From worker 8:\t\n",
      "      From worker 8:\tFold 2\n",
      "      From worker 9:\tKappa:    0.9399198931909212\n",
      "      From worker 9:\t\n",
      "      From worker 9:\tMean Accuracy: 0.9666666666666667\n",
      "      From worker 8:\tClasses:  CategoricalString{UInt8}[\"setosa\", \"versicolor\", \"virginica\"]\n",
      "      From worker 8:\tMatrix:   3×3 Array{Int64,2}:\n",
      "      From worker 8:\t 23   0   0\n",
      "      From worker 8:\t  0  25   1\n",
      "      From worker 8:\t  0   0  26\n",
      "      From worker 8:\tAccuracy: 0.9866666666666667\n",
      "      From worker 8:\tKappa:    0.9799679487179489\n",
      "      From worker 8:\t\n",
      "      From worker 8:\tMean Accuracy: 0.98\n",
      "      From worker 7:\t\n",
      "      From worker 7:\tFold 1\n",
      "      From worker 7:\tClasses:  CategoricalString{UInt8}[\"setosa\", \"versicolor\", \"virginica\"]\n",
      "      From worker 7:\tMatrix:   3×3 Array{Int64,2}:\n",
      "      From worker 7:\t 29   0   0\n",
      "      From worker 7:\t  0  19   1\n",
      "      From worker 7:\t  0   0  26\n",
      "      From worker 7:\tAccuracy: 0.9866666666666667\n",
      "      From worker 7:\tKappa:    0.979740680713128\n",
      "      From worker 9:\t\n",
      "      From worker 9:\tFold 1\n",
      "      From worker 9:\tClasses:  CategoricalString{UInt8}[\"setosa\", \"versicolor\", \"virginica\"]\n",
      "      From worker 9:\tMatrix:   3×3 Array{Int64,2}:\n",
      "      From worker 9:\t 29   0   0\n",
      "      From worker 9:\t  0  19   3\n",
      "      From worker 9:\t  0   0  24\n",
      "      From worker 8:\t\n",
      "      From worker 8:\tFold 1\n",
      "      From worker 9:\tAccuracy: 0.96\n",
      "      From worker 9:\tKappa:    0.9394835933297471\n",
      "      From worker 8:\tClasses:  CategoricalString{UInt8}[\"setosa\", \"versicolor\", \"virginica\"]\n",
      "      From worker 8:\tMatrix:   3×3 Array{Int64,2}:\n",
      "      From worker 8:\t 22   0   0\n",
      "      From worker 8:\t  0  24   1\n",
      "      From worker 8:\t  0   1  27\n",
      "      From worker 7:\t\n",
      "      From worker 7:\tFold 2\n",
      "      From worker 8:\tAccuracy: 0.9733333333333334\n",
      "      From worker 8:\tKappa:    0.959807073954984\n",
      "      From worker 7:\tClasses:  CategoricalString{UInt8}[\"setosa\", \"versicolor\", \"virginica\"]\n",
      "      From worker 7:\tMatrix:   3×3 Array{Int64,2}:\n",
      "      From worker 7:\t 21   0   0\n",
      "      From worker 7:\t  0  29   1\n",
      "      From worker 7:\t  0   1  23\n",
      "      From worker 7:\tAccuracy: 0.9733333333333334\n",
      "      From worker 7:\tKappa:    0.9595469255663431\n",
      "      From worker 7:\t\n",
      "      From worker 7:\tMean Accuracy: 0.98\n",
      "      From worker 9:\t\n",
      "      From worker 9:\tFold 2\n",
      "      From worker 9:\tClasses:  CategoricalString{UInt8}[\"setosa\", \"versicolor\", \"virginica\"]\n",
      "      From worker 9:\tMatrix:   3×3 Array{Int64,2}:\n",
      "      From worker 9:\t 21   0   0\n",
      "      From worker 9:\t  0  28   0\n",
      "      From worker 9:\t  0   0  26\n",
      "      From worker 9:\tAccuracy: 1.0\n",
      "      From worker 9:\tKappa:    1.0\n",
      "      From worker 9:\t\n",
      "      From worker 9:\tMean Accuracy: 0.98\n",
      "      From worker 8:\t\n",
      "      From worker 8:\tFold 2\n",
      "      From worker 8:\tClasses:  CategoricalString{UInt8}[\"setosa\", \"versicolor\", \"virginica\"]\n",
      "      From worker 8:\tMatrix:   3×3 Array{Int64,2}:\n",
      "      From worker 8:\t 28   0   0\n",
      "      From worker 8:\t  0  23   2\n",
      "      From worker 8:\t  0   0  22\n",
      "      From worker 8:\tAccuracy: 0.9733333333333334\n",
      "      From worker 8:\tKappa:    0.9598715890850723\n",
      "      From worker 8:\t\n",
      "      From worker 8:\tMean Accuracy: 0.9733333333333334\n",
      "      From worker 7:\t\n",
      "      From worker 7:\tFold 1\n",
      "      From worker 7:\tClasses:  CategoricalString{UInt8}[\"setosa\", \"versicolor\", \"virginica\"]\n",
      "      From worker 7:\tMatrix:   3×3 Array{Int64,2}:\n",
      "      From worker 7:\t 26   0   0\n",
      "      From worker 7:\t  0  19   1\n",
      "      From worker 9:\t\n",
      "      From worker 7:\t  0   1  28\n",
      "      From worker 7:\tAccuracy: 0.9733333333333334\n",
      "      From worker 9:\tFold 1\n",
      "      From worker 7:\tKappa:    0.9595469255663431\n",
      "      From worker 9:\tClasses:  CategoricalString{UInt8}[\"setosa\", \"versicolor\", \"virginica\"]\n",
      "      From worker 9:\tMatrix:   3×3 Array{Int64,2}:\n",
      "      From worker 9:\t 22   0   0\n",
      "      From worker 9:\t  0  25   0\n",
      "      From worker 8:\t\n",
      "      From worker 9:\t  0   2  26\n",
      "      From worker 9:\tAccuracy: 0.9733333333333334\n",
      "      From worker 8:\tFold 1\n",
      "      From worker 9:\tKappa:    0.9598715890850723\n",
      "      From worker 8:\tClasses:  CategoricalString{UInt8}[\"setosa\", \"versicolor\", \"virginica\"]\n",
      "      From worker 8:\tMatrix:   3×3 Array{Int64,2}:\n",
      "      From worker 8:\t 21   0   0\n",
      "      From worker 8:\t  0  26   0\n",
      "      From worker 8:\t  0   1  27\n",
      "      From worker 8:\tAccuracy: 0.9866666666666667\n",
      "      From worker 8:\tKappa:    0.9798711755233495\n",
      "      From worker 7:\t\n",
      "      From worker 7:\tFold 2\n",
      "      From worker 7:\tClasses:  CategoricalString{UInt8}[\"setosa\", \"versicolor\", \"virginica\"]\n",
      "      From worker 7:\tMatrix:   3×3 Array{Int64,2}:\n",
      "      From worker 7:\t 24   0   0\n",
      "      From worker 7:\t  0  28   2\n",
      "      From worker 9:\t\n",
      "      From worker 7:\t  0   0  21\n",
      "      From worker 7:\tAccuracy: 0.9733333333333334\n",
      "      From worker 9:\tFold 2\n",
      "      From worker 7:\tKappa:    0.9597423510466989\n",
      "      From worker 7:\t\n"
     ]
    },
    {
     "name": "stdout",
     "output_type": "stream",
     "text": [
      "      From worker 7:\tMean Accuracy: 0.9733333333333334\n",
      "      From worker 8:\t\n",
      "      From worker 8:\tFold 2\n",
      "      From worker 8:\tClasses:  CategoricalString{UInt8}[\"setosa\", \"versicolor\", \"virginica\"]\n",
      "      From worker 8:\tMatrix:   3×3 Array{Int64,2}:\n",
      "      From worker 8:\t 29   0   0\n",
      "      From worker 8:\t  0  20   4\n",
      "      From worker 8:\t  0   0  22\n",
      "      From worker 8:\tAccuracy: 0.9466666666666667\n",
      "      From worker 8:\tKappa:    0.9196141479099679\n",
      "      From worker 9:\tClasses:  CategoricalString{UInt8}[\"setosa\", \"versicolor\", \"virginica\"]\n",
      "      From worker 8:\t\n",
      "      From worker 8:\tMean Accuracy: 0.9666666666666667\n",
      "      From worker 9:\tMatrix:   3×3 Array{Int64,2}:\n",
      "      From worker 9:\t 28   0   0\n",
      "      From worker 9:\t  0  24   1\n",
      "      From worker 9:\t  0   0  22\n",
      "      From worker 9:\tAccuracy: 0.9866666666666667\n",
      "      From worker 9:\tKappa:    0.9799196787148596\n",
      "      From worker 9:\t\n",
      "      From worker 9:\tMean Accuracy: 0.98\n",
      "      From worker 7:\t\n",
      "      From worker 7:\tFold 1\n",
      "      From worker 7:\tClasses:  CategoricalString{UInt8}[\"setosa\", \"versicolor\", \"virginica\"]\n",
      "      From worker 7:\tMatrix:   3×3 Array{Int64,2}:\n",
      "      From worker 7:\t 26   0   0\n",
      "      From worker 7:\t  0  23   1\n",
      "      From worker 7:\t  0   1  24\n",
      "      From worker 7:\tAccuracy: 0.9733333333333334\n",
      "      From worker 7:\tKappa:    0.9599786552828176\n",
      "      From worker 9:\t\n",
      "      From worker 9:\tFold 1\n",
      "      From worker 9:\tClasses:  CategoricalString{UInt8}[\"setosa\", \"versicolor\", \"virginica\"]\n",
      "      From worker 9:\tMatrix:   3×3 Array{Int64,2}:\n",
      "      From worker 9:\t 27   0   0\n",
      "      From worker 9:\t  0  22   2\n",
      "      From worker 9:\t  0   0  24\n",
      "      From worker 9:\tAccuracy: 0.9733333333333334\n",
      "      From worker 9:\tKappa:    0.9599358974358975\n",
      "      From worker 8:\t\n",
      "      From worker 8:\tFold 1\n",
      "      From worker 8:\tClasses:  CategoricalString{UInt8}[\"setosa\", \"versicolor\", \"virginica\"]\n",
      "      From worker 8:\tMatrix:   3×3 Array{Int64,2}:\n",
      "      From worker 8:\t 26   0   0\n",
      "      From worker 8:\t  0  25   1\n",
      "      From worker 8:\t  0   0  23\n",
      "      From worker 8:\tAccuracy: 0.9866666666666667\n",
      "      From worker 8:\tKappa:    0.9799839871897519\n",
      "      From worker 7:\t\n",
      "      From worker 7:\tFold 2\n",
      "      From worker 7:\tClasses:  CategoricalString{UInt8}[\"setosa\", \"versicolor\", \"virginica\"]\n",
      "      From worker 7:\tMatrix:   3×3 Array{Int64,2}:\n",
      "      From worker 7:\t 24   0   0\n",
      "      From worker 7:\t  0  24   2\n",
      "      From worker 7:\t  0   0  25\n",
      "      From worker 7:\tAccuracy: 0.9733333333333334\n",
      "      From worker 7:\tKappa:    0.9600000000000001\n",
      "      From worker 9:\t\n",
      "      From worker 9:\tFold 2\n",
      "      From worker 7:\t\n",
      "      From worker 7:\tMean Accuracy: 0.9733333333333334\n",
      "      From worker 9:\tClasses:  CategoricalString{UInt8}[\"setosa\", \"versicolor\", \"virginica\"]\n",
      "      From worker 9:\tMatrix:   3×3 Array{Int64,2}:\n",
      "      From worker 9:\t 23   0   0\n",
      "      From worker 9:\t  0  22   4\n",
      "      From worker 9:\t  0   0  26\n",
      "      From worker 8:\t\n",
      "      From worker 8:\tFold 2\n",
      "      From worker 9:\tAccuracy: 0.9466666666666667\n",
      "      From worker 9:\tKappa:    0.919871794871795\n",
      "      From worker 9:\t\n",
      "      From worker 9:\tMean Accuracy: 0.96\n",
      "      From worker 8:\tClasses:  CategoricalString{UInt8}[\"setosa\", \"versicolor\", \"virginica\"]\n",
      "      From worker 8:\tMatrix:   3×3 Array{Int64,2}:\n",
      "      From worker 8:\t 24   0   0\n",
      "      From worker 8:\t  0  23   1\n",
      "      From worker 8:\t  0   2  25\n",
      "      From worker 8:\tAccuracy: 0.96\n",
      "      From worker 8:\tKappa:    0.9399519615692553\n",
      "      From worker 8:\t\n",
      "      From worker 8:\tMean Accuracy: 0.9733333333333334\n",
      "      From worker 7:\t\n",
      "      From worker 7:\tFold 1\n",
      "      From worker 9:\t\n",
      "      From worker 7:\tClasses:  CategoricalString{UInt8}[\"setosa\", \"versicolor\", \"virginica\"]\n",
      "      From worker 7:\tMatrix:   3×3 Array{Int64,2}:\n",
      "      From worker 7:\t 23   0   0\n",
      "      From worker 7:\t  0  22   1\n",
      "      From worker 7:\t  0   3  26\n",
      "      From worker 7:\tAccuracy: 0.9466666666666667\n",
      "      From worker 7:\tKappa:    0.9197431781701444\n",
      "      From worker 9:\tFold 1\n",
      "      From worker 9:\tClasses:  CategoricalString{UInt8}[\"setosa\", \"versicolor\", \"virginica\"]\n",
      "      From worker 9:\tMatrix:   3×3 Array{Int64,2}:\n",
      "      From worker 9:\t 26   0   0\n",
      "      From worker 9:\t  0  23   2\n",
      "      From worker 9:\t  0   1  23\n",
      "      From worker 9:\tAccuracy: 0.96\n",
      "      From worker 9:\tKappa:    0.9399839957321952\n",
      "      From worker 8:\t\n",
      "      From worker 8:\tFold 1\n",
      "      From worker 8:\tClasses:  CategoricalString{UInt8}[\"setosa\", \"versicolor\", \"virginica\"]\n",
      "      From worker 8:\tMatrix:   3×3 Array{Int64,2}:\n",
      "      From worker 8:\t 22   0   0\n",
      "      From worker 8:\t  0  23   4\n",
      "      From worker 8:\t  0   0  26\n",
      "      From worker 8:\tAccuracy: 0.9466666666666667\n",
      "      From worker 8:\tKappa:    0.9197860962566845\n",
      "      From worker 7:\t\n",
      "      From worker 7:\tFold 2\n",
      "      From worker 7:\tClasses:  CategoricalString{UInt8}[\"setosa\", \"versicolor\", \"virginica\"]\n",
      "      From worker 7:\tMatrix:   3×3 Array{Int64,2}:\n",
      "      From worker 7:\t 27   0   0\n",
      "      From worker 7:\t  0  24   3\n",
      "      From worker 7:\t  0   0  21\n",
      "      From worker 7:\tAccuracy: 0.96\n",
      "      From worker 7:\tKappa:    0.9399038461538461\n",
      "      From worker 7:\t\n",
      "      From worker 7:\tMean Accuracy: 0.9533333333333334\n",
      "      From worker 9:\t\n",
      "      From worker 9:\tFold 2\n",
      "      From worker 9:\tClasses:  CategoricalString{UInt8}[\"setosa\", \"versicolor\", \"virginica\"]\n",
      "      From worker 9:\tMatrix:   3×3 Array{Int64,2}:\n",
      "      From worker 9:\t 24   0   0\n",
      "      From worker 6:\tMatrix:   3×3 Array{Int64,2}:\n",
      "      From worker 9:\t  0  24   1\n",
      "      From worker 9:\t  0   0  26\n",
      "      From worker 9:\tAccuracy: 0.9866666666666667\n",
      "      From worker 9:\tKappa:    0.9799839871897519\n",
      "      From worker 9:\t\n",
      "      From worker 9:\tMean Accuracy: 0.9733333333333334\n",
      "      From worker 8:\t\n",
      "      From worker 8:\tFold 2\n",
      "      From worker 8:\tClasses:  CategoricalString{UInt8}[\"setosa\", \"versicolor\", \"virginica\"]\n",
      "      From worker 8:\tMatrix:   3×3 Array{Int64,2}:\n",
      "      From worker 8:\t 28   0   0\n",
      "      From worker 8:\t  0  22   1\n",
      "      From worker 8:\t  0   0  24\n",
      "      From worker 8:\tAccuracy: 0.9866666666666667\n",
      "      From worker 8:\tKappa:    0.9799196787148596\n",
      "      From worker 8:\t\n",
      "      From worker 8:\tMean Accuracy: 0.9666666666666667\n",
      "      From worker 7:\t\n",
      "      From worker 7:\tFold 1\n",
      "      From worker 7:\tClasses:  CategoricalString{UInt8}[\"setosa\", \"versicolor\", \"virginica\"]\n",
      "      From worker 9:\t\n",
      "      From worker 7:\tMatrix:   3×3 Array{Int64,2}:\n",
      "      From worker 9:\tFold 1\n",
      "      From worker 7:\t 25   0   0\n",
      "      From worker 9:\tClasses:  CategoricalString{UInt8}[\"setosa\", \"versicolor\", \"virginica\"]\n",
      "      From worker 7:\t  0  24   1\n",
      "      From worker 9:\tMatrix:   3×3 Array{Int64,2}:\n",
      "      From worker 7:\t  0   0  25\n",
      "      From worker 7:\tAccuracy: 0.9866666666666667\n",
      "      From worker 7:\tKappa:    0.9799999999999999\n",
      "      From worker 9:\t 24   0   0\n",
      "      From worker 9:\t  0  23   1\n",
      "      From worker 9:\t  0   0  27\n",
      "      From worker 9:\tAccuracy: 0.9866666666666667\n",
      "      From worker 9:\tKappa:    0.9799518845228548\n",
      "      From worker 8:\t\n",
      "      From worker 8:\tFold 1\n",
      "      From worker 8:\tClasses:  CategoricalString{UInt8}[\"setosa\", \"versicolor\", \"virginica\"]\n",
      "      From worker 8:\tMatrix:   3×3 Array{Int64,2}:\n",
      "      From worker 8:\t 23   0   0\n",
      "      From worker 8:\t  0  23   3\n",
      "      From worker 8:\t  0   0  26\n",
      "      From worker 8:\tAccuracy: 0.96\n",
      "      From worker 8:\tKappa:    0.9399038461538461\n",
      "      From worker 7:\t\n",
      "      From worker 7:\tFold 2\n",
      "      From worker 7:\tClasses:  CategoricalString{UInt8}[\"setosa\", \"versicolor\", \"virginica\"]\n",
      "      From worker 7:\tMatrix:   3×3 Array{Int64,2}:\n",
      "      From worker 7:\t 25   0   0\n",
      "      From worker 9:\t\n",
      "      From worker 9:\tFold 2\n",
      "      From worker 7:\t  0  25   0\n",
      "      From worker 9:\tClasses:  CategoricalString{UInt8}[\"setosa\", \"versicolor\", \"virginica\"]\n",
      "      From worker 7:\t  0   0  25\n",
      "      From worker 7:\tAccuracy: 1.0\n",
      "      From worker 7:\tKappa:    1.0\n",
      "      From worker 9:\tMatrix:   3×3 Array{Int64,2}:\n",
      "      From worker 7:\t\n",
      "      From worker 7:\tMean Accuracy: 0.9933333333333334\n",
      "      From worker 9:\t 26   0   0\n",
      "      From worker 9:\t  0  25   1\n",
      "      From worker 8:\t\n",
      "      From worker 8:\tFold 2\n",
      "      From worker 9:\t  0   2  21\n",
      "      From worker 9:\tAccuracy: 0.96\n",
      "      From worker 9:\tKappa:    0.9398556535685645\n",
      "      From worker 8:\tClasses:  CategoricalString{UInt8}[\"setosa\", \"versicolor\", \"virginica\"]\n",
      "      From worker 9:\t\n",
      "      From worker 9:\tMean Accuracy: 0.9733333333333334\n",
      "      From worker 8:\tMatrix:   3×3 Array{Int64,2}:\n",
      "      From worker 8:\t 27   0   0\n",
      "      From worker 8:\t  0  23   1\n",
      "      From worker 8:\t  0   2  22\n",
      "      From worker 8:\tAccuracy: 0.96\n",
      "      From worker 8:\tKappa:    0.9399038461538461\n",
      "      From worker 8:\t\n",
      "      From worker 8:\tMean Accuracy: 0.96\n",
      "      From worker 7:\t\n",
      "      From worker 7:\tFold 1\n",
      "      From worker 7:\tClasses:  CategoricalString{UInt8}[\"setosa\", \"versicolor\", \"virginica\"]\n",
      "      From worker 7:\tMatrix:   3×3 Array{Int64,2}:\n",
      "      From worker 7:\t 26   0   0\n",
      "      From worker 7:\t  0  27   1\n",
      "      From worker 7:\t  0   0  21\n",
      "      From worker 7:\tAccuracy: 0.9866666666666667\n",
      "      From worker 7:\tKappa:    0.9798981506298582\n",
      "      From worker 9:\t\n",
      "      From worker 9:\tFold 1\n",
      "      From worker 9:\tClasses:  CategoricalString{UInt8}[\"setosa\", \"versicolor\", \"virginica\"]\n",
      "      From worker 9:\tMatrix:   3×3 Array{Int64,2}:\n",
      "      From worker 9:\t 22   0   0\n",
      "      From worker 8:\t\n",
      "      From worker 9:\t  0  23   4\n",
      "      From worker 8:\tFold 1\n",
      "      From worker 9:\t  0   0  26\n",
      "      From worker 9:\tAccuracy: 0.9466666666666667\n",
      "      From worker 9:\tKappa:    0.9197860962566845\n",
      "      From worker 8:\tClasses:  CategoricalString{UInt8}[\"setosa\", \"versicolor\", \"virginica\"]\n",
      "      From worker 8:\tMatrix:   3×3 Array{Int64,2}:\n",
      "      From worker 8:\t 27   0   0\n",
      "      From worker 8:\t  0  21   1\n",
      "      From worker 8:\t  0   2  24\n",
      "      From worker 8:\tAccuracy: 0.96\n",
      "      From worker 8:\tKappa:    0.9398395721925134\n",
      "      From worker 7:\t\n",
      "      From worker 7:\tFold 2\n",
      "      From worker 7:\tClasses:  CategoricalString{UInt8}[\"setosa\", \"versicolor\", \"virginica\"]\n",
      "      From worker 7:\tMatrix:   3×3 Array{Int64,2}:\n",
      "      From worker 7:\t 24   0   0\n",
      "      From worker 7:\t  0  20   2\n",
      "      From worker 7:\t  0   0  29\n",
      "      From worker 7:\tAccuracy: 0.9733333333333334\n",
      "      From worker 7:\tKappa:    0.9595687331536389\n",
      "      From worker 7:\t\n",
      "      From worker 7:\tMean Accuracy: 0.98\n",
      "      From worker 9:\t\n",
      "      From worker 9:\tFold 2\n",
      "      From worker 9:\tClasses:  CategoricalString{UInt8}[\"setosa\", \"versicolor\", \"virginica\"]\n",
      "      From worker 9:\tMatrix:   3×3 Array{Int64,2}:\n",
      "      From worker 9:\t 28   0   0\n",
      "      From worker 9:\t  0  23   0\n",
      "      From worker 8:\t\n",
      "      From worker 8:\tFold 2\n",
      "      From worker 9:\t  0   0  24\n",
      "      From worker 8:\tClasses:  CategoricalString{UInt8}[\"setosa\", \"versicolor\", \"virginica\"]\n",
      "      From worker 9:\tAccuracy: 1.0\n",
      "      From worker 9:\tKappa:    1.0\n",
      "      From worker 9:\t\n",
      "      From worker 9:\tMean Accuracy: 0.9733333333333334\n",
      "      From worker 8:\tMatrix:   3×3 Array{Int64,2}:\n",
      "      From worker 8:\t 23   0   0\n",
      "      From worker 8:\t  0  28   0\n",
      "      From worker 8:\t  0   2  22\n",
      "      From worker 8:\tAccuracy: 0.9733333333333334\n",
      "      From worker 8:\tKappa:    0.9597639484978542\n",
      "      From worker 8:\t\n",
      "      From worker 8:\tMean Accuracy: 0.9666666666666667\n",
      "      From worker 7:\t\n",
      "      From worker 7:\tFold 1\n",
      "      From worker 7:\tClasses:  CategoricalString{UInt8}[\"setosa\", \"versicolor\", \"virginica\"]\n",
      "      From worker 7:\tMatrix:   3×3 Array{Int64,2}:\n",
      "      From worker 7:\t 22   0   0\n",
      "      From worker 7:\t  0  24   2\n",
      "      From worker 7:\t  0   0  27\n",
      "      From worker 7:\tAccuracy: 0.9733333333333334\n",
      "      From worker 7:\tKappa:    0.9598286020353509\n",
      "      From worker 9:\t\n",
      "      From worker 7:\t\n",
      "      From worker 7:\tFold 2\n",
      "      From worker 7:\tClasses:  CategoricalString{UInt8}[\"setosa\", \"versicolor\", \"virginica\"]\n",
      "      From worker 7:\tMatrix:   3×3 Array{Int64,2}:\n",
      "      From worker 7:\t 28   0   0\n",
      "      From worker 7:\t  0  21   3\n",
      "      From worker 7:\t  0   0  23\n",
      "      From worker 7:\tAccuracy: 0.96\n",
      "      From worker 7:\tKappa:    0.9398234822144957\n",
      "      From worker 7:\t\n",
      "      From worker 7:\tMean Accuracy: 0.9666666666666667\n",
      "      From worker 7:\t\n",
      "      From worker 7:\tFold 1\n",
      "      From worker 7:\tClasses:  CategoricalString{UInt8}[\"setosa\", \"versicolor\", \"virginica\"]\n",
      "      From worker 7:\tMatrix:   3×3 Array{Int64,2}:\n",
      "      From worker 7:\t 28   0   0\n",
      "      From worker 7:\t  0  24   1\n",
      "      From worker 7:\t  0   1  21\n",
      "      From worker 7:\tAccuracy: 0.9733333333333334\n",
      "      From worker 7:\tKappa:    0.959807073954984\n",
      "      From worker 7:\t\n",
      "      From worker 7:\tFold 2\n",
      "      From worker 7:\tClasses:  CategoricalString{UInt8}[\"setosa\", \"versicolor\", \"virginica\"]\n",
      "      From worker 7:\tMatrix:   3×3 Array{Int64,2}:\n",
      "      From worker 7:\t 22   0   0\n",
      "      From worker 7:\t  0  19   6\n",
      "      From worker 7:\t  0   0  28\n",
      "      From worker 7:\tAccuracy: 0.92\n",
      "      From worker 7:\tKappa:    0.8788368336025849\n",
      "      From worker 7:\t\n",
      "      From worker 7:\tMean Accuracy: 0.9466666666666668\n",
      "      From worker 9:\tFold 1\n",
      "      From worker 9:\tClasses:  CategoricalString{UInt8}[\"setosa\", \"versicolor\", \"virginica\"]\n",
      "      From worker 9:\tMatrix:   3×3 Array{Int64,2}:\n",
      "      From worker 9:\t 21   0   0\n",
      "      From worker 9:\t  0  25   3\n",
      "      From worker 9:\t  0   0  26\n",
      "      From worker 9:\tAccuracy: 0.96\n",
      "      From worker 9:\tKappa:    0.9396782841823056\n",
      "      From worker 8:\t\n",
      "      From worker 8:\tFold 1\n",
      "      From worker 8:\tClasses:  CategoricalString{UInt8}[\"setosa\", \"versicolor\", \"virginica\"]\n",
      "      From worker 8:\tMatrix:   3×3 Array{Int64,2}:\n",
      "      From worker 8:\t 23   0   0\n",
      "      From worker 8:\t  0  26   3\n",
      "      From worker 8:\t  0   0  23\n",
      "      From worker 8:\tAccuracy: 0.96\n",
      "      From worker 8:\tKappa:    0.9399038461538461\n",
      "      From worker 9:\t\n",
      "      From worker 9:\tFold 2\n",
      "      From worker 9:\tClasses:  CategoricalString{UInt8}[\"setosa\", \"versicolor\", \"virginica\"]\n"
     ]
    },
    {
     "name": "stdout",
     "output_type": "stream",
     "text": [
      "      From worker 7:\t\n",
      "      From worker 7:\tFold 1\n",
      "      From worker 7:\tClasses:  CategoricalString{UInt8}[\"setosa\", \"versicolor\", \"virginica\"]\n",
      "      From worker 7:\tMatrix:   3×3 Array{Int64,2}:\n",
      "      From worker 7:\t 27   0   0\n",
      "      From worker 7:\t  0  24   2\n",
      "      From worker 8:\t\n",
      "      From worker 9:\tMatrix:   3×3 Array{Int64,2}:\n",
      "      From worker 9:\t 29   0   0\n",
      "      From worker 9:\t  0  21   1\n",
      "      From worker 9:\t  0   1  23\n",
      "      From worker 9:\tAccuracy: 0.9733333333333334\n",
      "      From worker 9:\tKappa:    0.9597207303974222\n",
      "      From worker 9:\t\n",
      "      From worker 9:\tMean Accuracy: 0.9666666666666667\n",
      "      From worker 7:\t  0   1  21\n",
      "      From worker 7:\tAccuracy: 0.96\n",
      "      From worker 7:\tKappa:    0.9398395721925134\n",
      "      From worker 8:\tFold 2\n",
      "      From worker 8:\tClasses:  CategoricalString{UInt8}[\"setosa\", \"versicolor\", \"virginica\"]\n",
      "      From worker 8:\tMatrix:   3×3 Array{Int64,2}:\n",
      "      From worker 8:\t 27   0   0\n",
      "      From worker 8:\t  0  19   2\n",
      "      From worker 8:\t  0   0  27\n",
      "      From worker 8:\tAccuracy: 0.9733333333333334\n",
      "      From worker 8:\tKappa:    0.9596122778675283\n",
      "      From worker 8:\t\n",
      "      From worker 8:\tMean Accuracy: 0.9666666666666667\n",
      "      From worker 7:\t\n",
      "      From worker 7:\tFold 2\n",
      "      From worker 7:\tClasses:  CategoricalString{UInt8}[\"setosa\", \"versicolor\", \"virginica\"]\n",
      "      From worker 7:\tMatrix:   3×3 Array{Int64,2}:\n",
      "      From worker 7:\t 23   0   0\n",
      "      From worker 7:\t  0  23   1\n",
      "      From worker 7:\t  0   0  28\n",
      "      From worker 7:\tAccuracy: 0.9866666666666667\n",
      "      From worker 7:\tKappa:    0.979903536977492\n",
      "      From worker 7:\t\n",
      "      From worker 7:\tMean Accuracy: 0.9733333333333334\n",
      "      From worker 9:\t\n",
      "      From worker 9:\tFold 1\n",
      "      From worker 9:\tClasses:  CategoricalString{UInt8}[\"setosa\", \"versicolor\", \"virginica\"]\n",
      "      From worker 9:\tMatrix:   3×3 Array{Int64,2}:\n",
      "      From worker 9:\t 20   0   0\n",
      "      From worker 9:\t  0  29   4\n",
      "      From worker 9:\t  0   0  22\n",
      "      From worker 9:\tAccuracy: 0.9466666666666667\n",
      "      From worker 9:\tKappa:    0.9188311688311688\n",
      "      From worker 8:\t\n",
      "      From worker 8:\tFold 1\n",
      "      From worker 8:\tClasses:  CategoricalString{UInt8}[\"setosa\", \"versicolor\", \"virginica\"]\n",
      "      From worker 8:\tMatrix:   3×3 Array{Int64,2}:\n",
      "      From worker 8:\t 21   0   0\n",
      "      From worker 8:\t  0  25   3\n",
      "      From worker 8:\t  0   0  26\n",
      "      From worker 8:\tAccuracy: 0.96\n",
      "      From worker 8:\tKappa:    0.9396782841823056\n",
      "      From worker 9:\t\n",
      "      From worker 9:\tFold 2\n",
      "      From worker 9:\tClasses:  CategoricalString{UInt8}[\"setosa\", \"versicolor\", \"virginica\"]\n",
      "      From worker 9:\tMatrix:   3×3 Array{Int64,2}:\n",
      "      From worker 9:\t 30   0   0\n",
      "      From worker 9:\t  0  16   1\n",
      "      From worker 9:\t  0   0  28\n",
      "      From worker 9:\tAccuracy: 0.9866666666666667\n",
      "      From worker 9:\tKappa:    0.9794012633891789\n",
      "      From worker 7:\t\n",
      "      From worker 7:\tFold 1\n",
      "      From worker 9:\t\n",
      "      From worker 9:\tMean Accuracy: 0.9666666666666667\n",
      "      From worker 7:\tClasses:  CategoricalString{UInt8}[\"setosa\", \"versicolor\", \"virginica\"]\n",
      "      From worker 7:\tMatrix:   3×3 Array{Int64,2}:\n",
      "      From worker 7:\t 22   0   0\n",
      "      From worker 7:\t  0  21   3\n",
      "      From worker 7:\t  0   0  29\n",
      "      From worker 7:\tAccuracy: 0.96\n",
      "      From worker 7:\tKappa:    0.9393367484497168\n",
      "      From worker 8:\t\n",
      "      From worker 8:\tFold 2\n",
      "      From worker 8:\tClasses:  CategoricalString{UInt8}[\"setosa\", \"versicolor\", \"virginica\"]\n",
      "      From worker 8:\tMatrix:   3×3 Array{Int64,2}:\n",
      "      From worker 8:\t 29   0   0\n",
      "      From worker 8:\t  0  22   0\n",
      "      From worker 8:\t  0   0  24\n",
      "      From worker 8:\tAccuracy: 1.0\n",
      "      From worker 8:\tKappa:    1.0\n",
      "      From worker 8:\t\n",
      "      From worker 8:\tMean Accuracy: 0.98\n",
      "      From worker 7:\t\n",
      "      From worker 7:\tFold 2\n",
      "      From worker 7:\tClasses:  CategoricalString{UInt8}[\"setosa\", \"versicolor\", \"virginica\"]\n",
      "      From worker 7:\tMatrix:   3×3 Array{Int64,2}:\n",
      "      From worker 7:\t 28   0   0\n",
      "      From worker 7:\t  0  25   1\n",
      "      From worker 7:\t  0   1  20\n",
      "      From worker 7:\tAccuracy: 0.9733333333333334\n",
      "      From worker 7:\tKappa:    0.9597207303974222\n",
      "      From worker 7:\t\n",
      "      From worker 7:\tMean Accuracy: 0.9666666666666667\n",
      "      From worker 7:\t\n",
      "      From worker 7:\tFold 1\n",
      "      From worker 7:\tClasses:  CategoricalString{UInt8}[\"setosa\", \"versicolor\", \"virginica\"]\n",
      "      From worker 7:\tMatrix:   3×3 Array{Int64,2}:\n",
      "      From worker 7:\t 21   0   0\n",
      "      From worker 7:\t  0  20   0\n",
      "      From worker 7:\t  0   0  34\n",
      "      From worker 7:\tAccuracy: 1.0\n",
      "      From worker 7:\tKappa:    1.0\n",
      "      From worker 7:\t\n",
      "      From worker 7:\tFold 2\n",
      "      From worker 7:\tClasses:  CategoricalString{UInt8}[\"setosa\", \"versicolor\", \"virginica\"]\n",
      "      From worker 7:\tMatrix:   3×3 Array{Int64,2}:\n",
      "      From worker 7:\t 29   0   0\n",
      "      From worker 7:\t  0  26   4\n",
      "      From worker 7:\t  0   0  16\n",
      "      From worker 7:\tAccuracy: 0.9466666666666667\n",
      "      From worker 7:\tKappa:    0.9185667752442995\n",
      "      From worker 7:\t\n",
      "      From worker 7:\tMean Accuracy: 0.9733333333333334\n",
      "      From worker 6:\t 25   0   0\n",
      "      From worker 6:\t  0  19   1\n",
      "      From worker 6:\t  0   0  30\n",
      "      From worker 6:\tAccuracy: 0.9866666666666667\n",
      "      From worker 6:\tKappa:    0.9796747967479675\n",
      "      From worker 6:\t\n",
      "      From worker 6:\tFold 2\n",
      "      From worker 6:\tClasses:  CategoricalString{UInt8}[\"setosa\", \"versicolor\", \"virginica\"]\n",
      "      From worker 6:\tMatrix:   3×3 Array{Int64,2}:\n",
      "      From worker 6:\t 25   0   0\n",
      "      From worker 6:\t  0  27   3\n",
      "      From worker 6:\t  0   0  20\n",
      "      From worker 6:\tAccuracy: 0.96\n",
      "      From worker 6:\tKappa:    0.9396782841823056\n",
      "      From worker 6:\t\n",
      "      From worker 6:\tMean Accuracy: 0.9733333333333334\n",
      "      From worker 6:\t\n",
      "      From worker 6:\tFold 1\n",
      "      From worker 6:\tClasses:  CategoricalString{UInt8}[\"setosa\", \"versicolor\", \"virginica\"]\n",
      "      From worker 6:\tMatrix:   3×3 Array{Int64,2}:\n",
      "      From worker 6:\t 23   0   0\n",
      "      From worker 6:\t  0  20   4\n",
      "      From worker 6:\t  0   0  28\n",
      "      From worker 6:\tAccuracy: 0.9466666666666667\n",
      "      From worker 6:\tKappa:    0.9193548387096774\n",
      "      From worker 6:\t\n",
      "      From worker 6:\tFold 2\n",
      "      From worker 6:\tClasses:  CategoricalString{UInt8}[\"setosa\", \"versicolor\", \"virginica\"]\n",
      "      From worker 6:\tMatrix:   3×3 Array{Int64,2}:\n",
      "      From worker 6:\t 27   0   0\n",
      "      From worker 6:\t  0  22   4\n",
      "      From worker 6:\t  0   1  21\n",
      "      From worker 6:\tAccuracy: 0.9333333333333333\n",
      "      From worker 6:\tKappa:    0.8999466382070438\n",
      "      From worker 6:\t\n",
      "      From worker 6:\tMean Accuracy: 0.94\n",
      "      From worker 6:\t\n",
      "      From worker 6:\tFold 1\n",
      "      From worker 6:\tClasses:  CategoricalString{UInt8}[\"setosa\", \"versicolor\", \"virginica\"]\n",
      "      From worker 6:\tMatrix:   3×3 Array{Int64,2}:\n",
      "      From worker 6:\t 21   0   0\n",
      "      From worker 6:\t  0  24   1\n",
      "      From worker 6:\t  0   0  29\n",
      "      From worker 6:\tAccuracy: 0.9866666666666667\n",
      "      From worker 6:\tKappa:    0.9798061389337642\n",
      "      From worker 6:\t\n",
      "      From worker 6:\tFold 2\n",
      "      From worker 6:\tClasses:  CategoricalString{UInt8}[\"setosa\", \"versicolor\", \"virginica\"]\n",
      "      From worker 6:\tMatrix:   3×3 Array{Int64,2}:\n",
      "      From worker 6:\t 29   0   0\n",
      "      From worker 6:\t  0  24   1\n",
      "      From worker 6:\t  0   0  21\n",
      "      From worker 6:\tAccuracy: 0.9866666666666667\n",
      "      From worker 6:\tKappa:    0.9798495432563138\n",
      "      From worker 6:\t\n",
      "      From worker 6:\tMean Accuracy: 0.9866666666666667\n",
      "      From worker 6:\t\n",
      "      From worker 6:\tFold 1\n",
      "      From worker 6:\tClasses:  CategoricalString{UInt8}[\"setosa\", \"versicolor\", \"virginica\"]\n",
      "      From worker 6:\tMatrix:   3×3 Array{Int64,2}:\n",
      "      From worker 6:\t 30   0   0\n",
      "      From worker 6:\t  0  22   2\n",
      "      From worker 6:\t  0   1  20\n",
      "      From worker 6:\tAccuracy: 0.96\n",
      "      From worker 6:\tKappa:    0.9393694421988682\n",
      "      From worker 6:\t\n",
      "      From worker 6:\tFold 2\n",
      "      From worker 6:\tClasses:  CategoricalString{UInt8}[\"setosa\", \"versicolor\", \"virginica\"]\n",
      "      From worker 6:\tMatrix:   3×3 Array{Int64,2}:\n",
      "      From worker 6:\t 20   0   0\n",
      "      From worker 6:\t  0  19   7\n",
      "      From worker 6:\t  0   0  29\n",
      "      From worker 6:\tAccuracy: 0.9066666666666666\n",
      "      From worker 6:\tKappa:    0.857607811228641\n",
      "      From worker 6:\t\n",
      "      From worker 6:\tMean Accuracy: 0.9333333333333333\n",
      "      From worker 6:\t\n",
      "      From worker 6:\tFold 1\n",
      "      From worker 6:\tClasses:  CategoricalString{UInt8}[\"setosa\", \"versicolor\", \"virginica\"]\n",
      "      From worker 6:\tMatrix:   3×3 Array{Int64,2}:\n",
      "      From worker 6:\t 22   0   0\n",
      "      From worker 6:\t  0  29   0\n",
      "      From worker 6:\t  0   0  24\n",
      "      From worker 6:\tAccuracy: 1.0\n",
      "      From worker 6:\tKappa:    1.0\n",
      "      From worker 6:\t\n",
      "      From worker 6:\tFold 2\n",
      "      From worker 6:\tClasses:  CategoricalString{UInt8}[\"setosa\", \"versicolor\", \"virginica\"]\n",
      "      From worker 6:\tMatrix:   3×3 Array{Int64,2}:\n",
      "      From worker 6:\t 28   0   0\n",
      "      From worker 6:\t  0  19   2\n",
      "      From worker 6:\t  0   0  26\n",
      "      From worker 6:\tAccuracy: 0.9733333333333334\n",
      "      From worker 6:\tKappa:    0.9596122778675283\n",
      "      From worker 6:\t\n",
      "      From worker 6:\tMean Accuracy: 0.9866666666666667\n",
      "      From worker 6:\t\n",
      "      From worker 6:\tFold 1\n",
      "      From worker 6:\tClasses:  CategoricalString{UInt8}[\"setosa\", \"versicolor\", \"virginica\"]\n",
      "      From worker 6:\tMatrix:   3×3 Array{Int64,2}:\n",
      "      From worker 6:\t 22   0   0\n",
      "      From worker 6:\t  0  23   1\n",
      "      From worker 6:\t  0   0  29\n",
      "      From worker 6:\tAccuracy: 0.9866666666666667\n",
      "      From worker 6:\tKappa:    0.9798332885184191\n",
      "      From worker 6:\t\n",
      "      From worker 6:\tFold 2\n",
      "      From worker 6:\tClasses:  CategoricalString{UInt8}[\"setosa\", \"versicolor\", \"virginica\"]\n",
      "      From worker 6:\tMatrix:   3×3 Array{Int64,2}:\n",
      "      From worker 6:\t 28   0   0\n",
      "      From worker 6:\t  0  24   2\n",
      "      From worker 6:\t  0   1  20\n",
      "      From worker 6:\tAccuracy: 0.96\n",
      "      From worker 6:\tKappa:    0.9396621078037006\n",
      "      From worker 6:\t\n",
      "      From worker 6:\tMean Accuracy: 0.9733333333333334\n",
      "      From worker 6:\t\n",
      "      From worker 6:\tFold 1\n",
      "      From worker 6:\tClasses:  CategoricalString{UInt8}[\"setosa\", \"versicolor\", \"virginica\"]\n",
      "      From worker 6:\tMatrix:   3×3 Array{Int64,2}:\n",
      "      From worker 6:\t 28   0   0\n",
      "      From worker 6:\t  0  21   0\n",
      "      From worker 6:\t  0   2  24\n",
      "      From worker 6:\tAccuracy: 0.9733333333333334\n",
      "      From worker 6:\tKappa:    0.9598286020353509\n",
      "      From worker 6:\t\n",
      "      From worker 6:\tFold 2\n",
      "      From worker 6:\tClasses:  CategoricalString{UInt8}[\"setosa\", \"versicolor\", \"virginica\"]\n",
      "      From worker 6:\tMatrix:   3×3 Array{Int64,2}:\n",
      "      From worker 6:\t 22   0   0\n",
      "      From worker 6:\t  0  29   0\n",
      "      From worker 6:\t  0   1  23\n",
      "      From worker 6:\tAccuracy: 0.9866666666666667\n",
      "      From worker 6:\tKappa:    0.9798332885184191\n",
      "      From worker 6:\t\n",
      "      From worker 6:\tMean Accuracy: 0.98\n",
      "      From worker 6:\t\n",
      "      From worker 6:\tFold 1\n",
      "      From worker 6:\tClasses:  CategoricalString{UInt8}[\"setosa\", \"versicolor\", \"virginica\"]\n",
      "      From worker 6:\tMatrix:   3×3 Array{Int64,2}:\n",
      "      From worker 6:\t 24   0   0\n",
      "      From worker 6:\t  0  17   3\n",
      "      From worker 6:\t  0   0  31\n",
      "      From worker 6:\tAccuracy: 0.96\n",
      "      From worker 6:\tKappa:    0.9384404924760601\n",
      "      From worker 6:\t\n",
      "      From worker 6:\tFold 2\n",
      "      From worker 6:\tClasses:  CategoricalString{UInt8}[\"setosa\", \"versicolor\", \"virginica\"]\n",
      "      From worker 6:\tMatrix:   3×3 Array{Int64,2}:\n",
      "      From worker 6:\t 26   0   0\n",
      "      From worker 6:\t  0  27   3\n",
      "      From worker 6:\t  0   0  19\n",
      "      From worker 6:\tAccuracy: 0.96\n",
      "      From worker 6:\tKappa:    0.9395323837678043\n",
      "      From worker 6:\t\n",
      "      From worker 6:\tMean Accuracy: 0.96\n",
      "      From worker 6:\t\n",
      "      From worker 6:\tFold 1\n",
      "      From worker 6:\tClasses:  CategoricalString{UInt8}[\"setosa\", \"versicolor\", \"virginica\"]\n",
      "      From worker 6:\tMatrix:   3×3 Array{Int64,2}:\n",
      "      From worker 6:\t 26   0   0\n",
      "      From worker 6:\t  0  25   1\n",
      "      From worker 6:\t  0   0  23\n",
      "      From worker 6:\tAccuracy: 0.9866666666666667\n",
      "      From worker 6:\tKappa:    0.9799839871897519\n",
      "      From worker 6:\t\n",
      "      From worker 6:\tFold 2\n",
      "      From worker 6:\tClasses:  CategoricalString{UInt8}[\"setosa\", \"versicolor\", \"virginica\"]\n",
      "      From worker 6:\tMatrix:   3×3 Array{Int64,2}:\n",
      "      From worker 6:\t 24   0   0\n",
      "      From worker 6:\t  0  22   2\n",
      "      From worker 6:\t  0   0  27\n",
      "      From worker 6:\tAccuracy: 0.9733333333333334\n",
      "      From worker 6:\tKappa:    0.9598715890850723\n",
      "      From worker 6:\t\n",
      "      From worker 6:\tMean Accuracy: 0.98\n",
      "      From worker 6:\t\n",
      "      From worker 6:\tFold 1\n",
      "      From worker 6:\tClasses:  CategoricalString{UInt8}[\"setosa\", \"versicolor\", \"virginica\"]\n",
      "      From worker 6:\tMatrix:   3×3 Array{Int64,2}:\n",
      "      From worker 6:\t 24   0   0\n",
      "      From worker 6:\t  0  27   1\n",
      "      From worker 6:\t  0   1  22\n",
      "      From worker 6:\tAccuracy: 0.9733333333333334\n",
      "      From worker 6:\tKappa:    0.9598501070663812\n",
      "      From worker 6:\t\n",
      "      From worker 6:\tFold 2\n",
      "      From worker 6:\tClasses:  CategoricalString{UInt8}[\"setosa\", \"versicolor\", \"virginica\"]\n",
      "      From worker 6:\tMatrix:   3×3 Array{Int64,2}:\n",
      "      From worker 6:\t 26   0   0\n",
      "      From worker 6:\t  0  20   2\n",
      "      From worker 6:\t  0   1  26\n",
      "      From worker 6:\tAccuracy: 0.96\n",
      "      From worker 6:\tKappa:    0.9396944518895738\n",
      "      From worker 6:\t\n",
      "      From worker 6:\tMean Accuracy: 0.9666666666666667\n"
     ]
    },
    {
     "name": "stdout",
     "output_type": "stream",
     "text": [
      "      From worker 6:\t\n",
      "      From worker 6:\tFold 1\n",
      "      From worker 6:\tClasses:  CategoricalString{UInt8}[\"setosa\", \"versicolor\", \"virginica\"]\n",
      "      From worker 6:\tMatrix:   3×3 Array{Int64,2}:\n",
      "      From worker 6:\t 29   0   0\n",
      "      From worker 6:\t  0  24   0\n",
      "      From worker 6:\t  0   2  20\n",
      "      From worker 6:\tAccuracy: 0.9733333333333334\n",
      "      From worker 6:\tKappa:    0.9596774193548387\n",
      "      From worker 6:\t\n",
      "      From worker 6:\tFold 2\n",
      "      From worker 6:\tClasses:  CategoricalString{UInt8}[\"setosa\", \"versicolor\", \"virginica\"]\n",
      "      From worker 6:\tMatrix:   3×3 Array{Int64,2}:\n",
      "      From worker 6:\t 21   0   0\n",
      "      From worker 6:\t  0  25   1\n",
      "      From worker 6:\t  0   2  26\n",
      "      From worker 6:\tAccuracy: 0.96\n",
      "      From worker 6:\tKappa:    0.9396135265700483\n",
      "      From worker 6:\t\n",
      "      From worker 6:\tMean Accuracy: 0.9666666666666667\n",
      "      From worker 6:\t\n",
      "      From worker 6:\tFold 1\n",
      "      From worker 6:\tClasses:  CategoricalString{UInt8}[\"setosa\", \"versicolor\", \"virginica\"]\n",
      "      From worker 6:\tMatrix:   3×3 Array{Int64,2}:\n",
      "      From worker 6:\t 32   0   0\n",
      "      From worker 6:\t  0  20   0\n",
      "      From worker 6:\t  0   0  23\n",
      "      From worker 6:\tAccuracy: 1.0\n",
      "      From worker 6:\tKappa:    1.0\n",
      "      From worker 6:\t\n",
      "      From worker 6:\tFold 2\n",
      "      From worker 6:\tClasses:  CategoricalString{UInt8}[\"setosa\", \"versicolor\", \"virginica\"]\n",
      "      From worker 6:\tMatrix:   3×3 Array{Int64,2}:\n",
      "      From worker 6:\t 18   0   0\n",
      "      From worker 6:\t  0  27   3\n",
      "      From worker 6:\t  0   0  27\n",
      "      From worker 6:\tAccuracy: 0.96\n",
      "      From worker 6:\tKappa:    0.9388753056234719\n",
      "      From worker 6:\t\n",
      "      From worker 6:\tMean Accuracy: 0.98\n",
      "Overall Acc:96.88 48.775246 seconds (871.62 k allocations: 40.971 MiB, 0.07% gc time)\n"
     ]
    }
   ],
   "source": [
    "function mparallel(n)\n",
    "    s=@distributed (+) for i=1:n\n",
    "        irisAcc()\n",
    "    end\n",
    "    print(\"Overall Acc:\",s/n*100.0)\n",
    "end\n",
    "@time mparallel(100)"
   ]
  },
  {
   "cell_type": "code",
   "execution_count": null,
   "metadata": {},
   "outputs": [],
   "source": []
  }
 ],
 "metadata": {
  "kernelspec": {
   "display_name": "Julia 1.0.3",
   "language": "julia",
   "name": "julia-1.0"
  },
  "language_info": {
   "file_extension": ".jl",
   "mimetype": "application/julia",
   "name": "julia",
   "version": "1.0.3"
  }
 },
 "nbformat": 4,
 "nbformat_minor": 2
}
