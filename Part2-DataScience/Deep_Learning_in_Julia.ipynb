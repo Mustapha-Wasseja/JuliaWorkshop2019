{
 "cells": [
  {
   "cell_type": "markdown",
   "metadata": {},
   "source": [
    "## Data Preparation "
   ]
  },
  {
   "cell_type": "code",
   "execution_count": 1,
   "metadata": {},
   "outputs": [
    {
     "name": "stderr",
     "output_type": "stream",
     "text": [
      "┌ Info: Precompiling JuliaDB [a93385a2-3734-596a-9a66-3cfbb77141e6]\n",
      "└ @ Base loading.jl:1242\n"
     ]
    },
    {
     "data": {
      "text/plain": [
       "JuliaDB"
      ]
     },
     "execution_count": 1,
     "metadata": {},
     "output_type": "execute_result"
    }
   ],
   "source": [
    "import JuliaDB\n",
    "using JuliaDB: ML\n",
    "const Jdb = JuliaDB"
   ]
  },
  {
   "cell_type": "code",
   "execution_count": 2,
   "metadata": {},
   "outputs": [
    {
     "data": {
      "text/plain": [
       "Table with 150 rows, 5 columns:\n",
       "SepalLength  SepalWidth  PetalLength  PetalWidth  Species\n",
       "─────────────────────────────────────────────────────────────\n",
       "5.1          3.5         1.4          0.2         \"setosa\"\n",
       "4.9          3.0         1.4          0.2         \"setosa\"\n",
       "4.7          3.2         1.3          0.2         \"setosa\"\n",
       "4.6          3.1         1.5          0.2         \"setosa\"\n",
       "5.0          3.6         1.4          0.2         \"setosa\"\n",
       "5.4          3.9         1.7          0.4         \"setosa\"\n",
       "4.6          3.4         1.4          0.3         \"setosa\"\n",
       "5.0          3.4         1.5          0.2         \"setosa\"\n",
       "4.4          2.9         1.4          0.2         \"setosa\"\n",
       "4.9          3.1         1.5          0.1         \"setosa\"\n",
       "5.4          3.7         1.5          0.2         \"setosa\"\n",
       "4.8          3.4         1.6          0.2         \"setosa\"\n",
       "⋮\n",
       "6.9          3.1         5.4          2.1         \"virginica\"\n",
       "6.7          3.1         5.6          2.4         \"virginica\"\n",
       "6.9          3.1         5.1          2.3         \"virginica\"\n",
       "5.8          2.7         5.1          1.9         \"virginica\"\n",
       "6.8          3.2         5.9          2.3         \"virginica\"\n",
       "6.7          3.3         5.7          2.5         \"virginica\"\n",
       "6.7          3.0         5.2          2.3         \"virginica\"\n",
       "6.3          2.5         5.0          1.9         \"virginica\"\n",
       "6.5          3.0         5.2          2.0         \"virginica\"\n",
       "6.2          3.4         5.4          2.3         \"virginica\"\n",
       "5.9          3.0         5.1          1.8         \"virginica\""
      ]
     },
     "execution_count": 2,
     "metadata": {},
     "output_type": "execute_result"
    }
   ],
   "source": [
    "iris = Jdb.loadtable(\"iris.csv\",escapechar='\"')"
   ]
  },
  {
   "cell_type": "code",
   "execution_count": 3,
   "metadata": {},
   "outputs": [
    {
     "data": {
      "text/plain": [
       "Dict{Symbol,Any} with 5 entries:\n",
       "  :SepalLength => Continous(μ=5.843333333333333, σ=0.8280661279778638)\n",
       "  :SepalWidth  => Continous(μ=3.0573333333333315, σ=0.43586628493669777)\n",
       "  :PetalWidth  => Continous(μ=1.1993333333333336, σ=0.7622376689603466)\n",
       "  :PetalLength => Continous(μ=3.758, σ=1.7652982332594667)\n",
       "  :Species     => nothing"
      ]
     },
     "execution_count": 3,
     "metadata": {},
     "output_type": "execute_result"
    }
   ],
   "source": [
    "ML.schema(iris)"
   ]
  },
  {
   "cell_type": "code",
   "execution_count": 5,
   "metadata": {},
   "outputs": [
    {
     "data": {
      "text/plain": [
       "Dict{Symbol,Any} with 5 entries:\n",
       "  :SepalLength => Continous(μ=5.843333333333333, σ=0.8280661279778638)\n",
       "  :SepalWidth  => Continous(μ=3.0573333333333315, σ=0.43586628493669777)\n",
       "  :PetalWidth  => Continous(μ=1.1993333333333336, σ=0.7622376689603466)\n",
       "  :PetalLength => Continous(μ=3.758, σ=1.7652982332594667)\n",
       "  :Species     => Categorical([\"setosa\", \"versicolor\", \"virginica\"])"
      ]
     },
     "execution_count": 5,
     "metadata": {},
     "output_type": "execute_result"
    }
   ],
   "source": [
    "iris_schema = ML.schema(iris,hints = Dict(\n",
    "        :Species => ML.Categorical\n",
    "    )\n",
    ")"
   ]
  },
  {
   "cell_type": "code",
   "execution_count": 7,
   "metadata": {},
   "outputs": [
    {
     "data": {
      "text/plain": [
       "(Dict{Symbol,Any}(:SepalLength => Continous(μ=5.843333333333333, σ=0.8280661279778638),:SepalWidth => Continous(μ=3.0573333333333315, σ=0.43586628493669777),:PetalWidth => Continous(μ=1.1993333333333336, σ=0.7622376689603466),:PetalLength => Continous(μ=3.758, σ=1.7652982332594667)), Dict{Symbol,Any}(:Species => Categorical([\"setosa\", \"versicolor\", \"virginica\"])))"
      ]
     },
     "execution_count": 7,
     "metadata": {},
     "output_type": "execute_result"
    }
   ],
   "source": [
    "input_schema, output_schema = ML.splitschema(iris_schema,:Species)"
   ]
  },
  {
   "cell_type": "code",
   "execution_count": 8,
   "metadata": {},
   "outputs": [
    {
     "data": {
      "text/plain": [
       "4×150 LinearAlgebra.Adjoint{Float32,Array{Float32,2}}:\n",
       " -0.897674  -1.1392    -1.38073   …   0.793012  0.430722   0.0684325\n",
       "  1.0156    -0.131539   0.327318     -0.131539  0.786174  -0.131539 \n",
       " -1.31105   -1.31105   -1.31105       1.05042   1.44399    0.788031 \n",
       " -1.33575   -1.33575   -1.3924        0.816859  0.930154   0.760211 "
      ]
     },
     "execution_count": 8,
     "metadata": {},
     "output_type": "execute_result"
    }
   ],
   "source": [
    "input = ML.featuremat(input_schema,iris)"
   ]
  },
  {
   "cell_type": "code",
   "execution_count": 9,
   "metadata": {},
   "outputs": [
    {
     "data": {
      "text/plain": [
       "3×150 LinearAlgebra.Adjoint{Float32,Array{Float32,2}}:\n",
       " 1.0  1.0  1.0  1.0  1.0  1.0  1.0  1.0  …  0.0  0.0  0.0  0.0  0.0  0.0  0.0\n",
       " 0.0  0.0  0.0  0.0  0.0  0.0  0.0  0.0     0.0  0.0  0.0  0.0  0.0  0.0  0.0\n",
       " 0.0  0.0  0.0  0.0  0.0  0.0  0.0  0.0     1.0  1.0  1.0  1.0  1.0  1.0  1.0"
      ]
     },
     "execution_count": 9,
     "metadata": {},
     "output_type": "execute_result"
    }
   ],
   "source": [
    "output = ML.featuremat(output_schema,iris)"
   ]
  },
  {
   "cell_type": "code",
   "execution_count": 10,
   "metadata": {},
   "outputs": [
    {
     "data": {
      "text/plain": [
       "partitionTrainTest (generic function with 2 methods)"
      ]
     },
     "execution_count": 10,
     "metadata": {},
     "output_type": "execute_result"
    }
   ],
   "source": [
    "using Random\n",
    "function partitionTrainTest(input,output, at = 0.8)\n",
    "    @assert size(input,2) == size(output,2)\n",
    "    n = size(input,2)\n",
    "    idx = shuffle(1:n)\n",
    "    train_idx = view(idx, 1:floor(Int, at*n))\n",
    "    test_idx = view(idx, (floor(Int, at*n)+1):n)\n",
    "    return input[:,train_idx], output[:,train_idx], input[:,test_idx],output[:,test_idx]\n",
    "end"
   ]
  },
  {
   "cell_type": "code",
   "execution_count": 11,
   "metadata": {},
   "outputs": [
    {
     "data": {
      "text/plain": [
       "(Float32[-0.8976739 0.43072245 … 1.2760656 1.3968289; 1.4744583 -1.9669641 … 0.09788935 0.3273175; -1.0486668 0.39445266 … 1.443994 0.26325998; -1.279104 0.42032558 … 0.76021147 0.5336209], Float32[1.0 0.0 … 0.0 0.0; 0.0 1.0 … 0.0 1.0; 0.0 0.0 … 1.0 0.0], Float32[-0.7769106 0.18919584 … -0.29385737 -1.0184371; 0.7861738 -1.9669641 … -0.36096698 1.2450302; -1.3110522 0.39445266 … 0.1320673 -1.3110522; -1.3357517 0.7035638 … -0.08950329 -1.3357517], Float32[1.0 0.0 … 0.0 1.0; 0.0 0.0 … 1.0 0.0; 0.0 1.0 … 0.0 0.0])"
      ]
     },
     "execution_count": 11,
     "metadata": {},
     "output_type": "execute_result"
    }
   ],
   "source": [
    "train_input,train_output,test_input,test_output = partitionTrainTest(input,output,0.7)"
   ]
  },
  {
   "cell_type": "markdown",
   "metadata": {},
   "source": [
    "## Use Flux"
   ]
  },
  {
   "cell_type": "code",
   "execution_count": 23,
   "metadata": {},
   "outputs": [
    {
     "data": {
      "text/plain": [
       "Flux"
      ]
     },
     "execution_count": 23,
     "metadata": {},
     "output_type": "execute_result"
    }
   ],
   "source": [
    "import Flux\n",
    "const Fx = Flux"
   ]
  },
  {
   "cell_type": "code",
   "execution_count": 55,
   "metadata": {},
   "outputs": [
    {
     "data": {
      "text/plain": [
       "Flux.Optimise.ADAM(0.001, (0.9, 0.999), IdDict{Any,Any}())"
      ]
     },
     "execution_count": 55,
     "metadata": {},
     "output_type": "execute_result"
    }
   ],
   "source": [
    "model = Fx.Chain(\n",
    "    Fx.Dense(ML.width(input_schema),5,Fx.relu),\n",
    "    Fx.Dense(5,ML.width(output_schema)),\n",
    "    Fx.softmax\n",
    ")\n",
    "\n",
    "loss(x, y) = Flux.mse(model(x), y)\n",
    "#loss(x,y) = Fx.crossentropy(model(x),y)\n",
    "opt = Flux.ADAM(0.001)"
   ]
  },
  {
   "cell_type": "code",
   "execution_count": 56,
   "metadata": {},
   "outputs": [],
   "source": [
    "data = [(train_input, train_output)] #|> gpu;"
   ]
  },
  {
   "cell_type": "code",
   "execution_count": 57,
   "metadata": {},
   "outputs": [
    {
     "name": "stdout",
     "output_type": "stream",
     "text": [
      "loss(first(data)...) = 0.32307512f0 (tracked)\n",
      "loss(first(data)...) = 0.023520332f0 (tracked)\n"
     ]
    }
   ],
   "source": [
    "evalcb = Fx.throttle(() -> @show(loss(first(data)...)), 0.2);\n",
    "for i = 1:1000\n",
    "  Fx.train!(loss, Fx.params(model),data, opt, cb = evalcb)\n",
    "end"
   ]
  },
  {
   "cell_type": "code",
   "execution_count": 58,
   "metadata": {},
   "outputs": [
    {
     "name": "stdout",
     "output_type": "stream",
     "text": [
      "accuracy: 93.33333333333333"
     ]
    }
   ],
   "source": [
    "using Statistics\n",
    "\n",
    "yhat=Fx.onecold(model(test_input))\n",
    "y=Fx.onecold(test_output)\n",
    "fx_accuracy = mean(y .== yhat) * 100\n",
    "print(\"accuracy: \",fx_accuracy)"
   ]
  },
  {
   "cell_type": "markdown",
   "metadata": {},
   "source": [
    "## Using TensorFlow"
   ]
  },
  {
   "cell_type": "code",
   "execution_count": 2,
   "metadata": {},
   "outputs": [],
   "source": [
    "using TensorFlow\n",
    "using Distributions\n",
    "using MLDatasets\n",
    "using PyCall\n",
    "import Random\n",
    "using Distributed"
   ]
  },
  {
   "cell_type": "code",
   "execution_count": 3,
   "metadata": {},
   "outputs": [
    {
     "data": {
      "text/plain": [
       "load_test_set (generic function with 2 methods)"
      ]
     },
     "execution_count": 3,
     "metadata": {},
     "output_type": "execute_result"
    }
   ],
   "source": [
    "mutable struct DataLoader\n",
    "    cur_id::Int\n",
    "    order::Vector{Int}\n",
    "end\n",
    "\n",
    "DataLoader() = DataLoader(1, Random.shuffle(1:60000))\n",
    "\n",
    "function next_batch(loader::DataLoader, batch_size)\n",
    "    x = zeros(Float32, batch_size, 784)\n",
    "    y = zeros(Float32, batch_size, 10)\n",
    "    for i in 1:batch_size\n",
    "        data, label = MLDatasets.MNIST.traindata(loader.order[loader.cur_id])\n",
    "        x[i, :] = reshape(data, (28*28))\n",
    "        y[i, Int(label)+1] = 1.0\n",
    "        loader.cur_id += 1\n",
    "        if loader.cur_id > 60000\n",
    "            loader.cur_id = 1\n",
    "        end\n",
    "    end\n",
    "    x, y\n",
    "end\n",
    "\n",
    "function load_test_set(N=10000)\n",
    "    x = zeros(Float32, N, 784)\n",
    "    y = zeros(Float32, N, 10)\n",
    "    for i in 1:N\n",
    "        data, label = MLDatasets.MNIST.testdata(i)\n",
    "        x[i, :] = reshape(data, (28*28))\n",
    "        y[i, Int(label)+1] = 1.0\n",
    "    end\n",
    "    x,y\n",
    "end"
   ]
  },
  {
   "cell_type": "code",
   "execution_count": 4,
   "metadata": {
    "collapsed": true
   },
   "outputs": [
    {
     "name": "stderr",
     "output_type": "stream",
     "text": [
      "2019-11-05 11:38:35.857221: I tensorflow/core/platform/cpu_feature_guard.cc:141] Your CPU supports instructions that this TensorFlow binary was not compiled to use: SSE4.2 AVX AVX2 FMA\n",
      "┌ Warning: `getindex(o::PyObject, s::Symbol)` is deprecated in favor of dot overloading (`getproperty`) so elements should now be accessed as e.g. `o.s` instead of `o[:s]`.\n",
      "│   caller = (::getfield(Serialization.__deserialized_types__, Symbol(\"##11#12\")))() at TensorFlow.jl:189\n",
      "└ @ Main ~/.julia/packages/TensorFlow/q9pY2/src/TensorFlow.jl:189\n"
     ]
    },
    {
     "ename": "RemoteException",
     "evalue": "On worker 2:\nKeyError: key \"VERSION\" not found\ngetproperty at /Users/ppalmes/.julia/packages/PyCall/ttONZ/src/PyCall.jl:308\ngetproperty at /Users/ppalmes/.julia/packages/PyCall/ttONZ/src/PyCall.jl:313 [inlined]\ngetindex at /Users/ppalmes/.julia/packages/PyCall/ttONZ/src/PyCall.jl:340\n#11 at /Users/ppalmes/.julia/packages/TensorFlow/q9pY2/src/TensorFlow.jl:189\n#116 at /Users/julia/buildbot/worker/package_macos64/build/usr/share/julia/stdlib/v1.1/Distributed/src/process_messages.jl:276\nrun_work_thunk at /Users/julia/buildbot/worker/package_macos64/build/usr/share/julia/stdlib/v1.1/Distributed/src/process_messages.jl:56\nrun_work_thunk at /Users/julia/buildbot/worker/package_macos64/build/usr/share/julia/stdlib/v1.1/Distributed/src/process_messages.jl:65\n#102 at ./task.jl:259",
     "output_type": "error",
     "traceback": [
      "On worker 2:\nKeyError: key \"VERSION\" not found\ngetproperty at /Users/ppalmes/.julia/packages/PyCall/ttONZ/src/PyCall.jl:308\ngetproperty at /Users/ppalmes/.julia/packages/PyCall/ttONZ/src/PyCall.jl:313 [inlined]\ngetindex at /Users/ppalmes/.julia/packages/PyCall/ttONZ/src/PyCall.jl:340\n#11 at /Users/ppalmes/.julia/packages/TensorFlow/q9pY2/src/TensorFlow.jl:189\n#116 at /Users/julia/buildbot/worker/package_macos64/build/usr/share/julia/stdlib/v1.1/Distributed/src/process_messages.jl:276\nrun_work_thunk at /Users/julia/buildbot/worker/package_macos64/build/usr/share/julia/stdlib/v1.1/Distributed/src/process_messages.jl:56\nrun_work_thunk at /Users/julia/buildbot/worker/package_macos64/build/usr/share/julia/stdlib/v1.1/Distributed/src/process_messages.jl:65\n#102 at ./task.jl:259",
      "",
      "Stacktrace:",
      " [1] #remotecall_wait#154(::Base.Iterators.Pairs{Union{},Union{},Tuple{},NamedTuple{(),Tuple{}}}, ::Function, ::Function, ::Distributed.Worker) at /Users/julia/buildbot/worker/package_macos64/build/usr/share/julia/stdlib/v1.1/Distributed/src/remotecall.jl:421",
      " [2] remotecall_wait(::Function, ::Distributed.Worker) at /Users/julia/buildbot/worker/package_macos64/build/usr/share/julia/stdlib/v1.1/Distributed/src/remotecall.jl:412",
      " [3] #remotecall_wait#157(::Base.Iterators.Pairs{Union{},Union{},Tuple{},NamedTuple{(),Tuple{}}}, ::Function, ::Function, ::Int64) at /Users/julia/buildbot/worker/package_macos64/build/usr/share/julia/stdlib/v1.1/Distributed/src/remotecall.jl:433",
      " [4] remotecall_wait(::Function, ::Int64) at /Users/julia/buildbot/worker/package_macos64/build/usr/share/julia/stdlib/v1.1/Distributed/src/remotecall.jl:433",
      " [5] top-level scope at /Users/ppalmes/.julia/packages/TensorFlow/q9pY2/src/TensorFlow.jl:188",
      " [6] eval at ./boot.jl:328 [inlined]",
      " [7] eval at ./sysimg.jl:68 [inlined]",
      " [8] #tf_version#64(::Symbol, ::Function) at /Users/ppalmes/.julia/packages/TensorFlow/q9pY2/src/version.jl:20",
      " [9] #tf_version at ./none:0 [inlined]",
      " [10] #py_version_check#65(::Bool, ::Bool, ::Function) at /Users/ppalmes/.julia/packages/TensorFlow/q9pY2/src/version.jl:47",
      " [11] py_version_check at /Users/ppalmes/.julia/packages/TensorFlow/q9pY2/src/version.jl:47 [inlined]",
      " [12] #load_python_process#1(::Bool, ::Function) at /Users/ppalmes/.julia/packages/TensorFlow/q9pY2/src/TensorFlow.jl:166",
      " [13] load_python_process at /Users/ppalmes/.julia/packages/TensorFlow/q9pY2/src/TensorFlow.jl:149 [inlined]",
      " [14] macro expansion at /Users/ppalmes/.julia/packages/TensorFlow/q9pY2/src/TensorFlow.jl:187 [inlined]",
      " [15] add_gradients_py(::Tensor{Float32}, ::Array{Any,1}, ::Nothing) at /Users/ppalmes/.julia/packages/TensorFlow/q9pY2/src/core.jl:1548",
      " [16] gradients at /Users/ppalmes/.julia/packages/TensorFlow/q9pY2/src/core.jl:1536 [inlined] (repeats 2 times)",
      " [17] compute_gradients(::TensorFlow.train.GradientDescentOptimizer, ::Tensor{Float32}, ::Nothing) at /Users/ppalmes/.julia/packages/TensorFlow/q9pY2/src/train.jl:49",
      " [18] #minimize#1(::Nothing, ::Nothing, ::Nothing, ::Function, ::TensorFlow.train.GradientDescentOptimizer, ::Tensor{Float32}) at /Users/ppalmes/.julia/packages/TensorFlow/q9pY2/src/train.jl:41",
      " [19] minimize(::TensorFlow.train.GradientDescentOptimizer, ::Tensor{Float32}) at /Users/ppalmes/.julia/packages/TensorFlow/q9pY2/src/train.jl:38",
      " [20] top-level scope at In[4]:16"
     ]
    }
   ],
   "source": [
    "loader = DataLoader()\n",
    "\n",
    "sess = Session(Graph())\n",
    "\n",
    "x = placeholder(Float32)\n",
    "y_ = placeholder(Float32)\n",
    "\n",
    "W = Variable(zeros(Float32, 784, 10))\n",
    "b = Variable(zeros(Float32, 10))\n",
    "\n",
    "run(sess, global_variables_initializer())\n",
    "\n",
    "y = nn.softmax(x*W + b)\n",
    "\n",
    "cross_entropy = reduce_mean(-reduce_sum(y_ .* log(y), axis=[2]))\n",
    "train_step = train.minimize(train.GradientDescentOptimizer(.00001), cross_entropy)\n",
    "\n",
    "correct_prediction = argmax(y, 2) .== argmax(y_, 2)\n",
    "accuracy=reduce_mean(cast(correct_prediction, Float32))"
   ]
  },
  {
   "cell_type": "code",
   "execution_count": 70,
   "metadata": {
    "collapsed": true
   },
   "outputs": [
    {
     "ename": "UndefVarError",
     "evalue": "UndefVarError: train_step not defined",
     "output_type": "error",
     "traceback": [
      "UndefVarError: train_step not defined",
      "",
      "Stacktrace:",
      " [1] top-level scope at ./In[70]:3"
     ]
    }
   ],
   "source": [
    "for i in 1:10\n",
    "    batch = next_batch(loader, 100)\n",
    "    run(sess, train_step, Dict(x=>batch[1], y_=>batch[2]))\n",
    "end\n",
    "\n",
    "testx, testy = load_test_set()\n",
    "\n",
    "println(run(sess, accuracy, Dict(x=>testx, y_=>testy)))"
   ]
  },
  {
   "cell_type": "markdown",
   "metadata": {},
   "source": [
    "## Using Knet"
   ]
  },
  {
   "cell_type": "code",
   "execution_count": 73,
   "metadata": {
    "collapsed": true
   },
   "outputs": [
    {
     "name": "stderr",
     "output_type": "stream",
     "text": [
      "┌ Info: Precompiling Knet [1902f260-5fb4-5aff-8c31-6271790ab950]\n",
      "└ @ Base loading.jl:1242\n",
      "ERROR: LoadError: type Nothing has no field ver\n",
      "Stacktrace:\n",
      " [1] getproperty(::Any, ::Symbol) at ./Base.jl:20\n",
      " [2] __installed(::Pkg.Types.PackageMode) at /Users/sabae/buildbot/worker/package_macos64/build/usr/share/julia/stdlib/v1.2/Pkg/src/API.jl:255\n",
      " [3] __installed() at /Users/sabae/buildbot/worker/package_macos64/build/usr/share/julia/stdlib/v1.2/Pkg/src/API.jl:251\n",
      " [4] top-level scope at /Users/ppalmes/.julia/packages/Knet/IIjk8/src/Knet.jl:107\n",
      " [5] include at ./boot.jl:328 [inlined]\n",
      " [6] include_relative(::Module, ::String) at ./loading.jl:1094\n",
      " [7] include(::Module, ::String) at ./Base.jl:31\n",
      " [8] top-level scope at none:2\n",
      " [9] eval at ./boot.jl:330 [inlined]\n",
      " [10] eval(::Expr) at ./client.jl:432\n",
      " [11] top-level scope at ./none:3\n",
      "in expression starting at /Users/ppalmes/.julia/packages/Knet/IIjk8/src/Knet.jl:107\n"
     ]
    },
    {
     "ename": "ErrorException",
     "evalue": "Failed to precompile Knet [1902f260-5fb4-5aff-8c31-6271790ab950] to /Users/ppalmes/.julia/compiled/v1.2/Knet/f4vSz.ji.",
     "output_type": "error",
     "traceback": [
      "Failed to precompile Knet [1902f260-5fb4-5aff-8c31-6271790ab950] to /Users/ppalmes/.julia/compiled/v1.2/Knet/f4vSz.ji.",
      "",
      "Stacktrace:",
      " [1] error(::String) at ./error.jl:33",
      " [2] compilecache(::Base.PkgId, ::String) at ./loading.jl:1253",
      " [3] _require(::Base.PkgId) at ./loading.jl:1013",
      " [4] require(::Base.PkgId) at ./loading.jl:911",
      " [5] require(::Module, ::Symbol) at ./loading.jl:906",
      " [6] top-level scope at In[73]:1"
     ]
    }
   ],
   "source": [
    "import Knet\n",
    "using Flux: onecold"
   ]
  },
  {
   "cell_type": "code",
   "execution_count": null,
   "metadata": {},
   "outputs": [],
   "source": [
    "Atype = Knet.gpu() >= 0 ? KnetArray{Float32} : Array{Float32}\n",
    "# setup weight parameters\n",
    "# iris data: input=>4, hidden=>5, output=>3,\n",
    "wmlp=map(Atype, [ 0.1*randn(5,4), zeros(5,1),\n",
    "                  0.1*randn(3,5),  zeros(3,1) ])"
   ]
  },
  {
   "cell_type": "code",
   "execution_count": null,
   "metadata": {},
   "outputs": [],
   "source": [
    "function knetpredict(w,x)\n",
    "    for i=1:2:length(w)\n",
    "        x = w[i]*Knet.mat(x) .+ w[i+1]\n",
    "        if i<length(w)-1\n",
    "            x = max.(0,x)\n",
    "        end\n",
    "    end\n",
    "    return x\n",
    "end"
   ]
  },
  {
   "cell_type": "code",
   "execution_count": null,
   "metadata": {},
   "outputs": [],
   "source": [
    "# SGD training loop\n",
    "function train!(w, data; lr=.1)\n",
    "    for (x,y) in data\n",
    "        dw = lossgradient(w, x, y)\n",
    "        for i in 1:length(w)\n",
    "            w[i] -= lr * dw[i]\n",
    "        end\n",
    "    end\n",
    "    return w\n",
    "end\n"
   ]
  },
  {
   "cell_type": "code",
   "execution_count": null,
   "metadata": {},
   "outputs": [],
   "source": [
    "loss(w,x,ygold) = Knet.nll(knetpredict(w,x),ygold); # nll is negative log likelihood\n",
    "lossgradient = Knet.grad(loss);"
   ]
  },
  {
   "cell_type": "code",
   "execution_count": null,
   "metadata": {},
   "outputs": [],
   "source": [
    "x=train_input\n",
    "ygold=argmax(train_output)\n",
    "\n",
    "loss(wmlp,x,ygold)\n",
    "\n",
    "@time weights = [ copy(train!(wmlp, [(x, ygold)])) for epoch=1:1000 ]\n",
    "\n",
    "losses = [ loss(w,x,ygold) for w in weights ]"
   ]
  },
  {
   "cell_type": "code",
   "execution_count": null,
   "metadata": {},
   "outputs": [],
   "source": [
    "println(\"losses:\")\n",
    "println(\"====\")\n",
    "[x for x in losses[end-10:end]]"
   ]
  },
  {
   "cell_type": "code",
   "execution_count": null,
   "metadata": {},
   "outputs": [],
   "source": [
    "using Plots\n",
    "gr()\n",
    "Plots.plot(losses,xlabel=\"epochs\",ylabel=\"Loss\")"
   ]
  },
  {
   "cell_type": "code",
   "execution_count": null,
   "metadata": {},
   "outputs": [],
   "source": [
    "res=argmax(knetpredict(wmlp,train_input)) .== argmax(train_output)\n",
    "sum(res)/length(res)*100"
   ]
  },
  {
   "cell_type": "code",
   "execution_count": null,
   "metadata": {},
   "outputs": [],
   "source": [
    "res=argmax(knetpredict(wmlp,test_input)) .== argmax(test_output)\n",
    "k_accuracy = sum(res)/length(res)*100"
   ]
  }
 ],
 "metadata": {
  "@webio": {
   "lastCommId": null,
   "lastKernelId": null
  },
  "kernelspec": {
   "display_name": "Julia 1.1.1",
   "language": "julia",
   "name": "julia-1.1"
  },
  "language_info": {
   "file_extension": ".jl",
   "mimetype": "application/julia",
   "name": "julia",
   "version": "1.1.1"
  }
 },
 "nbformat": 4,
 "nbformat_minor": 2
}
